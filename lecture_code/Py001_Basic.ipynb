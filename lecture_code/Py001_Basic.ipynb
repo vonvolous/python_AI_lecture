{
  "nbformat": 4,
  "nbformat_minor": 0,
  "metadata": {
    "colab": {
      "provenance": [],
      "include_colab_link": true
    },
    "kernelspec": {
      "name": "python3",
      "display_name": "Python 3"
    },
    "language_info": {
      "name": "python"
    }
  },
  "cells": [
    {
      "cell_type": "markdown",
      "metadata": {
        "id": "view-in-github",
        "colab_type": "text"
      },
      "source": [
        "<a href=\"https://colab.research.google.com/github/vonvolous/python_AI_lecture/blob/main/lecture_code/Py001_Basic.ipynb\" target=\"_parent\"><img src=\"https://colab.research.google.com/assets/colab-badge.svg\" alt=\"Open In Colab\"/></a>"
      ]
    },
    {
      "cell_type": "markdown",
      "source": [
        "# **파이썬 기초**"
      ],
      "metadata": {
        "id": "zEnlBwk1-pPd"
      }
    },
    {
      "cell_type": "markdown",
      "metadata": {
        "id": "OCxW3qAlDgCf"
      },
      "source": [
        "## **1. 프로그래밍이란?**"
      ]
    },
    {
      "cell_type": "markdown",
      "source": [
        "- 컴퓨터에게 일을 시키기 위한 명령어 모음을 만드는 일<br/>\n",
        "→ 주어진 데이터를 우리가 원하는 형태로 가공, 처리하는 과정을 정리한 것\n",
        "- 프로그래밍의 단계: 데이터 입력 → 데이터 처리 → 데이터 출력"
      ],
      "metadata": {
        "id": "WtA_6kBxtOqI"
      }
    },
    {
      "cell_type": "markdown",
      "metadata": {
        "id": "1pYiZMrIQPMN"
      },
      "source": [
        "## **2. 첫번째 파이썬 프로그램**"
      ]
    },
    {
      "cell_type": "code",
      "metadata": {
        "id": "F-9Tg_4KQOIW",
        "colab": {
          "base_uri": "https://localhost:8080/"
        },
        "outputId": "16635439-b09c-4ec8-82d3-b28cb0db5f5a"
      },
      "source": [
        "1+1"
      ],
      "execution_count": null,
      "outputs": [
        {
          "output_type": "execute_result",
          "data": {
            "text/plain": [
              "2"
            ]
          },
          "metadata": {},
          "execution_count": 1
        }
      ]
    },
    {
      "cell_type": "markdown",
      "metadata": {
        "id": "Gvu_Utp9QgqJ"
      },
      "source": [
        "- 위의 내용을 입력과 출력으로 분리해 봅시다\n",
        "  - 먼저 데이터를 입력을 하려면 그 데이터를 담아둘 통이 필요하겠죠.\n",
        "  - 그냥 휙 던지면 컴퓨터는 그게 데이터인지 아닌지 모릅니다.\n",
        "  - 그래서 통에 넣어서 이게 데이터다.. 라고 알려주는데, 이 통을 변수, 상수 등의 이름으로 부릅니다.\n",
        "  - 이 중에서 앞으로 계속 바꿔가면서 사용할 통을 변수라고 하죠.\n",
        "<br /><br />\n",
        "  - 컴퓨터가 이 변수를 구분해서 사용할 수 있도록 하려면 변수에 이름을 줘야 하겠죠.\n",
        "  - 우리는 두 개의 숫자를 데이터로 줄 것이니까 변수도 2개를 만들 것입니다.\n",
        "  - 이름은 a와 b라고 하죠.\n",
        "  - a에는 1을, b에는 2를 던져 줄 것입니다.\n"
      ]
    },
    {
      "cell_type": "code",
      "metadata": {
        "id": "MM7fUCic90fg"
      },
      "source": [
        "a = 1\n",
        "b = 2"
      ],
      "execution_count": null,
      "outputs": []
    },
    {
      "cell_type": "code",
      "metadata": {
        "id": "q-lmqHoJRX4t",
        "colab": {
          "base_uri": "https://localhost:8080/"
        },
        "outputId": "31ae40b8-1388-4676-d645-9f9f2c6c03c9"
      },
      "source": [
        "c = a + b\n",
        "print(c)"
      ],
      "execution_count": null,
      "outputs": [
        {
          "output_type": "stream",
          "name": "stdout",
          "text": [
            "3\n"
          ]
        }
      ]
    },
    {
      "cell_type": "markdown",
      "metadata": {
        "id": "UdwWLVhyRpN0"
      },
      "source": [
        "## **3. 자료형(Data Type)**"
      ]
    },
    {
      "cell_type": "markdown",
      "source": [
        "- 데이터에는 여러 종류가 있습니다.\n",
        "- 1, 2, 3... 과 같은 자연수 뿐만 아니라 -1, -2.. 와 같은 음수를 포함한 정수의 개념도 있고.. 0.123, -2.532 외 같은 소수점을 가진 실수도 있습니다.\n",
        "- 점점 들어가면 제곱했을때 음수의 값을 가지는 허수를 포함한 복소수라는 것도 있죠.\n",
        "- 수치 데이터를 벗어나 a, b, c, d... 가, 나, 다, 라.. 와 같은 문자로 구성된 데이터도 있습니다.\n",
        "<br /><br />\n",
        "- 그런데 파이썬에서는 데이터의 형태를 직접 선언하지 않아도 됩니다."
      ],
      "metadata": {
        "id": "veI9-hYi9TEY"
      }
    },
    {
      "cell_type": "code",
      "metadata": {
        "id": "tSaFWBboRct5"
      },
      "source": [
        "a = 1                # 자연수(=양의 정수)\n",
        "b = -2               # 음의 정수\n",
        "c = 0.2              # 실수\n",
        "d = 3+5j             # 복소수 → 파이썬에서는 복소수 표현 시 i가 아니라 j를 사용함\n",
        "e = \"Hello\"          # 문자열(영어)\n",
        "f = \"안녕하세요\"     # 문자열(한글)"
      ],
      "execution_count": null,
      "outputs": []
    },
    {
      "cell_type": "code",
      "metadata": {
        "id": "nWubKBLOTMo3",
        "colab": {
          "base_uri": "https://localhost:8080/"
        },
        "outputId": "49254d86-1696-4194-858d-b0f213ebb09a"
      },
      "source": [
        "print(a)\n",
        "print(b)\n",
        "print(c)\n",
        "print(d)\n",
        "print(e)\n",
        "print(f)"
      ],
      "execution_count": null,
      "outputs": [
        {
          "output_type": "stream",
          "name": "stdout",
          "text": [
            "1\n",
            "-2\n",
            "0.2\n",
            "(3+5j)\n",
            "Hello\n",
            "안녕하세요\n"
          ]
        }
      ]
    },
    {
      "cell_type": "code",
      "metadata": {
        "id": "DXjm5GVkTUvF",
        "colab": {
          "base_uri": "https://localhost:8080/"
        },
        "outputId": "4d1f4e4c-8683-45e3-aab2-005374bf718d"
      },
      "source": [
        "print(a, ':', type(a))\n",
        "print(b, ':', type(b))\n",
        "print(c, ':', type(c))\n",
        "print(d, ':', type(d))\n",
        "print(e, ':', type(e))\n",
        "print(f, ':', type(f))"
      ],
      "execution_count": null,
      "outputs": [
        {
          "output_type": "stream",
          "name": "stdout",
          "text": [
            "1 : <class 'int'>\n",
            "-2 : <class 'int'>\n",
            "0.2 : <class 'float'>\n",
            "(3+5j) : <class 'complex'>\n",
            "Hello : <class 'str'>\n",
            "안녕하세요 : <class 'str'>\n"
          ]
        }
      ]
    },
    {
      "cell_type": "markdown",
      "metadata": {
        "id": "lDF1N5UeXBAI"
      },
      "source": [
        "- 그런데 a, b, c, d, e.... 변수 명이 단조롭죠.\n",
        "- 프로그램이 점점 커지고 변수의 이름을 정의한 곳과 변수를 사용한 곳의 거리가 멀어질수록, 그리고 변수의 개수가 많아질수록 헷갈리기 시작합니다.\n",
        "- 그래서 변수의 명은 가능하면 쉽게 알아볼 수 있는 단어를 사용하시는 것이 좋습니다.\n"
      ]
    },
    {
      "cell_type": "markdown",
      "source": [
        "- 변수의 이름은 기억하기 쉽고 구분하기 쉽게 작성하시면 됩니다.\n",
        "- 변수의 이름을 정할 때 반드시 따라야 하는 규칙같은 것은 없지만 각 언어에 따라, 또는 팀에 따라 권장하는 형태는 있습니다.\n",
        "- 혼자만 작성하고 보고 사용할 코드가 아니라면 언어별, 팀별로 권장하는 규칙을 따라주는 것이 협업에 도움이 되겠죠."
      ],
      "metadata": {
        "id": "ccafMFXT64_S"
      }
    },
    {
      "cell_type": "code",
      "metadata": {
        "id": "2qhuvPzQTXUl"
      },
      "source": [
        "int_data_1 = 1\n",
        "int_data_2 = -2\n",
        "float_data = 0.2\n",
        "complex_data = 3+5j\n",
        "string_data_eng = \"Hello\"\n",
        "string_data_kor = \"안녕하세요\""
      ],
      "execution_count": null,
      "outputs": []
    },
    {
      "cell_type": "code",
      "source": [
        "print(int_data_1)\n",
        "print(int_data_2)\n",
        "print(float_data)\n",
        "print(complex_data)\n",
        "print(string_data_eng)\n",
        "print(string_data_kor)"
      ],
      "metadata": {
        "id": "9LAQIMYv73lN",
        "colab": {
          "base_uri": "https://localhost:8080/"
        },
        "outputId": "c8435549-cf7e-40c3-be48-9b4a1e641dc2"
      },
      "execution_count": null,
      "outputs": [
        {
          "output_type": "stream",
          "name": "stdout",
          "text": [
            "1\n",
            "-2\n",
            "0.2\n",
            "(3+5j)\n",
            "Hello\n",
            "안녕하세요\n"
          ]
        }
      ]
    },
    {
      "cell_type": "markdown",
      "source": [
        "- 다음으로 지금까지 사용해 본 변수들이 하나가 아니라 여러 개가 모여서 구성된 데이터의 형태가 있습니다.\n",
        "  - 리스트, 튜플, 딕셔너리가 그것입니다."
      ],
      "metadata": {
        "id": "iZpHN6VhChNg"
      }
    },
    {
      "cell_type": "markdown",
      "metadata": {
        "id": "nZcHAc0jYRBT"
      },
      "source": [
        "- 리스트(List)는 대부분의 프로그래밍 언어에서 배열, Array라고 표현하는 것과 비슷합니다.\n",
        "  - 배열은 동일한 형태(실수끼리, 문자열끼리... 등)의 데이터 여러 개가 순서대로 모여 있는 것을 말하지만 파이썬의 List는 꼭 동일한 형태가 아니어도 관계없습니다.\n",
        "  - 예를 들면 Java와 같은 언어에서의 Collection 이란 것과 비슷하다고 볼 수 있습니다.\n",
        "  - 리스트의 데이터는 대괄호 [ ]로 둘러싸서 표시하며 내부의 데이터는 콤마( , )로 구분합니다."
      ]
    },
    {
      "cell_type": "code",
      "metadata": {
        "id": "B2vD8Fj0X6i5"
      },
      "source": [
        "list_1 = [1, 3, 5, 7, 9]\n",
        "list_2 = ['hello', 'good morning', 'a', 'b', 'c']\n",
        "list_3 = [2, 4, 'bye', [6, 8, 10], ['see', 'you', 'later']]"
      ],
      "execution_count": null,
      "outputs": []
    },
    {
      "cell_type": "markdown",
      "source": [
        "- list_1에는 숫자만, list_2에는 문자열과 문자, list_3에는 숫자, 문자열, 또다른 리스트들이 들어가 있죠.\n",
        "- 각각을 출력해보면 다 잘 인식되고, 처리되고 있습니다."
      ],
      "metadata": {
        "id": "f9Ri-jBGBC6g"
      }
    },
    {
      "cell_type": "code",
      "source": [
        "print(list_1)\n",
        "print(list_2)\n",
        "print(list_3)"
      ],
      "metadata": {
        "id": "ybVb9_6V769C",
        "colab": {
          "base_uri": "https://localhost:8080/"
        },
        "outputId": "afa166ea-1ce4-4af8-83d3-c0b18fce8705"
      },
      "execution_count": null,
      "outputs": [
        {
          "output_type": "stream",
          "name": "stdout",
          "text": [
            "[1, 3, 5, 7, 9]\n",
            "['hello', 'good morning', 'a', 'b', 'c']\n",
            "[2, 4, 'bye', [6, 8, 10], ['see', 'you', 'later']]\n"
          ]
        }
      ]
    },
    {
      "cell_type": "markdown",
      "source": [
        "- 리스트 안의 데이터를 하나씩 지정하고 싶을때는 [x] 와 같은 형태로 사용하시면 됩니다.\n",
        "- [x]에서 x에는 리스트 안의 몇 번째 데이터를 사용할 것인지 지정하는 숫자가 들어가는데 이 때 숫자, 즉 인덱스는 0부터 시작합니다.\n",
        "- 리스트 안의 리스트를 지정하여 그 안의 데이터를 사용하려면 한 단계 더 지정해 주시면 됩니다."
      ],
      "metadata": {
        "id": "WNNo3FEgBNMz"
      }
    },
    {
      "cell_type": "code",
      "source": [
        "print(list_1[0])\n",
        "print(list_2[1])\n",
        "print(list_3[4][1])"
      ],
      "metadata": {
        "id": "0D3WPN5uSMYM",
        "colab": {
          "base_uri": "https://localhost:8080/"
        },
        "outputId": "09bd3451-987f-47b1-c997-808292e34b48"
      },
      "execution_count": null,
      "outputs": [
        {
          "output_type": "stream",
          "name": "stdout",
          "text": [
            "1\n",
            "good morning\n",
            "you\n"
          ]
        }
      ]
    },
    {
      "cell_type": "markdown",
      "metadata": {
        "id": "TwCIutdBZPDZ"
      },
      "source": [
        "- print(list_3[4][1]) 의 의미는 list_3 변수에서 0, 1, 2, 3, 4에서 4, 즉 다섯 번째의 값인 ['see', 'you', 'later']를 지정하고, 그 안에서 0, 1 즉 두 번째의 데이터인 'you'를 지정한 것입니다."
      ]
    },
    {
      "cell_type": "markdown",
      "source": [
        "- 다음으로 튜플(Tuple)이 있습니다.\n",
        "  - 튜플은 리스트와 비슷한데 리스트는 안에 들어있는 값을 바꿀 수 있는 반면에 튜플은 바꿀 수 없다는 차이가 있습니다.\n",
        "  - 튜플의 데이터는 괄호 ( ) 로 둘러싸서 표시하며 안에 있는 데이터는 콤마( , )로 구분합니다."
      ],
      "metadata": {
        "id": "1nOKIiNG7-oi"
      }
    },
    {
      "cell_type": "code",
      "metadata": {
        "id": "hiwl32OPZF26"
      },
      "source": [
        "list_4 = [1, 2, 3, 4, 5]\n",
        "tuple_1 = (1, 2, 3, 4, 5)"
      ],
      "execution_count": null,
      "outputs": []
    },
    {
      "cell_type": "code",
      "source": [
        "print(list_4)\n",
        "list_4[2] = 10\n",
        "print(list_4)"
      ],
      "metadata": {
        "id": "-AAicTN19fla",
        "colab": {
          "base_uri": "https://localhost:8080/"
        },
        "outputId": "1a632a10-196a-42ea-f763-c21f196ca379"
      },
      "execution_count": null,
      "outputs": [
        {
          "output_type": "stream",
          "name": "stdout",
          "text": [
            "[1, 2, 3, 4, 5]\n",
            "[1, 2, 10, 4, 5]\n"
          ]
        }
      ]
    },
    {
      "cell_type": "code",
      "source": [
        "print(tuple_1)\n",
        "tuple_1[2] = 10\n",
        "print(tuple_1)"
      ],
      "metadata": {
        "id": "3-oGQYUVTIF5",
        "colab": {
          "base_uri": "https://localhost:8080/",
          "height": 227
        },
        "outputId": "6284cdab-deb5-470b-a02c-fed636d7c01b"
      },
      "execution_count": null,
      "outputs": [
        {
          "output_type": "stream",
          "name": "stdout",
          "text": [
            "(1, 2, 3, 4, 5)\n"
          ]
        },
        {
          "output_type": "error",
          "ename": "TypeError",
          "evalue": "ignored",
          "traceback": [
            "\u001b[0;31m---------------------------------------------------------------------------\u001b[0m",
            "\u001b[0;31mTypeError\u001b[0m                                 Traceback (most recent call last)",
            "\u001b[0;32m<ipython-input-14-673e4377b279>\u001b[0m in \u001b[0;36m<cell line: 2>\u001b[0;34m()\u001b[0m\n\u001b[1;32m      1\u001b[0m \u001b[0mprint\u001b[0m\u001b[0;34m(\u001b[0m\u001b[0mtuple_1\u001b[0m\u001b[0;34m)\u001b[0m\u001b[0;34m\u001b[0m\u001b[0;34m\u001b[0m\u001b[0m\n\u001b[0;32m----> 2\u001b[0;31m \u001b[0mtuple_1\u001b[0m\u001b[0;34m[\u001b[0m\u001b[0;36m2\u001b[0m\u001b[0;34m]\u001b[0m \u001b[0;34m=\u001b[0m \u001b[0;36m10\u001b[0m\u001b[0;34m\u001b[0m\u001b[0;34m\u001b[0m\u001b[0m\n\u001b[0m\u001b[1;32m      3\u001b[0m \u001b[0mprint\u001b[0m\u001b[0;34m(\u001b[0m\u001b[0mtuple_1\u001b[0m\u001b[0;34m)\u001b[0m\u001b[0;34m\u001b[0m\u001b[0;34m\u001b[0m\u001b[0m\n",
            "\u001b[0;31mTypeError\u001b[0m: 'tuple' object does not support item assignment"
          ]
        }
      ]
    },
    {
      "cell_type": "markdown",
      "source": [
        "- 리스트와 달리 튜플에서는 안에 있는 값을 바꾸려고 하니 오류가 발생하는 것을 확인할 수 있습니다."
      ],
      "metadata": {
        "id": "zwhOua-W9KDc"
      }
    },
    {
      "cell_type": "markdown",
      "metadata": {
        "id": "Ejvcehwoag7_"
      },
      "source": [
        "- 마지막으로 사전, 딕셔너리(Dictionary)라고 부르는 데이터의 형태가 있습니다.\n",
        "  - 딕셔너리의 데이터는 중괄호 { } 로 둘러싸서 표시하며 내부의 데이터는 콤마( , )로 구분합니다.\n",
        "  - 딕셔너리의 데이터는 \"키:값\"의 형태를 가진 한 쌍의 요소로 구성되어 있습니다.\n",
        "  - 리스트, 튜플과 달리 딕셔너리는 데이터에 인덱스가 지정되어있지 않습니다.\n",
        "  - \"키:값\"으로 구성된 데이터 쌍에서 \"키\"를 [ ] 안에 입력하여 원하는 데이터를 지정하고 사용합니다.\n",
        "  - 딕셔너리의 키와 값에는 어떤 데이터라도 사용할 수 있습니다.\n",
        "  - 딕셔너리의 값에는 리스트, 튜플, 딕셔너리가 들어갈 수도 있습니다.\n",
        "  - 그런데 \"키\"라는 것은 단 하나를 지칭하기 위한 것이니까 여기에는 리스트와 같은 것을 지정하시면 안되겠죠.\n",
        "  - 그리고 리스트와 마찬가지로 딕셔너리도 내부의 값을 바꿀 수 있습니다.\n",
        "<br /><br />"
      ]
    },
    {
      "cell_type": "code",
      "metadata": {
        "id": "AcX7LZdKaeOs",
        "colab": {
          "base_uri": "https://localhost:8080/"
        },
        "outputId": "8c9d66b8-d436-411d-dde2-6354db0bedbf"
      },
      "source": [
        "dictionary_1 = {0:'False', 'a':\"small A\", \"b\":\"small B\", 'three':3, 'four':4, 1:['a', 'b']}\n",
        "print(dictionary_1)"
      ],
      "execution_count": null,
      "outputs": [
        {
          "output_type": "stream",
          "name": "stdout",
          "text": [
            "{0: 'False', 'a': 'small A', 'b': 'small B', 'three': 3, 'four': 4, 1: ['a', 'b']}\n"
          ]
        }
      ]
    },
    {
      "cell_type": "code",
      "source": [
        "print(dictionary_1[1])\n",
        "print(dictionary_1[\"a\"])\n",
        "print(dictionary_1['four'])"
      ],
      "metadata": {
        "id": "SHTtakhVURad",
        "colab": {
          "base_uri": "https://localhost:8080/"
        },
        "outputId": "d3f60313-cbae-4201-fed5-b7eb70bf7908"
      },
      "execution_count": null,
      "outputs": [
        {
          "output_type": "stream",
          "name": "stdout",
          "text": [
            "['a', 'b']\n",
            "small A\n",
            "4\n"
          ]
        }
      ]
    },
    {
      "cell_type": "code",
      "source": [
        "dictionary_1[\"b\"] = \"alphabet small B\"\n",
        "print(dictionary_1[\"b\"])"
      ],
      "metadata": {
        "id": "t0R8LcXOUheK",
        "colab": {
          "base_uri": "https://localhost:8080/"
        },
        "outputId": "cbf4bb4b-6707-4c56-ae7a-2bf4bbd89607"
      },
      "execution_count": null,
      "outputs": [
        {
          "output_type": "stream",
          "name": "stdout",
          "text": [
            "alphabet small B\n"
          ]
        }
      ]
    },
    {
      "cell_type": "markdown",
      "source": [
        "## **4. 데이터 처리를 위한 기본 구문**"
      ],
      "metadata": {
        "id": "TS4mB4_rBInb"
      }
    },
    {
      "cell_type": "markdown",
      "source": [
        "### 4-1 조건문 (if 구문)"
      ],
      "metadata": {
        "id": "UVEx3Z0A96n6"
      }
    },
    {
      "cell_type": "markdown",
      "source": [
        "- 데이터의 처리는 단순한 사칙연산만 있는게 아니죠.\n",
        "- 이럴땐 이렇게 처리하고, 저럴땐 저렇게 처리하고..\n",
        "- 우리가 원하는 여러가지 처리를 위한 공식이나 조건들이 있을것입니다."
      ],
      "metadata": {
        "id": "HqAaFXkr14f1"
      }
    },
    {
      "cell_type": "markdown",
      "source": [
        "- 컴퓨터는 우리가 머리로 생각하는 것처럼 이것저것 뚝딱뚝딱 처리하지 못합니다.\n",
        "- 그냥 시키는대로.. 순서대로.. 쭈~욱 이어서 처리를 해 나가는거죠."
      ],
      "metadata": {
        "id": "PyQxOta514To"
      }
    },
    {
      "cell_type": "markdown",
      "source": [
        "- 그러면 우리는 무엇을 어떻게 시켜야할까요?\n",
        "- 말 그대로, 순서대로 쭉 이어서 가다가 이런 경우에는 이렇게 해라~라고 조건을 주고 그 조건에 따른 동작을 지정해 주면 되겠죠."
      ],
      "metadata": {
        "id": "OR6HUFuw14GC"
      }
    },
    {
      "cell_type": "markdown",
      "source": [
        "- 이렇게 컴퓨터에게 처리를 위한 조건을 알려주는 구문을 조건문이라고 합니다.\n",
        "- 가장 기본적인 조건문은 if ~~ else OO 구문이 있습니다.\n",
        "- 만약~~이면 OO를 해라. 라는 의미입니다."
      ],
      "metadata": {
        "id": "N-O532__137h"
      }
    },
    {
      "cell_type": "code",
      "metadata": {
        "id": "mihlq-4cbqXL",
        "colab": {
          "base_uri": "https://localhost:8080/"
        },
        "outputId": "a92c4a0a-653d-4369-d768-9ff964bc5137"
      },
      "source": [
        "a = 10\n",
        "b = 20\n",
        "\n",
        "if a > b:\n",
        "    print(\"a가 b보다 큽니다.\")\n",
        "\n",
        "else:\n",
        "    print(\"a가 b보다 크지 않습니다.\")"
      ],
      "execution_count": null,
      "outputs": [
        {
          "output_type": "stream",
          "name": "stdout",
          "text": [
            "a가 b보다 크지 않습니다.\n"
          ]
        }
      ]
    },
    {
      "cell_type": "markdown",
      "source": [
        "- 그런데 여기서 특이한 모습이 보입니다.\n",
        "- if a > b: 와 같이 마지막에 콜론( : )이 붙어있습니다.\n",
        "- 이전에 봤던 코드에는 이런 것은 없었죠."
      ],
      "metadata": {
        "id": "iJ5KD7c0_AOI"
      }
    },
    {
      "cell_type": "markdown",
      "source": [
        "- 만약 a > b 라면.. 이라는 구문을 만족할때 우리는 \"a가 b보다 큽니다.\"라는 문자열을 출력하려고 하는데..\n",
        "- 그 구문을 만족할 때 과언 어디까지 실행을 해야 할까요?\n",
        "- 그걸 지정해 주지 않으면 끝까지 흘러가 버리겠죠.\n",
        "- 그래서 우리는 명령들을 블록이란 것으로 나누어서 표현합니다.\n",
        "- 콜론( : )은 블록을 지정하는 구문의 끝에 붙여서 다음 줄부터 블록이 시작된다.. 라고 표시해 주는 것입니다."
      ],
      "metadata": {
        "id": "LGOfFj-u_ADR"
      }
    },
    {
      "cell_type": "markdown",
      "source": [
        "- 그럼 블록의 끝은 어떻게 표현할까요?\n",
        "- 파이썬에서는 블록의 구분을 들여쓰기를 이용해서 지정합니다.\n",
        "- 소스코드를 보시면 print 구문이 몇 칸 안으로 들어와있죠?\n",
        "- 저렇게 같은 간격으로 들여쓰기 된 구문들은 모두 같은 블록이다.. 라고 인식하는 것입니다.\n",
        "- 그렇다면 블록의 끝을 지나면 들여쓰기의 간격을 원래대로 돌려두면 되겠죠."
      ],
      "metadata": {
        "id": "jeT2H8_2-_4K"
      }
    },
    {
      "cell_type": "markdown",
      "source": [
        "- 위의 코드를 보시면 print 구문이 끝나고 들여쓰기가 해제되었습니다.\n",
        "- 이제 블록은 끝났다는 뜻입니다."
      ],
      "metadata": {
        "id": "h7GH4Hbo-_rR"
      }
    },
    {
      "cell_type": "markdown",
      "source": [
        "- 그럼 if 구문에 따른 블록은 끝났으니 다음 명령어로 내려가겠죠.\n",
        "- else 라는 구문을 만났습니다.\n",
        "- 역시 콜론( : )을 통해서 블록의 시작을 알려주고 print 구문을 실행했습니다."
      ],
      "metadata": {
        "id": "9W_fFz9T-_dI"
      }
    },
    {
      "cell_type": "markdown",
      "source": [
        "- 이것으로 if~~ else OOO 조건문이 끝났습니다."
      ],
      "metadata": {
        "id": "4rw_ddMt-_QR"
      }
    },
    {
      "cell_type": "markdown",
      "metadata": {
        "id": "8qQL9AvKda5T"
      },
      "source": [
        "- 그런데 조건이 딱 한 가지만 있진 않겠죠.\n",
        "- 이럴땐 이렇게, 저럴땐 저렇게, 그 외에도 또 다른 조건을 동시에 지정할 수 있습니다.\n",
        "- 이럴 경우에는 if XXX else OOO 문을 중첩해서 사용하는 방법과 if XXX elif O0O else *** 와 같이 if XXX else OOO 구문이 확장된 표현을 사용하는 방법중 하나를 선택할 수 있습니다."
      ]
    },
    {
      "cell_type": "code",
      "metadata": {
        "id": "aRIry-chdWFj",
        "colab": {
          "base_uri": "https://localhost:8080/"
        },
        "outputId": "23689062-8f63-48ea-fde3-20919b48d334"
      },
      "source": [
        "a = 20\n",
        "b = 20\n",
        "\n",
        "if a > b:\n",
        "    print(\"a가 b보다 큽니다.\")\n",
        "elif a == b:\n",
        "    print(\"a와 b가 같습니다.\")\n",
        "else:\n",
        "    print(\"a가 b보다 작습니다.\")"
      ],
      "execution_count": null,
      "outputs": [
        {
          "output_type": "stream",
          "name": "stdout",
          "text": [
            "a와 b가 같습니다.\n"
          ]
        }
      ]
    },
    {
      "cell_type": "code",
      "metadata": {
        "id": "d0hzinbPgIb8",
        "colab": {
          "base_uri": "https://localhost:8080/"
        },
        "outputId": "5fd0db83-dd3e-42b9-f309-8f98708e45f8"
      },
      "source": [
        "a = 30\n",
        "b = 20\n",
        "\n",
        "if a > b:\n",
        "    print(\"a가 b보다 큽니다.\")\n",
        "else:\n",
        "    if a == b:\n",
        "        print(\"a와 b가 같습니다.\")\n",
        "    else:\n",
        "        print(\"a가 b보다 작습니다.\")"
      ],
      "execution_count": null,
      "outputs": [
        {
          "output_type": "stream",
          "name": "stdout",
          "text": [
            "a가 b보다 큽니다.\n"
          ]
        }
      ]
    },
    {
      "cell_type": "markdown",
      "source": [
        "- 위의 코드에서 a == b 라는 구문은 a와 b가 같다는 것을 의미합니다.\n",
        "- 일반적으로 프로그래밍에서는 왼쪽 데이터, 변수와 오른쪽 데이터, 변수가 같다고 표현할 때에는 == 를 사용합니다.\n",
        "- 왼쪽 항이 크다 (>), 왼쪽 항이 작다 (<)의 경우는 기존의 수학(산수?)과 같은 부호를 사용하는데 같다의 경우에는 기존의 등호 (=)를 사용하지 않죠.\n",
        "- 이유는 기존의 등호 (=)는 오른쪽 항의 값을 왼쪽 항에 넣는다는 의미로 사용되기 때문에 두 가지를 구분하기 위해서 입니다.\n",
        "- 그래서 기존의 등호 (=)는 할당연산자라고 불립니다.\n",
        "- 파이썬에도 다양한 연산자가 있는데 앞으로 필요할 때마다 설명을 드리도록 하겠습니다.\n",
        "<br /><br />\n",
        "- 위의 두 종류의 코드는 같은 결과를 출력해 줍니다.\n",
        "- 여기서 우리가 알 수 있는 것은 if XXX elif OOO else *** 구문만이 아니라..\n",
        "- 동일한 결과를 위한 코드의 작성에 정답은 없다.. 라는 것입니다.\n",
        "- if XXX elif OOO else *** 구문을 사용해도 되고 if XXX else OOO 구문을 중첩해서 사용해도 됩니다.\n",
        "- 나중에 배울 또 다른 조건문을 사용해도 되죠.\n",
        "- 편하신 대로 코드를 작성하시면 됩니다.\n",
        "<br /><br />\n",
        "- 물론 좀 더 실력이 좋아지고 컴퓨터가 처리하는 내부과정까지 이해하게 되면 각 구문들의 차이점이나 효율성 등을 따져서 작성하실 수 있습니다.\n",
        "- 그런 프로그래밍을 위해서 더욱 빠르고 효율적인 처리가 가능하도록 정리된 것이 흔히 말하는 좋은 알고리즘이라고 하는 것들이죠.\n",
        "- 아직까지는 거기까지 신경쓰지 않으셔도 됩니다.\n",
        "<br /><br />\n",
        "- 지금까지 가장 기본적인 조건문에 대하여 살펴보았습니다."
      ],
      "metadata": {
        "id": "M13pIg5uBgVr"
      }
    },
    {
      "cell_type": "markdown",
      "metadata": {
        "id": "xQw_8AWEik_x"
      },
      "source": [
        "### 4-2. 반복문"
      ]
    },
    {
      "cell_type": "markdown",
      "source": [
        "- 사람은 하기 힘들어하지만 컴퓨터가 가장 잘 하는 일은 무엇일까요?\n",
        "- 바로 단순한 작업을 계속해서 반복하는 것이겠죠.\n",
        "- 사람에게 단순 작업을 반복해서 시키면 금방 지겨워져서 집중해서 일을 하지 못할 것입니다.\n",
        "- 실수도 늘어나겠죠.\n",
        "- 그렇지만 컴퓨터는 그럴 일이 없으니 반복 작업을 시키기에는 가장 좋은 일꾼입니다.\n",
        "- 따라서 반복작업을 지시하는 명령은 컴퓨터에게 일을 잘 시키기 위한 매우 중요한 수단입니다."
      ],
      "metadata": {
        "id": "hCTFL8Qm1ns_"
      }
    },
    {
      "cell_type": "markdown",
      "source": [
        "- 파이썬에서 사용하는 반복문은 크게 For 문과 While 문의 두 가지로 구분됩니다.\n",
        "- 그 중에서 가장 많이 사용되는 것이 For 문인데.. For 문은 다양한 활용 형태를 가집니다."
      ],
      "metadata": {
        "id": "10kaM6b31nge"
      }
    },
    {
      "cell_type": "markdown",
      "source": [
        "#### 4-2-1. for 문"
      ],
      "metadata": {
        "id": "5t50mSOkC3dh"
      }
    },
    {
      "cell_type": "markdown",
      "source": [
        "- 먼저 가장 기본적인 형태를 살펴보겠습니다."
      ],
      "metadata": {
        "id": "qpKpoy9q1gO_"
      }
    },
    {
      "cell_type": "code",
      "metadata": {
        "id": "c8yjBjHGigzj",
        "colab": {
          "base_uri": "https://localhost:8080/"
        },
        "outputId": "0cdbe44a-e59f-4bce-e516-0b314c20657b"
      },
      "source": [
        "area = [1, 3, 4, 6, 7]\n",
        "\n",
        "for x in area:\n",
        "    print(x)"
      ],
      "execution_count": null,
      "outputs": [
        {
          "output_type": "stream",
          "name": "stdout",
          "text": [
            "1\n",
            "3\n",
            "4\n",
            "6\n",
            "7\n"
          ]
        }
      ]
    },
    {
      "cell_type": "markdown",
      "metadata": {
        "id": "gIimTyx2kPGC"
      },
      "source": [
        "- 먼저 1, 3, 4, 6, 7을 값으로 가지는 리스트를 area라는 변수에 할당했습니다.\n",
        "- 그 다음의 for 문은 area 리스트 안의 값을 순서대로 하나씩 꺼내서 x에 할당하고, x에 하나의 값이 할당될 때 마다 print 문을 실행하라~ 라는 의미입니다.\n",
        "- 그렇다면 area는 총 5개의 값을 가지고 있으니 print 구문을 5번 실행하겠죠.\n",
        "- 그리고 출력되는 내용인 x는 area 리스트에서 순서대로 꺼낸 1, 3, 4, 6, 7이 순서대로 출력될 것입니다."
      ]
    },
    {
      "cell_type": "markdown",
      "source": [
        "- for 구문에는 리스트 외에도 문자열(문자열도 엄밀히 말하면 문자들의 리스트입니다), 딕셔너리, 범위 등이 사용될 수 있습니다."
      ],
      "metadata": {
        "id": "NC-LeZF8tBhf"
      }
    },
    {
      "cell_type": "markdown",
      "source": [
        "- 각각의 예제를 살펴봅시다."
      ],
      "metadata": {
        "id": "f67IzumStBWw"
      }
    },
    {
      "cell_type": "code",
      "metadata": {
        "id": "hLpBblljkNRa",
        "colab": {
          "base_uri": "https://localhost:8080/"
        },
        "outputId": "d88c6e04-054f-4b65-f6cf-0b3b953662c7"
      },
      "source": [
        "# 문자열을 사용한 예\n",
        "area_string = \"Hello\"\n",
        "\n",
        "for x in area_string:\n",
        "    print(x)"
      ],
      "execution_count": null,
      "outputs": [
        {
          "output_type": "stream",
          "name": "stdout",
          "text": [
            "H\n",
            "e\n",
            "l\n",
            "l\n",
            "o\n"
          ]
        }
      ]
    },
    {
      "cell_type": "code",
      "metadata": {
        "id": "XFUCaExgkiW4",
        "colab": {
          "base_uri": "https://localhost:8080/"
        },
        "outputId": "4cad3329-344f-4c9d-e7b1-a13635fdbe3e"
      },
      "source": [
        "# 딕셔너리를 사용한 예\n",
        "area_dictionary = {'a':'Nice', 'b':'to', 'c':'meet', 'd':'you'}\n",
        "\n",
        "for x in area_dictionary:\n",
        "    print(x)"
      ],
      "execution_count": null,
      "outputs": [
        {
          "output_type": "stream",
          "name": "stdout",
          "text": [
            "a\n",
            "b\n",
            "c\n",
            "d\n"
          ]
        }
      ]
    },
    {
      "cell_type": "markdown",
      "metadata": {
        "id": "b4sM4_Lxk8N3"
      },
      "source": [
        "- 딕셔너리를 사용한 예에서도 4개의 값을 잘 출력했습니다.\n",
        "- 그런데 \"Nice\", \"to\", \"meet\", \"you\"를 출력하고 싶은데 이것은 어떻게 할까요?\n",
        "- for 구문이 사용하는 것은 딕셔너리에 포함된 값을 순서대로 꺼낸 것이기 때문에 \"키:값\"의 쌍에서 \"키\"만을 사용하고 있습니다.\n",
        "- 그러면 우리는 area_dictionary 변수를 사용해서 출력해 줄 수 있겠죠.\n",
        "- 키를 사용할 수 있으니까요."
      ]
    },
    {
      "cell_type": "code",
      "metadata": {
        "id": "hVeKNEz0k5EB",
        "colab": {
          "base_uri": "https://localhost:8080/"
        },
        "outputId": "a9bfae54-267b-45a3-af08-ed88cc9b381e"
      },
      "source": [
        "area_dictionary = {'a':'Nice', 'b':'to', 'c':'meet', 'd':'you'}\n",
        "\n",
        "for x in area_dictionary:\n",
        "    print(x, ':', area_dictionary[x])"
      ],
      "execution_count": null,
      "outputs": [
        {
          "output_type": "stream",
          "name": "stdout",
          "text": [
            "a : Nice\n",
            "b : to\n",
            "c : meet\n",
            "d : you\n"
          ]
        }
      ]
    },
    {
      "cell_type": "markdown",
      "source": [
        "- 키와 값이 모두 잘 출력되었습니다."
      ],
      "metadata": {
        "id": "84hpleErs84_"
      }
    },
    {
      "cell_type": "markdown",
      "metadata": {
        "id": "qyEHwj_glWAa"
      },
      "source": [
        "- 그런데 파이썬에서는 어떤 함수의 결과로 하나의 값만 받는 것이 아니라 두 개 이상의 값을 받을 수 있습니다.\n",
        "- 그래서 area_dictionary 라는 딕셔너리 변수에서 우리가 사용할 수 있는 items라는 함수를 한 번 사용해 보겠습니다."
      ]
    },
    {
      "cell_type": "code",
      "metadata": {
        "id": "D6cnwCR0lRhc",
        "colab": {
          "base_uri": "https://localhost:8080/"
        },
        "outputId": "5b7d9c75-449c-4f72-c2e8-8561be9e1083"
      },
      "source": [
        "area_dictionary = {'a':'Nice', 'b':'to', 'c':'meet', 'd':'you'}\n",
        "\n",
        "for key, value in area_dictionary.items():\n",
        "    print(key, ':', value)"
      ],
      "execution_count": null,
      "outputs": [
        {
          "output_type": "stream",
          "name": "stdout",
          "text": [
            "a : Nice\n",
            "b : to\n",
            "c : meet\n",
            "d : you\n"
          ]
        }
      ]
    },
    {
      "cell_type": "markdown",
      "metadata": {
        "id": "dwHjHV3GmFd6"
      },
      "source": [
        "- 파이썬이 사용하는 모든 데이터 타입(형태)는 클래스라는 구조로 만들어져 있습니다.\n",
        "- 클래스에 대한 것은 다음에 설명드리도록 하겠습니다.\n",
        "- 지금은 클래스로 되어 있다는 것만 아셔도 됩니다.\n",
        "- 아무튼.. 모든 데이터 타입은 클래스로 되어 있기때문에 클래스가 가지고 있는 다양한 함수를 끌어내어 사용할 수 있습니다."
      ]
    },
    {
      "cell_type": "markdown",
      "source": [
        "- 바로 위의 예제에서 사용한 items( ) 라는 것도 딕셔너리 클래스가 가지고 있는 함수 중의 하나입니다.\n",
        "- 딕셔너리 변수가 가지고 있는 각 항목들을 키와 값의 쌍으로 돌려주는 기능을 하죠.\n",
        "- 따라서 for 구문을 실행하는데 area_dictionary가 가지고 있는 키와 값의 쌍을 순서대로 꺼내어서 그 개수만큼 for문의 블록 안에 있는 구문을 실행하라~ 라는 의미를 가지게 됩니다.\n",
        "- 그리고 area_dictionary 변수의 키:값 쌍을 함께 받아와서 키는 key 변수에, 값은 value 변수에 넣어두었기 때문에 key 변수와 value 변수를 출력하는 print문을 블록에 사용했습니다.\n",
        "- 앞에서 본 예제와 같은 결과를 확인할 수 있습니다."
      ],
      "metadata": {
        "id": "DkMys1XJs0PH"
      }
    },
    {
      "cell_type": "markdown",
      "source": [
        "- 다음은 range 함수를 사용한 예제를 살펴보겠습니다."
      ],
      "metadata": {
        "id": "fqTQdjwOs0DH"
      }
    },
    {
      "cell_type": "code",
      "metadata": {
        "id": "5UtMwi_Nlmws",
        "colab": {
          "base_uri": "https://localhost:8080/"
        },
        "outputId": "c0af42bc-e9eb-4279-9fe0-ecf3567fa1df"
      },
      "source": [
        "for x in range(5):\n",
        "    print(x)"
      ],
      "execution_count": null,
      "outputs": [
        {
          "output_type": "stream",
          "name": "stdout",
          "text": [
            "0\n",
            "1\n",
            "2\n",
            "3\n",
            "4\n"
          ]
        }
      ]
    },
    {
      "cell_type": "code",
      "metadata": {
        "id": "ep5sMP86mqKJ",
        "colab": {
          "base_uri": "https://localhost:8080/"
        },
        "outputId": "285c3800-7c43-44a0-8f37-f6e5aa4286c1"
      },
      "source": [
        "for x in range(3, 5):\n",
        "    print(x)"
      ],
      "execution_count": null,
      "outputs": [
        {
          "output_type": "stream",
          "name": "stdout",
          "text": [
            "3\n",
            "4\n"
          ]
        }
      ]
    },
    {
      "cell_type": "markdown",
      "metadata": {
        "id": "o6dqgYPVm2MJ"
      },
      "source": [
        "- range( ) 함수는 내부에 지정된 범위 안의 숫자를 돌려주는 함수입니다.\n",
        "- 위의 예제 중 첫 번째는 먼저 0부터 5의 앞까지의 범위 안에 있는 숫자(0, 1, 2, 3, 4)를 순서대로 꺼내어 print 문으로 출력을 반복하라.. 라는 의미입니다.\n",
        "- 이때, range( ) 함수 안의 범위는 위의 두 번째 예제와 같이 지정할 수 있습니다.\n",
        "- 3부터 5의 앞까지의 범위 안의 숫자 (3, 4)를 순서대로 꺼내어 print 문으로 출력을 반복하라.. 라는 의미죠.\n",
        "- 범위를 지정할 때 뒤에 있는 5는 5까지.. 의 의미가 아니라 5의 앞까지.. 의 범위입니다."
      ]
    },
    {
      "cell_type": "markdown",
      "source": [
        "- 또한 range( ) 함수에서는 범위 안의 숫자 사이의 간격을 지정할 수도 있습니다.\n",
        "- 다음 예제는 3부터 10의 앞까지의 숫자를 꺼내되, 각 숫자는 2씩 증가하도록 꺼내어서 print 문으로 출력하라.. 라는 의미입니다.\n",
        "- 2만큼의 간격대로 3, 5, 7, 9가 출력된 것을 볼 수 있습니다."
      ],
      "metadata": {
        "id": "MJNKRI-hswEf"
      }
    },
    {
      "cell_type": "code",
      "metadata": {
        "id": "Ef_BSpScmvRx",
        "colab": {
          "base_uri": "https://localhost:8080/"
        },
        "outputId": "d4bd76ad-7d5f-49d4-be57-95396e9e778f"
      },
      "source": [
        "for x in range(3, 10, 2):\n",
        "    print(x)"
      ],
      "execution_count": null,
      "outputs": [
        {
          "output_type": "stream",
          "name": "stdout",
          "text": [
            "3\n",
            "5\n",
            "7\n",
            "9\n"
          ]
        }
      ]
    },
    {
      "cell_type": "markdown",
      "source": [
        "#### 4-2-2. for 문의 확장"
      ],
      "metadata": {
        "id": "wBox9dX_slHv"
      }
    },
    {
      "cell_type": "markdown",
      "source": [
        "- For문은 반복적인 처리를 위해서 사용하는 구문이라고 말씀드렸습니다.\n",
        "- 그런데 그런 반복된 처리 속에서 반복 작업을 중단하고 나가야 한다거나 흐름에 변형을 주어야 할 때에는 어떻게 할까요?\n",
        "- 앞의 예제어서 다루었던 if ~~ 구문을 이용해서 For 문을 빠져나간다거나.. 반복 작업 속에서 상황에 따라 다른 작업을 선택하도록 할 수도 있습니다.\n",
        "- 실제로 많은 경우에 그런 방식으로 For문을 사용하고 있습니다."
      ],
      "metadata": {
        "id": "sRG7V5JKsk9v"
      }
    },
    {
      "cell_type": "markdown",
      "source": [
        "- 파이썬에서는 이런 경우에 대하여 for ~ continue ~ break구문과 for ~ else 구문을 제공하고 있습니다.\n",
        "- 사실 continue 구문은 직관적으로 눈에 들어오지 않는 편이어서 좀 헷갈리거나.. 이런 것을 왜 쓰지? 라고 하실 수도 있습니다."
      ],
      "metadata": {
        "id": "n3_ekMdOskx5"
      }
    },
    {
      "cell_type": "markdown",
      "metadata": {
        "id": "snAQOyp2n4QN"
      },
      "source": [
        "- 먼저 for ~ continue ~ break 구문을 살펴보겠습니다.\n",
        "- for ~ continue ~ break 구문은 반복문을 수행하던 도중에 어떤 조건을 만나면 반복문을 계속 수행하고, 그 조건을 만족하지 않으면 반복문을 빠져나가도록 하는 구문입니다.\n"
      ]
    },
    {
      "cell_type": "code",
      "metadata": {
        "id": "SdE9IO_QnGHV",
        "colab": {
          "base_uri": "https://localhost:8080/"
        },
        "outputId": "dede5c6d-353d-43ac-8e70-4f2b3598d21a"
      },
      "source": [
        "area = [1, 3, 4, 6, 7]\n",
        "\n",
        "for x in area:\n",
        "    print(x)\n",
        "    if x < 4:\n",
        "        continue\n",
        "    else:\n",
        "        break"
      ],
      "execution_count": null,
      "outputs": [
        {
          "output_type": "stream",
          "name": "stdout",
          "text": [
            "1\n",
            "3\n",
            "4\n"
          ]
        }
      ]
    },
    {
      "cell_type": "markdown",
      "metadata": {
        "id": "6sEnYkrqo-12"
      },
      "source": [
        "- 예제 코드에 continue, break를 적용한 예제입니다.\n",
        "- 의미는 1, 3, 4, 6, 7 이라는 값을 가진 리스트 area에서 값들을 순서대로 꺼내어 반복문을 실행하라는 의미인데 1, 3, 4, 6, 7 값이 순서대로 x에 할당되고 해당하는 x 값을 출력하는 코드입니다.\n",
        "- 이 때 x를 출력하고 난 다음, 만약 x가 4보다 작은 값이라면 for 구문을 계속 반복하고 x가 4 이상의 값이라면 for 구문을 빠져나가라는 의미입니다.\n",
        "- 리스트 area의 세 번째 값인 4가 x에 할당되었을 때, if 문을 만나지만 if 문 이전에 print(x)를 만나기때문에 4까지 출력이 되고 종료하게 됩니다."
      ]
    },
    {
      "cell_type": "markdown",
      "source": [
        "- 조금 변형시켜 볼까요?"
      ],
      "metadata": {
        "id": "zPdwUjOusc4g"
      }
    },
    {
      "cell_type": "code",
      "metadata": {
        "id": "yyv8Q3pgo8h6",
        "colab": {
          "base_uri": "https://localhost:8080/"
        },
        "outputId": "b813ffed-e397-4a63-deea-39720d2ac69e"
      },
      "source": [
        "area = [1, 3, 4, 6, 7]\n",
        "\n",
        "for x in area:\n",
        "    if x < 4:\n",
        "        print(x)\n",
        "        continue\n",
        "    else:\n",
        "        break"
      ],
      "execution_count": null,
      "outputs": [
        {
          "output_type": "stream",
          "name": "stdout",
          "text": [
            "1\n",
            "3\n"
          ]
        }
      ]
    },
    {
      "cell_type": "markdown",
      "metadata": {
        "id": "uhHn4UrgrD9V"
      },
      "source": [
        "- print(x) 구문을 if 문 안으로 넣어보았습니다.\n",
        "- 이번에는 x = 4 인 경우 바로 for 문을 빠져나갔습니다.\n",
        "- 그냥 continue 같은 것을 사용하지 않고 빠져나가는 조건만 사용해도 되지 않을까? 라고 생각하실 수 있습니다.\n",
        "- 실제로도 continue 구문은 헷갈린다고 빠져나가는 조건만 사용하는 경우도 많이 있습니다."
      ]
    },
    {
      "cell_type": "markdown",
      "source": [
        "- 다음 예제를 보시죠."
      ],
      "metadata": {
        "id": "45NnKcjSsYym"
      }
    },
    {
      "cell_type": "code",
      "metadata": {
        "id": "UbwL_kqerCzK",
        "colab": {
          "base_uri": "https://localhost:8080/"
        },
        "outputId": "febd1ca1-ad20-4f75-c4ee-b77bf6b0c13e"
      },
      "source": [
        "area = [1, 3, 4, 6, 7]\n",
        "\n",
        "for x in area:\n",
        "    print(x)\n",
        "    if x >= 4:\n",
        "        break"
      ],
      "execution_count": null,
      "outputs": [
        {
          "output_type": "stream",
          "name": "stdout",
          "text": [
            "1\n",
            "3\n",
            "4\n"
          ]
        }
      ]
    },
    {
      "cell_type": "markdown",
      "source": [
        "- if 문에서의 조건만 살짝 바꾸어서 빠져나가는 구문만 적용한 예제입니다.\n",
        "- 결과는 처음 본 예제와 같습니다."
      ],
      "metadata": {
        "id": "4p4oq5v3sQT_"
      }
    },
    {
      "cell_type": "markdown",
      "metadata": {
        "id": "vE2E2P3r0Vmu"
      },
      "source": [
        "- 이렇게 보면 continue 구문은 왜 있는 것일까? 라고 생각하실 수 있지만...뭐.. 그래도 어딘가에 필요하니까 만들어진 구문이겠죠.\n",
        "- 어디에 필요한지 한 번 보도록 하죠."
      ]
    },
    {
      "cell_type": "code",
      "metadata": {
        "id": "jucWuoop0Izs",
        "colab": {
          "base_uri": "https://localhost:8080/"
        },
        "outputId": "479aeea2-d948-4d1f-9c2b-4dba50911fa2"
      },
      "source": [
        "area = [1, 3, 4, 6, 7]\n",
        "\n",
        "for x in area:\n",
        "    print(x)\n",
        "    if x < 4:\n",
        "        continue\n",
        "    else:\n",
        "        break\n",
        "    print(\"continue\")"
      ],
      "execution_count": null,
      "outputs": [
        {
          "output_type": "stream",
          "name": "stdout",
          "text": [
            "1\n",
            "3\n",
            "4\n"
          ]
        }
      ]
    },
    {
      "cell_type": "markdown",
      "metadata": {
        "id": "ZgJePYkL0sTM"
      },
      "source": [
        "- 위의 예제를 보면... 분명히 print(\"continue\") 구문이 for문 안에 있습니다.\n",
        "- 그렇지만 실제로 출력이 된 적은 없습니다."
      ]
    },
    {
      "cell_type": "markdown",
      "source": [
        "- continue 구문은 해당 조건을 만족할 경우 반복문을 계속 실행하라는 의미인데.. 중요한 것은 continue 구문 이후의 명령들은 생략하라~ 라는 의미라는 것입니다.\n",
        "- 그렇기 때문에 print(\"continue\")는 언제나 생략되어 출력되지 않은 것입니다."
      ],
      "metadata": {
        "id": "NF9KL6QEsHMX"
      }
    },
    {
      "cell_type": "markdown",
      "source": [
        "- 하나 더 볼까요?"
      ],
      "metadata": {
        "id": "bpOnQ79FsFRX"
      }
    },
    {
      "cell_type": "code",
      "metadata": {
        "id": "oauSOzg10o_O",
        "colab": {
          "base_uri": "https://localhost:8080/"
        },
        "outputId": "cefa1c1d-977b-4f21-ceea-6e19c5541be8"
      },
      "source": [
        "area = [1, 3, 4, 6, 7]\n",
        "\n",
        "for x in area:\n",
        "    print(x)\n",
        "    if x < 4:\n",
        "        continue\n",
        "    elif x > 6:\n",
        "        break\n",
        "    print(\"continue\")"
      ],
      "execution_count": null,
      "outputs": [
        {
          "output_type": "stream",
          "name": "stdout",
          "text": [
            "1\n",
            "3\n",
            "4\n",
            "continue\n",
            "6\n",
            "continue\n",
            "7\n"
          ]
        }
      ]
    },
    {
      "cell_type": "markdown",
      "metadata": {
        "id": "1_8lB2sX1El_"
      },
      "source": [
        "- 위의 예제에서는 if 문에서 다루는 조건은 x가 4보다 작은 경우는 continue, x가 6보다 큰 경우는 break를 만납니다.\n",
        "- 그 외의 x에는 if문이 걸려있지 않죠.\n",
        "- 그래서 x가 4보다 작은 경우는 print(\"continue\")가 생략되었고 x가 6보다 커지면서 for문을 벗어나 버렸습니다.\n",
        "- 그 조건 외에는 print(\"continue\")가 실행된 것을 확인할 수 있습니다."
      ]
    },
    {
      "cell_type": "markdown",
      "source": [
        "- 이런 차이가 있는거죠.\n",
        "- 그런데 해당 조건을 벗어났다는 것은 위의 조건외의 모든 것이라고 할 수 있기때문에 다음의 예제처럼 구현할 수도 있습니다."
      ],
      "metadata": {
        "id": "1fO_oVIksClY"
      }
    },
    {
      "cell_type": "code",
      "metadata": {
        "id": "GGDdVEv_1CSI",
        "colab": {
          "base_uri": "https://localhost:8080/"
        },
        "outputId": "8ac0f5ea-f311-493f-cf67-ce3c9f836ecb"
      },
      "source": [
        "area = [1, 3, 4, 6, 7]\n",
        "\n",
        "for x in area:\n",
        "    print(x)\n",
        "    if x < 4:\n",
        "        continue\n",
        "    elif x > 6:\n",
        "        break\n",
        "    else:\n",
        "        print(\"continue\")"
      ],
      "execution_count": null,
      "outputs": [
        {
          "output_type": "stream",
          "name": "stdout",
          "text": [
            "1\n",
            "3\n",
            "4\n",
            "continue\n",
            "6\n",
            "continue\n",
            "7\n"
          ]
        }
      ]
    },
    {
      "cell_type": "markdown",
      "source": [
        "- 이처럼 각각의 목적에 따라 다르게 구현할 수 있고, 또 동일한 목적이 있는 구문이라도 프로그래머의 생각에 따라서 다르게 구현될 수 있습니다.\n",
        "- 지난 글에서 \"정답은 없다\"라고 말씀드렸던 것처럼... 바로 이런 이야기입니다."
      ],
      "metadata": {
        "id": "SWbsZ-Czr8Wn"
      }
    },
    {
      "cell_type": "markdown",
      "metadata": {
        "id": "t_3NgmIZ1riA"
      },
      "source": [
        "- 이번에는 for ~ else 구문을 살펴볼까요?\n",
        "- for ~ else 구문은 반복문이 break 명령에 의해서 중단되지 않은 경우에만 else 안의 명령을 수행하라는 구문입니다."
      ]
    },
    {
      "cell_type": "code",
      "metadata": {
        "id": "PPH6yfGB1ll8",
        "colab": {
          "base_uri": "https://localhost:8080/"
        },
        "outputId": "1b401f9c-a6a8-4443-ec33-9e015e3dc790"
      },
      "source": [
        "area = [1, 3, 4, 6, 7]\n",
        "\n",
        "for x in area:\n",
        "    print(x)\n",
        "else:\n",
        "    print(\"finish\")"
      ],
      "execution_count": null,
      "outputs": [
        {
          "output_type": "stream",
          "name": "stdout",
          "text": [
            "1\n",
            "3\n",
            "4\n",
            "6\n",
            "7\n",
            "finish\n"
          ]
        }
      ]
    },
    {
      "cell_type": "markdown",
      "metadata": {
        "id": "ejGjTDhg2mZM"
      },
      "source": [
        "- 위의 예제에서는 break 명령이 없습니다.\n",
        "- 따라서 print('Finish')는 잘 실행되었습니다.\n",
        "- 그럼 중간에 break를 걸어볼까요?"
      ]
    },
    {
      "cell_type": "code",
      "metadata": {
        "id": "B1phCHCS2i6w",
        "colab": {
          "base_uri": "https://localhost:8080/"
        },
        "outputId": "9bb3c21c-c507-4ebd-9bd5-88213a833d51"
      },
      "source": [
        "area = [1, 3, 4, 6, 7]\n",
        "\n",
        "for x in area:\n",
        "    print(x)\n",
        "    if x > 6:\n",
        "        break\n",
        "else:\n",
        "    print(\"finish\")"
      ],
      "execution_count": null,
      "outputs": [
        {
          "output_type": "stream",
          "name": "stdout",
          "text": [
            "1\n",
            "3\n",
            "4\n",
            "6\n",
            "7\n"
          ]
        }
      ]
    },
    {
      "cell_type": "markdown",
      "metadata": {
        "id": "XGdJFE8l20z2"
      },
      "source": [
        "- x가 6보다 큰 경우 break를 걸어보았습니다.\n",
        "- print(x) 명령은 if문 이전에 있기 때문에 break는 걸려있지만 이미 출력은 모두 완료되었죠.\n",
        "- 그러나 어쨋든 break로 for문이 중단된 것이기때문에 else 구문 안의 print('Finish')는 실행되지 않았습니다."
      ]
    },
    {
      "cell_type": "markdown",
      "source": [
        "- 그럼 이렇게 바꿔볼까요?"
      ],
      "metadata": {
        "id": "06pa_Qsrr3yP"
      }
    },
    {
      "cell_type": "code",
      "metadata": {
        "id": "rSVCzPb32xcp",
        "colab": {
          "base_uri": "https://localhost:8080/"
        },
        "outputId": "b26633ad-bc23-4812-9e83-43d52e697b44"
      },
      "source": [
        "area = [1, 3, 4, 6, 7]\n",
        "\n",
        "for x in area:\n",
        "    print(x)\n",
        "    if x > 7:\n",
        "        break\n",
        "else:\n",
        "    print(\"finish\")"
      ],
      "execution_count": null,
      "outputs": [
        {
          "output_type": "stream",
          "name": "stdout",
          "text": [
            "1\n",
            "3\n",
            "4\n",
            "6\n",
            "7\n",
            "finish\n"
          ]
        }
      ]
    },
    {
      "cell_type": "markdown",
      "metadata": {
        "id": "SJXRaXFO3JKZ"
      },
      "source": [
        "- x가 7보다 큰 경우에 break를 걸었습니다.\n",
        "- 그러나 리스트 area의 마지막 값인 7이 x > 7을 만족하지 않았기때문에 if문을 만족하기 전에 for문이 끝나버렸습니다.\n",
        "- break 명령에 걸리지 않은 것입니다.\n",
        "- 따라서 \"Finish\"는 잘 출력되었습니다.\n"
      ]
    },
    {
      "cell_type": "markdown",
      "source": [
        "- 여기까지 해서 for ~ continue ~ break 구문과 for ~ else 구문을 살펴보았습니다."
      ],
      "metadata": {
        "id": "hWngkabDrzmQ"
      }
    },
    {
      "cell_type": "markdown",
      "source": [
        "#### 4-2-3. While문"
      ],
      "metadata": {
        "id": "0O6G40FID3J8"
      }
    },
    {
      "cell_type": "markdown",
      "source": [
        "- while 문은 for 문과 다르게 반복하기 위한 조건이 주어진다는 점이 특징입니다.\n",
        "- while 문에 따라오는 조건을 만족하는 동안 계속해서 반복 작업을 수행하라.. 라는 의미입니다.\n",
        "- 예제 코드를 먼저 보겠습니다."
      ],
      "metadata": {
        "id": "BRgqP-nA1N2P"
      }
    },
    {
      "cell_type": "code",
      "metadata": {
        "id": "ijvNUz542_VJ",
        "colab": {
          "base_uri": "https://localhost:8080/"
        },
        "outputId": "5ff69ecc-e8d1-445f-e7fc-ce7277e45823"
      },
      "source": [
        "x = 1\n",
        "\n",
        "while x < 10:\n",
        "    x = x + 1\n",
        "    if x < 5:\n",
        "        continue\n",
        "    print(x)\n",
        "\n",
        "    if x > 7:\n",
        "        break"
      ],
      "execution_count": null,
      "outputs": [
        {
          "output_type": "stream",
          "name": "stdout",
          "text": [
            "5\n",
            "6\n",
            "7\n",
            "8\n"
          ]
        }
      ]
    },
    {
      "cell_type": "markdown",
      "source": [
        "- 예제 코드의 내용은 먼저 x의 초기 값을 1로 잡아 두고 x가 10보다 작은 동안에는 계속 반복 작업을 시키는 것입니다.\n",
        "- \"x가 10보다 작은 동안\"이라는 말은 \"x < 10\" 이라는 조건이 \"참(True)\"이 되는 경우를 말하죠.\n",
        "- 즉 주어진 x에 대하여 x < 10을 만족한다면 계속 반복 작업을 시키고, x < 10을 만족하지 않는다면, 다시 말해서 x가 10 이상의 값을 가지게 된다면 반복 작업을 중단시켜라.. 라는의미입니다."
      ],
      "metadata": {
        "id": "8_Irf9htrYn4"
      }
    },
    {
      "cell_type": "markdown",
      "source": [
        "- 그렇다면 x의 값이 변하지 않으면 while 문은 영원히 반복하게 되겠죠.\n",
        "- 그래서 반복 작업을 한 번 수행할 때마다 x의 값을 1씩 증가시킵니다.\n",
        "- x = x + 1 구문은 x의 값에 1을 더한 값을 다시 x로 할당하여라.. 라는 명령입니다.\n",
        "- 즉 x의 값을 x + 1로 바꿔주라는... 1을 증가시키라는 뜻이죠.\n",
        "- 그러면 반복 작업을 한 번 수행할 때마다 x의 값은 2, 3, 4, ... 와 같이 계속 증가하게 될 것입니다."
      ],
      "metadata": {
        "id": "ZFPzwanorYZn"
      }
    },
    {
      "cell_type": "markdown",
      "source": [
        "- 이렇게 x의 값을 증가시키도록 명령하고 나서 조건문이 들어왔습니다.\n",
        "- 만약 x가 5보다 작으면 continue 명령에 따라 뒤에 따라오는 명령은 무시하고 다시 처음부터 작업을 반복합니다.\n",
        "- x의 처음 값은 1이니까 1씩 증가하다가 x = 5가 되는 순간부터 continue 명령을 벗어나서 print(x)를 실행하게 됩니다.\n",
        "- 이때 print(x) 명령 다음에 다시 x > 7인 경우에 대한 조건문이 들어왔죠.\n",
        "- x가 7보다 커지면 while 반복문을 빠져나가라는 명령입니다.\n",
        "- x = 5, 6, 7까지 print문을 수행하고 나서, 여전히 x > 7을 만족하지 않으니까 한 번 더 반복 작업을 실행합니다.\n",
        "- x = 8이 되었고 첫 번째의 조건문을 만족하지 않으니까, 즉 첫 번째 조건의 결과가 False가 되니까 print(x)를 수행합니다.\n",
        "- 8까지 출력이 되었죠."
      ],
      "metadata": {
        "id": "i3Nx2EAzrYQr"
      }
    },
    {
      "cell_type": "markdown",
      "source": [
        "- 다음으로 두 번째의 조건문을 만났습니다.\n",
        "- 지금 x의 값은 8이니까 x > 7 이라는 조건문을 만족합니다.\n",
        "- 그럼 break 명령에 따라서 반복문을 빠져나가게 됩니다.\n",
        "- 그럼 결과는 5, 6, 7, 8의 네 개의 숫자가 출력이 되겠죠."
      ],
      "metadata": {
        "id": "_2ILaW6_rYGv"
      }
    },
    {
      "cell_type": "markdown",
      "source": [
        "- 이렇게 while 문을 이용한 반복문을 살펴보았습니다.\n",
        "- 그런데 우리가 사용하는 많은 프로그램들은 직접 종료시키지 않으면 무한정 반복하는 프로그램들이 대부분이죠.\n",
        "- 공부할 때 사용하는 예제코드에서는 처음부터 특정 조건을 주고 반복을 시키지만 일반적인 프로그램들은 그냥 계속 동작합니다."
      ],
      "metadata": {
        "id": "DcFK4DiLrX9p"
      }
    },
    {
      "cell_type": "markdown",
      "source": [
        "- 대표적인 예로 윈도우, 리눅스와 같은 OS, 즉 운영체제 프로그램을 들 수 있습니다.\n",
        "- 우리가 컴퓨터를 종료시키지 않으면 계속... 끝없이 동작합니다.\n",
        "- 이처럼 강제로 무한루프(끝없이 반복, 즉 루프를 도는 구조)를 지정하려고 하면 어떻게 해야 할까요?\n",
        "- 앞에서 while문은 따라오는 조건을 만족하는 한 계속 반복한다고 말씁드렸습니다.\n",
        "- 그렇다면 그 조건이 언제나 참(True)이 되면 되겠네요."
      ],
      "metadata": {
        "id": "3hK5sLKFrXxI"
      }
    },
    {
      "cell_type": "code",
      "metadata": {
        "id": "URK2bpIm4Gdr",
        "colab": {
          "base_uri": "https://localhost:8080/"
        },
        "outputId": "aa1b9875-3333-4c97-c02c-787b6c0cb33d"
      },
      "source": [
        "x = 1\n",
        "\n",
        "while True:\n",
        "    x = x + 1\n",
        "    if x < 5:\n",
        "        continue\n",
        "    print(x)\n",
        "\n",
        "    if x > 7:\n",
        "        break"
      ],
      "execution_count": null,
      "outputs": [
        {
          "output_type": "stream",
          "name": "stdout",
          "text": [
            "5\n",
            "6\n",
            "7\n",
            "8\n"
          ]
        }
      ]
    },
    {
      "cell_type": "markdown",
      "source": [
        "- 아래의 예제는 무한루프를 돌게 됩니다.\n",
        "- 적당한 시점에 셀의 좌측상단에 있는 (▶) 또는 (◼) 버튼을 눌러서 중지시켜주세요."
      ],
      "metadata": {
        "id": "3eNktJdktj0O"
      }
    },
    {
      "cell_type": "code",
      "source": [
        "x = 1\n",
        "\n",
        "while 1:\n",
        "  print(x)\n",
        "  x = x + 1"
      ],
      "metadata": {
        "id": "7GWclos9rNq-",
        "colab": {
          "base_uri": "https://localhost:8080/",
          "height": 1000
        },
        "outputId": "9acdfbd1-cb11-477d-a6d9-d324f60f27c9"
      },
      "execution_count": null,
      "outputs": [
        {
          "output_type": "stream",
          "name": "stdout",
          "text": [
            "\u001b[1;30;43m스트리밍 출력 내용이 길어서 마지막 5000줄이 삭제되었습니다.\u001b[0m\n",
            "32063\n",
            "32064\n",
            "32065\n",
            "32066\n",
            "32067\n",
            "32068\n",
            "32069\n",
            "32070\n",
            "32071\n",
            "32072\n",
            "32073\n",
            "32074\n",
            "32075\n",
            "32076\n",
            "32077\n",
            "32078\n",
            "32079\n",
            "32080\n",
            "32081\n",
            "32082\n",
            "32083\n",
            "32084\n",
            "32085\n",
            "32086\n",
            "32087\n",
            "32088\n",
            "32089\n",
            "32090\n",
            "32091\n",
            "32092\n",
            "32093\n",
            "32094\n",
            "32095\n",
            "32096\n",
            "32097\n",
            "32098\n",
            "32099\n",
            "32100\n",
            "32101\n",
            "32102\n",
            "32103\n",
            "32104\n",
            "32105\n",
            "32106\n",
            "32107\n",
            "32108\n",
            "32109\n",
            "32110\n",
            "32111\n",
            "32112\n",
            "32113\n",
            "32114\n",
            "32115\n",
            "32116\n",
            "32117\n",
            "32118\n",
            "32119\n",
            "32120\n",
            "32121\n",
            "32122\n",
            "32123\n",
            "32124\n",
            "32125\n",
            "32126\n",
            "32127\n",
            "32128\n",
            "32129\n",
            "32130\n",
            "32131\n",
            "32132\n",
            "32133\n",
            "32134\n",
            "32135\n",
            "32136\n",
            "32137\n",
            "32138\n",
            "32139\n",
            "32140\n",
            "32141\n",
            "32142\n",
            "32143\n",
            "32144\n",
            "32145\n",
            "32146\n",
            "32147\n",
            "32148\n",
            "32149\n",
            "32150\n",
            "32151\n",
            "32152\n",
            "32153\n",
            "32154\n",
            "32155\n",
            "32156\n",
            "32157\n",
            "32158\n",
            "32159\n",
            "32160\n",
            "32161\n",
            "32162\n",
            "32163\n",
            "32164\n",
            "32165\n",
            "32166\n",
            "32167\n",
            "32168\n",
            "32169\n",
            "32170\n",
            "32171\n",
            "32172\n",
            "32173\n",
            "32174\n",
            "32175\n",
            "32176\n",
            "32177\n",
            "32178\n",
            "32179\n",
            "32180\n",
            "32181\n",
            "32182\n",
            "32183\n",
            "32184\n",
            "32185\n",
            "32186\n",
            "32187\n",
            "32188\n",
            "32189\n",
            "32190\n",
            "32191\n",
            "32192\n",
            "32193\n",
            "32194\n",
            "32195\n",
            "32196\n",
            "32197\n",
            "32198\n",
            "32199\n",
            "32200\n",
            "32201\n",
            "32202\n",
            "32203\n",
            "32204\n",
            "32205\n",
            "32206\n",
            "32207\n",
            "32208\n",
            "32209\n",
            "32210\n",
            "32211\n",
            "32212\n",
            "32213\n",
            "32214\n",
            "32215\n",
            "32216\n",
            "32217\n",
            "32218\n",
            "32219\n",
            "32220\n",
            "32221\n",
            "32222\n",
            "32223\n",
            "32224\n",
            "32225\n",
            "32226\n",
            "32227\n",
            "32228\n",
            "32229\n",
            "32230\n",
            "32231\n",
            "32232\n",
            "32233\n",
            "32234\n",
            "32235\n",
            "32236\n",
            "32237\n",
            "32238\n",
            "32239\n",
            "32240\n",
            "32241\n",
            "32242\n",
            "32243\n",
            "32244\n",
            "32245\n",
            "32246\n",
            "32247\n",
            "32248\n",
            "32249\n",
            "32250\n",
            "32251\n",
            "32252\n",
            "32253\n",
            "32254\n",
            "32255\n",
            "32256\n",
            "32257\n",
            "32258\n",
            "32259\n",
            "32260\n",
            "32261\n",
            "32262\n",
            "32263\n",
            "32264\n",
            "32265\n",
            "32266\n",
            "32267\n",
            "32268\n",
            "32269\n",
            "32270\n",
            "32271\n",
            "32272\n",
            "32273\n",
            "32274\n",
            "32275\n",
            "32276\n",
            "32277\n",
            "32278\n",
            "32279\n",
            "32280\n",
            "32281\n",
            "32282\n",
            "32283\n",
            "32284\n",
            "32285\n",
            "32286\n",
            "32287\n",
            "32288\n",
            "32289\n",
            "32290\n",
            "32291\n",
            "32292\n",
            "32293\n",
            "32294\n",
            "32295\n",
            "32296\n",
            "32297\n",
            "32298\n",
            "32299\n",
            "32300\n",
            "32301\n",
            "32302\n",
            "32303\n",
            "32304\n",
            "32305\n",
            "32306\n",
            "32307\n",
            "32308\n",
            "32309\n",
            "32310\n",
            "32311\n",
            "32312\n",
            "32313\n",
            "32314\n",
            "32315\n",
            "32316\n",
            "32317\n",
            "32318\n",
            "32319\n",
            "32320\n",
            "32321\n",
            "32322\n",
            "32323\n",
            "32324\n",
            "32325\n",
            "32326\n",
            "32327\n",
            "32328\n",
            "32329\n",
            "32330\n",
            "32331\n",
            "32332\n",
            "32333\n",
            "32334\n",
            "32335\n",
            "32336\n",
            "32337\n",
            "32338\n",
            "32339\n",
            "32340\n",
            "32341\n",
            "32342\n",
            "32343\n",
            "32344\n",
            "32345\n",
            "32346\n",
            "32347\n",
            "32348\n",
            "32349\n",
            "32350\n",
            "32351\n",
            "32352\n",
            "32353\n",
            "32354\n",
            "32355\n",
            "32356\n",
            "32357\n",
            "32358\n",
            "32359\n",
            "32360\n",
            "32361\n",
            "32362\n",
            "32363\n",
            "32364\n",
            "32365\n",
            "32366\n",
            "32367\n",
            "32368\n",
            "32369\n",
            "32370\n",
            "32371\n",
            "32372\n",
            "32373\n",
            "32374\n",
            "32375\n",
            "32376\n",
            "32377\n",
            "32378\n",
            "32379\n",
            "32380\n",
            "32381\n",
            "32382\n",
            "32383\n",
            "32384\n",
            "32385\n",
            "32386\n",
            "32387\n",
            "32388\n",
            "32389\n",
            "32390\n",
            "32391\n",
            "32392\n",
            "32393\n",
            "32394\n",
            "32395\n",
            "32396\n",
            "32397\n",
            "32398\n",
            "32399\n",
            "32400\n",
            "32401\n",
            "32402\n",
            "32403\n",
            "32404\n",
            "32405\n",
            "32406\n",
            "32407\n",
            "32408\n",
            "32409\n",
            "32410\n",
            "32411\n",
            "32412\n",
            "32413\n",
            "32414\n",
            "32415\n",
            "32416\n",
            "32417\n",
            "32418\n",
            "32419\n",
            "32420\n",
            "32421\n",
            "32422\n",
            "32423\n",
            "32424\n",
            "32425\n",
            "32426\n",
            "32427\n",
            "32428\n",
            "32429\n",
            "32430\n",
            "32431\n",
            "32432\n",
            "32433\n",
            "32434\n",
            "32435\n",
            "32436\n",
            "32437\n",
            "32438\n",
            "32439\n",
            "32440\n",
            "32441\n",
            "32442\n",
            "32443\n",
            "32444\n",
            "32445\n",
            "32446\n",
            "32447\n",
            "32448\n",
            "32449\n",
            "32450\n",
            "32451\n",
            "32452\n",
            "32453\n",
            "32454\n",
            "32455\n",
            "32456\n",
            "32457\n",
            "32458\n",
            "32459\n",
            "32460\n",
            "32461\n",
            "32462\n",
            "32463\n",
            "32464\n",
            "32465\n",
            "32466\n",
            "32467\n",
            "32468\n",
            "32469\n",
            "32470\n",
            "32471\n",
            "32472\n",
            "32473\n",
            "32474\n",
            "32475\n",
            "32476\n",
            "32477\n",
            "32478\n",
            "32479\n",
            "32480\n",
            "32481\n",
            "32482\n",
            "32483\n",
            "32484\n",
            "32485\n",
            "32486\n",
            "32487\n",
            "32488\n",
            "32489\n",
            "32490\n",
            "32491\n",
            "32492\n",
            "32493\n",
            "32494\n",
            "32495\n",
            "32496\n",
            "32497\n",
            "32498\n",
            "32499\n",
            "32500\n",
            "32501\n",
            "32502\n",
            "32503\n",
            "32504\n",
            "32505\n",
            "32506\n",
            "32507\n",
            "32508\n",
            "32509\n",
            "32510\n",
            "32511\n",
            "32512\n",
            "32513\n",
            "32514\n",
            "32515\n",
            "32516\n",
            "32517\n",
            "32518\n",
            "32519\n",
            "32520\n",
            "32521\n",
            "32522\n",
            "32523\n",
            "32524\n",
            "32525\n",
            "32526\n",
            "32527\n",
            "32528\n",
            "32529\n",
            "32530\n",
            "32531\n",
            "32532\n",
            "32533\n",
            "32534\n",
            "32535\n",
            "32536\n",
            "32537\n",
            "32538\n",
            "32539\n",
            "32540\n",
            "32541\n",
            "32542\n",
            "32543\n",
            "32544\n",
            "32545\n",
            "32546\n",
            "32547\n",
            "32548\n",
            "32549\n",
            "32550\n",
            "32551\n",
            "32552\n",
            "32553\n",
            "32554\n",
            "32555\n",
            "32556\n",
            "32557\n",
            "32558\n",
            "32559\n",
            "32560\n",
            "32561\n",
            "32562\n",
            "32563\n",
            "32564\n",
            "32565\n",
            "32566\n",
            "32567\n",
            "32568\n",
            "32569\n",
            "32570\n",
            "32571\n",
            "32572\n",
            "32573\n",
            "32574\n",
            "32575\n",
            "32576\n",
            "32577\n",
            "32578\n",
            "32579\n",
            "32580\n",
            "32581\n",
            "32582\n",
            "32583\n",
            "32584\n",
            "32585\n",
            "32586\n",
            "32587\n",
            "32588\n",
            "32589\n",
            "32590\n",
            "32591\n",
            "32592\n",
            "32593\n",
            "32594\n",
            "32595\n",
            "32596\n",
            "32597\n",
            "32598\n",
            "32599\n",
            "32600\n",
            "32601\n",
            "32602\n",
            "32603\n",
            "32604\n",
            "32605\n",
            "32606\n",
            "32607\n",
            "32608\n",
            "32609\n",
            "32610\n",
            "32611\n",
            "32612\n",
            "32613\n",
            "32614\n",
            "32615\n",
            "32616\n",
            "32617\n",
            "32618\n",
            "32619\n",
            "32620\n",
            "32621\n",
            "32622\n",
            "32623\n",
            "32624\n",
            "32625\n",
            "32626\n",
            "32627\n",
            "32628\n",
            "32629\n",
            "32630\n",
            "32631\n",
            "32632\n",
            "32633\n",
            "32634\n",
            "32635\n",
            "32636\n",
            "32637\n",
            "32638\n",
            "32639\n",
            "32640\n",
            "32641\n",
            "32642\n",
            "32643\n",
            "32644\n",
            "32645\n",
            "32646\n",
            "32647\n",
            "32648\n",
            "32649\n",
            "32650\n",
            "32651\n",
            "32652\n",
            "32653\n",
            "32654\n",
            "32655\n",
            "32656\n",
            "32657\n",
            "32658\n",
            "32659\n",
            "32660\n",
            "32661\n",
            "32662\n",
            "32663\n",
            "32664\n",
            "32665\n",
            "32666\n",
            "32667\n",
            "32668\n",
            "32669\n",
            "32670\n",
            "32671\n",
            "32672\n",
            "32673\n",
            "32674\n",
            "32675\n",
            "32676\n",
            "32677\n",
            "32678\n",
            "32679\n",
            "32680\n",
            "32681\n",
            "32682\n",
            "32683\n",
            "32684\n",
            "32685\n",
            "32686\n",
            "32687\n",
            "32688\n",
            "32689\n",
            "32690\n",
            "32691\n",
            "32692\n",
            "32693\n",
            "32694\n",
            "32695\n",
            "32696\n",
            "32697\n",
            "32698\n",
            "32699\n",
            "32700\n",
            "32701\n",
            "32702\n",
            "32703\n",
            "32704\n",
            "32705\n",
            "32706\n",
            "32707\n",
            "32708\n",
            "32709\n",
            "32710\n",
            "32711\n",
            "32712\n",
            "32713\n",
            "32714\n",
            "32715\n",
            "32716\n",
            "32717\n",
            "32718\n",
            "32719\n",
            "32720\n",
            "32721\n",
            "32722\n",
            "32723\n",
            "32724\n",
            "32725\n",
            "32726\n",
            "32727\n",
            "32728\n",
            "32729\n",
            "32730\n",
            "32731\n",
            "32732\n",
            "32733\n",
            "32734\n",
            "32735\n",
            "32736\n",
            "32737\n",
            "32738\n",
            "32739\n",
            "32740\n",
            "32741\n",
            "32742\n",
            "32743\n",
            "32744\n",
            "32745\n",
            "32746\n",
            "32747\n",
            "32748\n",
            "32749\n",
            "32750\n",
            "32751\n",
            "32752\n",
            "32753\n",
            "32754\n",
            "32755\n",
            "32756\n",
            "32757\n",
            "32758\n",
            "32759\n",
            "32760\n",
            "32761\n",
            "32762\n",
            "32763\n",
            "32764\n",
            "32765\n",
            "32766\n",
            "32767\n",
            "32768\n",
            "32769\n",
            "32770\n",
            "32771\n",
            "32772\n",
            "32773\n",
            "32774\n",
            "32775\n",
            "32776\n",
            "32777\n",
            "32778\n",
            "32779\n",
            "32780\n",
            "32781\n",
            "32782\n",
            "32783\n",
            "32784\n",
            "32785\n",
            "32786\n",
            "32787\n",
            "32788\n",
            "32789\n",
            "32790\n",
            "32791\n",
            "32792\n",
            "32793\n",
            "32794\n",
            "32795\n",
            "32796\n",
            "32797\n",
            "32798\n",
            "32799\n",
            "32800\n",
            "32801\n",
            "32802\n",
            "32803\n",
            "32804\n",
            "32805\n",
            "32806\n",
            "32807\n",
            "32808\n",
            "32809\n",
            "32810\n",
            "32811\n",
            "32812\n",
            "32813\n",
            "32814\n",
            "32815\n",
            "32816\n",
            "32817\n",
            "32818\n",
            "32819\n",
            "32820\n",
            "32821\n",
            "32822\n",
            "32823\n",
            "32824\n",
            "32825\n",
            "32826\n",
            "32827\n",
            "32828\n",
            "32829\n",
            "32830\n",
            "32831\n",
            "32832\n",
            "32833\n",
            "32834\n",
            "32835\n",
            "32836\n",
            "32837\n",
            "32838\n",
            "32839\n",
            "32840\n",
            "32841\n",
            "32842\n",
            "32843\n",
            "32844\n",
            "32845\n",
            "32846\n",
            "32847\n",
            "32848\n",
            "32849\n",
            "32850\n",
            "32851\n",
            "32852\n",
            "32853\n",
            "32854\n",
            "32855\n",
            "32856\n",
            "32857\n",
            "32858\n",
            "32859\n",
            "32860\n",
            "32861\n",
            "32862\n",
            "32863\n",
            "32864\n",
            "32865\n",
            "32866\n",
            "32867\n",
            "32868\n",
            "32869\n",
            "32870\n",
            "32871\n",
            "32872\n",
            "32873\n",
            "32874\n",
            "32875\n",
            "32876\n",
            "32877\n",
            "32878\n",
            "32879\n",
            "32880\n",
            "32881\n",
            "32882\n",
            "32883\n",
            "32884\n",
            "32885\n",
            "32886\n",
            "32887\n",
            "32888\n",
            "32889\n",
            "32890\n",
            "32891\n",
            "32892\n",
            "32893\n",
            "32894\n",
            "32895\n",
            "32896\n",
            "32897\n",
            "32898\n",
            "32899\n",
            "32900\n",
            "32901\n",
            "32902\n",
            "32903\n",
            "32904\n",
            "32905\n",
            "32906\n",
            "32907\n",
            "32908\n",
            "32909\n",
            "32910\n",
            "32911\n",
            "32912\n",
            "32913\n",
            "32914\n",
            "32915\n",
            "32916\n",
            "32917\n",
            "32918\n",
            "32919\n",
            "32920\n",
            "32921\n",
            "32922\n",
            "32923\n",
            "32924\n",
            "32925\n",
            "32926\n",
            "32927\n",
            "32928\n",
            "32929\n",
            "32930\n",
            "32931\n",
            "32932\n",
            "32933\n",
            "32934\n",
            "32935\n",
            "32936\n",
            "32937\n",
            "32938\n",
            "32939\n",
            "32940\n",
            "32941\n",
            "32942\n",
            "32943\n",
            "32944\n",
            "32945\n",
            "32946\n",
            "32947\n",
            "32948\n",
            "32949\n",
            "32950\n",
            "32951\n",
            "32952\n",
            "32953\n",
            "32954\n",
            "32955\n",
            "32956\n",
            "32957\n",
            "32958\n",
            "32959\n",
            "32960\n",
            "32961\n",
            "32962\n",
            "32963\n",
            "32964\n",
            "32965\n",
            "32966\n",
            "32967\n",
            "32968\n",
            "32969\n",
            "32970\n",
            "32971\n",
            "32972\n",
            "32973\n",
            "32974\n",
            "32975\n",
            "32976\n",
            "32977\n",
            "32978\n",
            "32979\n",
            "32980\n",
            "32981\n",
            "32982\n",
            "32983\n",
            "32984\n",
            "32985\n",
            "32986\n",
            "32987\n",
            "32988\n",
            "32989\n",
            "32990\n",
            "32991\n",
            "32992\n",
            "32993\n",
            "32994\n",
            "32995\n",
            "32996\n",
            "32997\n",
            "32998\n",
            "32999\n",
            "33000\n",
            "33001\n",
            "33002\n",
            "33003\n",
            "33004\n",
            "33005\n",
            "33006\n",
            "33007\n",
            "33008\n",
            "33009\n",
            "33010\n",
            "33011\n",
            "33012\n",
            "33013\n",
            "33014\n",
            "33015\n",
            "33016\n",
            "33017\n",
            "33018\n",
            "33019\n",
            "33020\n",
            "33021\n",
            "33022\n",
            "33023\n",
            "33024\n",
            "33025\n",
            "33026\n",
            "33027\n",
            "33028\n",
            "33029\n",
            "33030\n",
            "33031\n",
            "33032\n",
            "33033\n",
            "33034\n",
            "33035\n",
            "33036\n",
            "33037\n",
            "33038\n",
            "33039\n",
            "33040\n",
            "33041\n",
            "33042\n",
            "33043\n",
            "33044\n",
            "33045\n",
            "33046\n",
            "33047\n",
            "33048\n",
            "33049\n",
            "33050\n",
            "33051\n",
            "33052\n",
            "33053\n",
            "33054\n",
            "33055\n",
            "33056\n",
            "33057\n",
            "33058\n",
            "33059\n",
            "33060\n",
            "33061\n",
            "33062\n",
            "33063\n",
            "33064\n",
            "33065\n",
            "33066\n",
            "33067\n",
            "33068\n",
            "33069\n",
            "33070\n",
            "33071\n",
            "33072\n",
            "33073\n",
            "33074\n",
            "33075\n",
            "33076\n",
            "33077\n",
            "33078\n",
            "33079\n",
            "33080\n",
            "33081\n",
            "33082\n",
            "33083\n",
            "33084\n",
            "33085\n",
            "33086\n",
            "33087\n",
            "33088\n",
            "33089\n",
            "33090\n",
            "33091\n",
            "33092\n",
            "33093\n",
            "33094\n",
            "33095\n",
            "33096\n",
            "33097\n",
            "33098\n",
            "33099\n",
            "33100\n",
            "33101\n",
            "33102\n",
            "33103\n",
            "33104\n",
            "33105\n",
            "33106\n",
            "33107\n",
            "33108\n",
            "33109\n",
            "33110\n",
            "33111\n",
            "33112\n",
            "33113\n",
            "33114\n",
            "33115\n",
            "33116\n",
            "33117\n",
            "33118\n",
            "33119\n",
            "33120\n",
            "33121\n",
            "33122\n",
            "33123\n",
            "33124\n",
            "33125\n",
            "33126\n",
            "33127\n",
            "33128\n",
            "33129\n",
            "33130\n",
            "33131\n",
            "33132\n",
            "33133\n",
            "33134\n",
            "33135\n",
            "33136\n",
            "33137\n",
            "33138\n",
            "33139\n",
            "33140\n",
            "33141\n",
            "33142\n",
            "33143\n",
            "33144\n",
            "33145\n",
            "33146\n",
            "33147\n",
            "33148\n",
            "33149\n",
            "33150\n",
            "33151\n",
            "33152\n",
            "33153\n",
            "33154\n",
            "33155\n",
            "33156\n",
            "33157\n",
            "33158\n",
            "33159\n",
            "33160\n",
            "33161\n",
            "33162\n",
            "33163\n",
            "33164\n",
            "33165\n",
            "33166\n",
            "33167\n",
            "33168\n",
            "33169\n",
            "33170\n",
            "33171\n",
            "33172\n",
            "33173\n",
            "33174\n",
            "33175\n",
            "33176\n",
            "33177\n",
            "33178\n",
            "33179\n",
            "33180\n",
            "33181\n",
            "33182\n",
            "33183\n",
            "33184\n",
            "33185\n",
            "33186\n",
            "33187\n",
            "33188\n",
            "33189\n",
            "33190\n",
            "33191\n",
            "33192\n",
            "33193\n",
            "33194\n",
            "33195\n",
            "33196\n",
            "33197\n",
            "33198\n",
            "33199\n",
            "33200\n",
            "33201\n",
            "33202\n",
            "33203\n",
            "33204\n",
            "33205\n",
            "33206\n",
            "33207\n",
            "33208\n",
            "33209\n",
            "33210\n",
            "33211\n",
            "33212\n",
            "33213\n",
            "33214\n",
            "33215\n",
            "33216\n",
            "33217\n",
            "33218\n",
            "33219\n",
            "33220\n",
            "33221\n",
            "33222\n",
            "33223\n",
            "33224\n",
            "33225\n",
            "33226\n",
            "33227\n",
            "33228\n",
            "33229\n",
            "33230\n",
            "33231\n",
            "33232\n",
            "33233\n",
            "33234\n",
            "33235\n",
            "33236\n",
            "33237\n",
            "33238\n",
            "33239\n",
            "33240\n",
            "33241\n",
            "33242\n",
            "33243\n",
            "33244\n",
            "33245\n",
            "33246\n",
            "33247\n",
            "33248\n",
            "33249\n",
            "33250\n",
            "33251\n",
            "33252\n",
            "33253\n",
            "33254\n",
            "33255\n",
            "33256\n",
            "33257\n",
            "33258\n",
            "33259\n",
            "33260\n",
            "33261\n",
            "33262\n",
            "33263\n",
            "33264\n",
            "33265\n",
            "33266\n",
            "33267\n",
            "33268\n",
            "33269\n",
            "33270\n",
            "33271\n",
            "33272\n",
            "33273\n",
            "33274\n",
            "33275\n",
            "33276\n",
            "33277\n",
            "33278\n",
            "33279\n",
            "33280\n",
            "33281\n",
            "33282\n",
            "33283\n",
            "33284\n",
            "33285\n",
            "33286\n",
            "33287\n",
            "33288\n",
            "33289\n",
            "33290\n",
            "33291\n",
            "33292\n",
            "33293\n",
            "33294\n",
            "33295\n",
            "33296\n",
            "33297\n",
            "33298\n",
            "33299\n",
            "33300\n",
            "33301\n",
            "33302\n",
            "33303\n",
            "33304\n",
            "33305\n",
            "33306\n",
            "33307\n",
            "33308\n",
            "33309\n",
            "33310\n",
            "33311\n",
            "33312\n",
            "33313\n",
            "33314\n",
            "33315\n",
            "33316\n",
            "33317\n",
            "33318\n",
            "33319\n",
            "33320\n",
            "33321\n",
            "33322\n",
            "33323\n",
            "33324\n",
            "33325\n",
            "33326\n",
            "33327\n",
            "33328\n",
            "33329\n",
            "33330\n",
            "33331\n",
            "33332\n",
            "33333\n",
            "33334\n",
            "33335\n",
            "33336\n",
            "33337\n",
            "33338\n",
            "33339\n",
            "33340\n",
            "33341\n",
            "33342\n",
            "33343\n",
            "33344\n",
            "33345\n",
            "33346\n",
            "33347\n",
            "33348\n",
            "33349\n",
            "33350\n",
            "33351\n",
            "33352\n",
            "33353\n",
            "33354\n",
            "33355\n",
            "33356\n",
            "33357\n",
            "33358\n",
            "33359\n",
            "33360\n",
            "33361\n",
            "33362\n",
            "33363\n",
            "33364\n",
            "33365\n",
            "33366\n",
            "33367\n",
            "33368\n",
            "33369\n",
            "33370\n",
            "33371\n",
            "33372\n",
            "33373\n",
            "33374\n",
            "33375\n",
            "33376\n",
            "33377\n",
            "33378\n",
            "33379\n",
            "33380\n",
            "33381\n",
            "33382\n",
            "33383\n",
            "33384\n",
            "33385\n",
            "33386\n",
            "33387\n",
            "33388\n",
            "33389\n",
            "33390\n",
            "33391\n",
            "33392\n",
            "33393\n",
            "33394\n",
            "33395\n",
            "33396\n",
            "33397\n",
            "33398\n",
            "33399\n",
            "33400\n",
            "33401\n",
            "33402\n",
            "33403\n",
            "33404\n",
            "33405\n",
            "33406\n",
            "33407\n",
            "33408\n",
            "33409\n",
            "33410\n",
            "33411\n",
            "33412\n",
            "33413\n",
            "33414\n",
            "33415\n",
            "33416\n",
            "33417\n",
            "33418\n",
            "33419\n",
            "33420\n",
            "33421\n",
            "33422\n",
            "33423\n",
            "33424\n",
            "33425\n",
            "33426\n",
            "33427\n",
            "33428\n",
            "33429\n",
            "33430\n",
            "33431\n",
            "33432\n",
            "33433\n",
            "33434\n",
            "33435\n",
            "33436\n",
            "33437\n",
            "33438\n",
            "33439\n",
            "33440\n",
            "33441\n",
            "33442\n",
            "33443\n",
            "33444\n",
            "33445\n",
            "33446\n",
            "33447\n",
            "33448\n",
            "33449\n",
            "33450\n",
            "33451\n",
            "33452\n",
            "33453\n",
            "33454\n",
            "33455\n",
            "33456\n",
            "33457\n",
            "33458\n",
            "33459\n",
            "33460\n",
            "33461\n",
            "33462\n",
            "33463\n",
            "33464\n",
            "33465\n",
            "33466\n",
            "33467\n",
            "33468\n",
            "33469\n",
            "33470\n",
            "33471\n",
            "33472\n",
            "33473\n",
            "33474\n",
            "33475\n",
            "33476\n",
            "33477\n",
            "33478\n",
            "33479\n",
            "33480\n",
            "33481\n",
            "33482\n",
            "33483\n",
            "33484\n",
            "33485\n",
            "33486\n",
            "33487\n",
            "33488\n",
            "33489\n",
            "33490\n",
            "33491\n",
            "33492\n",
            "33493\n",
            "33494\n",
            "33495\n",
            "33496\n",
            "33497\n",
            "33498\n",
            "33499\n",
            "33500\n",
            "33501\n",
            "33502\n",
            "33503\n",
            "33504\n",
            "33505\n",
            "33506\n",
            "33507\n",
            "33508\n",
            "33509\n",
            "33510\n",
            "33511\n",
            "33512\n",
            "33513\n",
            "33514\n",
            "33515\n",
            "33516\n",
            "33517\n",
            "33518\n",
            "33519\n",
            "33520\n",
            "33521\n",
            "33522\n",
            "33523\n",
            "33524\n",
            "33525\n",
            "33526\n",
            "33527\n",
            "33528\n",
            "33529\n",
            "33530\n",
            "33531\n",
            "33532\n",
            "33533\n",
            "33534\n",
            "33535\n",
            "33536\n",
            "33537\n",
            "33538\n",
            "33539\n",
            "33540\n",
            "33541\n",
            "33542\n",
            "33543\n",
            "33544\n",
            "33545\n",
            "33546\n",
            "33547\n",
            "33548\n",
            "33549\n",
            "33550\n",
            "33551\n",
            "33552\n",
            "33553\n",
            "33554\n",
            "33555\n",
            "33556\n",
            "33557\n",
            "33558\n",
            "33559\n",
            "33560\n",
            "33561\n",
            "33562\n",
            "33563\n",
            "33564\n",
            "33565\n",
            "33566\n",
            "33567\n",
            "33568\n",
            "33569\n",
            "33570\n",
            "33571\n",
            "33572\n",
            "33573\n",
            "33574\n",
            "33575\n",
            "33576\n",
            "33577\n",
            "33578\n",
            "33579\n",
            "33580\n",
            "33581\n",
            "33582\n",
            "33583\n",
            "33584\n",
            "33585\n",
            "33586\n",
            "33587\n",
            "33588\n",
            "33589\n",
            "33590\n",
            "33591\n",
            "33592\n",
            "33593\n",
            "33594\n",
            "33595\n",
            "33596\n",
            "33597\n",
            "33598\n",
            "33599\n",
            "33600\n",
            "33601\n",
            "33602\n",
            "33603\n",
            "33604\n",
            "33605\n",
            "33606\n",
            "33607\n",
            "33608\n",
            "33609\n",
            "33610\n",
            "33611\n",
            "33612\n",
            "33613\n",
            "33614\n",
            "33615\n",
            "33616\n",
            "33617\n",
            "33618\n",
            "33619\n",
            "33620\n",
            "33621\n",
            "33622\n",
            "33623\n",
            "33624\n",
            "33625\n",
            "33626\n",
            "33627\n",
            "33628\n",
            "33629\n",
            "33630\n",
            "33631\n",
            "33632\n",
            "33633\n",
            "33634\n",
            "33635\n",
            "33636\n",
            "33637\n",
            "33638\n",
            "33639\n",
            "33640\n",
            "33641\n",
            "33642\n",
            "33643\n",
            "33644\n",
            "33645\n",
            "33646\n",
            "33647\n",
            "33648\n",
            "33649\n",
            "33650\n",
            "33651\n",
            "33652\n",
            "33653\n",
            "33654\n",
            "33655\n",
            "33656\n",
            "33657\n",
            "33658\n",
            "33659\n",
            "33660\n",
            "33661\n",
            "33662\n",
            "33663\n",
            "33664\n",
            "33665\n",
            "33666\n",
            "33667\n",
            "33668\n",
            "33669\n",
            "33670\n",
            "33671\n",
            "33672\n",
            "33673\n",
            "33674\n",
            "33675\n",
            "33676\n",
            "33677\n",
            "33678\n",
            "33679\n",
            "33680\n",
            "33681\n",
            "33682\n",
            "33683\n",
            "33684\n",
            "33685\n",
            "33686\n",
            "33687\n",
            "33688\n",
            "33689\n",
            "33690\n",
            "33691\n",
            "33692\n",
            "33693\n",
            "33694\n",
            "33695\n",
            "33696\n",
            "33697\n",
            "33698\n",
            "33699\n",
            "33700\n",
            "33701\n",
            "33702\n",
            "33703\n",
            "33704\n",
            "33705\n",
            "33706\n",
            "33707\n",
            "33708\n",
            "33709\n",
            "33710\n",
            "33711\n",
            "33712\n",
            "33713\n",
            "33714\n",
            "33715\n",
            "33716\n",
            "33717\n",
            "33718\n",
            "33719\n",
            "33720\n",
            "33721\n",
            "33722\n",
            "33723\n",
            "33724\n",
            "33725\n",
            "33726\n",
            "33727\n",
            "33728\n",
            "33729\n",
            "33730\n",
            "33731\n",
            "33732\n",
            "33733\n",
            "33734\n",
            "33735\n",
            "33736\n",
            "33737\n",
            "33738\n",
            "33739\n",
            "33740\n",
            "33741\n",
            "33742\n",
            "33743\n",
            "33744\n",
            "33745\n",
            "33746\n",
            "33747\n",
            "33748\n",
            "33749\n",
            "33750\n",
            "33751\n",
            "33752\n",
            "33753\n",
            "33754\n",
            "33755\n",
            "33756\n",
            "33757\n",
            "33758\n",
            "33759\n",
            "33760\n",
            "33761\n",
            "33762\n",
            "33763\n",
            "33764\n",
            "33765\n",
            "33766\n",
            "33767\n",
            "33768\n",
            "33769\n",
            "33770\n",
            "33771\n",
            "33772\n",
            "33773\n",
            "33774\n",
            "33775\n",
            "33776\n",
            "33777\n",
            "33778\n",
            "33779\n",
            "33780\n",
            "33781\n",
            "33782\n",
            "33783\n",
            "33784\n",
            "33785\n",
            "33786\n",
            "33787\n",
            "33788\n",
            "33789\n",
            "33790\n",
            "33791\n",
            "33792\n",
            "33793\n",
            "33794\n",
            "33795\n",
            "33796\n",
            "33797\n",
            "33798\n",
            "33799\n",
            "33800\n",
            "33801\n",
            "33802\n",
            "33803\n",
            "33804\n",
            "33805\n",
            "33806\n",
            "33807\n",
            "33808\n",
            "33809\n",
            "33810\n",
            "33811\n",
            "33812\n",
            "33813\n",
            "33814\n",
            "33815\n",
            "33816\n",
            "33817\n",
            "33818\n",
            "33819\n",
            "33820\n",
            "33821\n",
            "33822\n",
            "33823\n",
            "33824\n",
            "33825\n",
            "33826\n",
            "33827\n",
            "33828\n",
            "33829\n",
            "33830\n",
            "33831\n",
            "33832\n",
            "33833\n",
            "33834\n",
            "33835\n",
            "33836\n",
            "33837\n",
            "33838\n",
            "33839\n",
            "33840\n",
            "33841\n",
            "33842\n",
            "33843\n",
            "33844\n",
            "33845\n",
            "33846\n",
            "33847\n",
            "33848\n",
            "33849\n",
            "33850\n",
            "33851\n",
            "33852\n",
            "33853\n",
            "33854\n",
            "33855\n",
            "33856\n",
            "33857\n",
            "33858\n",
            "33859\n",
            "33860\n",
            "33861\n",
            "33862\n",
            "33863\n",
            "33864\n",
            "33865\n",
            "33866\n",
            "33867\n",
            "33868\n",
            "33869\n",
            "33870\n",
            "33871\n",
            "33872\n",
            "33873\n",
            "33874\n",
            "33875\n",
            "33876\n",
            "33877\n",
            "33878\n",
            "33879\n",
            "33880\n",
            "33881\n",
            "33882\n",
            "33883\n",
            "33884\n",
            "33885\n",
            "33886\n",
            "33887\n",
            "33888\n",
            "33889\n",
            "33890\n",
            "33891\n",
            "33892\n",
            "33893\n",
            "33894\n",
            "33895\n",
            "33896\n",
            "33897\n",
            "33898\n",
            "33899\n",
            "33900\n",
            "33901\n",
            "33902\n",
            "33903\n",
            "33904\n",
            "33905\n",
            "33906\n",
            "33907\n",
            "33908\n",
            "33909\n",
            "33910\n",
            "33911\n",
            "33912\n",
            "33913\n",
            "33914\n",
            "33915\n",
            "33916\n",
            "33917\n",
            "33918\n",
            "33919\n",
            "33920\n",
            "33921\n",
            "33922\n",
            "33923\n",
            "33924\n",
            "33925\n",
            "33926\n",
            "33927\n",
            "33928\n",
            "33929\n",
            "33930\n",
            "33931\n",
            "33932\n",
            "33933\n",
            "33934\n",
            "33935\n",
            "33936\n",
            "33937\n",
            "33938\n",
            "33939\n",
            "33940\n",
            "33941\n",
            "33942\n",
            "33943\n",
            "33944\n",
            "33945\n",
            "33946\n",
            "33947\n",
            "33948\n",
            "33949\n",
            "33950\n",
            "33951\n",
            "33952\n",
            "33953\n",
            "33954\n",
            "33955\n",
            "33956\n",
            "33957\n",
            "33958\n",
            "33959\n",
            "33960\n",
            "33961\n",
            "33962\n",
            "33963\n",
            "33964\n",
            "33965\n",
            "33966\n",
            "33967\n",
            "33968\n",
            "33969\n",
            "33970\n",
            "33971\n",
            "33972\n",
            "33973\n",
            "33974\n",
            "33975\n",
            "33976\n",
            "33977\n",
            "33978\n",
            "33979\n",
            "33980\n",
            "33981\n",
            "33982\n",
            "33983\n",
            "33984\n",
            "33985\n",
            "33986\n",
            "33987\n",
            "33988\n",
            "33989\n",
            "33990\n",
            "33991\n",
            "33992\n",
            "33993\n",
            "33994\n",
            "33995\n",
            "33996\n",
            "33997\n",
            "33998\n",
            "33999\n",
            "34000\n",
            "34001\n",
            "34002\n",
            "34003\n",
            "34004\n",
            "34005\n",
            "34006\n",
            "34007\n",
            "34008\n",
            "34009\n",
            "34010\n",
            "34011\n",
            "34012\n",
            "34013\n",
            "34014\n",
            "34015\n",
            "34016\n",
            "34017\n",
            "34018\n",
            "34019\n",
            "34020\n",
            "34021\n",
            "34022\n",
            "34023\n",
            "34024\n",
            "34025\n",
            "34026\n",
            "34027\n",
            "34028\n",
            "34029\n",
            "34030\n",
            "34031\n",
            "34032\n",
            "34033\n",
            "34034\n",
            "34035\n",
            "34036\n",
            "34037\n",
            "34038\n",
            "34039\n",
            "34040\n",
            "34041\n",
            "34042\n",
            "34043\n",
            "34044\n",
            "34045\n",
            "34046\n",
            "34047\n",
            "34048\n",
            "34049\n",
            "34050\n",
            "34051\n",
            "34052\n",
            "34053\n",
            "34054\n",
            "34055\n",
            "34056\n",
            "34057\n",
            "34058\n",
            "34059\n",
            "34060\n",
            "34061\n",
            "34062\n",
            "34063\n",
            "34064\n",
            "34065\n",
            "34066\n",
            "34067\n",
            "34068\n",
            "34069\n",
            "34070\n",
            "34071\n",
            "34072\n",
            "34073\n",
            "34074\n",
            "34075\n",
            "34076\n",
            "34077\n",
            "34078\n",
            "34079\n",
            "34080\n",
            "34081\n",
            "34082\n",
            "34083\n",
            "34084\n",
            "34085\n",
            "34086\n",
            "34087\n",
            "34088\n",
            "34089\n",
            "34090\n",
            "34091\n",
            "34092\n",
            "34093\n",
            "34094\n",
            "34095\n",
            "34096\n",
            "34097\n",
            "34098\n",
            "34099\n",
            "34100\n",
            "34101\n",
            "34102\n",
            "34103\n",
            "34104\n",
            "34105\n",
            "34106\n",
            "34107\n",
            "34108\n",
            "34109\n",
            "34110\n",
            "34111\n",
            "34112\n",
            "34113\n",
            "34114\n",
            "34115\n",
            "34116\n",
            "34117\n",
            "34118\n",
            "34119\n",
            "34120\n",
            "34121\n",
            "34122\n",
            "34123\n",
            "34124\n",
            "34125\n",
            "34126\n",
            "34127\n",
            "34128\n",
            "34129\n",
            "34130\n",
            "34131\n",
            "34132\n",
            "34133\n",
            "34134\n",
            "34135\n",
            "34136\n",
            "34137\n",
            "34138\n",
            "34139\n",
            "34140\n",
            "34141\n",
            "34142\n",
            "34143\n",
            "34144\n",
            "34145\n",
            "34146\n",
            "34147\n",
            "34148\n",
            "34149\n",
            "34150\n",
            "34151\n",
            "34152\n",
            "34153\n",
            "34154\n",
            "34155\n",
            "34156\n",
            "34157\n",
            "34158\n",
            "34159\n",
            "34160\n",
            "34161\n",
            "34162\n",
            "34163\n",
            "34164\n",
            "34165\n",
            "34166\n",
            "34167\n",
            "34168\n",
            "34169\n",
            "34170\n",
            "34171\n",
            "34172\n",
            "34173\n",
            "34174\n",
            "34175\n",
            "34176\n",
            "34177\n",
            "34178\n",
            "34179\n",
            "34180\n",
            "34181\n",
            "34182\n",
            "34183\n",
            "34184\n",
            "34185\n",
            "34186\n",
            "34187\n",
            "34188\n",
            "34189\n",
            "34190\n",
            "34191\n",
            "34192\n",
            "34193\n",
            "34194\n",
            "34195\n",
            "34196\n",
            "34197\n",
            "34198\n",
            "34199\n",
            "34200\n",
            "34201\n",
            "34202\n",
            "34203\n",
            "34204\n",
            "34205\n",
            "34206\n",
            "34207\n",
            "34208\n",
            "34209\n",
            "34210\n",
            "34211\n",
            "34212\n",
            "34213\n",
            "34214\n",
            "34215\n",
            "34216\n",
            "34217\n",
            "34218\n",
            "34219\n",
            "34220\n",
            "34221\n",
            "34222\n",
            "34223\n",
            "34224\n",
            "34225\n",
            "34226\n",
            "34227\n",
            "34228\n",
            "34229\n",
            "34230\n",
            "34231\n",
            "34232\n",
            "34233\n",
            "34234\n",
            "34235\n",
            "34236\n",
            "34237\n",
            "34238\n",
            "34239\n",
            "34240\n",
            "34241\n",
            "34242\n",
            "34243\n",
            "34244\n",
            "34245\n",
            "34246\n",
            "34247\n",
            "34248\n",
            "34249\n",
            "34250\n",
            "34251\n",
            "34252\n",
            "34253\n",
            "34254\n",
            "34255\n",
            "34256\n",
            "34257\n",
            "34258\n",
            "34259\n",
            "34260\n",
            "34261\n",
            "34262\n",
            "34263\n",
            "34264\n",
            "34265\n",
            "34266\n",
            "34267\n",
            "34268\n",
            "34269\n",
            "34270\n",
            "34271\n",
            "34272\n",
            "34273\n",
            "34274\n",
            "34275\n",
            "34276\n",
            "34277\n",
            "34278\n",
            "34279\n",
            "34280\n",
            "34281\n",
            "34282\n",
            "34283\n",
            "34284\n",
            "34285\n",
            "34286\n",
            "34287\n",
            "34288\n",
            "34289\n",
            "34290\n",
            "34291\n",
            "34292\n",
            "34293\n",
            "34294\n",
            "34295\n",
            "34296\n",
            "34297\n",
            "34298\n",
            "34299\n",
            "34300\n",
            "34301\n",
            "34302\n",
            "34303\n",
            "34304\n",
            "34305\n",
            "34306\n",
            "34307\n",
            "34308\n",
            "34309\n",
            "34310\n",
            "34311\n",
            "34312\n",
            "34313\n",
            "34314\n",
            "34315\n",
            "34316\n",
            "34317\n",
            "34318\n",
            "34319\n",
            "34320\n",
            "34321\n",
            "34322\n",
            "34323\n",
            "34324\n",
            "34325\n",
            "34326\n",
            "34327\n",
            "34328\n",
            "34329\n",
            "34330\n",
            "34331\n",
            "34332\n",
            "34333\n",
            "34334\n",
            "34335\n",
            "34336\n",
            "34337\n",
            "34338\n",
            "34339\n",
            "34340\n",
            "34341\n",
            "34342\n",
            "34343\n",
            "34344\n",
            "34345\n",
            "34346\n",
            "34347\n",
            "34348\n",
            "34349\n",
            "34350\n",
            "34351\n",
            "34352\n",
            "34353\n",
            "34354\n",
            "34355\n",
            "34356\n",
            "34357\n",
            "34358\n",
            "34359\n",
            "34360\n",
            "34361\n",
            "34362\n",
            "34363\n",
            "34364\n",
            "34365\n",
            "34366\n",
            "34367\n",
            "34368\n",
            "34369\n",
            "34370\n",
            "34371\n",
            "34372\n",
            "34373\n",
            "34374\n",
            "34375\n",
            "34376\n",
            "34377\n",
            "34378\n",
            "34379\n",
            "34380\n",
            "34381\n",
            "34382\n",
            "34383\n",
            "34384\n",
            "34385\n",
            "34386\n",
            "34387\n",
            "34388\n",
            "34389\n",
            "34390\n",
            "34391\n",
            "34392\n",
            "34393\n",
            "34394\n",
            "34395\n",
            "34396\n",
            "34397\n",
            "34398\n",
            "34399\n",
            "34400\n",
            "34401\n",
            "34402\n",
            "34403\n",
            "34404\n",
            "34405\n",
            "34406\n",
            "34407\n",
            "34408\n",
            "34409\n",
            "34410\n",
            "34411\n",
            "34412\n",
            "34413\n",
            "34414\n",
            "34415\n",
            "34416\n",
            "34417\n",
            "34418\n",
            "34419\n",
            "34420\n",
            "34421\n",
            "34422\n",
            "34423\n",
            "34424\n",
            "34425\n",
            "34426\n",
            "34427\n",
            "34428\n",
            "34429\n",
            "34430\n",
            "34431\n",
            "34432\n",
            "34433\n",
            "34434\n",
            "34435\n",
            "34436\n",
            "34437\n",
            "34438\n",
            "34439\n",
            "34440\n",
            "34441\n",
            "34442\n",
            "34443\n",
            "34444\n",
            "34445\n",
            "34446\n",
            "34447\n",
            "34448\n",
            "34449\n",
            "34450\n",
            "34451\n",
            "34452\n",
            "34453\n",
            "34454\n",
            "34455\n",
            "34456\n",
            "34457\n",
            "34458\n",
            "34459\n",
            "34460\n",
            "34461\n",
            "34462\n",
            "34463\n",
            "34464\n",
            "34465\n",
            "34466\n",
            "34467\n",
            "34468\n",
            "34469\n",
            "34470\n",
            "34471\n",
            "34472\n",
            "34473\n",
            "34474\n",
            "34475\n",
            "34476\n",
            "34477\n",
            "34478\n",
            "34479\n",
            "34480\n",
            "34481\n",
            "34482\n",
            "34483\n",
            "34484\n",
            "34485\n",
            "34486\n",
            "34487\n",
            "34488\n",
            "34489\n",
            "34490\n",
            "34491\n",
            "34492\n",
            "34493\n",
            "34494\n",
            "34495\n",
            "34496\n",
            "34497\n",
            "34498\n",
            "34499\n",
            "34500\n",
            "34501\n",
            "34502\n",
            "34503\n",
            "34504\n",
            "34505\n",
            "34506\n",
            "34507\n",
            "34508\n",
            "34509\n",
            "34510\n",
            "34511\n",
            "34512\n",
            "34513\n",
            "34514\n",
            "34515\n",
            "34516\n",
            "34517\n",
            "34518\n",
            "34519\n",
            "34520\n",
            "34521\n",
            "34522\n",
            "34523\n",
            "34524\n",
            "34525\n",
            "34526\n",
            "34527\n",
            "34528\n",
            "34529\n",
            "34530\n",
            "34531\n",
            "34532\n",
            "34533\n",
            "34534\n",
            "34535\n",
            "34536\n",
            "34537\n",
            "34538\n",
            "34539\n",
            "34540\n",
            "34541\n",
            "34542\n",
            "34543\n",
            "34544\n",
            "34545\n",
            "34546\n",
            "34547\n",
            "34548\n",
            "34549\n",
            "34550\n",
            "34551\n",
            "34552\n",
            "34553\n",
            "34554\n",
            "34555\n",
            "34556\n",
            "34557\n",
            "34558\n",
            "34559\n",
            "34560\n",
            "34561\n",
            "34562\n",
            "34563\n",
            "34564\n",
            "34565\n",
            "34566\n",
            "34567\n",
            "34568\n",
            "34569\n",
            "34570\n",
            "34571\n",
            "34572\n",
            "34573\n",
            "34574\n",
            "34575\n",
            "34576\n",
            "34577\n",
            "34578\n",
            "34579\n",
            "34580\n",
            "34581\n",
            "34582\n",
            "34583\n",
            "34584\n",
            "34585\n",
            "34586\n",
            "34587\n",
            "34588\n",
            "34589\n",
            "34590\n",
            "34591\n",
            "34592\n",
            "34593\n",
            "34594\n",
            "34595\n",
            "34596\n",
            "34597\n",
            "34598\n",
            "34599\n",
            "34600\n",
            "34601\n",
            "34602\n",
            "34603\n",
            "34604\n",
            "34605\n",
            "34606\n",
            "34607\n",
            "34608\n",
            "34609\n",
            "34610\n",
            "34611\n",
            "34612\n",
            "34613\n",
            "34614\n",
            "34615\n",
            "34616\n",
            "34617\n",
            "34618\n",
            "34619\n",
            "34620\n",
            "34621\n",
            "34622\n",
            "34623\n",
            "34624\n",
            "34625\n",
            "34626\n",
            "34627\n",
            "34628\n",
            "34629\n",
            "34630\n",
            "34631\n",
            "34632\n",
            "34633\n",
            "34634\n",
            "34635\n",
            "34636\n",
            "34637\n",
            "34638\n",
            "34639\n",
            "34640\n",
            "34641\n",
            "34642\n",
            "34643\n",
            "34644\n",
            "34645\n",
            "34646\n",
            "34647\n",
            "34648\n",
            "34649\n",
            "34650\n",
            "34651\n",
            "34652\n",
            "34653\n",
            "34654\n",
            "34655\n",
            "34656\n",
            "34657\n",
            "34658\n",
            "34659\n",
            "34660\n",
            "34661\n",
            "34662\n",
            "34663\n",
            "34664\n",
            "34665\n",
            "34666\n",
            "34667\n",
            "34668\n",
            "34669\n",
            "34670\n",
            "34671\n",
            "34672\n",
            "34673\n",
            "34674\n",
            "34675\n",
            "34676\n",
            "34677\n",
            "34678\n",
            "34679\n",
            "34680\n",
            "34681\n",
            "34682\n",
            "34683\n",
            "34684\n",
            "34685\n",
            "34686\n",
            "34687\n",
            "34688\n",
            "34689\n",
            "34690\n",
            "34691\n",
            "34692\n",
            "34693\n",
            "34694\n",
            "34695\n",
            "34696\n",
            "34697\n",
            "34698\n",
            "34699\n",
            "34700\n",
            "34701\n",
            "34702\n",
            "34703\n",
            "34704\n",
            "34705\n",
            "34706\n",
            "34707\n",
            "34708\n",
            "34709\n",
            "34710\n",
            "34711\n",
            "34712\n",
            "34713\n",
            "34714\n",
            "34715\n",
            "34716\n",
            "34717\n",
            "34718\n",
            "34719\n",
            "34720\n",
            "34721\n",
            "34722\n",
            "34723\n",
            "34724\n",
            "34725\n",
            "34726\n",
            "34727\n",
            "34728\n",
            "34729\n",
            "34730\n",
            "34731\n",
            "34732\n",
            "34733\n",
            "34734\n",
            "34735\n",
            "34736\n",
            "34737\n",
            "34738\n",
            "34739\n",
            "34740\n",
            "34741\n",
            "34742\n",
            "34743\n",
            "34744\n",
            "34745\n",
            "34746\n",
            "34747\n",
            "34748\n",
            "34749\n",
            "34750\n",
            "34751\n",
            "34752\n",
            "34753\n",
            "34754\n",
            "34755\n",
            "34756\n",
            "34757\n",
            "34758\n",
            "34759\n",
            "34760\n",
            "34761\n",
            "34762\n",
            "34763\n",
            "34764\n",
            "34765\n",
            "34766\n",
            "34767\n",
            "34768\n",
            "34769\n",
            "34770\n",
            "34771\n",
            "34772\n",
            "34773\n",
            "34774\n",
            "34775\n",
            "34776\n",
            "34777\n",
            "34778\n",
            "34779\n",
            "34780\n",
            "34781\n",
            "34782\n",
            "34783\n",
            "34784\n",
            "34785\n",
            "34786\n",
            "34787\n",
            "34788\n",
            "34789\n",
            "34790\n",
            "34791\n",
            "34792\n",
            "34793\n",
            "34794\n",
            "34795\n",
            "34796\n",
            "34797\n",
            "34798\n",
            "34799\n",
            "34800\n",
            "34801\n",
            "34802\n",
            "34803\n",
            "34804\n",
            "34805\n",
            "34806\n",
            "34807\n",
            "34808\n",
            "34809\n",
            "34810\n",
            "34811\n",
            "34812\n",
            "34813\n",
            "34814\n",
            "34815\n",
            "34816\n",
            "34817\n",
            "34818\n",
            "34819\n",
            "34820\n",
            "34821\n",
            "34822\n",
            "34823\n",
            "34824\n",
            "34825\n",
            "34826\n",
            "34827\n",
            "34828\n",
            "34829\n",
            "34830\n",
            "34831\n",
            "34832\n",
            "34833\n",
            "34834\n",
            "34835\n",
            "34836\n",
            "34837\n",
            "34838\n",
            "34839\n",
            "34840\n",
            "34841\n",
            "34842\n",
            "34843\n",
            "34844\n",
            "34845\n",
            "34846\n",
            "34847\n",
            "34848\n",
            "34849\n",
            "34850\n",
            "34851\n",
            "34852\n",
            "34853\n",
            "34854\n",
            "34855\n",
            "34856\n",
            "34857\n",
            "34858\n",
            "34859\n",
            "34860\n",
            "34861\n",
            "34862\n",
            "34863\n",
            "34864\n",
            "34865\n",
            "34866\n",
            "34867\n",
            "34868\n",
            "34869\n",
            "34870\n",
            "34871\n",
            "34872\n",
            "34873\n",
            "34874\n",
            "34875\n",
            "34876\n",
            "34877\n",
            "34878\n",
            "34879\n",
            "34880\n",
            "34881\n",
            "34882\n",
            "34883\n",
            "34884\n",
            "34885\n",
            "34886\n",
            "34887\n",
            "34888\n",
            "34889\n",
            "34890\n",
            "34891\n",
            "34892\n",
            "34893\n",
            "34894\n",
            "34895\n",
            "34896\n",
            "34897\n",
            "34898\n",
            "34899\n",
            "34900\n",
            "34901\n",
            "34902\n",
            "34903\n",
            "34904\n",
            "34905\n",
            "34906\n",
            "34907\n",
            "34908\n",
            "34909\n",
            "34910\n",
            "34911\n",
            "34912\n",
            "34913\n",
            "34914\n",
            "34915\n",
            "34916\n",
            "34917\n",
            "34918\n",
            "34919\n",
            "34920\n",
            "34921\n",
            "34922\n",
            "34923\n",
            "34924\n",
            "34925\n",
            "34926\n",
            "34927\n",
            "34928\n",
            "34929\n",
            "34930\n",
            "34931\n",
            "34932\n",
            "34933\n",
            "34934\n",
            "34935\n",
            "34936\n",
            "34937\n",
            "34938\n",
            "34939\n",
            "34940\n",
            "34941\n",
            "34942\n",
            "34943\n",
            "34944\n",
            "34945\n",
            "34946\n",
            "34947\n",
            "34948\n",
            "34949\n",
            "34950\n",
            "34951\n",
            "34952\n",
            "34953\n",
            "34954\n",
            "34955\n",
            "34956\n",
            "34957\n",
            "34958\n",
            "34959\n",
            "34960\n",
            "34961\n",
            "34962\n",
            "34963\n",
            "34964\n",
            "34965\n",
            "34966\n",
            "34967\n",
            "34968\n",
            "34969\n",
            "34970\n",
            "34971\n",
            "34972\n",
            "34973\n",
            "34974\n",
            "34975\n",
            "34976\n",
            "34977\n",
            "34978\n",
            "34979\n",
            "34980\n",
            "34981\n",
            "34982\n",
            "34983\n",
            "34984\n",
            "34985\n",
            "34986\n",
            "34987\n",
            "34988\n",
            "34989\n",
            "34990\n",
            "34991\n",
            "34992\n",
            "34993\n",
            "34994\n",
            "34995\n",
            "34996\n",
            "34997\n",
            "34998\n",
            "34999\n",
            "35000\n",
            "35001\n",
            "35002\n",
            "35003\n",
            "35004\n",
            "35005\n",
            "35006\n",
            "35007\n",
            "35008\n",
            "35009\n",
            "35010\n",
            "35011\n",
            "35012\n",
            "35013\n",
            "35014\n",
            "35015\n",
            "35016\n",
            "35017\n",
            "35018\n",
            "35019\n",
            "35020\n",
            "35021\n",
            "35022\n",
            "35023\n",
            "35024\n",
            "35025\n",
            "35026\n",
            "35027\n",
            "35028\n",
            "35029\n",
            "35030\n",
            "35031\n",
            "35032\n",
            "35033\n",
            "35034\n",
            "35035\n",
            "35036\n",
            "35037\n",
            "35038\n",
            "35039\n",
            "35040\n",
            "35041\n",
            "35042\n",
            "35043\n",
            "35044\n",
            "35045\n",
            "35046\n",
            "35047\n",
            "35048\n",
            "35049\n",
            "35050\n",
            "35051\n",
            "35052\n",
            "35053\n",
            "35054\n",
            "35055\n",
            "35056\n",
            "35057\n",
            "35058\n",
            "35059\n",
            "35060\n",
            "35061\n",
            "35062\n",
            "35063\n",
            "35064\n",
            "35065\n",
            "35066\n",
            "35067\n",
            "35068\n",
            "35069\n",
            "35070\n",
            "35071\n",
            "35072\n",
            "35073\n",
            "35074\n",
            "35075\n",
            "35076\n",
            "35077\n",
            "35078\n",
            "35079\n",
            "35080\n",
            "35081\n",
            "35082\n",
            "35083\n",
            "35084\n",
            "35085\n",
            "35086\n",
            "35087\n",
            "35088\n",
            "35089\n",
            "35090\n",
            "35091\n",
            "35092\n",
            "35093\n",
            "35094\n",
            "35095\n",
            "35096\n",
            "35097\n",
            "35098\n",
            "35099\n",
            "35100\n",
            "35101\n",
            "35102\n",
            "35103\n",
            "35104\n",
            "35105\n",
            "35106\n",
            "35107\n",
            "35108\n",
            "35109\n",
            "35110\n",
            "35111\n",
            "35112\n",
            "35113\n",
            "35114\n",
            "35115\n",
            "35116\n",
            "35117\n",
            "35118\n",
            "35119\n",
            "35120\n",
            "35121\n",
            "35122\n",
            "35123\n",
            "35124\n",
            "35125\n",
            "35126\n",
            "35127\n",
            "35128\n",
            "35129\n",
            "35130\n",
            "35131\n",
            "35132\n",
            "35133\n",
            "35134\n",
            "35135\n",
            "35136\n",
            "35137\n",
            "35138\n",
            "35139\n",
            "35140\n",
            "35141\n",
            "35142\n",
            "35143\n",
            "35144\n",
            "35145\n",
            "35146\n",
            "35147\n",
            "35148\n",
            "35149\n",
            "35150\n",
            "35151\n",
            "35152\n",
            "35153\n",
            "35154\n",
            "35155\n",
            "35156\n",
            "35157\n",
            "35158\n",
            "35159\n",
            "35160\n",
            "35161\n",
            "35162\n",
            "35163\n",
            "35164\n",
            "35165\n",
            "35166\n",
            "35167\n",
            "35168\n",
            "35169\n",
            "35170\n",
            "35171\n",
            "35172\n",
            "35173\n",
            "35174\n",
            "35175\n",
            "35176\n",
            "35177\n",
            "35178\n",
            "35179\n",
            "35180\n",
            "35181\n",
            "35182\n",
            "35183\n",
            "35184\n",
            "35185\n",
            "35186\n",
            "35187\n",
            "35188\n",
            "35189\n",
            "35190\n",
            "35191\n",
            "35192\n",
            "35193\n",
            "35194\n",
            "35195\n",
            "35196\n",
            "35197\n",
            "35198\n",
            "35199\n",
            "35200\n",
            "35201\n",
            "35202\n",
            "35203\n",
            "35204\n",
            "35205\n",
            "35206\n",
            "35207\n",
            "35208\n",
            "35209\n",
            "35210\n",
            "35211\n",
            "35212\n",
            "35213\n",
            "35214\n",
            "35215\n",
            "35216\n",
            "35217\n",
            "35218\n",
            "35219\n",
            "35220\n",
            "35221\n",
            "35222\n",
            "35223\n",
            "35224\n",
            "35225\n",
            "35226\n",
            "35227\n",
            "35228\n",
            "35229\n",
            "35230\n",
            "35231\n",
            "35232\n",
            "35233\n",
            "35234\n",
            "35235\n",
            "35236\n",
            "35237\n",
            "35238\n",
            "35239\n",
            "35240\n",
            "35241\n",
            "35242\n",
            "35243\n",
            "35244\n",
            "35245\n",
            "35246\n",
            "35247\n",
            "35248\n",
            "35249\n",
            "35250\n",
            "35251\n",
            "35252\n",
            "35253\n",
            "35254\n",
            "35255\n",
            "35256\n",
            "35257\n",
            "35258\n",
            "35259\n",
            "35260\n",
            "35261\n",
            "35262\n",
            "35263\n",
            "35264\n",
            "35265\n",
            "35266\n",
            "35267\n",
            "35268\n",
            "35269\n",
            "35270\n",
            "35271\n",
            "35272\n",
            "35273\n",
            "35274\n",
            "35275\n",
            "35276\n",
            "35277\n",
            "35278\n",
            "35279\n",
            "35280\n",
            "35281\n",
            "35282\n",
            "35283\n",
            "35284\n",
            "35285\n",
            "35286\n",
            "35287\n",
            "35288\n",
            "35289\n",
            "35290\n",
            "35291\n",
            "35292\n",
            "35293\n",
            "35294\n",
            "35295\n",
            "35296\n",
            "35297\n",
            "35298\n",
            "35299\n",
            "35300\n",
            "35301\n",
            "35302\n",
            "35303\n",
            "35304\n",
            "35305\n",
            "35306\n",
            "35307\n",
            "35308\n",
            "35309\n",
            "35310\n",
            "35311\n",
            "35312\n",
            "35313\n",
            "35314\n",
            "35315\n",
            "35316\n",
            "35317\n",
            "35318\n",
            "35319\n",
            "35320\n",
            "35321\n",
            "35322\n",
            "35323\n",
            "35324\n",
            "35325\n",
            "35326\n",
            "35327\n",
            "35328\n",
            "35329\n",
            "35330\n",
            "35331\n",
            "35332\n",
            "35333\n",
            "35334\n",
            "35335\n",
            "35336\n",
            "35337\n",
            "35338\n",
            "35339\n",
            "35340\n",
            "35341\n",
            "35342\n",
            "35343\n",
            "35344\n",
            "35345\n",
            "35346\n",
            "35347\n",
            "35348\n",
            "35349\n",
            "35350\n",
            "35351\n",
            "35352\n",
            "35353\n",
            "35354\n",
            "35355\n",
            "35356\n",
            "35357\n",
            "35358\n",
            "35359\n",
            "35360\n",
            "35361\n",
            "35362\n",
            "35363\n",
            "35364\n",
            "35365\n",
            "35366\n",
            "35367\n",
            "35368\n",
            "35369\n",
            "35370\n",
            "35371\n",
            "35372\n",
            "35373\n",
            "35374\n",
            "35375\n",
            "35376\n",
            "35377\n",
            "35378\n",
            "35379\n",
            "35380\n",
            "35381\n",
            "35382\n",
            "35383\n",
            "35384\n",
            "35385\n",
            "35386\n",
            "35387\n",
            "35388\n",
            "35389\n",
            "35390\n",
            "35391\n",
            "35392\n",
            "35393\n",
            "35394\n",
            "35395\n",
            "35396\n",
            "35397\n",
            "35398\n",
            "35399\n",
            "35400\n",
            "35401\n",
            "35402\n",
            "35403\n",
            "35404\n",
            "35405\n",
            "35406\n",
            "35407\n",
            "35408\n",
            "35409\n",
            "35410\n",
            "35411\n",
            "35412\n",
            "35413\n",
            "35414\n",
            "35415\n",
            "35416\n",
            "35417\n",
            "35418\n",
            "35419\n",
            "35420\n",
            "35421\n",
            "35422\n",
            "35423\n",
            "35424\n",
            "35425\n",
            "35426\n",
            "35427\n",
            "35428\n",
            "35429\n",
            "35430\n",
            "35431\n",
            "35432\n",
            "35433\n",
            "35434\n",
            "35435\n",
            "35436\n",
            "35437\n",
            "35438\n",
            "35439\n",
            "35440\n",
            "35441\n",
            "35442\n",
            "35443\n",
            "35444\n",
            "35445\n",
            "35446\n",
            "35447\n",
            "35448\n",
            "35449\n",
            "35450\n",
            "35451\n",
            "35452\n",
            "35453\n",
            "35454\n",
            "35455\n",
            "35456\n",
            "35457\n",
            "35458\n",
            "35459\n",
            "35460\n",
            "35461\n",
            "35462\n",
            "35463\n",
            "35464\n",
            "35465\n",
            "35466\n",
            "35467\n",
            "35468\n",
            "35469\n",
            "35470\n",
            "35471\n",
            "35472\n",
            "35473\n",
            "35474\n",
            "35475\n",
            "35476\n",
            "35477\n",
            "35478\n",
            "35479\n",
            "35480\n",
            "35481\n",
            "35482\n",
            "35483\n",
            "35484\n",
            "35485\n",
            "35486\n",
            "35487\n",
            "35488\n",
            "35489\n",
            "35490\n",
            "35491\n",
            "35492\n",
            "35493\n",
            "35494\n",
            "35495\n",
            "35496\n",
            "35497\n",
            "35498\n",
            "35499\n",
            "35500\n",
            "35501\n",
            "35502\n",
            "35503\n",
            "35504\n",
            "35505\n",
            "35506\n",
            "35507\n",
            "35508\n",
            "35509\n",
            "35510\n",
            "35511\n",
            "35512\n",
            "35513\n",
            "35514\n",
            "35515\n",
            "35516\n",
            "35517\n",
            "35518\n",
            "35519\n",
            "35520\n",
            "35521\n",
            "35522\n",
            "35523\n",
            "35524\n",
            "35525\n",
            "35526\n",
            "35527\n",
            "35528\n",
            "35529\n",
            "35530\n",
            "35531\n",
            "35532\n",
            "35533\n",
            "35534\n",
            "35535\n",
            "35536\n",
            "35537\n",
            "35538\n",
            "35539\n",
            "35540\n",
            "35541\n",
            "35542\n",
            "35543\n",
            "35544\n",
            "35545\n",
            "35546\n",
            "35547\n",
            "35548\n",
            "35549\n",
            "35550\n",
            "35551\n",
            "35552\n",
            "35553\n",
            "35554\n",
            "35555\n",
            "35556\n",
            "35557\n",
            "35558\n",
            "35559\n",
            "35560\n",
            "35561\n",
            "35562\n",
            "35563\n",
            "35564\n",
            "35565\n",
            "35566\n",
            "35567\n",
            "35568\n",
            "35569\n",
            "35570\n",
            "35571\n",
            "35572\n",
            "35573\n",
            "35574\n",
            "35575\n",
            "35576\n",
            "35577\n",
            "35578\n",
            "35579\n",
            "35580\n",
            "35581\n",
            "35582\n",
            "35583\n",
            "35584\n",
            "35585\n",
            "35586\n",
            "35587\n",
            "35588\n",
            "35589\n",
            "35590\n",
            "35591\n",
            "35592\n",
            "35593\n",
            "35594\n",
            "35595\n",
            "35596\n",
            "35597\n",
            "35598\n",
            "35599\n",
            "35600\n",
            "35601\n",
            "35602\n",
            "35603\n",
            "35604\n",
            "35605\n",
            "35606\n",
            "35607\n",
            "35608\n",
            "35609\n",
            "35610\n",
            "35611\n",
            "35612\n",
            "35613\n",
            "35614\n",
            "35615\n",
            "35616\n",
            "35617\n",
            "35618\n",
            "35619\n",
            "35620\n",
            "35621\n",
            "35622\n",
            "35623\n",
            "35624\n",
            "35625\n",
            "35626\n",
            "35627\n",
            "35628\n",
            "35629\n",
            "35630\n",
            "35631\n",
            "35632\n",
            "35633\n",
            "35634\n",
            "35635\n",
            "35636\n",
            "35637\n",
            "35638\n",
            "35639\n",
            "35640\n",
            "35641\n",
            "35642\n",
            "35643\n",
            "35644\n",
            "35645\n",
            "35646\n",
            "35647\n",
            "35648\n",
            "35649\n",
            "35650\n",
            "35651\n",
            "35652\n",
            "35653\n",
            "35654\n",
            "35655\n",
            "35656\n",
            "35657\n",
            "35658\n",
            "35659\n",
            "35660\n",
            "35661\n",
            "35662\n",
            "35663\n",
            "35664\n",
            "35665\n",
            "35666\n",
            "35667\n",
            "35668\n",
            "35669\n",
            "35670\n",
            "35671\n",
            "35672\n",
            "35673\n",
            "35674\n",
            "35675\n",
            "35676\n",
            "35677\n",
            "35678\n",
            "35679\n",
            "35680\n",
            "35681\n",
            "35682\n",
            "35683\n",
            "35684\n",
            "35685\n",
            "35686\n",
            "35687\n",
            "35688\n",
            "35689\n",
            "35690\n",
            "35691\n",
            "35692\n",
            "35693\n",
            "35694\n",
            "35695\n",
            "35696\n",
            "35697\n",
            "35698\n",
            "35699\n",
            "35700\n",
            "35701\n",
            "35702\n",
            "35703\n",
            "35704\n",
            "35705\n",
            "35706\n",
            "35707\n",
            "35708\n",
            "35709\n",
            "35710\n",
            "35711\n",
            "35712\n",
            "35713\n",
            "35714\n",
            "35715\n",
            "35716\n",
            "35717\n",
            "35718\n",
            "35719\n",
            "35720\n",
            "35721\n",
            "35722\n",
            "35723\n",
            "35724\n",
            "35725\n",
            "35726\n",
            "35727\n",
            "35728\n",
            "35729\n",
            "35730\n",
            "35731\n",
            "35732\n",
            "35733\n",
            "35734\n",
            "35735\n",
            "35736\n",
            "35737\n",
            "35738\n",
            "35739\n",
            "35740\n",
            "35741\n",
            "35742\n",
            "35743\n",
            "35744\n",
            "35745\n",
            "35746\n",
            "35747\n",
            "35748\n",
            "35749\n",
            "35750\n",
            "35751\n",
            "35752\n",
            "35753\n",
            "35754\n",
            "35755\n",
            "35756\n",
            "35757\n",
            "35758\n",
            "35759\n",
            "35760\n",
            "35761\n",
            "35762\n",
            "35763\n",
            "35764\n",
            "35765\n",
            "35766\n",
            "35767\n",
            "35768\n",
            "35769\n",
            "35770\n",
            "35771\n",
            "35772\n",
            "35773\n",
            "35774\n",
            "35775\n",
            "35776\n",
            "35777\n",
            "35778\n",
            "35779\n",
            "35780\n",
            "35781\n",
            "35782\n",
            "35783\n",
            "35784\n",
            "35785\n",
            "35786\n",
            "35787\n",
            "35788\n",
            "35789\n",
            "35790\n",
            "35791\n",
            "35792\n",
            "35793\n",
            "35794\n",
            "35795\n",
            "35796\n",
            "35797\n",
            "35798\n",
            "35799\n",
            "35800\n",
            "35801\n",
            "35802\n",
            "35803\n",
            "35804\n",
            "35805\n",
            "35806\n",
            "35807\n",
            "35808\n",
            "35809\n",
            "35810\n",
            "35811\n",
            "35812\n",
            "35813\n",
            "35814\n",
            "35815\n",
            "35816\n",
            "35817\n",
            "35818\n",
            "35819\n",
            "35820\n",
            "35821\n",
            "35822\n",
            "35823\n",
            "35824\n",
            "35825\n",
            "35826\n",
            "35827\n",
            "35828\n",
            "35829\n",
            "35830\n",
            "35831\n",
            "35832\n",
            "35833\n",
            "35834\n",
            "35835\n",
            "35836\n",
            "35837\n",
            "35838\n",
            "35839\n",
            "35840\n",
            "35841\n",
            "35842\n",
            "35843\n",
            "35844\n",
            "35845\n",
            "35846\n",
            "35847\n",
            "35848\n",
            "35849\n",
            "35850\n",
            "35851\n",
            "35852\n",
            "35853\n",
            "35854\n",
            "35855\n",
            "35856\n",
            "35857\n",
            "35858\n",
            "35859\n",
            "35860\n",
            "35861\n",
            "35862\n",
            "35863\n",
            "35864\n",
            "35865\n",
            "35866\n",
            "35867\n",
            "35868\n",
            "35869\n",
            "35870\n",
            "35871\n",
            "35872\n",
            "35873\n",
            "35874\n",
            "35875\n",
            "35876\n",
            "35877\n",
            "35878\n",
            "35879\n",
            "35880\n",
            "35881\n",
            "35882\n",
            "35883\n",
            "35884\n",
            "35885\n",
            "35886\n",
            "35887\n",
            "35888\n",
            "35889\n",
            "35890\n",
            "35891\n",
            "35892\n",
            "35893\n",
            "35894\n",
            "35895\n",
            "35896\n",
            "35897\n",
            "35898\n",
            "35899\n",
            "35900\n",
            "35901\n",
            "35902\n",
            "35903\n",
            "35904\n",
            "35905\n",
            "35906\n",
            "35907\n",
            "35908\n",
            "35909\n",
            "35910\n",
            "35911\n",
            "35912\n",
            "35913\n",
            "35914\n",
            "35915\n",
            "35916\n",
            "35917\n",
            "35918\n",
            "35919\n",
            "35920\n",
            "35921\n",
            "35922\n",
            "35923\n",
            "35924\n",
            "35925\n",
            "35926\n",
            "35927\n",
            "35928\n",
            "35929\n",
            "35930\n",
            "35931\n",
            "35932\n",
            "35933\n",
            "35934\n",
            "35935\n",
            "35936\n",
            "35937\n",
            "35938\n",
            "35939\n",
            "35940\n",
            "35941\n",
            "35942\n",
            "35943\n",
            "35944\n",
            "35945\n",
            "35946\n",
            "35947\n",
            "35948\n",
            "35949\n",
            "35950\n",
            "35951\n",
            "35952\n",
            "35953\n",
            "35954\n",
            "35955\n",
            "35956\n",
            "35957\n",
            "35958\n",
            "35959\n",
            "35960\n",
            "35961\n",
            "35962\n",
            "35963\n",
            "35964\n",
            "35965\n",
            "35966\n",
            "35967\n",
            "35968\n",
            "35969\n",
            "35970\n",
            "35971\n",
            "35972\n",
            "35973\n",
            "35974\n",
            "35975\n",
            "35976\n",
            "35977\n",
            "35978\n",
            "35979\n",
            "35980\n",
            "35981\n",
            "35982\n",
            "35983\n",
            "35984\n",
            "35985\n",
            "35986\n",
            "35987\n",
            "35988\n",
            "35989\n",
            "35990\n",
            "35991\n",
            "35992\n",
            "35993\n",
            "35994\n",
            "35995\n",
            "35996\n",
            "35997\n",
            "35998\n",
            "35999\n",
            "36000\n",
            "36001\n",
            "36002\n",
            "36003\n",
            "36004\n",
            "36005\n",
            "36006\n",
            "36007\n",
            "36008\n",
            "36009\n",
            "36010\n",
            "36011\n",
            "36012\n",
            "36013\n",
            "36014\n",
            "36015\n",
            "36016\n",
            "36017\n",
            "36018\n",
            "36019\n",
            "36020\n",
            "36021\n",
            "36022\n",
            "36023\n",
            "36024\n",
            "36025\n",
            "36026\n",
            "36027\n",
            "36028\n",
            "36029\n",
            "36030\n",
            "36031\n",
            "36032\n",
            "36033\n",
            "36034\n",
            "36035\n",
            "36036\n",
            "36037\n",
            "36038\n",
            "36039\n",
            "36040\n",
            "36041\n",
            "36042\n",
            "36043\n",
            "36044\n",
            "36045\n",
            "36046\n",
            "36047\n",
            "36048\n",
            "36049\n",
            "36050\n",
            "36051\n",
            "36052\n",
            "36053\n",
            "36054\n",
            "36055\n",
            "36056\n",
            "36057\n",
            "36058\n",
            "36059\n",
            "36060\n",
            "36061\n",
            "36062\n",
            "36063\n",
            "36064\n",
            "36065\n",
            "36066\n",
            "36067\n",
            "36068\n",
            "36069\n",
            "36070\n",
            "36071\n",
            "36072\n",
            "36073\n",
            "36074\n",
            "36075\n",
            "36076\n",
            "36077\n",
            "36078\n",
            "36079\n",
            "36080\n",
            "36081\n",
            "36082\n",
            "36083\n",
            "36084\n",
            "36085\n",
            "36086\n",
            "36087\n",
            "36088\n",
            "36089\n",
            "36090\n",
            "36091\n",
            "36092\n",
            "36093\n",
            "36094\n",
            "36095\n",
            "36096\n",
            "36097\n",
            "36098\n",
            "36099\n",
            "36100\n",
            "36101\n",
            "36102\n",
            "36103\n",
            "36104\n",
            "36105\n",
            "36106\n",
            "36107\n",
            "36108\n",
            "36109\n",
            "36110\n",
            "36111\n",
            "36112\n",
            "36113\n",
            "36114\n",
            "36115\n",
            "36116\n",
            "36117\n",
            "36118\n",
            "36119\n",
            "36120\n",
            "36121\n",
            "36122\n",
            "36123\n",
            "36124\n",
            "36125\n",
            "36126\n",
            "36127\n",
            "36128\n",
            "36129\n",
            "36130\n",
            "36131\n",
            "36132\n",
            "36133\n",
            "36134\n",
            "36135\n",
            "36136\n",
            "36137\n",
            "36138\n",
            "36139\n",
            "36140\n",
            "36141\n",
            "36142\n",
            "36143\n",
            "36144\n",
            "36145\n",
            "36146\n",
            "36147\n",
            "36148\n",
            "36149\n",
            "36150\n",
            "36151\n",
            "36152\n",
            "36153\n",
            "36154\n",
            "36155\n",
            "36156\n",
            "36157\n",
            "36158\n",
            "36159\n",
            "36160\n",
            "36161\n",
            "36162\n",
            "36163\n",
            "36164\n",
            "36165\n",
            "36166\n",
            "36167\n",
            "36168\n",
            "36169\n",
            "36170\n",
            "36171\n",
            "36172\n",
            "36173\n",
            "36174\n",
            "36175\n",
            "36176\n",
            "36177\n",
            "36178\n",
            "36179\n",
            "36180\n",
            "36181\n",
            "36182\n",
            "36183\n",
            "36184\n",
            "36185\n",
            "36186\n",
            "36187\n",
            "36188\n",
            "36189\n",
            "36190\n",
            "36191\n",
            "36192\n",
            "36193\n",
            "36194\n",
            "36195\n",
            "36196\n",
            "36197\n",
            "36198\n",
            "36199\n",
            "36200\n",
            "36201\n",
            "36202\n",
            "36203\n",
            "36204\n",
            "36205\n",
            "36206\n",
            "36207\n",
            "36208\n",
            "36209\n",
            "36210\n",
            "36211\n",
            "36212\n",
            "36213\n",
            "36214\n",
            "36215\n",
            "36216\n",
            "36217\n",
            "36218\n",
            "36219\n",
            "36220\n",
            "36221\n",
            "36222\n",
            "36223\n",
            "36224\n",
            "36225\n",
            "36226\n",
            "36227\n",
            "36228\n",
            "36229\n",
            "36230\n",
            "36231\n",
            "36232\n",
            "36233\n",
            "36234\n",
            "36235\n",
            "36236\n",
            "36237\n",
            "36238\n",
            "36239\n",
            "36240\n",
            "36241\n",
            "36242\n",
            "36243\n",
            "36244\n",
            "36245\n",
            "36246\n",
            "36247\n",
            "36248\n",
            "36249\n",
            "36250\n",
            "36251\n",
            "36252\n",
            "36253\n",
            "36254\n",
            "36255\n",
            "36256\n",
            "36257\n",
            "36258\n",
            "36259\n",
            "36260\n",
            "36261\n",
            "36262\n",
            "36263\n",
            "36264\n",
            "36265\n",
            "36266\n",
            "36267\n",
            "36268\n",
            "36269\n",
            "36270\n",
            "36271\n",
            "36272\n",
            "36273\n",
            "36274\n",
            "36275\n",
            "36276\n",
            "36277\n",
            "36278\n",
            "36279\n",
            "36280\n",
            "36281\n",
            "36282\n",
            "36283\n",
            "36284\n",
            "36285\n",
            "36286\n",
            "36287\n",
            "36288\n",
            "36289\n",
            "36290\n",
            "36291\n",
            "36292\n",
            "36293\n",
            "36294\n",
            "36295\n",
            "36296\n",
            "36297\n",
            "36298\n",
            "36299\n",
            "36300\n",
            "36301\n",
            "36302\n",
            "36303\n",
            "36304\n",
            "36305\n",
            "36306\n",
            "36307\n",
            "36308\n",
            "36309\n",
            "36310\n",
            "36311\n",
            "36312\n",
            "36313\n",
            "36314\n",
            "36315\n",
            "36316\n",
            "36317\n",
            "36318\n",
            "36319\n",
            "36320\n",
            "36321\n",
            "36322\n",
            "36323\n",
            "36324\n",
            "36325\n",
            "36326\n",
            "36327\n",
            "36328\n",
            "36329\n",
            "36330\n",
            "36331\n",
            "36332\n",
            "36333\n",
            "36334\n",
            "36335\n",
            "36336\n",
            "36337\n",
            "36338\n",
            "36339\n",
            "36340\n",
            "36341\n",
            "36342\n",
            "36343\n",
            "36344\n",
            "36345\n",
            "36346\n",
            "36347\n",
            "36348\n",
            "36349\n",
            "36350\n",
            "36351\n",
            "36352\n",
            "36353\n",
            "36354\n",
            "36355\n",
            "36356\n",
            "36357\n",
            "36358\n",
            "36359\n",
            "36360\n",
            "36361\n",
            "36362\n",
            "36363\n",
            "36364\n",
            "36365\n",
            "36366\n",
            "36367\n",
            "36368\n",
            "36369\n",
            "36370\n",
            "36371\n",
            "36372\n",
            "36373\n",
            "36374\n",
            "36375\n",
            "36376\n",
            "36377\n",
            "36378\n",
            "36379\n",
            "36380\n",
            "36381\n",
            "36382\n",
            "36383\n",
            "36384\n",
            "36385\n",
            "36386\n",
            "36387\n",
            "36388\n",
            "36389\n",
            "36390\n",
            "36391\n",
            "36392\n",
            "36393\n",
            "36394\n",
            "36395\n",
            "36396\n",
            "36397\n",
            "36398\n",
            "36399\n",
            "36400\n",
            "36401\n",
            "36402\n",
            "36403\n",
            "36404\n",
            "36405\n",
            "36406\n",
            "36407\n",
            "36408\n",
            "36409\n",
            "36410\n",
            "36411\n",
            "36412\n",
            "36413\n",
            "36414\n",
            "36415\n",
            "36416\n",
            "36417\n",
            "36418\n",
            "36419\n",
            "36420\n",
            "36421\n",
            "36422\n",
            "36423\n",
            "36424\n",
            "36425\n",
            "36426\n",
            "36427\n",
            "36428\n",
            "36429\n",
            "36430\n",
            "36431\n",
            "36432\n",
            "36433\n",
            "36434\n",
            "36435\n",
            "36436\n",
            "36437\n",
            "36438\n",
            "36439\n",
            "36440\n",
            "36441\n",
            "36442\n",
            "36443\n",
            "36444\n",
            "36445\n",
            "36446\n",
            "36447\n",
            "36448\n",
            "36449\n",
            "36450\n",
            "36451\n",
            "36452\n",
            "36453\n",
            "36454\n",
            "36455\n",
            "36456\n",
            "36457\n",
            "36458\n",
            "36459\n",
            "36460\n",
            "36461\n",
            "36462\n",
            "36463\n",
            "36464\n",
            "36465\n",
            "36466\n",
            "36467\n",
            "36468\n",
            "36469\n",
            "36470\n",
            "36471\n",
            "36472\n",
            "36473\n",
            "36474\n",
            "36475\n",
            "36476\n",
            "36477\n",
            "36478\n",
            "36479\n",
            "36480\n",
            "36481\n",
            "36482\n",
            "36483\n",
            "36484\n",
            "36485\n",
            "36486\n",
            "36487\n",
            "36488\n",
            "36489\n",
            "36490\n",
            "36491\n",
            "36492\n",
            "36493\n",
            "36494\n",
            "36495\n",
            "36496\n",
            "36497\n",
            "36498\n",
            "36499\n",
            "36500\n",
            "36501\n",
            "36502\n",
            "36503\n",
            "36504\n",
            "36505\n",
            "36506\n",
            "36507\n",
            "36508\n",
            "36509\n",
            "36510\n",
            "36511\n",
            "36512\n",
            "36513\n",
            "36514\n",
            "36515\n",
            "36516\n",
            "36517\n",
            "36518\n",
            "36519\n",
            "36520\n",
            "36521\n",
            "36522\n",
            "36523\n",
            "36524\n",
            "36525\n",
            "36526\n",
            "36527\n",
            "36528\n",
            "36529\n",
            "36530\n",
            "36531\n",
            "36532\n",
            "36533\n",
            "36534\n",
            "36535\n",
            "36536\n",
            "36537\n",
            "36538\n",
            "36539\n",
            "36540\n",
            "36541\n",
            "36542\n",
            "36543\n",
            "36544\n",
            "36545\n",
            "36546\n",
            "36547\n",
            "36548\n",
            "36549\n",
            "36550\n",
            "36551\n",
            "36552\n",
            "36553\n",
            "36554\n",
            "36555\n",
            "36556\n",
            "36557\n",
            "36558\n",
            "36559\n",
            "36560\n",
            "36561\n",
            "36562\n",
            "36563\n",
            "36564\n",
            "36565\n",
            "36566\n",
            "36567\n",
            "36568\n",
            "36569\n",
            "36570\n",
            "36571\n",
            "36572\n",
            "36573\n",
            "36574\n",
            "36575\n",
            "36576\n",
            "36577\n",
            "36578\n",
            "36579\n",
            "36580\n",
            "36581\n",
            "36582\n",
            "36583\n",
            "36584\n",
            "36585\n",
            "36586\n",
            "36587\n",
            "36588\n",
            "36589\n",
            "36590\n",
            "36591\n",
            "36592\n",
            "36593\n",
            "36594\n",
            "36595\n",
            "36596\n",
            "36597\n",
            "36598\n",
            "36599\n",
            "36600\n",
            "36601\n",
            "36602\n",
            "36603\n",
            "36604\n",
            "36605\n",
            "36606\n",
            "36607\n",
            "36608\n",
            "36609\n",
            "36610\n",
            "36611\n",
            "36612\n",
            "36613\n",
            "36614\n",
            "36615\n",
            "36616\n",
            "36617\n",
            "36618\n",
            "36619\n",
            "36620\n",
            "36621\n",
            "36622\n",
            "36623\n",
            "36624\n",
            "36625\n",
            "36626\n",
            "36627\n",
            "36628\n",
            "36629\n",
            "36630\n",
            "36631\n",
            "36632\n",
            "36633\n",
            "36634\n",
            "36635\n",
            "36636\n",
            "36637\n",
            "36638\n",
            "36639\n",
            "36640\n",
            "36641\n",
            "36642\n",
            "36643\n",
            "36644\n",
            "36645\n",
            "36646\n",
            "36647\n",
            "36648\n",
            "36649\n",
            "36650\n",
            "36651\n",
            "36652\n",
            "36653\n",
            "36654\n",
            "36655\n",
            "36656\n",
            "36657\n",
            "36658\n",
            "36659\n",
            "36660\n",
            "36661\n",
            "36662\n",
            "36663\n",
            "36664\n",
            "36665\n",
            "36666\n",
            "36667\n",
            "36668\n",
            "36669\n",
            "36670\n",
            "36671\n",
            "36672\n",
            "36673\n",
            "36674\n",
            "36675\n",
            "36676\n",
            "36677\n",
            "36678\n",
            "36679\n",
            "36680\n",
            "36681\n",
            "36682\n",
            "36683\n",
            "36684\n",
            "36685\n",
            "36686\n",
            "36687\n",
            "36688\n",
            "36689\n",
            "36690\n",
            "36691\n",
            "36692\n",
            "36693\n",
            "36694\n",
            "36695\n",
            "36696\n",
            "36697\n",
            "36698\n",
            "36699\n",
            "36700\n",
            "36701\n",
            "36702\n",
            "36703\n",
            "36704\n",
            "36705\n",
            "36706\n",
            "36707\n",
            "36708\n",
            "36709\n",
            "36710\n",
            "36711\n",
            "36712\n",
            "36713\n",
            "36714\n",
            "36715\n",
            "36716\n",
            "36717\n",
            "36718\n",
            "36719\n",
            "36720\n",
            "36721\n",
            "36722\n",
            "36723\n",
            "36724\n",
            "36725\n",
            "36726\n",
            "36727\n",
            "36728\n",
            "36729\n",
            "36730\n",
            "36731\n",
            "36732\n",
            "36733\n",
            "36734\n",
            "36735\n",
            "36736\n",
            "36737\n",
            "36738\n",
            "36739\n",
            "36740\n",
            "36741\n",
            "36742\n",
            "36743\n",
            "36744\n",
            "36745\n",
            "36746\n",
            "36747\n",
            "36748\n",
            "36749\n",
            "36750\n",
            "36751\n",
            "36752\n",
            "36753\n",
            "36754\n",
            "36755\n",
            "36756\n",
            "36757\n",
            "36758\n",
            "36759\n",
            "36760\n",
            "36761\n",
            "36762\n",
            "36763\n",
            "36764\n",
            "36765\n",
            "36766\n",
            "36767\n",
            "36768\n",
            "36769\n",
            "36770\n",
            "36771\n",
            "36772\n",
            "36773\n",
            "36774\n",
            "36775\n",
            "36776\n",
            "36777\n",
            "36778\n",
            "36779\n",
            "36780\n",
            "36781\n",
            "36782\n",
            "36783\n",
            "36784\n",
            "36785\n",
            "36786\n",
            "36787\n",
            "36788\n",
            "36789\n",
            "36790\n",
            "36791\n",
            "36792\n",
            "36793\n",
            "36794\n",
            "36795\n",
            "36796\n",
            "36797\n",
            "36798\n",
            "36799\n",
            "36800\n",
            "36801\n",
            "36802\n",
            "36803\n",
            "36804\n",
            "36805\n",
            "36806\n",
            "36807\n",
            "36808\n",
            "36809\n",
            "36810\n",
            "36811\n",
            "36812\n",
            "36813\n",
            "36814\n",
            "36815\n",
            "36816\n",
            "36817\n",
            "36818\n",
            "36819\n",
            "36820\n",
            "36821\n",
            "36822\n",
            "36823\n",
            "36824\n",
            "36825\n",
            "36826\n",
            "36827\n",
            "36828\n",
            "36829\n",
            "36830\n",
            "36831\n",
            "36832\n",
            "36833\n",
            "36834\n",
            "36835\n",
            "36836\n",
            "36837\n",
            "36838\n",
            "36839\n",
            "36840\n",
            "36841\n",
            "36842\n",
            "36843\n",
            "36844\n",
            "36845\n",
            "36846\n",
            "36847\n",
            "36848\n",
            "36849\n",
            "36850\n",
            "36851\n",
            "36852\n",
            "36853\n",
            "36854\n",
            "36855\n",
            "36856\n",
            "36857\n",
            "36858\n",
            "36859\n",
            "36860\n",
            "36861\n",
            "36862\n",
            "36863\n",
            "36864\n",
            "36865\n",
            "36866\n",
            "36867\n",
            "36868\n",
            "36869\n",
            "36870\n",
            "36871\n",
            "36872\n",
            "36873\n",
            "36874\n",
            "36875\n",
            "36876\n",
            "36877\n",
            "36878\n",
            "36879\n",
            "36880\n",
            "36881\n",
            "36882\n",
            "36883\n",
            "36884\n",
            "36885\n",
            "36886\n",
            "36887\n",
            "36888\n",
            "36889\n",
            "36890\n",
            "36891\n",
            "36892\n",
            "36893\n",
            "36894\n",
            "36895\n",
            "36896\n",
            "36897\n",
            "36898\n",
            "36899\n",
            "36900\n",
            "36901\n",
            "36902\n",
            "36903\n",
            "36904\n",
            "36905\n",
            "36906\n",
            "36907\n",
            "36908\n",
            "36909\n",
            "36910\n",
            "36911\n",
            "36912\n",
            "36913\n",
            "36914\n",
            "36915\n",
            "36916\n",
            "36917\n",
            "36918\n",
            "36919\n",
            "36920\n",
            "36921\n",
            "36922\n",
            "36923\n",
            "36924\n",
            "36925\n",
            "36926\n",
            "36927\n",
            "36928\n",
            "36929\n",
            "36930\n",
            "36931\n",
            "36932\n",
            "36933\n",
            "36934\n",
            "36935\n",
            "36936\n",
            "36937\n",
            "36938\n",
            "36939\n",
            "36940\n",
            "36941\n",
            "36942\n",
            "36943\n",
            "36944\n",
            "36945\n",
            "36946\n",
            "36947\n",
            "36948\n",
            "36949\n",
            "36950\n",
            "36951\n",
            "36952\n",
            "36953\n",
            "36954\n",
            "36955\n",
            "36956\n",
            "36957\n",
            "36958\n",
            "36959\n",
            "36960\n",
            "36961\n",
            "36962\n",
            "36963\n",
            "36964\n",
            "36965\n",
            "36966\n",
            "36967\n",
            "36968\n",
            "36969\n",
            "36970\n",
            "36971\n",
            "36972\n",
            "36973\n",
            "36974\n",
            "36975\n",
            "36976\n",
            "36977\n",
            "36978\n",
            "36979\n",
            "36980\n",
            "36981\n",
            "36982\n",
            "36983\n",
            "36984\n",
            "36985\n",
            "36986\n",
            "36987\n",
            "36988\n",
            "36989\n",
            "36990\n",
            "36991\n",
            "36992\n",
            "36993\n",
            "36994\n",
            "36995\n",
            "36996\n",
            "36997\n",
            "36998\n",
            "36999\n",
            "37000\n",
            "37001\n",
            "37002\n",
            "37003\n",
            "37004\n",
            "37005\n",
            "37006\n",
            "37007\n",
            "37008\n",
            "37009\n",
            "37010\n",
            "37011\n",
            "37012\n",
            "37013\n",
            "37014\n",
            "37015\n",
            "37016\n",
            "37017\n",
            "37018\n",
            "37019\n",
            "37020\n",
            "37021\n",
            "37022\n",
            "37023\n",
            "37024\n",
            "37025\n",
            "37026\n",
            "37027\n",
            "37028\n",
            "37029\n",
            "37030\n",
            "37031\n",
            "37032\n",
            "37033\n",
            "37034\n",
            "37035\n",
            "37036\n",
            "37037\n",
            "37038\n",
            "37039\n",
            "37040\n",
            "37041\n",
            "37042\n",
            "37043\n",
            "37044\n",
            "37045\n",
            "37046\n",
            "37047\n",
            "37048\n",
            "37049\n",
            "37050\n",
            "37051\n",
            "37052\n",
            "37053\n",
            "37054\n",
            "37055\n",
            "37056\n",
            "37057\n",
            "37058\n",
            "37059\n",
            "37060\n",
            "37061"
          ]
        },
        {
          "output_type": "error",
          "ename": "KeyboardInterrupt",
          "evalue": "ignored",
          "traceback": [
            "\u001b[0;31m---------------------------------------------------------------------------\u001b[0m",
            "\u001b[0;31mKeyboardInterrupt\u001b[0m                         Traceback (most recent call last)",
            "\u001b[0;32m<ipython-input-40-83dfe45fae62>\u001b[0m in \u001b[0;36m<cell line: 3>\u001b[0;34m()\u001b[0m\n\u001b[1;32m      2\u001b[0m \u001b[0;34m\u001b[0m\u001b[0m\n\u001b[1;32m      3\u001b[0m \u001b[0;32mwhile\u001b[0m \u001b[0;36m1\u001b[0m\u001b[0;34m:\u001b[0m\u001b[0;34m\u001b[0m\u001b[0;34m\u001b[0m\u001b[0m\n\u001b[0;32m----> 4\u001b[0;31m   \u001b[0mprint\u001b[0m\u001b[0;34m(\u001b[0m\u001b[0mx\u001b[0m\u001b[0;34m)\u001b[0m\u001b[0;34m\u001b[0m\u001b[0;34m\u001b[0m\u001b[0m\n\u001b[0m\u001b[1;32m      5\u001b[0m   \u001b[0mx\u001b[0m \u001b[0;34m=\u001b[0m \u001b[0mx\u001b[0m \u001b[0;34m+\u001b[0m \u001b[0;36m1\u001b[0m\u001b[0;34m\u001b[0m\u001b[0;34m\u001b[0m\u001b[0m\n",
            "\u001b[0;32m/usr/local/lib/python3.10/dist-packages/ipykernel/iostream.py\u001b[0m in \u001b[0;36mwrite\u001b[0;34m(self, string)\u001b[0m\n\u001b[1;32m    400\u001b[0m             \u001b[0mis_child\u001b[0m \u001b[0;34m=\u001b[0m \u001b[0;34m(\u001b[0m\u001b[0;32mnot\u001b[0m \u001b[0mself\u001b[0m\u001b[0;34m.\u001b[0m\u001b[0m_is_master_process\u001b[0m\u001b[0;34m(\u001b[0m\u001b[0;34m)\u001b[0m\u001b[0;34m)\u001b[0m\u001b[0;34m\u001b[0m\u001b[0;34m\u001b[0m\u001b[0m\n\u001b[1;32m    401\u001b[0m             \u001b[0;31m# only touch the buffer in the IO thread to avoid races\u001b[0m\u001b[0;34m\u001b[0m\u001b[0;34m\u001b[0m\u001b[0m\n\u001b[0;32m--> 402\u001b[0;31m             \u001b[0mself\u001b[0m\u001b[0;34m.\u001b[0m\u001b[0mpub_thread\u001b[0m\u001b[0;34m.\u001b[0m\u001b[0mschedule\u001b[0m\u001b[0;34m(\u001b[0m\u001b[0;32mlambda\u001b[0m \u001b[0;34m:\u001b[0m \u001b[0mself\u001b[0m\u001b[0;34m.\u001b[0m\u001b[0m_buffer\u001b[0m\u001b[0;34m.\u001b[0m\u001b[0mwrite\u001b[0m\u001b[0;34m(\u001b[0m\u001b[0mstring\u001b[0m\u001b[0;34m)\u001b[0m\u001b[0;34m)\u001b[0m\u001b[0;34m\u001b[0m\u001b[0;34m\u001b[0m\u001b[0m\n\u001b[0m\u001b[1;32m    403\u001b[0m             \u001b[0;32mif\u001b[0m \u001b[0mis_child\u001b[0m\u001b[0;34m:\u001b[0m\u001b[0;34m\u001b[0m\u001b[0;34m\u001b[0m\u001b[0m\n\u001b[1;32m    404\u001b[0m                 \u001b[0;31m# mp.Pool cannot be trusted to flush promptly (or ever),\u001b[0m\u001b[0;34m\u001b[0m\u001b[0;34m\u001b[0m\u001b[0m\n",
            "\u001b[0;32m/usr/local/lib/python3.10/dist-packages/ipykernel/iostream.py\u001b[0m in \u001b[0;36mschedule\u001b[0;34m(self, f)\u001b[0m\n\u001b[1;32m    201\u001b[0m             \u001b[0mself\u001b[0m\u001b[0;34m.\u001b[0m\u001b[0m_events\u001b[0m\u001b[0;34m.\u001b[0m\u001b[0mappend\u001b[0m\u001b[0;34m(\u001b[0m\u001b[0mf\u001b[0m\u001b[0;34m)\u001b[0m\u001b[0;34m\u001b[0m\u001b[0;34m\u001b[0m\u001b[0m\n\u001b[1;32m    202\u001b[0m             \u001b[0;31m# wake event thread (message content is ignored)\u001b[0m\u001b[0;34m\u001b[0m\u001b[0;34m\u001b[0m\u001b[0m\n\u001b[0;32m--> 203\u001b[0;31m             \u001b[0mself\u001b[0m\u001b[0;34m.\u001b[0m\u001b[0m_event_pipe\u001b[0m\u001b[0;34m.\u001b[0m\u001b[0msend\u001b[0m\u001b[0;34m(\u001b[0m\u001b[0;34mb''\u001b[0m\u001b[0;34m)\u001b[0m\u001b[0;34m\u001b[0m\u001b[0;34m\u001b[0m\u001b[0m\n\u001b[0m\u001b[1;32m    204\u001b[0m         \u001b[0;32melse\u001b[0m\u001b[0;34m:\u001b[0m\u001b[0;34m\u001b[0m\u001b[0;34m\u001b[0m\u001b[0m\n\u001b[1;32m    205\u001b[0m             \u001b[0mf\u001b[0m\u001b[0;34m(\u001b[0m\u001b[0;34m)\u001b[0m\u001b[0;34m\u001b[0m\u001b[0;34m\u001b[0m\u001b[0m\n",
            "\u001b[0;32m/usr/local/lib/python3.10/dist-packages/zmq/sugar/socket.py\u001b[0m in \u001b[0;36msend\u001b[0;34m(self, data, flags, copy, track, routing_id, group)\u001b[0m\n\u001b[1;32m    616\u001b[0m                 )\n\u001b[1;32m    617\u001b[0m             \u001b[0mdata\u001b[0m\u001b[0;34m.\u001b[0m\u001b[0mgroup\u001b[0m \u001b[0;34m=\u001b[0m \u001b[0mgroup\u001b[0m\u001b[0;34m\u001b[0m\u001b[0;34m\u001b[0m\u001b[0m\n\u001b[0;32m--> 618\u001b[0;31m         \u001b[0;32mreturn\u001b[0m \u001b[0msuper\u001b[0m\u001b[0;34m(\u001b[0m\u001b[0;34m)\u001b[0m\u001b[0;34m.\u001b[0m\u001b[0msend\u001b[0m\u001b[0;34m(\u001b[0m\u001b[0mdata\u001b[0m\u001b[0;34m,\u001b[0m \u001b[0mflags\u001b[0m\u001b[0;34m=\u001b[0m\u001b[0mflags\u001b[0m\u001b[0;34m,\u001b[0m \u001b[0mcopy\u001b[0m\u001b[0;34m=\u001b[0m\u001b[0mcopy\u001b[0m\u001b[0;34m,\u001b[0m \u001b[0mtrack\u001b[0m\u001b[0;34m=\u001b[0m\u001b[0mtrack\u001b[0m\u001b[0;34m)\u001b[0m\u001b[0;34m\u001b[0m\u001b[0;34m\u001b[0m\u001b[0m\n\u001b[0m\u001b[1;32m    619\u001b[0m \u001b[0;34m\u001b[0m\u001b[0m\n\u001b[1;32m    620\u001b[0m     def send_multipart(\n",
            "\u001b[0;32mzmq/backend/cython/socket.pyx\u001b[0m in \u001b[0;36mzmq.backend.cython.socket.Socket.send\u001b[0;34m()\u001b[0m\n",
            "\u001b[0;32mzmq/backend/cython/socket.pyx\u001b[0m in \u001b[0;36mzmq.backend.cython.socket.Socket.send\u001b[0;34m()\u001b[0m\n",
            "\u001b[0;32mzmq/backend/cython/socket.pyx\u001b[0m in \u001b[0;36mzmq.backend.cython.socket._send_copy\u001b[0;34m()\u001b[0m\n",
            "\u001b[0;32m/usr/local/lib/python3.10/dist-packages/zmq/backend/cython/checkrc.pxd\u001b[0m in \u001b[0;36mzmq.backend.cython.checkrc._check_rc\u001b[0;34m()\u001b[0m\n",
            "\u001b[0;31mKeyboardInterrupt\u001b[0m: "
          ]
        }
      ]
    },
    {
      "cell_type": "markdown",
      "metadata": {
        "id": "VC4Wu-sB5NY-"
      },
      "source": [
        "- 예제 코드에서 사용한 것처럼 그냥 조건문 자리에 True를 넣어버리면 해당 반복문은 break를 만날때까지 무한루프를 돌게 됩니다.\n",
        "- 여기서 True (참) / False (거짓) 라고 하는 값은 boolean 값(논리 값이라고도 합니다)이라고 부르며 어떤 조건에 대하여 참과 거짓을 나타내는 두 개의 값을 가지는 자료형(데이터 타입)입니다.\n",
        "- 그런데 두 개의 값을 가진다는 점에서 또 다른 사용법을 생각할 수 있습니다.\n",
        "<br /><br />\n",
        "- 컴퓨터는 전기로 동작하죠.\n",
        "- 전기는 켜져있거나(on, 1) 꺼져있는(off, 0) 두 가지의 상태로 나뉘어집니다.\n",
        "- 그래서 컴퓨터는 모든 동작이 on / off로 이루어집니다.\n",
        "- 이때 on / off 값을 두 개의 숫자로 구성되는 2진수를 이용하여 1과 0으로 표현하도록 OS가 만들어졌습니다.\n",
        "- 참과 거짓도 동일한 기준에 따라 참(True)은 1, 거짓(False)은 0으로 할당이 되어 있죠.\n",
        "- 그래서 while문에 따라오는 조건에 True 대신 1을 넣어주어도 동일하게 동작합니다.\n",
        "- 그렇지만 보기 쉽게 True / False를 이용하는 것을 권장하기도 합니다.\n"
      ]
    },
    {
      "cell_type": "code",
      "metadata": {
        "id": "tF1REsuo5J0L",
        "colab": {
          "base_uri": "https://localhost:8080/"
        },
        "outputId": "09a4ee1f-4932-408f-ea75-94237e31fb4a"
      },
      "source": [
        "x = 1\n",
        "\n",
        "while 1:\n",
        "    x = x + 1\n",
        "    if x < 5:\n",
        "        continue\n",
        "    print(x)\n",
        "\n",
        "    if x > 7:\n",
        "        break"
      ],
      "execution_count": null,
      "outputs": [
        {
          "output_type": "stream",
          "name": "stdout",
          "text": [
            "5\n",
            "6\n",
            "7\n",
            "8\n"
          ]
        }
      ]
    },
    {
      "cell_type": "markdown",
      "metadata": {
        "id": "UsGBdqe05vgA"
      },
      "source": [
        "- 여기까지 해서 While문을 이용한 반복문에 대하여 알아보았습니다.\n",
        "- 지금까지 살펴본 데이터 형, 기본적인 연산 및 명령, 조건문, 반복문 정도만 잘 활용해도 어지간한 프로그램은 구현할 수 있습니다.\n",
        "- Windows 10과 같은 OS를 포함해서... 아무리 큰 프로그램이라도 각 기능별로 하나하나 쪼개나가면 그 밑바닥에는 결국 위의 4가지 정도가 기본이 되어 구현됩니다.\n",
        "- 그 이후에는 더 고차원적인 연산, 기능을 구현하기 위해서 점점 코드를 확장하고 키워나가는것입니다.\n",
        "<br /><br />\n",
        "- 이것으로 파이썬의 가장 기본 문법에 대하여 알아보았습니다.\n"
      ]
    },
    {
      "cell_type": "code",
      "source": [
        "dictionary = {\n",
        "    \"name\": \"7D 건조 망고\",\n",
        "    \"type\": \"당절임\",\n",
        "    \"ingredient\": [\"망고\", \"설탕\", \"메타중아황산나트륨\"],\n",
        "    \"origin\": \"필리핀\"\n",
        "}\n",
        "\n",
        "value = dictionary.get(\"name\")\n",
        "print(\"값:\", value)\n",
        "\n",
        "if value == None:\n",
        "  print(\"존재하지 않는 키에 접근했었습니다.\")"
      ],
      "metadata": {
        "id": "65zyHL77x2JH",
        "colab": {
          "base_uri": "https://localhost:8080/"
        },
        "outputId": "3351a0a1-3e67-431d-db65-fde1f995744b"
      },
      "execution_count": null,
      "outputs": [
        {
          "output_type": "stream",
          "name": "stdout",
          "text": [
            "값: 7D 건조 망고\n"
          ]
        }
      ]
    },
    {
      "cell_type": "code",
      "source": [
        "str = \"짜장,짬뽕,탕슉\"\n",
        "print(str.split(\",\"))"
      ],
      "metadata": {
        "id": "_oadj3FkF0Hk",
        "colab": {
          "base_uri": "https://localhost:8080/"
        },
        "outputId": "88e6972a-14d2-4b48-91df-0c2e8a12658b"
      },
      "execution_count": null,
      "outputs": [
        {
          "output_type": "stream",
          "name": "stdout",
          "text": [
            "['짜장', '짬뽕', '탕슉']\n"
          ]
        }
      ]
    },
    {
      "cell_type": "code",
      "source": [
        "price = 500\n",
        "price2 = 1000\n",
        "print(\"궁금하면 %d원! 너는 %d원!\" % (price2, price))\n",
        "print(\"궁금하면 {1}원! 너는 {0}원\".format(price, price2))"
      ],
      "metadata": {
        "id": "cnhOM3ZqHejb",
        "colab": {
          "base_uri": "https://localhost:8080/"
        },
        "outputId": "e5fbc113-f03c-44c6-d298-89c90d339160"
      },
      "execution_count": null,
      "outputs": [
        {
          "output_type": "stream",
          "name": "stdout",
          "text": [
            "궁금하면 1000원! 너는 500원!\n",
            "궁금하면 1000원! 너는 500원\n"
          ]
        }
      ]
    },
    {
      "cell_type": "code",
      "source": [
        "number = 1\n",
        "if number > 0:\n",
        "  pass\n",
        "else:\n",
        "  pass"
      ],
      "metadata": {
        "id": "4wrYlomFLEls"
      },
      "execution_count": null,
      "outputs": []
    },
    {
      "cell_type": "code",
      "source": [
        "for dan in range(2, 10):\n",
        "  print(dan, \"단\")\n",
        "  for hang in range(2, 10):\n",
        "    print(dan , \"*\", hang, \"=\", dan*hang)\n",
        "  print()"
      ],
      "metadata": {
        "id": "fa5WKGx7LfV-",
        "colab": {
          "base_uri": "https://localhost:8080/"
        },
        "outputId": "7c48804a-ed3f-4724-e0bb-7c9d186e92a8"
      },
      "execution_count": null,
      "outputs": [
        {
          "output_type": "stream",
          "name": "stdout",
          "text": [
            "2 단\n",
            "2 * 2 = 4\n",
            "2 * 3 = 6\n",
            "2 * 4 = 8\n",
            "2 * 5 = 10\n",
            "2 * 6 = 12\n",
            "2 * 7 = 14\n",
            "2 * 8 = 16\n",
            "2 * 9 = 18\n",
            "\n",
            "3 단\n",
            "3 * 2 = 6\n",
            "3 * 3 = 9\n",
            "3 * 4 = 12\n",
            "3 * 5 = 15\n",
            "3 * 6 = 18\n",
            "3 * 7 = 21\n",
            "3 * 8 = 24\n",
            "3 * 9 = 27\n",
            "\n",
            "4 단\n",
            "4 * 2 = 8\n",
            "4 * 3 = 12\n",
            "4 * 4 = 16\n",
            "4 * 5 = 20\n",
            "4 * 6 = 24\n",
            "4 * 7 = 28\n",
            "4 * 8 = 32\n",
            "4 * 9 = 36\n",
            "\n",
            "5 단\n",
            "5 * 2 = 10\n",
            "5 * 3 = 15\n",
            "5 * 4 = 20\n",
            "5 * 5 = 25\n",
            "5 * 6 = 30\n",
            "5 * 7 = 35\n",
            "5 * 8 = 40\n",
            "5 * 9 = 45\n",
            "\n",
            "6 단\n",
            "6 * 2 = 12\n",
            "6 * 3 = 18\n",
            "6 * 4 = 24\n",
            "6 * 5 = 30\n",
            "6 * 6 = 36\n",
            "6 * 7 = 42\n",
            "6 * 8 = 48\n",
            "6 * 9 = 54\n",
            "\n",
            "7 단\n",
            "7 * 2 = 14\n",
            "7 * 3 = 21\n",
            "7 * 4 = 28\n",
            "7 * 5 = 35\n",
            "7 * 6 = 42\n",
            "7 * 7 = 49\n",
            "7 * 8 = 56\n",
            "7 * 9 = 63\n",
            "\n",
            "8 단\n",
            "8 * 2 = 16\n",
            "8 * 3 = 24\n",
            "8 * 4 = 32\n",
            "8 * 5 = 40\n",
            "8 * 6 = 48\n",
            "8 * 7 = 56\n",
            "8 * 8 = 64\n",
            "8 * 9 = 72\n",
            "\n",
            "9 단\n",
            "9 * 2 = 18\n",
            "9 * 3 = 27\n",
            "9 * 4 = 36\n",
            "9 * 5 = 45\n",
            "9 * 6 = 54\n",
            "9 * 7 = 63\n",
            "9 * 8 = 72\n",
            "9 * 9 = 81\n",
            "\n"
          ]
        }
      ]
    },
    {
      "cell_type": "markdown",
      "source": [
        "## 4.3 문자열 처리"
      ],
      "metadata": {
        "id": "o7_fbbOB89Qy"
      }
    },
    {
      "cell_type": "markdown",
      "metadata": {
        "id": "jQ0u9kRFipdI"
      },
      "source": [
        "#### 4-3-1. 특정 위치의 문자 얻기"
      ]
    },
    {
      "cell_type": "code",
      "metadata": {
        "id": "Z2WFMjrni29i"
      },
      "source": [
        "txt1 = 'A tale that was not right'\n",
        "txt2 = '이 또한 지나가리라'"
      ],
      "execution_count": null,
      "outputs": []
    },
    {
      "cell_type": "code",
      "source": [
        "print(txt1[5])\n",
        "print(txt2[-2])"
      ],
      "metadata": {
        "id": "fRfzsTwP9sN6",
        "colab": {
          "base_uri": "https://localhost:8080/"
        },
        "outputId": "f69b3b1a-9d1c-47c1-e69f-138708104e92"
      },
      "execution_count": null,
      "outputs": [
        {
          "output_type": "stream",
          "name": "stdout",
          "text": [
            "e\n",
            "리\n"
          ]
        }
      ]
    },
    {
      "cell_type": "markdown",
      "metadata": {
        "id": "jXN8SwNAjFC3"
      },
      "source": [
        "#### 4-3-2. 지정한 구간의 문자열 얻기"
      ]
    },
    {
      "cell_type": "code",
      "source": [
        "print(txt1[3:7])\n",
        "print(txt1[:6])\n",
        "print(txt2[-4:])"
      ],
      "metadata": {
        "id": "M5EHpYlI9s7j",
        "colab": {
          "base_uri": "https://localhost:8080/"
        },
        "outputId": "b835400a-f546-46b5-95c2-26bd16e5c627"
      },
      "execution_count": null,
      "outputs": [
        {
          "output_type": "stream",
          "name": "stdout",
          "text": [
            "ale \n",
            "A tale\n",
            "나가리라\n"
          ]
        }
      ]
    },
    {
      "cell_type": "code",
      "metadata": {
        "id": "yNSbvPGpjdxO",
        "colab": {
          "base_uri": "https://localhost:8080/"
        },
        "outputId": "437f8621-deba-4467-8caf-c389923e4bf9"
      },
      "source": [
        "txt = 'python'\n",
        "\n",
        "for i in range(len(txt)):\n",
        "    print(i, \":\", txt[:i+1])"
      ],
      "execution_count": null,
      "outputs": [
        {
          "output_type": "stream",
          "name": "stdout",
          "text": [
            "0 : p\n",
            "1 : py\n",
            "2 : pyt\n",
            "3 : pyth\n",
            "4 : pytho\n",
            "5 : python\n"
          ]
        }
      ]
    },
    {
      "cell_type": "markdown",
      "metadata": {
        "id": "i2gJjIy4jYy_"
      },
      "source": [
        "#### 4-3-3. 홀수 번째 문자만 추출하기"
      ]
    },
    {
      "cell_type": "code",
      "metadata": {
        "id": "uAR5TVr_jwNd",
        "colab": {
          "base_uri": "https://localhost:8080/"
        },
        "outputId": "dde1f772-bba5-4f65-90e8-7cf1716d05a8"
      },
      "source": [
        "txt = 'aAbBcCdDeEfFgG'\n",
        "\n",
        "result = txt[::2]\n",
        "print(result)"
      ],
      "execution_count": null,
      "outputs": [
        {
          "output_type": "stream",
          "name": "stdout",
          "text": [
            "abcdefg\n"
          ]
        }
      ]
    },
    {
      "cell_type": "markdown",
      "metadata": {
        "id": "8EEvfwMgj-EA"
      },
      "source": [
        "#### 4-3-4. 문자열 거꾸로 만들기"
      ]
    },
    {
      "cell_type": "code",
      "metadata": {
        "id": "j6N6rQd0kBYQ",
        "colab": {
          "base_uri": "https://localhost:8080/"
        },
        "outputId": "0efa4f09-be0d-4ea7-c13b-dbd15321b943"
      },
      "source": [
        "txt = 'abcdefg'\n",
        "\n",
        "result = txt[::-1]\n",
        "print(result)"
      ],
      "execution_count": null,
      "outputs": [
        {
          "output_type": "stream",
          "name": "stdout",
          "text": [
            "gfedcba\n"
          ]
        }
      ]
    },
    {
      "cell_type": "markdown",
      "metadata": {
        "id": "jUynDruckaEl"
      },
      "source": [
        "#### 4-3-5. 특정 문자가 있는지 확인하기"
      ]
    },
    {
      "cell_type": "code",
      "metadata": {
        "id": "FblXI2Vykauu",
        "colab": {
          "base_uri": "https://localhost:8080/"
        },
        "outputId": "8c3671b6-7806-4fc3-badb-f21859795ec7"
      },
      "source": [
        "msg = '안녕하세요'\n",
        "\n",
        "if 'a' in msg:\n",
        "    print('문자열에 a가 포험되어 있음')\n",
        "else:\n",
        "    print('문자열에 a가 포함되어 있지 않음')"
      ],
      "execution_count": null,
      "outputs": [
        {
          "output_type": "stream",
          "name": "stdout",
          "text": [
            "문자열에 a가 포함되어 있지 않음\n"
          ]
        }
      ]
    },
    {
      "cell_type": "markdown",
      "metadata": {
        "id": "a3mfo5bllBFE"
      },
      "source": [
        "#### 4-3-6. 숫자인지 알파벳인지 검사하기"
      ]
    },
    {
      "cell_type": "markdown",
      "source": [
        "- 문자열이 숫자만으로 구성되었는지 확인하기"
      ],
      "metadata": {
        "id": "jw-_sVws9_NJ"
      }
    },
    {
      "cell_type": "code",
      "metadata": {
        "id": "kv4rGWGnlBw0"
      },
      "source": [
        "txt1 = '010-1234-5678'\n",
        "txt2 = 'R2D2'\n",
        "txt3 = '1234'"
      ],
      "execution_count": null,
      "outputs": []
    },
    {
      "cell_type": "code",
      "source": [
        "result1 = txt1.isdigit()\n",
        "result2 = txt2.isdigit()\n",
        "result3 = txt3.isdigit()"
      ],
      "metadata": {
        "id": "4ARfWaGN92eh"
      },
      "execution_count": null,
      "outputs": []
    },
    {
      "cell_type": "code",
      "source": [
        "print(result1)\n",
        "print(result2)\n",
        "print(result3)"
      ],
      "metadata": {
        "id": "HryYA2gg92Tq",
        "colab": {
          "base_uri": "https://localhost:8080/"
        },
        "outputId": "1e619729-1b00-4d70-867e-8f882ca9cd9e"
      },
      "execution_count": null,
      "outputs": [
        {
          "output_type": "stream",
          "name": "stdout",
          "text": [
            "False\n",
            "False\n",
            "True\n"
          ]
        }
      ]
    },
    {
      "cell_type": "markdown",
      "source": [
        "- 문자열이 문자만으로 구성되었는지 확인하기"
      ],
      "metadata": {
        "id": "6GlipxF7-DjA"
      }
    },
    {
      "cell_type": "code",
      "metadata": {
        "id": "rg_cO37Oldct"
      },
      "source": [
        "txt1 = 'A'\n",
        "txt2 = '안녕'\n",
        "txt3 = 'Star Craft'\n",
        "txt4 = '3PO'"
      ],
      "execution_count": null,
      "outputs": []
    },
    {
      "cell_type": "code",
      "source": [
        "result1 = txt1.isalpha()\n",
        "result2 = txt2.isalpha()\n",
        "result3 = txt3.isalpha()\n",
        "result4 = txt3.isalpha()"
      ],
      "metadata": {
        "id": "ddMiXbrs96mK"
      },
      "execution_count": null,
      "outputs": []
    },
    {
      "cell_type": "code",
      "source": [
        "print(result1)\n",
        "print(result2)\n",
        "print(result3)\n",
        "print(result4)"
      ],
      "metadata": {
        "id": "fKh8VG2Y96ZJ",
        "colab": {
          "base_uri": "https://localhost:8080/"
        },
        "outputId": "a8e6f518-314a-44fa-c294-87c6f44a1aa7"
      },
      "execution_count": null,
      "outputs": [
        {
          "output_type": "stream",
          "name": "stdout",
          "text": [
            "True\n",
            "True\n",
            "False\n",
            "False\n"
          ]
        }
      ]
    },
    {
      "cell_type": "markdown",
      "source": [
        "- 문자열이 문자와 숫자만으로 구성되었는지 확인하기"
      ],
      "metadata": {
        "id": "Ut9AwClQ-LE6"
      }
    },
    {
      "cell_type": "code",
      "metadata": {
        "id": "kziWd-trl199"
      },
      "source": [
        "txt1 = '안녕하세요?'\n",
        "txt2 = '1. Title-제목을 입력하세요'\n",
        "txt3 = '3피오R2D2'"
      ],
      "execution_count": null,
      "outputs": []
    },
    {
      "cell_type": "code",
      "source": [
        "result1 = txt1.isalnum()\n",
        "result2 = txt2.isalnum()\n",
        "result3 = txt3.isalnum()"
      ],
      "metadata": {
        "id": "XYufzMDy-ZRC"
      },
      "execution_count": null,
      "outputs": []
    },
    {
      "cell_type": "code",
      "source": [
        "print(result1)\n",
        "print(result2)\n",
        "print(result3)"
      ],
      "metadata": {
        "id": "cIi22TVH-ZE5",
        "colab": {
          "base_uri": "https://localhost:8080/"
        },
        "outputId": "4175be6c-070a-4538-917f-ca8e5349ede3"
      },
      "execution_count": null,
      "outputs": [
        {
          "output_type": "stream",
          "name": "stdout",
          "text": [
            "False\n",
            "False\n",
            "True\n"
          ]
        }
      ]
    },
    {
      "cell_type": "markdown",
      "metadata": {
        "id": "yFyLowsamZLc"
      },
      "source": [
        "- 문자열을 조작하는 작업은 이후 데이터 분석, AI 학습을 위한 데이터 조작 등에서 많이 활용되므로 다양하게 익혀두는 것이 좋습니다."
      ]
    },
    {
      "cell_type": "markdown",
      "source": [
        "## **5. 함수**"
      ],
      "metadata": {
        "id": "y6f0BUS7EmxA"
      }
    },
    {
      "cell_type": "markdown",
      "source": [
        "- 함수란 특정 목적을 가진 코드의 집합으로 독립적으로 호출될 수 있는 것을 말합니다."
      ],
      "metadata": {
        "id": "gFUeT8sd2YGO"
      }
    },
    {
      "cell_type": "markdown",
      "metadata": {
        "id": "02frkOTzFVai"
      },
      "source": [
        "- 함수 선언 방법\n",
        "\n",
        "```python\n",
        "def 함수이름(인자1, 인자2, ...):\n",
        "  코드들\n",
        "  return 결과값\n",
        "```"
      ]
    },
    {
      "cell_type": "markdown",
      "source": [
        "- 함수 선언의 예"
      ],
      "metadata": {
        "id": "zyC_bMu0FUE3"
      }
    },
    {
      "cell_type": "code",
      "source": [
        "def add_number(n1, n2):\n",
        "    result = n1 + n2\n",
        "    return result"
      ],
      "metadata": {
        "id": "RuTn-xITGQi2"
      },
      "execution_count": null,
      "outputs": []
    },
    {
      "cell_type": "code",
      "source": [
        "def add_text(t1, t2):\n",
        "    print(t1 + t2)"
      ],
      "metadata": {
        "id": "IOEfF9HGGQW3"
      },
      "execution_count": null,
      "outputs": []
    },
    {
      "cell_type": "code",
      "source": [
        "answer = add_number(5, 10)\n",
        "print(answer)"
      ],
      "metadata": {
        "id": "JpW-DPjWGQBf",
        "colab": {
          "base_uri": "https://localhost:8080/"
        },
        "outputId": "befec17e-6b4e-4f7f-fcc8-3bed1dc3f4bf"
      },
      "execution_count": null,
      "outputs": [
        {
          "output_type": "stream",
          "name": "stdout",
          "text": [
            "15\n"
          ]
        }
      ]
    },
    {
      "cell_type": "code",
      "metadata": {
        "id": "W6yyONca_u4z",
        "colab": {
          "base_uri": "https://localhost:8080/"
        },
        "outputId": "50af7405-564b-448e-b1ad-ced7ca367ca4"
      },
      "source": [
        "text1 = '안녕하세요~'\n",
        "text2 = '만나서 반갑습니다.'\n",
        "add_text(text1, text2)"
      ],
      "execution_count": null,
      "outputs": [
        {
          "output_type": "stream",
          "name": "stdout",
          "text": [
            "안녕하세요~만나서 반갑습니다.\n"
          ]
        }
      ]
    },
    {
      "cell_type": "markdown",
      "metadata": {
        "id": "ttUDDQcCMDK_"
      },
      "source": [
        "- 함수 호출 시 인자의 전달 순서 및 전달 인자 지정방법"
      ]
    },
    {
      "cell_type": "code",
      "metadata": {
        "id": "4sghJYLULf_l",
        "colab": {
          "base_uri": "https://localhost:8080/"
        },
        "outputId": "42a1ca0e-680d-42b5-9d9e-8d350d31d283"
      },
      "source": [
        "add_text(text2, text1)\n",
        "add_text(t2=text2, t1=text1)"
      ],
      "execution_count": null,
      "outputs": [
        {
          "output_type": "stream",
          "name": "stdout",
          "text": [
            "만나서 반갑습니다.안녕하세요~\n",
            "안녕하세요~만나서 반갑습니다.\n"
          ]
        }
      ]
    },
    {
      "cell_type": "markdown",
      "metadata": {
        "id": "yACyHND4MQQ5"
      },
      "source": [
        "- 함수 선언 시 인자의 기본값 설정방법"
      ]
    },
    {
      "cell_type": "code",
      "metadata": {
        "id": "Ye8PcMg-MAP5"
      },
      "source": [
        "def add_number(n1=100, n2=200):\n",
        "    result = n1 + n2\n",
        "    return result"
      ],
      "execution_count": null,
      "outputs": []
    },
    {
      "cell_type": "code",
      "source": [
        "result = add_number(20, 30)\n",
        "print(result)"
      ],
      "metadata": {
        "id": "aj0SanwVGMg7",
        "colab": {
          "base_uri": "https://localhost:8080/"
        },
        "outputId": "b1d3b67f-0d30-451b-97ff-7822d0b3cd1d"
      },
      "execution_count": null,
      "outputs": [
        {
          "output_type": "stream",
          "name": "stdout",
          "text": [
            "50\n"
          ]
        }
      ]
    },
    {
      "cell_type": "code",
      "source": [
        "result = add_number()\n",
        "print(result)"
      ],
      "metadata": {
        "id": "gVlul9g9GMau",
        "colab": {
          "base_uri": "https://localhost:8080/"
        },
        "outputId": "fe025732-eaa1-4187-cadf-6bd803fe43db"
      },
      "execution_count": null,
      "outputs": [
        {
          "output_type": "stream",
          "name": "stdout",
          "text": [
            "300\n"
          ]
        }
      ]
    },
    {
      "cell_type": "markdown",
      "metadata": {
        "id": "DtbW4IsSM7VK"
      },
      "source": [
        "- 함수 선언 시 인자의 기본값 설정할 때, 기본값이 설정된 인자는 뒤쪽에 위치해야 합니다."
      ]
    },
    {
      "cell_type": "code",
      "metadata": {
        "id": "JhFN5d_5MiiD",
        "colab": {
          "base_uri": "https://localhost:8080/",
          "height": 136
        },
        "outputId": "cebc94b8-9de6-4a7d-9f71-397fabe96e0d"
      },
      "source": [
        "def add_number(n1=100, n2):\n",
        "    result = n1 + n2\n",
        "    return result"
      ],
      "execution_count": null,
      "outputs": [
        {
          "output_type": "error",
          "ename": "SyntaxError",
          "evalue": "ignored",
          "traceback": [
            "\u001b[0;36m  File \u001b[0;32m\"<ipython-input-71-22252ae1d897>\"\u001b[0;36m, line \u001b[0;32m1\u001b[0m\n\u001b[0;31m    def add_number(n1=100, n2):\u001b[0m\n\u001b[0m                           ^\u001b[0m\n\u001b[0;31mSyntaxError\u001b[0m\u001b[0;31m:\u001b[0m non-default argument follows default argument\n"
          ]
        }
      ]
    },
    {
      "cell_type": "code",
      "source": [
        "result = add_number(30)\n",
        "print(result)"
      ],
      "metadata": {
        "id": "4RHEB5D3GKE4",
        "colab": {
          "base_uri": "https://localhost:8080/"
        },
        "outputId": "d04d2d37-7f31-4aa9-f1b4-2ef36cdafe0e"
      },
      "execution_count": null,
      "outputs": [
        {
          "output_type": "stream",
          "name": "stdout",
          "text": [
            "230\n"
          ]
        }
      ]
    },
    {
      "cell_type": "code",
      "metadata": {
        "id": "SaHsYJGcNLQP"
      },
      "source": [
        "def add_number(n1, n2=100):\n",
        "    result = n1 + n2\n",
        "    return result"
      ],
      "execution_count": null,
      "outputs": []
    },
    {
      "cell_type": "code",
      "source": [
        "result = add_number(30)\n",
        "print(result)"
      ],
      "metadata": {
        "id": "xHYu5_9kGIAW",
        "colab": {
          "base_uri": "https://localhost:8080/"
        },
        "outputId": "a2cc84a9-e21a-4f5b-c77a-9806737d26df"
      },
      "execution_count": null,
      "outputs": [
        {
          "output_type": "stream",
          "name": "stdout",
          "text": [
            "130\n"
          ]
        }
      ]
    },
    {
      "cell_type": "markdown",
      "metadata": {
        "id": "DxCzMX9uRWY1"
      },
      "source": [
        "- 함수의 결과값 다중 반환"
      ]
    },
    {
      "cell_type": "code",
      "source": [
        "def reverse(x, y, z):\n",
        "    return z, y, x"
      ],
      "metadata": {
        "id": "BGYEbLakGFg3"
      },
      "execution_count": null,
      "outputs": []
    },
    {
      "cell_type": "code",
      "metadata": {
        "id": "-nebmKnPNQCB",
        "colab": {
          "base_uri": "https://localhost:8080/"
        },
        "outputId": "07b7d280-cb5d-4ee9-c7c6-3d066f0ef372"
      },
      "source": [
        "result = reverse(1, 2, 3)\n",
        "print(result)\n",
        "print(type(result))"
      ],
      "execution_count": null,
      "outputs": [
        {
          "output_type": "stream",
          "name": "stdout",
          "text": [
            "(3, 2, 1)\n",
            "<class 'tuple'>\n"
          ]
        }
      ]
    },
    {
      "cell_type": "code",
      "source": [
        "print(result[0])\n",
        "print(result[1])\n",
        "print(result[2])"
      ],
      "metadata": {
        "id": "sU-W4TD-GByX",
        "colab": {
          "base_uri": "https://localhost:8080/"
        },
        "outputId": "6b945d81-4805-45b1-ee8c-c1a9e603a6e5"
      },
      "execution_count": null,
      "outputs": [
        {
          "output_type": "stream",
          "name": "stdout",
          "text": [
            "3\n",
            "2\n",
            "1\n"
          ]
        }
      ]
    },
    {
      "cell_type": "code",
      "source": [
        "r1, r2, r3 = reverse(1, 2, 3)\n",
        "print(r1)\n",
        "print(r2)\n",
        "print(r3)"
      ],
      "metadata": {
        "id": "7r3lDyFhGBgu",
        "colab": {
          "base_uri": "https://localhost:8080/"
        },
        "outputId": "0202ba4e-2920-4bfd-8f88-03f850dc0ecd"
      },
      "execution_count": null,
      "outputs": [
        {
          "output_type": "stream",
          "name": "stdout",
          "text": [
            "3\n",
            "2\n",
            "1\n"
          ]
        }
      ]
    },
    {
      "cell_type": "markdown",
      "metadata": {
        "id": "RmX08VoZR_7J"
      },
      "source": [
        "## **6. 모듈**"
      ]
    },
    {
      "cell_type": "markdown",
      "source": [
        "- 모듈, 패키지, 라이브러리 등 다양한 표현을 사용하고 있습니다."
      ],
      "metadata": {
        "id": "BAgNWDJZGGhH"
      }
    },
    {
      "cell_type": "code",
      "metadata": {
        "id": "HGYLJ1BzRwoP",
        "colab": {
          "base_uri": "https://localhost:8080/"
        },
        "outputId": "950356af-98d7-4001-d8ba-53fae8bccd7a"
      },
      "source": [
        "import time\n",
        "\n",
        "print('2초간 프로그램을 정지합니다.')\n",
        "print(time.localtime())\n",
        "\n",
        "time.sleep(2)\n",
        "\n",
        "print(time.localtime())\n",
        "print('2초가 지났습니다.')"
      ],
      "execution_count": null,
      "outputs": [
        {
          "output_type": "stream",
          "name": "stdout",
          "text": [
            "2초간 프로그램을 정지합니다.\n",
            "time.struct_time(tm_year=2023, tm_mon=7, tm_mday=28, tm_hour=14, tm_min=26, tm_sec=28, tm_wday=4, tm_yday=209, tm_isdst=0)\n",
            "time.struct_time(tm_year=2023, tm_mon=7, tm_mday=28, tm_hour=14, tm_min=26, tm_sec=30, tm_wday=4, tm_yday=209, tm_isdst=0)\n",
            "2초가 지났습니다.\n"
          ]
        }
      ]
    },
    {
      "cell_type": "code",
      "metadata": {
        "id": "-PDky47DSN0q",
        "colab": {
          "base_uri": "https://localhost:8080/"
        },
        "outputId": "a4152b5a-e6f7-436e-fb01-35971476e573"
      },
      "source": [
        "import time\n",
        "\n",
        "print('5초간 프로그램을 정지합니다.')\n",
        "now = time.localtime()\n",
        "print('%04d/%02d/%02d %02d:%02d:%02d' % (now.tm_year, now.tm_mon, now.tm_mday,\n",
        "                                         now.tm_hour, now.tm_min, now.tm_sec))\n",
        "\n",
        "time.sleep(5)\n",
        "\n",
        "now = time.localtime()\n",
        "print('{}/{}/{} {}:{}:{}'.format(now.tm_year, now.tm_mon, now.tm_mday,\n",
        "                                 now.tm_hour, now.tm_min, now.tm_sec))\n",
        "print('5초가 지났습니다.')"
      ],
      "execution_count": null,
      "outputs": [
        {
          "output_type": "stream",
          "name": "stdout",
          "text": [
            "5초간 프로그램을 정지합니다.\n",
            "2023/07/28 14:26:30\n",
            "2023/7/28 14:26:35\n",
            "5초가 지났습니다.\n"
          ]
        }
      ]
    },
    {
      "cell_type": "code",
      "source": [
        "print('{5}/{2}/{0} {1}:{3}:{4}'.format(now.tm_year, now.tm_mon, now.tm_mday,\n",
        "                                 now.tm_hour, now.tm_min, now.tm_sec))"
      ],
      "metadata": {
        "colab": {
          "base_uri": "https://localhost:8080/"
        },
        "id": "B-DGcLpOOH-i",
        "outputId": "1dfba8cb-57c0-4c69-9497-2d6c6fd27154"
      },
      "execution_count": null,
      "outputs": [
        {
          "output_type": "stream",
          "name": "stdout",
          "text": [
            "35/28/2023 7:14:26\n"
          ]
        }
      ]
    },
    {
      "cell_type": "markdown",
      "metadata": {
        "id": "6_LZEYtnT_F7"
      },
      "source": [
        "- 모듈 임포트"
      ]
    },
    {
      "cell_type": "code",
      "metadata": {
        "id": "AjjFU8a6Tke9",
        "colab": {
          "base_uri": "https://localhost:8080/"
        },
        "outputId": "97740ad2-a420-4574-fd8f-3e8d15c53306"
      },
      "source": [
        "from time import sleep\n",
        "\n",
        "now = time.localtime()\n",
        "print('%04d/%02d/%02d %02d:%02d:%02d' % (now.tm_year, now.tm_mon, now.tm_mday,\n",
        "                                         now.tm_hour, now.tm_min, now.tm_sec))\n",
        "\n",
        "sleep(5)\n",
        "\n",
        "now = time.localtime()\n",
        "print('{}/{}/{} {}:{}:{}'.format(now.tm_year, now.tm_mon, now.tm_mday,\n",
        "                                 now.tm_hour, now.tm_min, now.tm_sec))"
      ],
      "execution_count": null,
      "outputs": [
        {
          "output_type": "stream",
          "name": "stdout",
          "text": [
            "2023/07/28 14:26:35\n",
            "2023/7/28 14:26:40\n"
          ]
        }
      ]
    },
    {
      "cell_type": "code",
      "metadata": {
        "id": "u0U_siXVUNwq",
        "colab": {
          "base_uri": "https://localhost:8080/"
        },
        "outputId": "da5467db-dd22-49e3-b50b-e1aa40014f29"
      },
      "source": [
        "import time as t\n",
        "\n",
        "now = t.localtime()\n",
        "print('%04d/%02d/%02d %02d:%02d:%02d' % (now.tm_year, now.tm_mon, now.tm_mday,\n",
        "                                         now.tm_hour, now.tm_min, now.tm_sec))\n",
        "\n",
        "t.sleep(5)\n",
        "\n",
        "now = t.localtime()\n",
        "print('{}/{}/{} {}:{}:{}'.format(now.tm_year, now.tm_mon, now.tm_mday,\n",
        "                                 now.tm_hour, now.tm_min, now.tm_sec))"
      ],
      "execution_count": null,
      "outputs": [
        {
          "output_type": "stream",
          "name": "stdout",
          "text": [
            "2023/07/28 14:26:40\n",
            "2023/7/28 14:26:45\n"
          ]
        }
      ]
    },
    {
      "cell_type": "markdown",
      "metadata": {
        "id": "aexBwYxsaCEf"
      },
      "source": [
        "## **7. 예외처리**"
      ]
    },
    {
      "cell_type": "code",
      "source": [
        "print('안녕하세요.')\n",
        "print(param)"
      ],
      "metadata": {
        "id": "z2vGIzH6M8z_",
        "colab": {
          "base_uri": "https://localhost:8080/",
          "height": 209
        },
        "outputId": "ae0c4f2a-1055-48e7-c999-41f47d8c7dd0"
      },
      "execution_count": null,
      "outputs": [
        {
          "output_type": "stream",
          "name": "stdout",
          "text": [
            "안녕하세요.\n"
          ]
        },
        {
          "output_type": "error",
          "ename": "NameError",
          "evalue": "ignored",
          "traceback": [
            "\u001b[0;31m---------------------------------------------------------------------------\u001b[0m",
            "\u001b[0;31mNameError\u001b[0m                                 Traceback (most recent call last)",
            "\u001b[0;32m<ipython-input-84-6d5ed5ef1d00>\u001b[0m in \u001b[0;36m<cell line: 2>\u001b[0;34m()\u001b[0m\n\u001b[1;32m      1\u001b[0m \u001b[0mprint\u001b[0m\u001b[0;34m(\u001b[0m\u001b[0;34m'안녕하세요.'\u001b[0m\u001b[0;34m)\u001b[0m\u001b[0;34m\u001b[0m\u001b[0;34m\u001b[0m\u001b[0m\n\u001b[0;32m----> 2\u001b[0;31m \u001b[0mprint\u001b[0m\u001b[0;34m(\u001b[0m\u001b[0mparam\u001b[0m\u001b[0;34m)\u001b[0m\u001b[0;34m\u001b[0m\u001b[0;34m\u001b[0m\u001b[0m\n\u001b[0m",
            "\u001b[0;31mNameError\u001b[0m: name 'param' is not defined"
          ]
        }
      ]
    },
    {
      "cell_type": "code",
      "metadata": {
        "id": "2AKlzGdFZ7mH",
        "colab": {
          "base_uri": "https://localhost:8080/"
        },
        "outputId": "7732bd23-ef6d-4f13-b295-f7651685cc02"
      },
      "source": [
        "try:\n",
        "    print('안녕하세요.')\n",
        "    print(param)\n",
        "\n",
        "except:\n",
        "    print('예외가 발생했습니다.')"
      ],
      "execution_count": null,
      "outputs": [
        {
          "output_type": "stream",
          "name": "stdout",
          "text": [
            "안녕하세요.\n",
            "예외가 발생했습니다.\n"
          ]
        }
      ]
    },
    {
      "cell_type": "code",
      "source": [
        "del param2"
      ],
      "metadata": {
        "id": "bcNCttluNfbs",
        "colab": {
          "base_uri": "https://localhost:8080/",
          "height": 172
        },
        "outputId": "cac5197d-7b59-47ef-cd15-bc0615f7b06e"
      },
      "execution_count": null,
      "outputs": [
        {
          "output_type": "error",
          "ename": "NameError",
          "evalue": "ignored",
          "traceback": [
            "\u001b[0;31m---------------------------------------------------------------------------\u001b[0m",
            "\u001b[0;31mNameError\u001b[0m                                 Traceback (most recent call last)",
            "\u001b[0;32m<ipython-input-86-ec4bae14183d>\u001b[0m in \u001b[0;36m<cell line: 1>\u001b[0;34m()\u001b[0m\n\u001b[0;32m----> 1\u001b[0;31m \u001b[0;32mdel\u001b[0m \u001b[0mparam2\u001b[0m\u001b[0;34m\u001b[0m\u001b[0;34m\u001b[0m\u001b[0m\n\u001b[0m",
            "\u001b[0;31mNameError\u001b[0m: name 'param2' is not defined"
          ]
        }
      ]
    },
    {
      "cell_type": "code",
      "metadata": {
        "id": "54Z-tu5CaN-q",
        "colab": {
          "base_uri": "https://localhost:8080/"
        },
        "outputId": "73482055-3c47-4619-f437-e6791a3d1130"
      },
      "source": [
        "# param2 = '반갑습니다.'\n",
        "\n",
        "try:\n",
        "    print('안녕하세요.')\n",
        "    print(param2)\n",
        "\n",
        "except:\n",
        "    print('예외가 발생했습니다.')\n",
        "\n",
        "else:\n",
        "    print('예외가 발생하지 않았습니다.')\n",
        "\n",
        "finally:\n",
        "    print('무조건 실행하는 코드')"
      ],
      "execution_count": null,
      "outputs": [
        {
          "output_type": "stream",
          "name": "stdout",
          "text": [
            "안녕하세요.\n",
            "예외가 발생했습니다.\n",
            "무조건 실행하는 코드\n"
          ]
        }
      ]
    },
    {
      "cell_type": "code",
      "metadata": {
        "id": "TULM558jagPe",
        "colab": {
          "base_uri": "https://localhost:8080/"
        },
        "outputId": "77ad1ebd-e2bf-482d-b249-2459c96706a7"
      },
      "source": [
        "try:\n",
        "    print('안녕하세요.')\n",
        "    print(param3)\n",
        "\n",
        "except:\n",
        "    print('예외가 발생했습니다.')\n",
        "\n",
        "finally:\n",
        "    print('무조건 실행하는 코드')"
      ],
      "execution_count": null,
      "outputs": [
        {
          "output_type": "stream",
          "name": "stdout",
          "text": [
            "안녕하세요.\n",
            "예외가 발생했습니다.\n",
            "무조건 실행하는 코드\n"
          ]
        }
      ]
    },
    {
      "cell_type": "code",
      "metadata": {
        "id": "8prziPL8a-yB",
        "colab": {
          "base_uri": "https://localhost:8080/"
        },
        "outputId": "494ad337-f0db-4e8a-9cb4-aeb14fa962bd"
      },
      "source": [
        "try:\n",
        "    print('안녕하세요.')\n",
        "    print(param3)\n",
        "\n",
        "except Exception as e:\n",
        "    print(e)\n",
        "    print('예외가 발생했습니다.')"
      ],
      "execution_count": null,
      "outputs": [
        {
          "output_type": "stream",
          "name": "stdout",
          "text": [
            "안녕하세요.\n",
            "name 'param3' is not defined\n",
            "예외가 발생했습니다.\n"
          ]
        }
      ]
    },
    {
      "cell_type": "markdown",
      "source": [
        "- 아래의 예제는 **키보드 인터럽트 예외**를 발생시키기 위하여 무한루프를 돌게 됩니다.\n",
        "- 적당한 시점에 셀의 좌측상단에 있는 (▶) 또는 (◼) 버튼을 눌러서 중지시켜주세요."
      ],
      "metadata": {
        "id": "pk88vVFCvNx-"
      }
    },
    {
      "cell_type": "code",
      "metadata": {
        "id": "G_s7vNG7bPK_",
        "colab": {
          "base_uri": "https://localhost:8080/"
        },
        "outputId": "9c5d56aa-94b1-4009-ad8b-8251ed70e650"
      },
      "source": [
        "import time\n",
        "\n",
        "count = 1\n",
        "try:\n",
        "    while True:\n",
        "        print(count)\n",
        "        count += 1\n",
        "        time.sleep(0.5)\n",
        "\n",
        "except KeyboardInterrupt:\n",
        "    print('사용자에 의해 프로그램이 중단되었습니다.')"
      ],
      "execution_count": null,
      "outputs": [
        {
          "output_type": "stream",
          "name": "stdout",
          "text": [
            "1\n",
            "2\n",
            "3\n",
            "4\n",
            "5\n",
            "6\n",
            "7\n",
            "8\n",
            "9\n",
            "10\n",
            "11\n",
            "12\n",
            "13\n",
            "14\n",
            "15\n",
            "16\n",
            "17\n",
            "18\n",
            "19\n",
            "20\n",
            "21\n",
            "22\n",
            "사용자에 의해 프로그램이 중단되었습니다.\n"
          ]
        }
      ]
    },
    {
      "cell_type": "markdown",
      "source": [
        "## **8. 클래스**"
      ],
      "metadata": {
        "id": "wlo_ZxMvF354"
      }
    },
    {
      "cell_type": "markdown",
      "metadata": {
        "id": "ktv0ayC6UmFI"
      },
      "source": [
        "- 클래스\n",
        "  - 객체를 선언하기 위한 자료구조로서의 틀\n",
        "  - 파이썬에서는 Name Space라고 표현하기도 합니다.\n",
        "  - 클래스는 객체를 선언하기 위한 틀이므로 그 자체로는 사용할 수 없음. 인스턴스 객체를 생성하여 사용합니다."
      ]
    },
    {
      "cell_type": "markdown",
      "source": [
        "- 멤버(멤버변수, 클래스멤버)\n",
        "  - 클래스의 내부에서 변수의 역할을 담당하는 것으로 메소드의 밖에서 정의합니다."
      ],
      "metadata": {
        "id": "y0Nqi7dZGiLg"
      }
    },
    {
      "cell_type": "markdown",
      "source": [
        "- 메소드\n",
        "  - 클래스의 내부에서 함수의 역할을 담당하는 것을 말합니다."
      ],
      "metadata": {
        "id": "v1MXSovRGysP"
      }
    },
    {
      "cell_type": "code",
      "source": [
        "class MyClass:\n",
        "    var = '안녕하세요'\n",
        "\n",
        "    def sayHello(self):\n",
        "        print(self.var)"
      ],
      "metadata": {
        "id": "pzkxSO8xQdWg"
      },
      "execution_count": null,
      "outputs": []
    },
    {
      "cell_type": "code",
      "metadata": {
        "id": "bO3kn_eSUeKk",
        "colab": {
          "base_uri": "https://localhost:8080/"
        },
        "outputId": "35bfce98-e4a5-44b5-c617-62e8761efa18"
      },
      "source": [
        "obj = MyClass()\n",
        "print(obj.var)\n",
        "obj.sayHello()"
      ],
      "execution_count": null,
      "outputs": [
        {
          "output_type": "stream",
          "name": "stdout",
          "text": [
            "안녕하세요\n",
            "안녕하세요\n"
          ]
        }
      ]
    },
    {
      "cell_type": "markdown",
      "metadata": {
        "id": "m2f67YI0XNbJ"
      },
      "source": [
        "- 생성자"
      ]
    },
    {
      "cell_type": "code",
      "metadata": {
        "id": "17NfqxJfVnDB"
      },
      "source": [
        "class MyClass2:\n",
        "    def __init__(self):\n",
        "        self.var = \"안녕하세요\"\n",
        "        print(\"MyClass2 인스턴스 객체가 생성되었습니다.\")"
      ],
      "execution_count": null,
      "outputs": []
    },
    {
      "cell_type": "code",
      "source": [
        "obj = MyClass2()"
      ],
      "metadata": {
        "colab": {
          "base_uri": "https://localhost:8080/"
        },
        "id": "ogLjQTwEQ3ws",
        "outputId": "c7808e62-319c-44fc-e436-a46f0196e095"
      },
      "execution_count": null,
      "outputs": [
        {
          "output_type": "stream",
          "name": "stdout",
          "text": [
            "MyClass2 인스턴스 객체가 생성되었습니다.\n"
          ]
        }
      ]
    },
    {
      "cell_type": "code",
      "source": [
        "print(obj.var)"
      ],
      "metadata": {
        "id": "U4bAP6hfAR_c",
        "colab": {
          "base_uri": "https://localhost:8080/"
        },
        "outputId": "7dc155bb-467b-41ec-ec1d-823dfe3c44b1"
      },
      "execution_count": null,
      "outputs": [
        {
          "output_type": "stream",
          "name": "stdout",
          "text": [
            "안녕하세요\n"
          ]
        }
      ]
    },
    {
      "cell_type": "markdown",
      "metadata": {
        "id": "7PB6lAmAXxNP"
      },
      "source": [
        "- 소멸자"
      ]
    },
    {
      "cell_type": "code",
      "metadata": {
        "id": "hUCPaXeAXmTR"
      },
      "source": [
        "class MyClass3:\n",
        "    def __init__(self):\n",
        "        self.var = \"안녕하세요\"\n",
        "        print(\"MyClass3 인스턴스 객체가 생성되었습니다.\")\n",
        "\n",
        "    def __del__(self):\n",
        "        print(\"MyClass3 인스턴스 객체가 메모리에서 제거됩니다.\")"
      ],
      "execution_count": null,
      "outputs": []
    },
    {
      "cell_type": "code",
      "source": [
        "obj = MyClass3()"
      ],
      "metadata": {
        "id": "PYiXd3VaAq56",
        "colab": {
          "base_uri": "https://localhost:8080/"
        },
        "outputId": "c8117793-e2e4-42f7-edb5-1312aea3131c"
      },
      "execution_count": null,
      "outputs": [
        {
          "output_type": "stream",
          "name": "stdout",
          "text": [
            "MyClass3 인스턴스 객체가 생성되었습니다.\n"
          ]
        }
      ]
    },
    {
      "cell_type": "code",
      "source": [
        "del obj"
      ],
      "metadata": {
        "id": "3y311TO0AqOG",
        "colab": {
          "base_uri": "https://localhost:8080/"
        },
        "outputId": "709ee8e6-b968-4db4-c6e8-b71edc640b15"
      },
      "execution_count": null,
      "outputs": [
        {
          "output_type": "stream",
          "name": "stdout",
          "text": [
            "MyClass3 인스턴스 객체가 메모리에서 제거됩니다.\n"
          ]
        }
      ]
    },
    {
      "cell_type": "markdown",
      "metadata": {
        "id": "j4n_UeJNYFKq"
      },
      "source": [
        "- 상속"
      ]
    },
    {
      "cell_type": "code",
      "source": [
        "class Add:\n",
        "    def add(self, n1, n2):\n",
        "        return n1 + n2"
      ],
      "metadata": {
        "id": "KEh8e18KRqOZ"
      },
      "execution_count": null,
      "outputs": []
    },
    {
      "cell_type": "code",
      "source": [
        "class Calculator(Add):\n",
        "    def sub(self, n1, n2):\n",
        "        return n1 - n2"
      ],
      "metadata": {
        "id": "y9BEAyvRRsMW"
      },
      "execution_count": null,
      "outputs": []
    },
    {
      "cell_type": "code",
      "source": [
        "obj = Calculator()"
      ],
      "metadata": {
        "id": "TkKOGkAaRuaj"
      },
      "execution_count": null,
      "outputs": []
    },
    {
      "cell_type": "code",
      "metadata": {
        "id": "UGLVKQdkYCOb",
        "colab": {
          "base_uri": "https://localhost:8080/"
        },
        "outputId": "9d32e817-7a96-48f8-a70d-ef9df5113bc3"
      },
      "source": [
        "print(obj.add(1, 2))\n",
        "print(obj.sub(1, 2))"
      ],
      "execution_count": null,
      "outputs": [
        {
          "output_type": "stream",
          "name": "stdout",
          "text": [
            "3\n",
            "-1\n"
          ]
        }
      ]
    },
    {
      "cell_type": "code",
      "metadata": {
        "id": "Trxa6JkWZbci",
        "colab": {
          "base_uri": "https://localhost:8080/"
        },
        "outputId": "bc093e47-786a-4f2a-cfa2-df85740255fe"
      },
      "source": [
        "class Add:\n",
        "    def add(self, n1, n2):\n",
        "        return n1 + n2\n",
        "\n",
        "class Multiply:\n",
        "    def multiply(self, n1, n2):\n",
        "        return n1 * n2\n",
        "\n",
        "class Calculator(Add, Multiply):\n",
        "    def sub(self, n1, n2):\n",
        "        return n1 - n2\n",
        "\n",
        "obj = Calculator()\n",
        "print(obj.add(1, 2))\n",
        "print(obj.multiply(3, 2))\n",
        "print(obj.sub(1, 2))"
      ],
      "execution_count": null,
      "outputs": [
        {
          "output_type": "stream",
          "name": "stdout",
          "text": [
            "3\n",
            "6\n",
            "-1\n"
          ]
        }
      ]
    },
    {
      "cell_type": "markdown",
      "source": [
        "## **9. 표준 라이브러리**"
      ],
      "metadata": {
        "id": "2KkIAVBHzHpq"
      }
    },
    {
      "cell_type": "markdown",
      "source": [
        "### 9-1. math 모듈"
      ],
      "metadata": {
        "id": "SehJMhL5zOqJ"
      }
    },
    {
      "cell_type": "markdown",
      "source": [
        "- 정밀한 계산을 위한 복잡한 수학 연산 라이브러리"
      ],
      "metadata": {
        "id": "Ua9k-YYo2qcj"
      }
    },
    {
      "cell_type": "markdown",
      "source": [
        "- 삼각함수, 제곱근 등 연산 예시"
      ],
      "metadata": {
        "id": "POtH9H4SzY3h"
      }
    },
    {
      "cell_type": "code",
      "source": [
        "import math\n",
        "\n",
        "print(math.sin(math.radians(45)))\n",
        "print(math.sqrt(2))\n",
        "print(math.factorial(5))"
      ],
      "metadata": {
        "id": "8759BGSdzqbB",
        "colab": {
          "base_uri": "https://localhost:8080/"
        },
        "outputId": "316e2eaa-8bf1-464b-c59a-2692a5714ec6"
      },
      "execution_count": null,
      "outputs": [
        {
          "output_type": "stream",
          "name": "stdout",
          "text": [
            "0.7071067811865475\n",
            "1.4142135623730951\n",
            "120\n"
          ]
        }
      ]
    },
    {
      "cell_type": "markdown",
      "source": [
        "### 9-2. random 모듈"
      ],
      "metadata": {
        "id": "TQO---rlz8BI"
      }
    },
    {
      "cell_type": "markdown",
      "source": [
        "- 난수 생성 기능. 어떤 수가 나올지 예측할 수 없는 무작위 동작 구현"
      ],
      "metadata": {
        "id": "Al69uMKA2sdH"
      }
    },
    {
      "cell_type": "code",
      "source": [
        "import random\n",
        "\n",
        "for i in range(5):\n",
        "  print(random.random())"
      ],
      "metadata": {
        "id": "uyVgul0H0JDq",
        "colab": {
          "base_uri": "https://localhost:8080/"
        },
        "outputId": "d568e642-2768-46af-a68d-bfce18d3af8b"
      },
      "execution_count": null,
      "outputs": [
        {
          "output_type": "stream",
          "name": "stdout",
          "text": [
            "0.8300267733734388\n",
            "0.5769461496853805\n",
            "0.9400793680761235\n",
            "0.8695449064715451\n",
            "0.16529107844155755\n"
          ]
        }
      ]
    },
    {
      "cell_type": "code",
      "source": [
        "import random\n",
        "\n",
        "for i in range(5):\n",
        "  print(random.randint(1, 10))"
      ],
      "metadata": {
        "id": "xedyFnSm0S9h",
        "colab": {
          "base_uri": "https://localhost:8080/"
        },
        "outputId": "486d3b89-0abd-426e-cab0-64f3f24f2cba"
      },
      "execution_count": null,
      "outputs": [
        {
          "output_type": "stream",
          "name": "stdout",
          "text": [
            "8\n",
            "5\n",
            "1\n",
            "5\n",
            "6\n"
          ]
        }
      ]
    },
    {
      "cell_type": "code",
      "source": [
        "import random\n",
        "\n",
        "# randrange()를 사용해서 0~100 사이의 숫자 생성하기\n",
        "print (\"Random number from 0~100 is : \",end=\"\")\n",
        "print (random.randrange(100))\n",
        "\n",
        "# randrange()를 사용해서 50~100 사이의 숫자 생성하기\n",
        "print (\"Random number from 50~100 is : \",end=\"\")\n",
        "print (random.randrange(50,100))\n",
        "\n",
        "# randrange()를 사용해서 50~100 사이의 숫자를 5 간격을 기준으로 생성하기\n",
        "print (\"Random number from 50~100 skip 5 is : \",end=\"\")\n",
        "print (random.randrange(50,100,5))"
      ],
      "metadata": {
        "id": "m32rKw8S0rZC",
        "colab": {
          "base_uri": "https://localhost:8080/"
        },
        "outputId": "45f016fe-7342-4d9c-fc87-478b7f75017e"
      },
      "execution_count": null,
      "outputs": [
        {
          "output_type": "stream",
          "name": "stdout",
          "text": [
            "Random number from 0~100 is : 26\n",
            "Random number from 50~100 is : 75\n",
            "Random number from 50~100 skip 5 is : 85\n"
          ]
        }
      ]
    },
    {
      "cell_type": "code",
      "source": [
        "import random\n",
        "\n",
        "# 리스트에서 랜덤으로 값 가져오기\n",
        "list1 = [1, 2, 3, 4, 5, 6]\n",
        "print(random.choice(list1))\n",
        "\n",
        "# 문자열에서 랜덤으로 값 가져오기\n",
        "string = \"striver\"\n",
        "print(random.choice(string))"
      ],
      "metadata": {
        "id": "Xp-WFJl90rVI",
        "colab": {
          "base_uri": "https://localhost:8080/"
        },
        "outputId": "b22e76e0-1d13-4458-8d2e-e074d9597b2e"
      },
      "execution_count": null,
      "outputs": [
        {
          "output_type": "stream",
          "name": "stdout",
          "text": [
            "1\n",
            "e\n"
          ]
        }
      ]
    },
    {
      "cell_type": "code",
      "source": [
        "import random\n",
        "\n",
        "# 리스트 정의\n",
        "sample_list = ['A', 'B', 'C', 'D', 'E']\n",
        "\n",
        "print(\"Original list : \")\n",
        "print(sample_list)\n",
        "\n",
        "# 첫 번째 셔플(섞기)\n",
        "random.shuffle(sample_list)\n",
        "print(\"\\nAfter the first shuffle : \")\n",
        "print(sample_list)\n",
        "\n",
        "# 두 번째 셔플(섞기)\n",
        "random.shuffle(sample_list)\n",
        "print(\"\\nAfter the second shuffle : \")\n",
        "print(sample_list)"
      ],
      "metadata": {
        "id": "-c1Smuq20rN5",
        "colab": {
          "base_uri": "https://localhost:8080/"
        },
        "outputId": "3621fc42-bcf9-4b2c-9108-bf4a414dfe35"
      },
      "execution_count": null,
      "outputs": [
        {
          "output_type": "stream",
          "name": "stdout",
          "text": [
            "Original list : \n",
            "['A', 'B', 'C', 'D', 'E']\n",
            "\n",
            "After the first shuffle : \n",
            "['C', 'D', 'A', 'B', 'E']\n",
            "\n",
            "After the second shuffle : \n",
            "['E', 'D', 'A', 'B', 'C']\n"
          ]
        }
      ]
    },
    {
      "cell_type": "code",
      "source": [
        "import random\n",
        "\n",
        "# 리스트로부터 길이 3의 랜덤 아이템으로 구성된 리스트를 샘플링하여 출력\n",
        "list1 = [1, 2, 3, 4, 5, 6]\n",
        "print(\"With list:\", random.sample(list1, 3))\n",
        "\n",
        "# 문자열로부터 길이 4의 랜덤 아이템으로 구성된 리스트를 샘플링하여 출력\n",
        "string = \"GeeksforGeeks\"\n",
        "print(\"With string:\", random.sample(string, 4))\n",
        "\n",
        "# 튜플로부터 길이 4의 랜덤 아이템으로 구성된 리스트를 샘플링하여 출력\n",
        "tuple1 = (\"ankit\", \"geeks\", \"computer\", \"science\",\n",
        "                   \"portal\", \"scientist\", \"btech\")\n",
        "print(\"With tuple:\", random.sample(tuple1, 4))\n",
        "\n",
        "# set(집합)으로부터 길이 3의 랜덤 아이템으로 구성된 리스트를 샘플링하여 출력\n",
        "set1 = {\"a\", \"b\", \"c\", \"d\", \"e\"}\n",
        "print(\"With set:\", random.sample(set1, 3))"
      ],
      "metadata": {
        "id": "rA1tvJKn0rIY",
        "colab": {
          "base_uri": "https://localhost:8080/"
        },
        "outputId": "df04b622-0e02-4101-8660-1afc53db4aa7"
      },
      "execution_count": null,
      "outputs": [
        {
          "output_type": "stream",
          "name": "stdout",
          "text": [
            "With list: [2, 1, 6]\n",
            "With string: ['e', 'k', 'e', 'r']\n",
            "With tuple: ['ankit', 'geeks', 'scientist', 'computer']\n",
            "With set: ['e', 'a', 'b']\n"
          ]
        },
        {
          "output_type": "stream",
          "name": "stderr",
          "text": [
            "<ipython-input-107-faebd55c68d2>:18: DeprecationWarning: Sampling from a set deprecated\n",
            "since Python 3.9 and will be removed in a subsequent version.\n",
            "  print(\"With set:\", random.sample(set1, 3))\n"
          ]
        }
      ]
    },
    {
      "cell_type": "code",
      "source": [
        "import random\n",
        "\n",
        "for i in range(5):\n",
        "    random.seed(1234)\n",
        "    print(random.randint(1, 1000))"
      ],
      "metadata": {
        "id": "pS74gvabl29V",
        "colab": {
          "base_uri": "https://localhost:8080/"
        },
        "outputId": "cf307ea5-34d4-4afd-b861-095ef2cfdfd8"
      },
      "execution_count": null,
      "outputs": [
        {
          "output_type": "stream",
          "name": "stdout",
          "text": [
            "990\n",
            "990\n",
            "990\n",
            "990\n",
            "990\n"
          ]
        }
      ]
    },
    {
      "cell_type": "markdown",
      "source": [
        "### 9-3. sys 모듈"
      ],
      "metadata": {
        "id": "XnLXwXzR2wiq"
      }
    },
    {
      "cell_type": "markdown",
      "source": [
        "- 파이썬 해석기가 실행되는 환경과 해석기의 여러 기능 조회 및 관리"
      ],
      "metadata": {
        "id": "ji2HK_L72z0L"
      }
    },
    {
      "cell_type": "code",
      "source": [
        "import sys\n",
        "\n",
        "print(\"버전:\", sys.version)\n",
        "print(\"플랫폼:\", sys.platform)\n",
        "\n",
        "if sys.platform == \"win32\":\n",
        "  print(sys.getwindowsversion())\n",
        "\n",
        "print(\"바이트 순서:\", sys.byteorder)\n",
        "print(\"모듈 경로:\", sys.path)"
      ],
      "metadata": {
        "id": "ITLJwO300q2J",
        "colab": {
          "base_uri": "https://localhost:8080/"
        },
        "outputId": "cf91a730-10a6-4bb3-c615-fc4ef7eae423"
      },
      "execution_count": null,
      "outputs": [
        {
          "output_type": "stream",
          "name": "stdout",
          "text": [
            "버전: 3.10.6 (main, May 29 2023, 11:10:38) [GCC 11.3.0]\n",
            "플랫폼: linux\n",
            "바이트 순서: little\n",
            "모듈 경로: ['/content', '/env/python', '/usr/lib/python310.zip', '/usr/lib/python3.10', '/usr/lib/python3.10/lib-dynload', '', '/usr/local/lib/python3.10/dist-packages', '/usr/lib/python3/dist-packages', '/usr/local/lib/python3.10/dist-packages/IPython/extensions', '/root/.ipython']\n"
          ]
        }
      ]
    },
    {
      "cell_type": "code",
      "source": [
        "!pwd"
      ],
      "metadata": {
        "id": "v4b0Ejo9nTrM",
        "colab": {
          "base_uri": "https://localhost:8080/"
        },
        "outputId": "82b6d353-e202-4d6b-eba0-eec1cac4c036"
      },
      "execution_count": null,
      "outputs": [
        {
          "output_type": "stream",
          "name": "stdout",
          "text": [
            "/content\n"
          ]
        }
      ]
    },
    {
      "cell_type": "markdown",
      "source": [
        "### 9-4. os 모듈"
      ],
      "metadata": {
        "id": "L-z5zSxn3qVg"
      }
    },
    {
      "cell_type": "markdown",
      "source": [
        "- 운영체제와 관련된 기능 가진 모듈\n",
        "- 새로운 폴더 만들거나 폴더 내부 파일 목록 보는 등의 기능 제공"
      ],
      "metadata": {
        "id": "ZbEsCRta26iX"
      }
    },
    {
      "cell_type": "code",
      "source": [
        "import os\n",
        "\n",
        "# 기본 정보 출력\n",
        "print(\"현재 운영체제:\", os.name)\n",
        "print(\"현재 폴더:\", os.getcwd())\n",
        "print(\"현재 폴더의 내부 요소:\", os.listdir())"
      ],
      "metadata": {
        "id": "iwB1pCcO35C6",
        "colab": {
          "base_uri": "https://localhost:8080/"
        },
        "outputId": "5d82e569-4c2b-4caf-dbc5-a488985dcc40"
      },
      "execution_count": null,
      "outputs": [
        {
          "output_type": "stream",
          "name": "stdout",
          "text": [
            "현재 운영체제: posix\n",
            "현재 폴더: /content\n",
            "현재 폴더의 내부 요소: ['.config', 'sample_data']\n"
          ]
        }
      ]
    },
    {
      "cell_type": "code",
      "source": [
        "# 폴더 생성\n",
        "os.mkdir(\"hello\")"
      ],
      "metadata": {
        "id": "C6qXCsAr4cOS"
      },
      "execution_count": null,
      "outputs": []
    },
    {
      "cell_type": "code",
      "source": [
        "# 폴더 삭제\n",
        "os.rmdir(\"hello\")"
      ],
      "metadata": {
        "id": "edixr0OM4hDx"
      },
      "execution_count": null,
      "outputs": []
    },
    {
      "cell_type": "code",
      "source": [
        "# 파일 생성\n",
        "with open(\"original.txt\", \"w\") as file:\n",
        "  file.write(\"hello\")"
      ],
      "metadata": {
        "id": "GwYH4koF4cIZ"
      },
      "execution_count": null,
      "outputs": []
    },
    {
      "cell_type": "code",
      "source": [
        "# 파일명 변경\n",
        "os.rename(\"original.txt\", \"new.txt\")"
      ],
      "metadata": {
        "id": "qayA9_ZU42Lb"
      },
      "execution_count": null,
      "outputs": []
    },
    {
      "cell_type": "code",
      "source": [
        "# 파일 삭제\n",
        "os.remove(\"new.txt\")"
      ],
      "metadata": {
        "id": "ZichjxU941-b"
      },
      "execution_count": null,
      "outputs": []
    },
    {
      "cell_type": "markdown",
      "source": [
        "- 시스템 명령어 실행\n",
        "  - Unix/Linux 계열은 Windows 계열과 명령어에 대한 결과가 다름\n",
        "  - Unix에서 반환 값은 두 개의 서로 다른 정보를 포함하는 16비트 숫자이며, 여기에서의 결과 0은 오류가 없음을 의미함\n",
        "    - 여기에서는 16비트 숫자로, 로우 바이트가 프로세스를 종료한 신호 번호이고 하이 바이트가 종료 상태(신호 번호가 0인 경우)를 의미함"
      ],
      "metadata": {
        "id": "tHNv4VFs6LeR"
      }
    },
    {
      "cell_type": "code",
      "source": [
        "# 시스템 명령어 실행\n",
        "os.system(\"dir\")"
      ],
      "metadata": {
        "id": "5HSLaCiQ4mEA",
        "colab": {
          "base_uri": "https://localhost:8080/"
        },
        "outputId": "26d6e464-5a83-4eee-a2a0-7daa1d2d824b"
      },
      "execution_count": null,
      "outputs": [
        {
          "output_type": "execute_result",
          "data": {
            "text/plain": [
              "0"
            ]
          },
          "metadata": {},
          "execution_count": 117
        }
      ]
    },
    {
      "cell_type": "markdown",
      "source": [
        "### 9-5. time 모듈"
      ],
      "metadata": {
        "id": "UdWCRLmR64SR"
      }
    },
    {
      "cell_type": "markdown",
      "source": [
        "- 날짜와 시간 관련 기능 제공\n",
        "  - 기본적으로 유닉스 시간을 기준으로 함"
      ],
      "metadata": {
        "id": "9boNAswi68Gq"
      }
    },
    {
      "cell_type": "code",
      "source": [
        "import time\n",
        "print(time.time())"
      ],
      "metadata": {
        "id": "mKHmpQhU7Cn6",
        "colab": {
          "base_uri": "https://localhost:8080/"
        },
        "outputId": "746b0205-0fcb-4146-b71f-a63ec5612d4d"
      },
      "execution_count": null,
      "outputs": [
        {
          "output_type": "stream",
          "name": "stdout",
          "text": [
            "1690554426.4694993\n"
          ]
        }
      ]
    },
    {
      "cell_type": "code",
      "source": [
        "# 일상 시간 문자열로 변환 가능\n",
        "t = time.time()\n",
        "print(time.ctime(t))"
      ],
      "metadata": {
        "id": "8RSu5HcN7Mop",
        "colab": {
          "base_uri": "https://localhost:8080/"
        },
        "outputId": "78f64a13-2c19-48ed-f614-c230baae598b"
      },
      "execution_count": null,
      "outputs": [
        {
          "output_type": "stream",
          "name": "stdout",
          "text": [
            "Fri Jul 28 14:27:06 2023\n"
          ]
        }
      ]
    },
    {
      "cell_type": "code",
      "source": [
        "# 실행 시간 측정\n",
        "start = time.time()\n",
        "\n",
        "for a in range(100):\n",
        "  print(a)\n",
        "\n",
        "end = time.time()\n",
        "print(end - start)"
      ],
      "metadata": {
        "id": "OmUChJWp7X94",
        "colab": {
          "base_uri": "https://localhost:8080/"
        },
        "outputId": "6e3b0557-4be5-47d9-f481-7ea1bb90fd40"
      },
      "execution_count": null,
      "outputs": [
        {
          "output_type": "stream",
          "name": "stdout",
          "text": [
            "0\n",
            "1\n",
            "2\n",
            "3\n",
            "4\n",
            "5\n",
            "6\n",
            "7\n",
            "8\n",
            "9\n",
            "10\n",
            "11\n",
            "12\n",
            "13\n",
            "14\n",
            "15\n",
            "16\n",
            "17\n",
            "18\n",
            "19\n",
            "20\n",
            "21\n",
            "22\n",
            "23\n",
            "24\n",
            "25\n",
            "26\n",
            "27\n",
            "28\n",
            "29\n",
            "30\n",
            "31\n",
            "32\n",
            "33\n",
            "34\n",
            "35\n",
            "36\n",
            "37\n",
            "38\n",
            "39\n",
            "40\n",
            "41\n",
            "42\n",
            "43\n",
            "44\n",
            "45\n",
            "46\n",
            "47\n",
            "48\n",
            "49\n",
            "50\n",
            "51\n",
            "52\n",
            "53\n",
            "54\n",
            "55\n",
            "56\n",
            "57\n",
            "58\n",
            "59\n",
            "60\n",
            "61\n",
            "62\n",
            "63\n",
            "64\n",
            "65\n",
            "66\n",
            "67\n",
            "68\n",
            "69\n",
            "70\n",
            "71\n",
            "72\n",
            "73\n",
            "74\n",
            "75\n",
            "76\n",
            "77\n",
            "78\n",
            "79\n",
            "80\n",
            "81\n",
            "82\n",
            "83\n",
            "84\n",
            "85\n",
            "86\n",
            "87\n",
            "88\n",
            "89\n",
            "90\n",
            "91\n",
            "92\n",
            "93\n",
            "94\n",
            "95\n",
            "96\n",
            "97\n",
            "98\n",
            "99\n",
            "0.010606527328491211\n"
          ]
        }
      ]
    },
    {
      "cell_type": "markdown",
      "source": [
        "### 9-6. urllib 모듈"
      ],
      "metadata": {
        "id": "wa_zWFcF8IgJ"
      }
    },
    {
      "cell_type": "markdown",
      "source": [
        "- URL을 다루는 라이브러리\n",
        "- urlopen() 함수 : URL 주소의 페이지 열기"
      ],
      "metadata": {
        "id": "BaAfyFdK8L4Y"
      }
    },
    {
      "cell_type": "code",
      "source": [
        "from urllib import request\n",
        "\n",
        "target = request.urlopen(\"https://google.com\")\n",
        "output = target.read()\n",
        "\n",
        "print(output)"
      ],
      "metadata": {
        "id": "8kU_bNtQ8Rpr",
        "colab": {
          "base_uri": "https://localhost:8080/"
        },
        "outputId": "0d9c06e6-3f8b-4abe-8147-100f18b5571a"
      },
      "execution_count": null,
      "outputs": [
        {
          "output_type": "stream",
          "name": "stdout",
          "text": [
            "b'<!doctype html><html itemscope=\"\" itemtype=\"http://schema.org/WebPage\" lang=\"en\"><head><meta content=\"Search the world\\'s information, including webpages, images, videos and more. Google has many special features to help you find exactly what you\\'re looking for.\" name=\"description\"><meta content=\"noodp\" name=\"robots\"><meta content=\"text/html; charset=UTF-8\" http-equiv=\"Content-Type\"><meta content=\"/images/branding/googleg/1x/googleg_standard_color_128dp.png\" itemprop=\"image\"><title>Google</title><script nonce=\"ZVnAZIDR3eWDmUMnBL5Tyw\">(function(){var _g={kEI:\\'OtDDZODfMKO2qtsPle-o4Aw\\',kEXPI:\\'0,1359409,6058,207,4804,2316,383,246,5,1129120,1749,1196008,644,380090,16114,28684,22431,1361,12317,17582,4998,17075,35733,5583,2891,3926,8434,29877,20181,8229,8801,8926,781,1244,1,16916,2652,4,1528,2304,29062,13063,11445,5195,1457,22571,6666,7596,1,39047,1,3106,2,16395,342,3534,19490,5679,1021,14865,16257,4568,6258,23418,1252,5835,19300,7484,445,2,2,1,24626,2006,8155,7381,2,3,15964,873,9626,10007,8,1922,9779,11350,9290,2253,13381,6185,20198,928,19209,14,82,16514,3692,109,2412,1548,4308,3785,16843,3735,2266,764,6111,5040,4665,1212,592,7734,2738,2885,1003,1,6650,4821,7265,10023,3962,1428,87,117,7950,892,4654,347,1146,9286,4,2422,7915,4951,4664,7268,1271,2041,372,1179,5209125,1256,2,20,13,8797909,3306,141,795,19735,1,1,6985,478,25,56,75,200,2,3,7,53,51,180,98,50,5,25,23942537,2738464,1305643,16672,32950,4335,811,262,1401582,342430,23416840,3601,255,2960,1,1346,3416,198,1022,2856,4671,882,1082,236,600,265,73,622,1298,103,194,589,499,2466,413,1295,77,1,2359,987,1,1282,16,241,1491,475,2157,331,462,799,142,537,119,2645,1,4,3,2,814,2681,431,425,744,244,225,104,771,131,398,6,1773,1,197,492,77,1060,159,109,276,2,1,1,2,3,381,2841,200,506,104,109,564,256,203,1,1170,953,12,3,296,305,43,3,797,24,1,11,2,1565,503,817,1135,4,54,166,358,309,438,116,238,81,94,22,43,4,420,358,33,2,862,692,400,318,338,63,114,93,150,236,142,225,553,3,33,48,507,323,1,2,716,162,38,374,1,106,691,12,1,4,392,259,32,752\\',kBL:\\'Pu8j\\',kOPI:89978449};(function(){var a;(null==(a=window.google)?0:a.stvsc)?google.kEI=_g.kEI:window.google=_g;}).call(this);})();(function(){google.sn=\\'webhp\\';google.kHL=\\'en\\';})();(function(){\\nvar h=this||self;function l(){return void 0!==window.google&&void 0!==window.google.kOPI&&0!==window.google.kOPI?window.google.kOPI:null};var m,n=[];function p(a){for(var b;a&&(!a.getAttribute||!(b=a.getAttribute(\"eid\")));)a=a.parentNode;return b||m}function q(a){for(var b=null;a&&(!a.getAttribute||!(b=a.getAttribute(\"leid\")));)a=a.parentNode;return b}function r(a){/^http:/i.test(a)&&\"https:\"===window.location.protocol&&(google.ml&&google.ml(Error(\"a\"),!1,{src:a,glmm:1}),a=\"\");return a}\\nfunction t(a,b,c,d,k){var e=\"\";-1===b.search(\"&ei=\")&&(e=\"&ei=\"+p(d),-1===b.search(\"&lei=\")&&(d=q(d))&&(e+=\"&lei=\"+d));d=\"\";var g=-1===b.search(\"&cshid=\")&&\"slh\"!==a,f=[];f.push([\"zx\",Date.now().toString()]);h._cshid&&g&&f.push([\"cshid\",h._cshid]);c=c();null!=c&&f.push([\"opi\",c.toString()]);for(c=0;c<f.length;c++){if(0===c||0<c)d+=\"&\";d+=f[c][0]+\"=\"+f[c][1]}return\"/\"+(k||\"gen_204\")+\"?atyp=i&ct=\"+String(a)+\"&cad=\"+(b+e+d)};m=google.kEI;google.getEI=p;google.getLEI=q;google.ml=function(){return null};google.log=function(a,b,c,d,k,e){e=void 0===e?l:e;c||(c=t(a,b,e,d,k));if(c=r(c)){a=new Image;var g=n.length;n[g]=a;a.onerror=a.onload=a.onabort=function(){delete n[g]};a.src=c}};google.logUrl=function(a,b){b=void 0===b?l:b;return t(\"\",a,b)};}).call(this);(function(){google.y={};google.sy=[];google.x=function(a,b){if(a)var c=a.id;else{do c=Math.random();while(google.y[c])}google.y[c]=[a,b];return!1};google.sx=function(a){google.sy.push(a)};google.lm=[];google.plm=function(a){google.lm.push.apply(google.lm,a)};google.lq=[];google.load=function(a,b,c){google.lq.push([[a],b,c])};google.loadAll=function(a,b){google.lq.push([a,b])};google.bx=!1;google.lx=function(){};}).call(this);google.f={};(function(){\\ndocument.documentElement.addEventListener(\"submit\",function(b){var a;if(a=b.target){var c=a.getAttribute(\"data-submitfalse\");a=\"1\"===c||\"q\"===c&&!a.elements.q.value?!0:!1}else a=!1;a&&(b.preventDefault(),b.stopPropagation())},!0);document.documentElement.addEventListener(\"click\",function(b){var a;a:{for(a=b.target;a&&a!==document.documentElement;a=a.parentElement)if(\"A\"===a.tagName){a=\"1\"===a.getAttribute(\"data-nohref\");break a}a=!1}a&&b.preventDefault()},!0);}).call(this);</script><style>#gbar,#guser{font-size:13px;padding-top:1px !important;}#gbar{height:22px}#guser{padding-bottom:7px !important;text-align:right}.gbh,.gbd{border-top:1px solid #c9d7f1;font-size:1px}.gbh{height:0;position:absolute;top:24px;width:100%}@media all{.gb1{height:22px;margin-right:.5em;vertical-align:top}#gbar{float:left}}a.gb1,a.gb4{text-decoration:underline !important}a.gb1,a.gb4{color:#00c !important}.gbi .gb4{color:#dd8e27 !important}.gbf .gb4{color:#900 !important}\\n</style><style>body,td,a,p,.h{font-family:arial,sans-serif}body{margin:0;overflow-y:scroll}#gog{padding:3px 8px 0}td{line-height:.8em}.gac_m td{line-height:17px}form{margin-bottom:20px}.h{color:#1967d2}em{font-weight:bold;font-style:normal}.lst{height:25px;width:496px}.gsfi,.lst{font:18px arial,sans-serif}.gsfs{font:17px arial,sans-serif}.ds{display:inline-box;display:inline-block;margin:3px 0 4px;margin-left:4px}input{font-family:inherit}body{background:#fff;color:#000}a{color:#681da8;text-decoration:none}a:hover,a:active{text-decoration:underline}.fl a{color:#1967d2}a:visited{color:#681da8}.sblc{padding-top:5px}.sblc a{display:block;margin:2px 0;margin-left:13px;font-size:11px}.lsbb{background:#f8f9fa;border:solid 1px;border-color:#dadce0 #70757a #70757a #dadce0;height:30px}.lsbb{display:block}#WqQANb a{display:inline-block;margin:0 12px}.lsb{background:url(/images/nav_logo229.png) 0 -261px repeat-x;color:#000;border:none;cursor:pointer;height:30px;margin:0;outline:0;font:15px arial,sans-serif;vertical-align:top}.lsb:active{background:#dadce0}.lst:focus{outline:none}</style><script nonce=\"ZVnAZIDR3eWDmUMnBL5Tyw\">(function(){window.google.erd={jsr:1,bv:1838,de:true};\\nvar l=this||self;var m,n=null!=(m=l.mei)?m:1,p,q=null!=(p=l.sdo)?p:!0,r=0,t,u=google.erd,v=u.jsr;google.ml=function(a,b,d,h,e){e=void 0===e?2:e;b&&(t=a&&a.message);if(google.dl)return google.dl(a,e,d),null;if(0>v){window.console&&console.error(a,d);if(-2===v)throw a;b=!1}else b=!a||!a.message||\"Error loading script\"===a.message||r>=n&&!h?!1:!0;if(!b)return null;r++;d=d||{};b=encodeURIComponent;var c=\"/gen_204?atyp=i&ei=\"+b(google.kEI);google.kEXPI&&(c+=\"&jexpid=\"+b(google.kEXPI));c+=\"&srcpg=\"+b(google.sn)+\"&jsr=\"+b(u.jsr)+\"&bver=\"+b(u.bv);var f=a.lineNumber;void 0!==f&&(c+=\"&line=\"+f);var g=\\na.fileName;g&&(0<g.indexOf(\"-extension:/\")&&(e=3),c+=\"&script=\"+b(g),f&&g===window.location.href&&(f=document.documentElement.outerHTML.split(\"\\\\n\")[f],c+=\"&cad=\"+b(f?f.substring(0,300):\"No script found.\")));c+=\"&cad=ple_\"+google.ple+\".aple_\"+google.aple;google.ple&&1===google.ple&&(e=2);c+=\"&jsel=\"+e;for(var k in d)c+=\"&\",c+=b(k),c+=\"=\",c+=b(d[k]);c=c+\"&emsg=\"+b(a.name+\": \"+a.message);c=c+\"&jsst=\"+b(a.stack||\"N/A\");12288<=c.length&&(c=c.substr(0,12288));a=c;h||google.log(0,\"\",a);return a};window.onerror=function(a,b,d,h,e){if(t!==a){a=e instanceof Error?e:Error(a);void 0===d||\"lineNumber\"in a||(a.lineNumber=d);void 0===b||\"fileName\"in a||(a.fileName=b);b=void 0;if(a.stack&&(-1!==a.stack.indexOf(\"?xjs=s0\")||-1!==a.stack.indexOf(\"&xjs=s0\"))){b=document.querySelectorAll(\"script[src*=\\\\\\\\/xjs\\\\\\\\/_\\\\\\\\/js\\\\\\\\/]\");for(h=d=0;h<b.length;h++)d+=b[h].async?1:0;var c=e=h=-1,f=-1,g=-1;if(performance&&google.xjsu){h=0;e=google.timers.load.t.xjsee?1:0;f=c=0;g=performance.getEntriesByType(\"resource\");for(var k=\\n0;k<g.length;k++)-1!==g[k].name.indexOf(google.xjsu)&&(h=1),-1!==g[k].name.indexOf(\"/xjs/_/js/\")&&(c+=1,f+=\"script\"===g[k].initiatorType?1:0);g=c-f}b={cad:\"pl_\"+h+\".pe_\"+e+\".asc_\"+d+\".tsc_\"+b.length+\".fasc_\"+(b.length-d)+\".lxc_\"+c+\".lsx_\"+f+\".lnsx_\"+g}}google.ml(a,!1,b,!1,\"SyntaxError\"===a.name||\"SyntaxError\"===a.message.substring(0,11)||-1!==a.message.indexOf(\"Script error\")?3:0)}t=null;q&&r>=n&&(window.onerror=null)};})();</script></head><body bgcolor=\"#fff\"><script nonce=\"ZVnAZIDR3eWDmUMnBL5Tyw\">(function(){var src=\\'/images/nav_logo229.png\\';var iesg=false;document.body.onload = function(){window.n && window.n();if (document.images){new Image().src=src;}\\nif (!iesg){document.f&&document.f.q.focus();document.gbqf&&document.gbqf.q.focus();}\\n}\\n})();</script><div id=\"mngb\"><div id=gbar><nobr><b class=gb1>Search</b> <a class=gb1 href=\"https://www.google.com/imghp?hl=en&tab=wi\">Images</a> <a class=gb1 href=\"https://maps.google.com/maps?hl=en&tab=wl\">Maps</a> <a class=gb1 href=\"https://play.google.com/?hl=en&tab=w8\">Play</a> <a class=gb1 href=\"https://www.youtube.com/?tab=w1\">YouTube</a> <a class=gb1 href=\"https://news.google.com/?tab=wn\">News</a> <a class=gb1 href=\"https://mail.google.com/mail/?tab=wm\">Gmail</a> <a class=gb1 href=\"https://drive.google.com/?tab=wo\">Drive</a> <a class=gb1 style=\"text-decoration:none\" href=\"https://www.google.com/intl/en/about/products?tab=wh\"><u>More</u> &raquo;</a></nobr></div><div id=guser width=100%><nobr><span id=gbn class=gbi></span><span id=gbf class=gbf></span><span id=gbe></span><a href=\"http://www.google.com/history/optout?hl=en\" class=gb4>Web History</a> | <a  href=\"/preferences?hl=en\" class=gb4>Settings</a> | <a target=_top id=gb_70 href=\"https://accounts.google.com/ServiceLogin?hl=en&passive=true&continue=https://www.google.com/&ec=GAZAAQ\" class=gb4>Sign in</a></nobr></div><div class=gbh style=left:0></div><div class=gbh style=right:0></div></div><center><br clear=\"all\" id=\"lgpd\"><div id=\"lga\"><img alt=\"Google\" height=\"92\" src=\"/images/branding/googlelogo/1x/googlelogo_white_background_color_272x92dp.png\" style=\"padding:28px 0 14px\" width=\"272\" id=\"hplogo\"><br><br></div><form action=\"/search\" name=\"f\"><table cellpadding=\"0\" cellspacing=\"0\"><tr valign=\"top\"><td width=\"25%\">&nbsp;</td><td align=\"center\" nowrap=\"\"><input name=\"ie\" value=\"ISO-8859-1\" type=\"hidden\"><input value=\"en\" name=\"hl\" type=\"hidden\"><input name=\"source\" type=\"hidden\" value=\"hp\"><input name=\"biw\" type=\"hidden\"><input name=\"bih\" type=\"hidden\"><div class=\"ds\" style=\"height:32px;margin:4px 0\"><input class=\"lst\" style=\"margin:0;padding:5px 8px 0 6px;vertical-align:top;color:#000\" autocomplete=\"off\" value=\"\" title=\"Google Search\" maxlength=\"2048\" name=\"q\" size=\"57\"></div><br style=\"line-height:0\"><span class=\"ds\"><span class=\"lsbb\"><input class=\"lsb\" value=\"Google Search\" name=\"btnG\" type=\"submit\"></span></span><span class=\"ds\"><span class=\"lsbb\"><input class=\"lsb\" id=\"tsuid_1\" value=\"I\\'m Feeling Lucky\" name=\"btnI\" type=\"submit\"><script nonce=\"ZVnAZIDR3eWDmUMnBL5Tyw\">(function(){var id=\\'tsuid_1\\';document.getElementById(id).onclick = function(){if (this.form.q.value){this.checked = 1;if (this.form.iflsig)this.form.iflsig.disabled = false;}\\nelse top.location=\\'/doodles/\\';};})();</script><input value=\"AD69kcEAAAAAZMPeSpgKOSuD_B8LeszqhQ0-bC-jGL__\" name=\"iflsig\" type=\"hidden\"></span></span></td><td class=\"fl sblc\" align=\"left\" nowrap=\"\" width=\"25%\"><a href=\"/advanced_search?hl=en&amp;authuser=0\">Advanced search</a></td></tr></table><input id=\"gbv\" name=\"gbv\" type=\"hidden\" value=\"1\"><script nonce=\"ZVnAZIDR3eWDmUMnBL5Tyw\">(function(){var a,b=\"1\";if(document&&document.getElementById)if(\"undefined\"!=typeof XMLHttpRequest)b=\"2\";else if(\"undefined\"!=typeof ActiveXObject){var c,d,e=[\"MSXML2.XMLHTTP.6.0\",\"MSXML2.XMLHTTP.3.0\",\"MSXML2.XMLHTTP\",\"Microsoft.XMLHTTP\"];for(c=0;d=e[c++];)try{new ActiveXObject(d),b=\"2\"}catch(h){}}a=b;if(\"2\"==a&&-1==location.search.indexOf(\"&gbv=2\")){var f=google.gbvu,g=document.getElementById(\"gbv\");g&&(g.value=a);f&&window.setTimeout(function(){location.href=f},0)};}).call(this);</script></form><div id=\"gac_scont\"></div><div style=\"font-size:83%;min-height:3.5em\"><br></div><span id=\"footer\"><div style=\"font-size:10pt\"><div style=\"margin:19px auto;text-align:center\" id=\"WqQANb\"><a href=\"/intl/en/ads/\">Advertising</a><a href=\"/services/\">Business Solutions</a><a href=\"/intl/en/about.html\">About Google</a></div></div><p style=\"font-size:8pt;color:#70757a\">&copy; 2023 - <a href=\"/intl/en/policies/privacy/\">Privacy</a> - <a href=\"/intl/en/policies/terms/\">Terms</a></p></span></center><script nonce=\"ZVnAZIDR3eWDmUMnBL5Tyw\">(function(){window.google.cdo={height:757,width:1440};(function(){var a=window.innerWidth,b=window.innerHeight;if(!a||!b){var c=window.document,d=\"CSS1Compat\"==c.compatMode?c.documentElement:c.body;a=d.clientWidth;b=d.clientHeight}\\nif(a&&b&&(a!=google.cdo.width||b!=google.cdo.height)){var e=google,f=e.log,g=\"/client_204?&atyp=i&biw=\"+a+\"&bih=\"+b+\"&ei=\"+google.kEI,h=\"\",k=[],l=void 0!==window.google&&void 0!==window.google.kOPI&&0!==window.google.kOPI?window.google.kOPI:null;null!=l&&k.push([\"opi\",l.toString()]);for(var m=0;m<k.length;m++){if(0===m||0<m)h+=\"&\";h+=k[m][0]+\"=\"+k[m][1]}f.call(e,\"\",\"\",g+h)};}).call(this);})();</script> <script nonce=\"ZVnAZIDR3eWDmUMnBL5Tyw\">(function(){google.xjs={ck:\\'xjs.hp.VoMROstAmI0.L.X.O\\',cs:\\'ACT90oHJnt0K__bKai84henb1UUrfsXGBw\\',csss:\\'ACT90oGsIMz43NUaCikBDwWLGkHJTPIwvw\\',excm:[],sepcss:false};})();</script>     <script nonce=\"ZVnAZIDR3eWDmUMnBL5Tyw\">(function(){var u=\\'/xjs/_/js/k\\\\x3dxjs.hp.en.PCvupa2KVuo.O/am\\\\x3dAAAAAAAAAAQAAAAAAAUAAAAAAAAAAAACAKAjAAAsAMAF/d\\\\x3d1/ed\\\\x3d1/rs\\\\x3dACT90oEKh30Iertgq-CfJQfcAtkFNA_kig/m\\\\x3dsb_he,d,cEt90b,SNUn3,qddgKe,sTsDMc,dtl0hd,eHDfl\\';var amd=0;\\nvar d=this||self,e=function(b){return b};var f;var h=function(b){this.g=b};h.prototype.toString=function(){return this.g+\"\"};var l={};var n=function(){var b=document;var a=\"SCRIPT\";\"application/xhtml+xml\"===b.contentType&&(a=a.toLowerCase());return b.createElement(a)};\\nfunction p(){var b=u,a=function(){};google.lx=google.stvsc?a:function(){q(b);google.lx=a};google.bx||google.lx()}\\nfunction r(b,a){a=null===a?\"null\":void 0===a?\"undefined\":a;if(void 0===f){var c=null;var k=d.trustedTypes;if(k&&k.createPolicy){try{c=k.createPolicy(\"goog#html\",{createHTML:e,createScript:e,createScriptURL:e})}catch(t){d.console&&d.console.error(t.message)}f=c}else f=c}a=(c=f)?c.createScriptURL(a):a;a=new h(a,l);b.src=a instanceof h&&a.constructor===h?a.g:\"type_error:TrustedResourceUrl\";var g,m;(g=(a=null==(m=(g=(b.ownerDocument&&b.ownerDocument.defaultView||window).document).querySelector)?void 0:m.call(g,\"script[nonce]\"))?a.nonce||a.getAttribute(\"nonce\")||\"\":\"\")&&b.setAttribute(\"nonce\",g);google.as?google.as(b):document.body.appendChild(b)}function q(b){google.timers&&google.timers.load&&google.tick&&google.tick(\"load\",\"xjsls\");var a=n();a.onerror=function(){google.ple=1};a.onload=function(){google.ple=0};r(a,b);google.aple=-1;google.psa=!0};google.xjsu=u;d._F_jsUrl=u;setTimeout(function(){0<amd?google.caft(function(){return p()},amd):p()},0);})();window._ = window._ || {};window._DumpException = _._DumpException = function(e){throw e;};window._s = window._s || {};_s._DumpException = _._DumpException;window._qs = window._qs || {};_qs._DumpException = _._DumpException;(function(){window._F_toggles=[1,268435456,16777216,81920,256,0,973078624,184549384,376832];})();function _F_installCss(c){}\\n(function(){google.jl={blt:\\'none\\',chnk:0,dw:false,dwu:true,emtn:0,end:0,ico:false,ikb:0,ine:false,injs:\\'none\\',injt:0,injth:0,injv2:false,lls:\\'default\\',pdt:0,rep:0,snet:true,strt:0,ubm:false,uwp:true};})();(function(){var pmc=\\'{\\\\x22d\\\\x22:{},\\\\x22sb_he\\\\x22:{\\\\x22agen\\\\x22:true,\\\\x22cgen\\\\x22:true,\\\\x22client\\\\x22:\\\\x22heirloom-hp\\\\x22,\\\\x22dh\\\\x22:true,\\\\x22ds\\\\x22:\\\\x22\\\\x22,\\\\x22fl\\\\x22:true,\\\\x22host\\\\x22:\\\\x22google.com\\\\x22,\\\\x22jsonp\\\\x22:true,\\\\x22msgs\\\\x22:{\\\\x22cibl\\\\x22:\\\\x22Clear Search\\\\x22,\\\\x22dym\\\\x22:\\\\x22Did you mean:\\\\x22,\\\\x22lcky\\\\x22:\\\\x22I\\\\\\\\u0026#39;m Feeling Lucky\\\\x22,\\\\x22lml\\\\x22:\\\\x22Learn more\\\\x22,\\\\x22psrc\\\\x22:\\\\x22This search was removed from your \\\\\\\\u003Ca href\\\\x3d\\\\\\\\\\\\x22/history\\\\\\\\\\\\x22\\\\\\\\u003EWeb History\\\\\\\\u003C/a\\\\\\\\u003E\\\\x22,\\\\x22psrl\\\\x22:\\\\x22Remove\\\\x22,\\\\x22sbit\\\\x22:\\\\x22Search by image\\\\x22,\\\\x22srch\\\\x22:\\\\x22Google Search\\\\x22},\\\\x22ovr\\\\x22:{},\\\\x22pq\\\\x22:\\\\x22\\\\x22,\\\\x22rfs\\\\x22:[],\\\\x22sbas\\\\x22:\\\\x220 3px 8px 0 rgba(0,0,0,0.2),0 0 0 1px rgba(0,0,0,0.08)\\\\x22,\\\\x22stok\\\\x22:\\\\x22JU8QFXghzg52XoD0kRctKU5Odho\\\\x22}}\\';google.pmc=JSON.parse(pmc);})();(function(){\\nvar b=function(a){var c=0;return function(){return c<a.length?{done:!1,value:a[c++]}:{done:!0}}},e=this||self;var g,h;a:{for(var k=[\"CLOSURE_FLAGS\"],l=e,n=0;n<k.length;n++)if(l=l[k[n]],null==l){h=null;break a}h=l}var p=h&&h[610401301];g=null!=p?p:!1;var q,r=e.navigator;q=r?r.userAgentData||null:null;function t(a){return g?q?q.brands.some(function(c){return(c=c.brand)&&-1!=c.indexOf(a)}):!1:!1}function u(a){var c;a:{if(c=e.navigator)if(c=c.userAgent)break a;c=\"\"}return-1!=c.indexOf(a)};function v(){return g?!!q&&0<q.brands.length:!1}function w(){return u(\"Safari\")&&!(x()||(v()?0:u(\"Coast\"))||(v()?0:u(\"Opera\"))||(v()?0:u(\"Edge\"))||(v()?t(\"Microsoft Edge\"):u(\"Edg/\"))||(v()?t(\"Opera\"):u(\"OPR\"))||u(\"Firefox\")||u(\"FxiOS\")||u(\"Silk\")||u(\"Android\"))}function x(){return v()?t(\"Chromium\"):(u(\"Chrome\")||u(\"CriOS\"))&&!(v()?0:u(\"Edge\"))||u(\"Silk\")}function y(){return u(\"Android\")&&!(x()||u(\"Firefox\")||u(\"FxiOS\")||(v()?0:u(\"Opera\"))||u(\"Silk\"))};var z=v()?!1:u(\"Trident\")||u(\"MSIE\");y();x();w();var A=!z&&!w(),D=function(a){if(/-[a-z]/.test(\"ved\"))return null;if(A&&a.dataset){if(y()&&!(\"ved\"in a.dataset))return null;a=a.dataset.ved;return void 0===a?null:a}return a.getAttribute(\"data-\"+\"ved\".replace(/([A-Z])/g,\"-$1\").toLowerCase())};var E=[],F=null;function G(a){a=a.target;var c=performance.now(),f=[],H=f.concat,d=E;if(!(d instanceof Array)){var m=\"undefined\"!=typeof Symbol&&Symbol.iterator&&d[Symbol.iterator];if(m)d=m.call(d);else if(\"number\"==typeof d.length)d={next:b(d)};else throw Error(\"a`\"+String(d));for(var B=[];!(m=d.next()).done;)B.push(m.value);d=B}E=H.call(f,d,[c]);if(a&&a instanceof HTMLElement)if(a===F){if(c=4<=E.length)c=5>(E[E.length-1]-E[E.length-4])/1E3;if(c){c=google.getEI(a);a.hasAttribute(\"data-ved\")?f=a?D(a)||\"\":\"\":f=(f=\\na.closest(\"[data-ved]\"))?D(f)||\"\":\"\";f=f||\"\";if(a.hasAttribute(\"jsname\"))a=a.getAttribute(\"jsname\");else{var C;a=null==(C=a.closest(\"[jsname]\"))?void 0:C.getAttribute(\"jsname\")}google.log(\"rcm\",\"&ei=\"+c+\"&ved=\"+f+\"&jsname=\"+(a||\"\"))}}else F=a,E=[c]}window.document.addEventListener(\"DOMContentLoaded\",function(){document.body.addEventListener(\"click\",G)});}).call(this);</script></body></html>'\n"
          ]
        }
      ]
    },
    {
      "cell_type": "markdown",
      "source": [
        "### 9-7. calendar 모듈"
      ],
      "metadata": {
        "id": "VRMMnFKJ7pB4"
      }
    },
    {
      "cell_type": "markdown",
      "source": [
        "- 달력 기능\n",
        "- 인수로 받은 연도의 달력 객체 반환\n",
        "- month 함수\n",
        "  - 연도와 달을 인수로 받아 해당 월 달력 객체 반환\n",
        "- weekday 함수\n",
        "  - 특정 날짜가 어떤 요일인지 조사"
      ],
      "metadata": {
        "id": "c8Fsh71d7v37"
      }
    },
    {
      "cell_type": "code",
      "source": [
        "import calendar\n",
        "\n",
        "print(calendar.calendar(2022))\n",
        "print(calendar.month(2022, 9))"
      ],
      "metadata": {
        "id": "FtpZnfL072lK",
        "colab": {
          "base_uri": "https://localhost:8080/"
        },
        "outputId": "ee676002-7579-4bb9-c25d-b99aaebb2677"
      },
      "execution_count": null,
      "outputs": [
        {
          "output_type": "stream",
          "name": "stdout",
          "text": [
            "                                  2022\n",
            "\n",
            "      January                   February                   March\n",
            "Mo Tu We Th Fr Sa Su      Mo Tu We Th Fr Sa Su      Mo Tu We Th Fr Sa Su\n",
            "                1  2          1  2  3  4  5  6          1  2  3  4  5  6\n",
            " 3  4  5  6  7  8  9       7  8  9 10 11 12 13       7  8  9 10 11 12 13\n",
            "10 11 12 13 14 15 16      14 15 16 17 18 19 20      14 15 16 17 18 19 20\n",
            "17 18 19 20 21 22 23      21 22 23 24 25 26 27      21 22 23 24 25 26 27\n",
            "24 25 26 27 28 29 30      28                        28 29 30 31\n",
            "31\n",
            "\n",
            "       April                      May                       June\n",
            "Mo Tu We Th Fr Sa Su      Mo Tu We Th Fr Sa Su      Mo Tu We Th Fr Sa Su\n",
            "             1  2  3                         1             1  2  3  4  5\n",
            " 4  5  6  7  8  9 10       2  3  4  5  6  7  8       6  7  8  9 10 11 12\n",
            "11 12 13 14 15 16 17       9 10 11 12 13 14 15      13 14 15 16 17 18 19\n",
            "18 19 20 21 22 23 24      16 17 18 19 20 21 22      20 21 22 23 24 25 26\n",
            "25 26 27 28 29 30         23 24 25 26 27 28 29      27 28 29 30\n",
            "                          30 31\n",
            "\n",
            "        July                     August                  September\n",
            "Mo Tu We Th Fr Sa Su      Mo Tu We Th Fr Sa Su      Mo Tu We Th Fr Sa Su\n",
            "             1  2  3       1  2  3  4  5  6  7                1  2  3  4\n",
            " 4  5  6  7  8  9 10       8  9 10 11 12 13 14       5  6  7  8  9 10 11\n",
            "11 12 13 14 15 16 17      15 16 17 18 19 20 21      12 13 14 15 16 17 18\n",
            "18 19 20 21 22 23 24      22 23 24 25 26 27 28      19 20 21 22 23 24 25\n",
            "25 26 27 28 29 30 31      29 30 31                  26 27 28 29 30\n",
            "\n",
            "      October                   November                  December\n",
            "Mo Tu We Th Fr Sa Su      Mo Tu We Th Fr Sa Su      Mo Tu We Th Fr Sa Su\n",
            "                1  2          1  2  3  4  5  6                1  2  3  4\n",
            " 3  4  5  6  7  8  9       7  8  9 10 11 12 13       5  6  7  8  9 10 11\n",
            "10 11 12 13 14 15 16      14 15 16 17 18 19 20      12 13 14 15 16 17 18\n",
            "17 18 19 20 21 22 23      21 22 23 24 25 26 27      19 20 21 22 23 24 25\n",
            "24 25 26 27 28 29 30      28 29 30                  26 27 28 29 30 31\n",
            "31\n",
            "\n",
            "   September 2022\n",
            "Mo Tu We Th Fr Sa Su\n",
            "          1  2  3  4\n",
            " 5  6  7  8  9 10 11\n",
            "12 13 14 15 16 17 18\n",
            "19 20 21 22 23 24 25\n",
            "26 27 28 29 30\n",
            "\n"
          ]
        }
      ]
    }
  ]
}