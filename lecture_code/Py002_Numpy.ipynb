{
  "nbformat": 4,
  "nbformat_minor": 0,
  "metadata": {
    "colab": {
      "provenance": [],
      "include_colab_link": true
    },
    "kernelspec": {
      "name": "python3",
      "display_name": "Python 3"
    },
    "language_info": {
      "name": "python"
    }
  },
  "cells": [
    {
      "cell_type": "markdown",
      "metadata": {
        "id": "view-in-github",
        "colab_type": "text"
      },
      "source": [
        "<a href=\"https://colab.research.google.com/github/vonvolous/python_AI_lecture/blob/main/lecture_code/Py002_Numpy.ipynb\" target=\"_parent\"><img src=\"https://colab.research.google.com/assets/colab-badge.svg\" alt=\"Open In Colab\"/></a>"
      ]
    },
    {
      "cell_type": "markdown",
      "metadata": {
        "id": "7sEPDKtzwhUF"
      },
      "source": [
        "# **Numpy (Numerical Python)**"
      ]
    },
    {
      "cell_type": "markdown",
      "source": [
        "## **1. Numpy 개요**"
      ],
      "metadata": {
        "id": "o-VNgNfONkPh"
      }
    },
    {
      "cell_type": "markdown",
      "source": [
        "### 1-1. Numpy란?"
      ],
      "metadata": {
        "id": "OH0W_91pNt8C"
      }
    },
    {
      "cell_type": "markdown",
      "source": [
        "- NumPy : Numerical Python\n",
        "- 고성능의 과학계산 컴퓨팅과 데이터 분석에 필요한 기본패키지\n",
        "- 행렬이나 대규모의 다차원 배열을 쉽게 처리\n",
        "- 계산과학(Computational Science) 분야의 복잡한 연산을 지원\n",
        "- SciPy, Matplotlib, Pandas 등에 채용되어 더 복잡한 연산을 쉽게 처리 가능하도록 지원"
      ],
      "metadata": {
        "id": "I9P_q2fWN1Tm"
      }
    },
    {
      "cell_type": "markdown",
      "source": [
        "### 1-2. NumPy에서 제공하는 기능"
      ],
      "metadata": {
        "id": "H-YFusVGOHAj"
      }
    },
    {
      "cell_type": "markdown",
      "source": [
        "- ndarray 지원: 빠르고 메모리를 효율적으로 사용하며, 벡터 산술연산과 세련된 브로드캐스팅 기능을 제공하는 다차원 배열\n",
        "- 반복문을 작성할 필요 없이 전체 데이터 배열에 대해 빠른 연산을 제공하는 표준 수학 함수\n",
        "- 배열 데이터를 디스크에 쓰거나 읽을 수 있는 도구와 메모리에 올려진 파일을 사용하는 도구\n",
        "- 선형대수, 난수 발생기, 푸리에 변환 기능\n",
        "- C, C++, 포트란으로 쓰여진 코드를 통합하는 도구\n",
        "\t- 사용하기 편한 C API제공\n",
        "\t- 데이터를 다른 저수준 언어로 쓰여진 외부 라이브러리에 쉽게 전달할 수 있도록 지원\n",
        "\t- 외부 라이브러리에서 반환된 데이터를 파이썬의 NumPy 배열 형태로 불러올 수 있도록 지원\n",
        "\t- 파이썬을 레거시 C/C++/포트란 기반의 코드를 래핑하여 동적이며 쉽게 사용할 수 있는 인터페이스를 만들 수 있는 언어로 만들어 줌"
      ],
      "metadata": {
        "id": "BN92joRXONqS"
      }
    },
    {
      "cell_type": "markdown",
      "source": [
        "### 1-3. Numpy를 잘 활용하려면"
      ],
      "metadata": {
        "id": "ZRhanVceO7fE"
      }
    },
    {
      "cell_type": "markdown",
      "source": [
        "- NumPy는 자체적으로는 고수준의 데이터 분석 기능을 제공하지 않으므로\n",
        "- 먼저 NumPy 배열과 배열기반의 컴퓨팅에 대한 이해가 선행된다면\n",
        "- 더 상위 레벨에서 데이터 분석과 같은 기능을 제공하는 Pandas 등의 도구들을 더욱 효율적으로 사용할 수 있음"
      ],
      "metadata": {
        "id": "QysTfxqfPF4X"
      }
    },
    {
      "cell_type": "markdown",
      "source": [
        "### 1-4. 대부분의 데이터 분석 애플리케이션에서 중요하게 사용되는 기능"
      ],
      "metadata": {
        "id": "gL-YtjXLPO-A"
      }
    },
    {
      "cell_type": "markdown",
      "source": [
        "- 벡터배열 상에서 데이터 개조, 정제, 부분집합, 필터링, 변형, 이종연산의 빠른 수행\n",
        "- 정렬, 유일 원소 찾기, 집합연산과 같은 일반적인 배열 처리 알고리즘\n",
        "- 통계의 효과적인 표현과 데이터의 수집/요약\n",
        "- 이종의 데이터 묶음을 병합하고 엮기 위한 데이터 정렬과 데이터 간의 관계 조작\n",
        "- if ~ elif ~ else 포함 반복문 대신 사용가능한 조건절 표현을 할 수 있는 배열 표현\n",
        "- 데이터 그룹 전체에 적용할 수 있는 수집, 변형, 함수의 적용과 같은 데이터 처리"
      ],
      "metadata": {
        "id": "oW-cZUpuPOxA"
      }
    },
    {
      "cell_type": "markdown",
      "source": [
        "## **2. Numpy 실습 예제**"
      ],
      "metadata": {
        "id": "mLD6kGn2Pd-m"
      }
    },
    {
      "cell_type": "markdown",
      "metadata": {
        "id": "9VHmCqwaX58x"
      },
      "source": [
        "### 2-1. ndarray (n-Dimension Array)"
      ]
    },
    {
      "cell_type": "code",
      "metadata": {
        "id": "Wogg-MewvX6h"
      },
      "source": [
        "import numpy as np # alias"
      ],
      "execution_count": 1,
      "outputs": []
    },
    {
      "cell_type": "markdown",
      "metadata": {
        "id": "_gU_9YVpYpq-"
      },
      "source": [
        "- ndarray 배열은 산술 연산이 가능함\n",
        "- ndarray 배열은 각 차원의 크기를 알려주는 shape라는 튜플을 가짐\n",
        "- ndarray 배열은 배열에 저장된 자료형을 알려주는 dtype이라는 객체를 가짐"
      ]
    },
    {
      "cell_type": "code",
      "source": [
        "data = np.random.randn(2, 3)  # randn : 랜덤 수 생성해줌 randn(행, 열)\n",
        "\n",
        "print(data)"
      ],
      "metadata": {
        "colab": {
          "base_uri": "https://localhost:8080/"
        },
        "id": "SqhHUGcSWyQN",
        "outputId": "51c775ae-3dd5-45dc-d2b2-569fa6215b73"
      },
      "execution_count": 2,
      "outputs": [
        {
          "output_type": "stream",
          "name": "stdout",
          "text": [
            "[[-1.51419781 -0.69029103  1.79320024]\n",
            " [-1.4093539   0.11361015 -0.15576063]]\n"
          ]
        }
      ]
    },
    {
      "cell_type": "code",
      "source": [
        "data"
      ],
      "metadata": {
        "colab": {
          "base_uri": "https://localhost:8080/"
        },
        "id": "sYi_CVitWyMZ",
        "outputId": "9d098310-c0b2-4200-8f72-ef15fa12c9cc"
      },
      "execution_count": 3,
      "outputs": [
        {
          "output_type": "execute_result",
          "data": {
            "text/plain": [
              "array([[-1.51419781, -0.69029103,  1.79320024],\n",
              "       [-1.4093539 ,  0.11361015, -0.15576063]])"
            ]
          },
          "metadata": {},
          "execution_count": 3
        }
      ]
    },
    {
      "cell_type": "code",
      "source": [
        "data * 10"
      ],
      "metadata": {
        "colab": {
          "base_uri": "https://localhost:8080/"
        },
        "id": "3LUIHD1pWyI9",
        "outputId": "471e9f07-84ab-42e5-c627-91a7da34fb53"
      },
      "execution_count": 4,
      "outputs": [
        {
          "output_type": "execute_result",
          "data": {
            "text/plain": [
              "array([[-15.14197814,  -6.90291034,  17.93200236],\n",
              "       [-14.09353897,   1.13610148,  -1.55760625]])"
            ]
          },
          "metadata": {},
          "execution_count": 4
        }
      ]
    },
    {
      "cell_type": "code",
      "source": [
        "data + data"
      ],
      "metadata": {
        "colab": {
          "base_uri": "https://localhost:8080/"
        },
        "id": "drTEcERfWyFS",
        "outputId": "715dd60f-d3cb-4b1c-a768-4bab1e09493c"
      },
      "execution_count": 5,
      "outputs": [
        {
          "output_type": "execute_result",
          "data": {
            "text/plain": [
              "array([[-3.02839563, -1.38058207,  3.58640047],\n",
              "       [-2.81870779,  0.2272203 , -0.31152125]])"
            ]
          },
          "metadata": {},
          "execution_count": 5
        }
      ]
    },
    {
      "cell_type": "code",
      "source": [
        "data.shape # 데이터의 형태 보기"
      ],
      "metadata": {
        "colab": {
          "base_uri": "https://localhost:8080/"
        },
        "id": "Gf1AGhgWWx7X",
        "outputId": "b5ddccfb-4ff3-45c1-954b-9138c4f6bc72"
      },
      "execution_count": 6,
      "outputs": [
        {
          "output_type": "execute_result",
          "data": {
            "text/plain": [
              "(2, 3)"
            ]
          },
          "metadata": {},
          "execution_count": 6
        }
      ]
    },
    {
      "cell_type": "code",
      "source": [
        "data.dtype # 데이터 타입"
      ],
      "metadata": {
        "colab": {
          "base_uri": "https://localhost:8080/"
        },
        "id": "ebyYvpc1W4EV",
        "outputId": "da943abc-438b-42bd-a63b-d0336e0d3529"
      },
      "execution_count": 7,
      "outputs": [
        {
          "output_type": "execute_result",
          "data": {
            "text/plain": [
              "dtype('float64')"
            ]
          },
          "metadata": {},
          "execution_count": 7
        }
      ]
    },
    {
      "cell_type": "markdown",
      "source": [
        "- ndarray의 생성과 사용"
      ],
      "metadata": {
        "id": "fE2yWMz3W6XL"
      }
    },
    {
      "cell_type": "code",
      "metadata": {
        "colab": {
          "base_uri": "https://localhost:8080/"
        },
        "id": "5RU6xAhhZbZ5",
        "outputId": "768d92e8-f2aa-4ced-9340-25e712c4398e"
      },
      "source": [
        "data1 = [6, 7.5, 8, 0, 1] # 수치 : 행이 하나의 차원, 영상/언어 : 열이 하나의 차원\n",
        "arr1 = np.array(data1) # 데이터 중 가장 큰 범위의 타입으로 자료형을 바꿔줌\n",
        "arr1"
      ],
      "execution_count": 8,
      "outputs": [
        {
          "output_type": "execute_result",
          "data": {
            "text/plain": [
              "array([6. , 7.5, 8. , 0. , 1. ])"
            ]
          },
          "metadata": {},
          "execution_count": 8
        }
      ]
    },
    {
      "cell_type": "code",
      "source": [
        "data2 = [6, 7, 8, 9, 0]\n",
        "arr2 = np.array(data2)\n",
        "arr2"
      ],
      "metadata": {
        "colab": {
          "base_uri": "https://localhost:8080/"
        },
        "id": "L1M_bUtpisaZ",
        "outputId": "7e96392d-7257-45fd-b093-2082db371c2d"
      },
      "execution_count": 9,
      "outputs": [
        {
          "output_type": "execute_result",
          "data": {
            "text/plain": [
              "array([6, 7, 8, 9, 0])"
            ]
          },
          "metadata": {},
          "execution_count": 9
        }
      ]
    },
    {
      "cell_type": "code",
      "source": [
        "arr1.ndim # 차원"
      ],
      "metadata": {
        "colab": {
          "base_uri": "https://localhost:8080/"
        },
        "id": "UEfISxXhuOUq",
        "outputId": "bf55fd15-83db-4a36-d805-65887b75806f"
      },
      "execution_count": 10,
      "outputs": [
        {
          "output_type": "execute_result",
          "data": {
            "text/plain": [
              "1"
            ]
          },
          "metadata": {},
          "execution_count": 10
        }
      ]
    },
    {
      "cell_type": "code",
      "metadata": {
        "colab": {
          "base_uri": "https://localhost:8080/"
        },
        "id": "G9SLQTPZaKyg",
        "outputId": "711c6853-f88f-4a88-e802-322199a8e2e0"
      },
      "source": [
        "data1"
      ],
      "execution_count": null,
      "outputs": [
        {
          "output_type": "execute_result",
          "data": {
            "text/plain": [
              "[6, 7.5, 8, 0, 1]"
            ]
          },
          "metadata": {},
          "execution_count": 33
        }
      ]
    },
    {
      "cell_type": "markdown",
      "metadata": {
        "id": "b3GqTXgEZbkz"
      },
      "source": [
        "* 같은 길이의 리스트가 담겨있는 순차 데이터는 다차원 배열로 변환이 가능함"
      ]
    },
    {
      "cell_type": "code",
      "metadata": {
        "colab": {
          "base_uri": "https://localhost:8080/"
        },
        "id": "vopM3rlSZbvA",
        "outputId": "a3fac619-5a63-4a48-f401-2bdd65455efb"
      },
      "source": [
        "data2 = [[1, 2, 3, 4], [5, 6, 7, 8]]\n",
        "arr2 = np.array(data2)\n",
        "arr2"
      ],
      "execution_count": 11,
      "outputs": [
        {
          "output_type": "execute_result",
          "data": {
            "text/plain": [
              "array([[1, 2, 3, 4],\n",
              "       [5, 6, 7, 8]])"
            ]
          },
          "metadata": {},
          "execution_count": 11
        }
      ]
    },
    {
      "cell_type": "code",
      "metadata": {
        "colab": {
          "base_uri": "https://localhost:8080/"
        },
        "id": "fgL6x5Lfa2vO",
        "outputId": "7f9fd80a-e9a4-459b-ed52-82cb0199c532"
      },
      "source": [
        "arr2.ndim"
      ],
      "execution_count": 12,
      "outputs": [
        {
          "output_type": "execute_result",
          "data": {
            "text/plain": [
              "2"
            ]
          },
          "metadata": {},
          "execution_count": 12
        }
      ]
    },
    {
      "cell_type": "code",
      "metadata": {
        "colab": {
          "base_uri": "https://localhost:8080/"
        },
        "id": "HEG_2mLha6tv",
        "outputId": "508ccf05-1ede-4989-a8c8-b171840b3ae5"
      },
      "source": [
        "arr2.shape"
      ],
      "execution_count": 13,
      "outputs": [
        {
          "output_type": "execute_result",
          "data": {
            "text/plain": [
              "(2, 4)"
            ]
          },
          "metadata": {},
          "execution_count": 13
        }
      ]
    },
    {
      "cell_type": "markdown",
      "metadata": {
        "id": "_G-X5_VyZb4A"
      },
      "source": [
        "* 명시적으로 지정하지 않는 한 np.array는 생성될 때 적절한 자료형을 지정하여 적용함"
      ]
    },
    {
      "cell_type": "code",
      "metadata": {
        "colab": {
          "base_uri": "https://localhost:8080/"
        },
        "id": "70I4fHtqZcCK",
        "outputId": "10cec91e-f791-4e76-8ef9-c4d3d0fba4ca"
      },
      "source": [
        "arr1.dtype"
      ],
      "execution_count": 14,
      "outputs": [
        {
          "output_type": "execute_result",
          "data": {
            "text/plain": [
              "dtype('float64')"
            ]
          },
          "metadata": {},
          "execution_count": 14
        }
      ]
    },
    {
      "cell_type": "code",
      "metadata": {
        "deletable": true,
        "editable": true,
        "id": "V2cVVytI2rpR",
        "colab": {
          "base_uri": "https://localhost:8080/"
        },
        "outputId": "7cbd577a-c5fc-4cc3-8f0a-eb5f2f7a23ae"
      },
      "source": [
        "arr2.dtype"
      ],
      "execution_count": 15,
      "outputs": [
        {
          "output_type": "execute_result",
          "data": {
            "text/plain": [
              "dtype('int64')"
            ]
          },
          "metadata": {},
          "execution_count": 15
        }
      ]
    },
    {
      "cell_type": "markdown",
      "metadata": {
        "id": "dfmw6C9TZcL2"
      },
      "source": [
        "* 새로운 배열을 생성하기 위한 다양한 함수 보유"
      ]
    },
    {
      "cell_type": "code",
      "metadata": {
        "colab": {
          "base_uri": "https://localhost:8080/"
        },
        "id": "-x4KZDzwZcWC",
        "outputId": "2437562e-a905-4653-9d87-878b6cad215d"
      },
      "source": [
        "np.zeros(10)               # 10개의 요소가 0으로 채워진 1차원 배열 생성"
      ],
      "execution_count": 16,
      "outputs": [
        {
          "output_type": "execute_result",
          "data": {
            "text/plain": [
              "array([0., 0., 0., 0., 0., 0., 0., 0., 0., 0.])"
            ]
          },
          "metadata": {},
          "execution_count": 16
        }
      ]
    },
    {
      "cell_type": "code",
      "metadata": {
        "colab": {
          "base_uri": "https://localhost:8080/"
        },
        "id": "m6btbbozbQLe",
        "outputId": "a9ad84fb-1f2b-456d-9fef-083b83f56e83"
      },
      "source": [
        "np.zeros((3, 6))            # 6개의 요소를 가진 1차원 배열이 3개가 포함된 2차원 배열 생성"
      ],
      "execution_count": 17,
      "outputs": [
        {
          "output_type": "execute_result",
          "data": {
            "text/plain": [
              "array([[0., 0., 0., 0., 0., 0.],\n",
              "       [0., 0., 0., 0., 0., 0.],\n",
              "       [0., 0., 0., 0., 0., 0.]])"
            ]
          },
          "metadata": {},
          "execution_count": 17
        }
      ]
    },
    {
      "cell_type": "code",
      "metadata": {
        "colab": {
          "base_uri": "https://localhost:8080/"
        },
        "id": "vrDOpGRebQBG",
        "outputId": "82f7eb3b-8c9a-493c-c912-7e51b1b92aa1"
      },
      "source": [
        "np.empty((2, 3, 2))              # empty 함수는 초기화되지 않은 배열 생성. 원하는 형태를 정의한 튜플을 넘기면 해당 형태로 생성"
      ],
      "execution_count": 18,
      "outputs": [
        {
          "output_type": "execute_result",
          "data": {
            "text/plain": [
              "array([[[4.72912986e-310, 0.00000000e+000],\n",
              "        [0.00000000e+000, 0.00000000e+000],\n",
              "        [0.00000000e+000, 0.00000000e+000]],\n",
              "\n",
              "       [[0.00000000e+000, 0.00000000e+000],\n",
              "        [0.00000000e+000, 0.00000000e+000],\n",
              "        [0.00000000e+000, 0.00000000e+000]]])"
            ]
          },
          "metadata": {},
          "execution_count": 18
        }
      ]
    },
    {
      "cell_type": "markdown",
      "metadata": {
        "id": "2nB0mYZ1Zce0"
      },
      "source": [
        "* 파이썬의 range 함수의 배열 버전인 arange 함수"
      ]
    },
    {
      "cell_type": "code",
      "metadata": {
        "colab": {
          "base_uri": "https://localhost:8080/"
        },
        "id": "D3NNcqlYZcor",
        "outputId": "da18047d-8e88-4500-8273-f13197ae060b"
      },
      "source": [
        "np.arange(15)"
      ],
      "execution_count": 19,
      "outputs": [
        {
          "output_type": "execute_result",
          "data": {
            "text/plain": [
              "array([ 0,  1,  2,  3,  4,  5,  6,  7,  8,  9, 10, 11, 12, 13, 14])"
            ]
          },
          "metadata": {},
          "execution_count": 19
        }
      ]
    },
    {
      "cell_type": "code",
      "source": [
        "range(15)"
      ],
      "metadata": {
        "colab": {
          "base_uri": "https://localhost:8080/"
        },
        "id": "TiNJEyjZ1N2k",
        "outputId": "e4e43d02-7048-4398-b851-0f98b511b54c"
      },
      "execution_count": 20,
      "outputs": [
        {
          "output_type": "execute_result",
          "data": {
            "text/plain": [
              "range(0, 15)"
            ]
          },
          "metadata": {},
          "execution_count": 20
        }
      ]
    },
    {
      "cell_type": "markdown",
      "metadata": {
        "id": "mJcBptRydqAa"
      },
      "source": [
        "- 데이터 타입 확인"
      ]
    },
    {
      "cell_type": "code",
      "metadata": {
        "colab": {
          "base_uri": "https://localhost:8080/"
        },
        "id": "hV9JQqPUZc70",
        "outputId": "64eab8b7-db43-4247-8732-33e6debb4021"
      },
      "source": [
        "arr0 = np.array([1., 2, 3])\n",
        "arr1 = np.array([1, 2, 3], dtype=np.float64)\n",
        "arr2 = np.array([1, 2, 3], dtype=np.int32)\n",
        "print(arr0.dtype)\n",
        "print(arr0)\n",
        "print(arr1.dtype)\n",
        "print(arr1)\n",
        "print(arr2.dtype)\n",
        "print(arr2)"
      ],
      "execution_count": 21,
      "outputs": [
        {
          "output_type": "stream",
          "name": "stdout",
          "text": [
            "float64\n",
            "[1. 2. 3.]\n",
            "float64\n",
            "[1. 2. 3.]\n",
            "int32\n",
            "[1 2 3]\n"
          ]
        }
      ]
    },
    {
      "cell_type": "code",
      "metadata": {
        "colab": {
          "base_uri": "https://localhost:8080/"
        },
        "id": "8VCosgZzFCTe",
        "outputId": "b6297e57-ac6d-4678-bb09-8f29dcfd8ae6"
      },
      "source": [
        "arr = np.array([3.7, -1.2, -2.6, 0.5, 12.9, 10.1])\n",
        "arr1 = arr.astype(np.int32) # astype : 데이터 타입 바꾸기\n",
        "print(arr1)"
      ],
      "execution_count": 22,
      "outputs": [
        {
          "output_type": "stream",
          "name": "stdout",
          "text": [
            "[ 3 -1 -2  0 12 10]\n"
          ]
        }
      ]
    },
    {
      "cell_type": "code",
      "source": [
        "import copy\n",
        "\n",
        "arr2 = arr1 # 메모리 공유하게됨...\n",
        "arr2[0] = 10\n",
        "print(arr2)\n",
        "print(arr1)\n",
        "\n",
        "arr3 = copy.copy(arr1) # copy 모듈의 copy 메소드\n",
        "arr3[0] = 20\n",
        "print(arr3)\n",
        "print(arr2)\n",
        "print(arr1)"
      ],
      "metadata": {
        "colab": {
          "base_uri": "https://localhost:8080/"
        },
        "id": "-JSMAQVY6BcR",
        "outputId": "571b04ac-5a34-433c-a268-f7767449490b"
      },
      "execution_count": 23,
      "outputs": [
        {
          "output_type": "stream",
          "name": "stdout",
          "text": [
            "[10 -1 -2  0 12 10]\n",
            "[10 -1 -2  0 12 10]\n",
            "[20 -1 -2  0 12 10]\n",
            "[10 -1 -2  0 12 10]\n",
            "[10 -1 -2  0 12 10]\n"
          ]
        }
      ]
    },
    {
      "cell_type": "code",
      "metadata": {
        "colab": {
          "base_uri": "https://localhost:8080/"
        },
        "id": "Os6Qls64FCWr",
        "outputId": "daf187aa-86a1-44fc-b5f6-9fb40f44b109"
      },
      "source": [
        "numeric_strings = np.array(['1.25', '-9.6', '42'], dtype=np.string_) # np.string_으로 데이터 타입 바꾸면 연산이 안되고 그냥 문자열 데이터로 처리됨..\n",
        "print(numeric_strings) # b = byte\n",
        "numeric_strings.astype(float)  # astype() 타입 변경"
      ],
      "execution_count": 24,
      "outputs": [
        {
          "output_type": "stream",
          "name": "stdout",
          "text": [
            "[b'1.25' b'-9.6' b'42']\n"
          ]
        },
        {
          "output_type": "execute_result",
          "data": {
            "text/plain": [
              "array([ 1.25, -9.6 , 42.  ])"
            ]
          },
          "metadata": {},
          "execution_count": 24
        }
      ]
    },
    {
      "cell_type": "code",
      "metadata": {
        "colab": {
          "base_uri": "https://localhost:8080/"
        },
        "id": "4F8oRbvZFCZ-",
        "outputId": "d680641c-bd85-4556-eae7-1e275abb9dd1"
      },
      "source": [
        "int_array = np.arange(10)\n",
        "print(int_array.dtype)\n",
        "calibers = np.array([.22, .270, .357, .380, .44, .50], dtype=np.float64)\n",
        "print(calibers.dtype)\n",
        "int_array.astype(calibers.dtype)"
      ],
      "execution_count": 25,
      "outputs": [
        {
          "output_type": "stream",
          "name": "stdout",
          "text": [
            "int64\n",
            "float64\n"
          ]
        },
        {
          "output_type": "execute_result",
          "data": {
            "text/plain": [
              "array([0., 1., 2., 3., 4., 5., 6., 7., 8., 9.])"
            ]
          },
          "metadata": {},
          "execution_count": 25
        }
      ]
    },
    {
      "cell_type": "code",
      "metadata": {
        "colab": {
          "base_uri": "https://localhost:8080/"
        },
        "id": "pVNtZkICFCgo",
        "outputId": "c032abb4-645e-4af1-8c2f-d6e4a85321a8"
      },
      "source": [
        "empty_uint32 = np.empty(8, dtype='u4') # u4: unsigned int32 부호 없는 정수\n",
        "empty_uint32"
      ],
      "execution_count": null,
      "outputs": [
        {
          "output_type": "execute_result",
          "data": {
            "text/plain": [
              "array([         0, 1075314688,          0, 1075707904,          0,\n",
              "       1075838976,          0, 1072693248], dtype=uint32)"
            ]
          },
          "metadata": {},
          "execution_count": 49
        }
      ]
    },
    {
      "cell_type": "markdown",
      "metadata": {
        "id": "1DjqeCUNZdEn"
      },
      "source": [
        "- 산술 연산"
      ]
    },
    {
      "cell_type": "code",
      "metadata": {
        "colab": {
          "base_uri": "https://localhost:8080/"
        },
        "id": "MhrDm6hGZdOe",
        "outputId": "25deb1a2-71b0-42b8-cd88-3f677cb88055"
      },
      "source": [
        "arr = np.array([[1., 2., 3.], [4., 5., 6.]])\n",
        "arr"
      ],
      "execution_count": 26,
      "outputs": [
        {
          "output_type": "execute_result",
          "data": {
            "text/plain": [
              "array([[1., 2., 3.],\n",
              "       [4., 5., 6.]])"
            ]
          },
          "metadata": {},
          "execution_count": 26
        }
      ]
    },
    {
      "cell_type": "code",
      "source": [
        "arr * arr"
      ],
      "metadata": {
        "colab": {
          "base_uri": "https://localhost:8080/"
        },
        "id": "6NdaHKbGbh7c",
        "outputId": "4af07be1-e815-40b1-c006-3857bb8f871e"
      },
      "execution_count": 27,
      "outputs": [
        {
          "output_type": "execute_result",
          "data": {
            "text/plain": [
              "array([[ 1.,  4.,  9.],\n",
              "       [16., 25., 36.]])"
            ]
          },
          "metadata": {},
          "execution_count": 27
        }
      ]
    },
    {
      "cell_type": "code",
      "source": [
        "arr - arr"
      ],
      "metadata": {
        "colab": {
          "base_uri": "https://localhost:8080/"
        },
        "id": "WtJui3HibhtW",
        "outputId": "071c7b38-e7aa-45ff-b056-0311c3f7b9e7"
      },
      "execution_count": 28,
      "outputs": [
        {
          "output_type": "execute_result",
          "data": {
            "text/plain": [
              "array([[0., 0., 0.],\n",
              "       [0., 0., 0.]])"
            ]
          },
          "metadata": {},
          "execution_count": 28
        }
      ]
    },
    {
      "cell_type": "code",
      "metadata": {
        "colab": {
          "base_uri": "https://localhost:8080/"
        },
        "id": "3ydgXrl6FMrj",
        "outputId": "a95e0aa6-9881-4d84-e1ff-2db43ce99ac2"
      },
      "source": [
        "1 / arr"
      ],
      "execution_count": 29,
      "outputs": [
        {
          "output_type": "execute_result",
          "data": {
            "text/plain": [
              "array([[1.        , 0.5       , 0.33333333],\n",
              "       [0.25      , 0.2       , 0.16666667]])"
            ]
          },
          "metadata": {},
          "execution_count": 29
        }
      ]
    },
    {
      "cell_type": "code",
      "source": [
        "arr ** 0.5"
      ],
      "metadata": {
        "colab": {
          "base_uri": "https://localhost:8080/"
        },
        "id": "FCZQxj27b4xv",
        "outputId": "cc96823d-5967-48b0-e97f-99f349aa15e1"
      },
      "execution_count": 30,
      "outputs": [
        {
          "output_type": "execute_result",
          "data": {
            "text/plain": [
              "array([[1.        , 1.41421356, 1.73205081],\n",
              "       [2.        , 2.23606798, 2.44948974]])"
            ]
          },
          "metadata": {},
          "execution_count": 30
        }
      ]
    },
    {
      "cell_type": "code",
      "metadata": {
        "colab": {
          "base_uri": "https://localhost:8080/"
        },
        "id": "7fOQSslqFMu6",
        "outputId": "cf59174d-1bc0-4808-bef5-a2e15a049091"
      },
      "source": [
        "arr2 = np.array([[0., 4., 1.], [7., 2., 12.]])\n",
        "arr2"
      ],
      "execution_count": 31,
      "outputs": [
        {
          "output_type": "execute_result",
          "data": {
            "text/plain": [
              "array([[ 0.,  4.,  1.],\n",
              "       [ 7.,  2., 12.]])"
            ]
          },
          "metadata": {},
          "execution_count": 31
        }
      ]
    },
    {
      "cell_type": "code",
      "source": [
        "arr2 > arr"
      ],
      "metadata": {
        "colab": {
          "base_uri": "https://localhost:8080/"
        },
        "id": "kCDlUUo6cNEe",
        "outputId": "88de62f9-0097-4140-9a7d-2be0de0e5417"
      },
      "execution_count": 32,
      "outputs": [
        {
          "output_type": "execute_result",
          "data": {
            "text/plain": [
              "array([[False,  True, False],\n",
              "       [ True, False,  True]])"
            ]
          },
          "metadata": {},
          "execution_count": 32
        }
      ]
    },
    {
      "cell_type": "markdown",
      "metadata": {
        "id": "ydLpGdzxFUuD"
      },
      "source": [
        "### 2-2. 인덱싱과 슬라이싱"
      ]
    },
    {
      "cell_type": "markdown",
      "source": [
        "- 기본 인덱싱"
      ],
      "metadata": {
        "id": "PqOY-DTYVmhK"
      }
    },
    {
      "cell_type": "code",
      "metadata": {
        "colab": {
          "base_uri": "https://localhost:8080/"
        },
        "id": "uGBPg77VFVs-",
        "outputId": "7378cd0d-2b43-4711-829e-e6ad3c4ff366"
      },
      "source": [
        "arr = np.arange(10)\n",
        "arr"
      ],
      "execution_count": 33,
      "outputs": [
        {
          "output_type": "execute_result",
          "data": {
            "text/plain": [
              "array([0, 1, 2, 3, 4, 5, 6, 7, 8, 9])"
            ]
          },
          "metadata": {},
          "execution_count": 33
        }
      ]
    },
    {
      "cell_type": "code",
      "source": [
        "arr[5]"
      ],
      "metadata": {
        "colab": {
          "base_uri": "https://localhost:8080/"
        },
        "id": "PXPiZ09xclX5",
        "outputId": "909f8346-9ba1-4a61-c50f-b62a963fe220"
      },
      "execution_count": 34,
      "outputs": [
        {
          "output_type": "execute_result",
          "data": {
            "text/plain": [
              "5"
            ]
          },
          "metadata": {},
          "execution_count": 34
        }
      ]
    },
    {
      "cell_type": "code",
      "source": [
        "arr[5:8]"
      ],
      "metadata": {
        "colab": {
          "base_uri": "https://localhost:8080/"
        },
        "id": "hYB9cowQclTe",
        "outputId": "42b38e63-aa70-4f5a-b2dc-aa2958b8f559"
      },
      "execution_count": 35,
      "outputs": [
        {
          "output_type": "execute_result",
          "data": {
            "text/plain": [
              "array([5, 6, 7])"
            ]
          },
          "metadata": {},
          "execution_count": 35
        }
      ]
    },
    {
      "cell_type": "code",
      "source": [
        "arr[5:8] = 12"
      ],
      "metadata": {
        "id": "j7gwulhmclJC"
      },
      "execution_count": 36,
      "outputs": []
    },
    {
      "cell_type": "code",
      "source": [
        "arr"
      ],
      "metadata": {
        "colab": {
          "base_uri": "https://localhost:8080/"
        },
        "id": "F9yeQASyclEd",
        "outputId": "f12cfa27-954c-4ce1-d575-6351a44cc9e4"
      },
      "execution_count": 37,
      "outputs": [
        {
          "output_type": "execute_result",
          "data": {
            "text/plain": [
              "array([ 0,  1,  2,  3,  4, 12, 12, 12,  8,  9])"
            ]
          },
          "metadata": {},
          "execution_count": 37
        }
      ]
    },
    {
      "cell_type": "code",
      "metadata": {
        "colab": {
          "base_uri": "https://localhost:8080/"
        },
        "id": "oVPRn7N-FVw_",
        "outputId": "94aa06dd-4b43-4f65-d4e6-f8fb6669ed2b"
      },
      "source": [
        "arr_slice = arr[5:8]\n",
        "arr_slice"
      ],
      "execution_count": 38,
      "outputs": [
        {
          "output_type": "execute_result",
          "data": {
            "text/plain": [
              "array([12, 12, 12])"
            ]
          },
          "metadata": {},
          "execution_count": 38
        }
      ]
    },
    {
      "cell_type": "code",
      "metadata": {
        "colab": {
          "base_uri": "https://localhost:8080/"
        },
        "id": "lZi_E-GYFVzs",
        "outputId": "b556d474-0fc9-4b70-9c0c-47039980466f"
      },
      "source": [
        "arr_slice[1] = 12345\n",
        "arr"
      ],
      "execution_count": 39,
      "outputs": [
        {
          "output_type": "execute_result",
          "data": {
            "text/plain": [
              "array([    0,     1,     2,     3,     4,    12, 12345,    12,     8,\n",
              "           9])"
            ]
          },
          "metadata": {},
          "execution_count": 39
        }
      ]
    },
    {
      "cell_type": "code",
      "metadata": {
        "colab": {
          "base_uri": "https://localhost:8080/"
        },
        "id": "AlTNqx2pFV3H",
        "outputId": "740ec00a-cd2d-4b51-f36a-2fa64c27f241"
      },
      "source": [
        "arr_slice[:] = 64\n",
        "arr"
      ],
      "execution_count": 40,
      "outputs": [
        {
          "output_type": "execute_result",
          "data": {
            "text/plain": [
              "array([ 0,  1,  2,  3,  4, 64, 64, 64,  8,  9])"
            ]
          },
          "metadata": {},
          "execution_count": 40
        }
      ]
    },
    {
      "cell_type": "code",
      "metadata": {
        "colab": {
          "base_uri": "https://localhost:8080/"
        },
        "id": "4p2qLpZbFV6a",
        "outputId": "a898f8d6-0de0-46dc-d04a-709d90bd7ce8"
      },
      "source": [
        "arr2d = np.array([[1, 2, 3], [4, 5, 6], [7, 8, 9]])\n",
        "arr2d[2]"
      ],
      "execution_count": 41,
      "outputs": [
        {
          "output_type": "execute_result",
          "data": {
            "text/plain": [
              "array([7, 8, 9])"
            ]
          },
          "metadata": {},
          "execution_count": 41
        }
      ]
    },
    {
      "cell_type": "code",
      "metadata": {
        "colab": {
          "base_uri": "https://localhost:8080/"
        },
        "id": "F9h8VzQiFV96",
        "outputId": "477e302e-0be4-49e8-b994-818e699be211"
      },
      "source": [
        "arr2d[0][2]"
      ],
      "execution_count": 42,
      "outputs": [
        {
          "output_type": "execute_result",
          "data": {
            "text/plain": [
              "3"
            ]
          },
          "metadata": {},
          "execution_count": 42
        }
      ]
    },
    {
      "cell_type": "code",
      "source": [
        "arr2d[0, 2]"
      ],
      "metadata": {
        "colab": {
          "base_uri": "https://localhost:8080/"
        },
        "id": "qhuhByARdnN1",
        "outputId": "79936b6e-6aee-4796-bf20-a45be8a23eb9"
      },
      "execution_count": 43,
      "outputs": [
        {
          "output_type": "execute_result",
          "data": {
            "text/plain": [
              "3"
            ]
          },
          "metadata": {},
          "execution_count": 43
        }
      ]
    },
    {
      "cell_type": "code",
      "metadata": {
        "colab": {
          "base_uri": "https://localhost:8080/"
        },
        "id": "j2uWwjO6FWEM",
        "outputId": "8fbb8bfa-90b5-4a64-db07-c282468157de"
      },
      "source": [
        "arr3d = np.array([[[1, 2, 3], [4, 5, 6]], [[7, 8, 9], [10, 11, 12]]])\n",
        "arr3d"
      ],
      "execution_count": 44,
      "outputs": [
        {
          "output_type": "execute_result",
          "data": {
            "text/plain": [
              "array([[[ 1,  2,  3],\n",
              "        [ 4,  5,  6]],\n",
              "\n",
              "       [[ 7,  8,  9],\n",
              "        [10, 11, 12]]])"
            ]
          },
          "metadata": {},
          "execution_count": 44
        }
      ]
    },
    {
      "cell_type": "code",
      "metadata": {
        "colab": {
          "base_uri": "https://localhost:8080/"
        },
        "id": "KGRmoEx4FWHj",
        "outputId": "b80af95a-fce4-45ba-bce1-027f385b888b"
      },
      "source": [
        "arr3d[0]"
      ],
      "execution_count": 45,
      "outputs": [
        {
          "output_type": "execute_result",
          "data": {
            "text/plain": [
              "array([[1, 2, 3],\n",
              "       [4, 5, 6]])"
            ]
          },
          "metadata": {},
          "execution_count": 45
        }
      ]
    },
    {
      "cell_type": "code",
      "metadata": {
        "colab": {
          "base_uri": "https://localhost:8080/"
        },
        "id": "_TRXKa-KFWLG",
        "outputId": "42d5f7f1-5aa1-441a-ba25-c2622fb35be1"
      },
      "source": [
        "old_values = arr3d[0].copy()\n",
        "arr3d[0] = 42\n",
        "arr3d"
      ],
      "execution_count": 46,
      "outputs": [
        {
          "output_type": "execute_result",
          "data": {
            "text/plain": [
              "array([[[42, 42, 42],\n",
              "        [42, 42, 42]],\n",
              "\n",
              "       [[ 7,  8,  9],\n",
              "        [10, 11, 12]]])"
            ]
          },
          "metadata": {},
          "execution_count": 46
        }
      ]
    },
    {
      "cell_type": "code",
      "source": [
        "arr3d[0] = old_values\n",
        "arr3d"
      ],
      "metadata": {
        "colab": {
          "base_uri": "https://localhost:8080/"
        },
        "id": "Vi3WwaNjebS9",
        "outputId": "ec28e79c-4e3a-43b3-d998-64459f9a3e02"
      },
      "execution_count": 47,
      "outputs": [
        {
          "output_type": "execute_result",
          "data": {
            "text/plain": [
              "array([[[ 1,  2,  3],\n",
              "        [ 4,  5,  6]],\n",
              "\n",
              "       [[ 7,  8,  9],\n",
              "        [10, 11, 12]]])"
            ]
          },
          "metadata": {},
          "execution_count": 47
        }
      ]
    },
    {
      "cell_type": "code",
      "metadata": {
        "colab": {
          "base_uri": "https://localhost:8080/"
        },
        "id": "Dr_cvA_jFWOa",
        "outputId": "e8af15ae-3a97-4089-91b7-53c09abc50df"
      },
      "source": [
        "arr3d[1, 0]"
      ],
      "execution_count": 48,
      "outputs": [
        {
          "output_type": "execute_result",
          "data": {
            "text/plain": [
              "array([7, 8, 9])"
            ]
          },
          "metadata": {},
          "execution_count": 48
        }
      ]
    },
    {
      "cell_type": "code",
      "metadata": {
        "colab": {
          "base_uri": "https://localhost:8080/"
        },
        "id": "6dgw9bz0FsEs",
        "outputId": "bead8c0e-5ddb-4f85-944e-5df7db13740f"
      },
      "source": [
        "x = arr3d[1]\n",
        "x\n",
        "x[0]"
      ],
      "execution_count": 49,
      "outputs": [
        {
          "output_type": "execute_result",
          "data": {
            "text/plain": [
              "array([7, 8, 9])"
            ]
          },
          "metadata": {},
          "execution_count": 49
        }
      ]
    },
    {
      "cell_type": "markdown",
      "metadata": {
        "id": "Gqgl07nFFukf"
      },
      "source": [
        "- 슬라이스를 이용한 인덱싱"
      ]
    },
    {
      "cell_type": "code",
      "source": [
        "arr"
      ],
      "metadata": {
        "colab": {
          "base_uri": "https://localhost:8080/"
        },
        "id": "fXqwt6Ohez8Z",
        "outputId": "ebd96823-d067-410e-e8ec-d0b0f0997b6b"
      },
      "execution_count": 50,
      "outputs": [
        {
          "output_type": "execute_result",
          "data": {
            "text/plain": [
              "array([ 0,  1,  2,  3,  4, 64, 64, 64,  8,  9])"
            ]
          },
          "metadata": {},
          "execution_count": 50
        }
      ]
    },
    {
      "cell_type": "code",
      "metadata": {
        "colab": {
          "base_uri": "https://localhost:8080/"
        },
        "id": "J4u_PdgPFuy6",
        "outputId": "4ccf0a81-1df3-440f-e810-2451df959471"
      },
      "source": [
        "arr[1:6]"
      ],
      "execution_count": 51,
      "outputs": [
        {
          "output_type": "execute_result",
          "data": {
            "text/plain": [
              "array([ 1,  2,  3,  4, 64])"
            ]
          },
          "metadata": {},
          "execution_count": 51
        }
      ]
    },
    {
      "cell_type": "code",
      "source": [
        "arr2d"
      ],
      "metadata": {
        "colab": {
          "base_uri": "https://localhost:8080/"
        },
        "id": "nLy-xNR8e_kw",
        "outputId": "c89d8437-5f64-4bec-9fc7-eabb5546cc52"
      },
      "execution_count": 52,
      "outputs": [
        {
          "output_type": "execute_result",
          "data": {
            "text/plain": [
              "array([[1, 2, 3],\n",
              "       [4, 5, 6],\n",
              "       [7, 8, 9]])"
            ]
          },
          "metadata": {},
          "execution_count": 52
        }
      ]
    },
    {
      "cell_type": "code",
      "metadata": {
        "colab": {
          "base_uri": "https://localhost:8080/"
        },
        "id": "0BtSTh3OFu2Q",
        "outputId": "830f9faf-e68a-4b45-aca8-17c5795351a9"
      },
      "source": [
        "arr2d[:2]"
      ],
      "execution_count": 53,
      "outputs": [
        {
          "output_type": "execute_result",
          "data": {
            "text/plain": [
              "array([[1, 2, 3],\n",
              "       [4, 5, 6]])"
            ]
          },
          "metadata": {},
          "execution_count": 53
        }
      ]
    },
    {
      "cell_type": "code",
      "metadata": {
        "colab": {
          "base_uri": "https://localhost:8080/"
        },
        "id": "KZQH7Wi-Fu5v",
        "outputId": "eff05caf-7ef8-4231-cc59-b525373620ee"
      },
      "source": [
        "arr2d[:2, 1:]"
      ],
      "execution_count": 54,
      "outputs": [
        {
          "output_type": "execute_result",
          "data": {
            "text/plain": [
              "array([[2, 3],\n",
              "       [5, 6]])"
            ]
          },
          "metadata": {},
          "execution_count": 54
        }
      ]
    },
    {
      "cell_type": "code",
      "metadata": {
        "colab": {
          "base_uri": "https://localhost:8080/"
        },
        "id": "c7ZGajn8Fu84",
        "outputId": "f7ae8c6a-7ce8-407f-c168-a6e790610b64"
      },
      "source": [
        "arr2d[1, :2]"
      ],
      "execution_count": 55,
      "outputs": [
        {
          "output_type": "execute_result",
          "data": {
            "text/plain": [
              "array([4, 5])"
            ]
          },
          "metadata": {},
          "execution_count": 55
        }
      ]
    },
    {
      "cell_type": "code",
      "metadata": {
        "colab": {
          "base_uri": "https://localhost:8080/"
        },
        "id": "EzsEfLpKFvAm",
        "outputId": "98da4ef0-9f72-4ec8-ec45-f144daa880af"
      },
      "source": [
        "arr2d[:2, 2]"
      ],
      "execution_count": 56,
      "outputs": [
        {
          "output_type": "execute_result",
          "data": {
            "text/plain": [
              "array([3, 6])"
            ]
          },
          "metadata": {},
          "execution_count": 56
        }
      ]
    },
    {
      "cell_type": "code",
      "metadata": {
        "colab": {
          "base_uri": "https://localhost:8080/"
        },
        "id": "B33Vs408FvEH",
        "outputId": "8fa6417c-a65d-4d33-d7bc-c7921558e8c9"
      },
      "source": [
        "arr2d[:, :1]"
      ],
      "execution_count": 57,
      "outputs": [
        {
          "output_type": "execute_result",
          "data": {
            "text/plain": [
              "array([[1],\n",
              "       [4],\n",
              "       [7]])"
            ]
          },
          "metadata": {},
          "execution_count": 57
        }
      ]
    },
    {
      "cell_type": "code",
      "metadata": {
        "colab": {
          "base_uri": "https://localhost:8080/"
        },
        "id": "Twt27OoqGDc-",
        "outputId": "4ee62ef2-da93-452c-c60b-f5533a9bb019"
      },
      "source": [
        "arr2d[:2, 1:] = 0\n",
        "arr2d"
      ],
      "execution_count": 58,
      "outputs": [
        {
          "output_type": "execute_result",
          "data": {
            "text/plain": [
              "array([[1, 0, 0],\n",
              "       [4, 0, 0],\n",
              "       [7, 8, 9]])"
            ]
          },
          "metadata": {},
          "execution_count": 58
        }
      ]
    },
    {
      "cell_type": "markdown",
      "metadata": {
        "deletable": true,
        "editable": true,
        "id": "HVLIAzU_2rpY"
      },
      "source": [
        "- 불린 인덱싱\n"
      ]
    },
    {
      "cell_type": "code",
      "metadata": {
        "deletable": true,
        "editable": true,
        "id": "eTufBa1I2rpY"
      },
      "source": [
        "names = np.array(['Bob', 'Joe', 'Will', 'Bob', 'Will', 'Joe', 'Joe'])\n",
        "data = np.random.randn(7, 4)"
      ],
      "execution_count": 59,
      "outputs": []
    },
    {
      "cell_type": "code",
      "source": [
        "names"
      ],
      "metadata": {
        "colab": {
          "base_uri": "https://localhost:8080/"
        },
        "id": "83by0uC9gGX3",
        "outputId": "589da2d4-46f9-4411-cca4-88afa67f9a0d"
      },
      "execution_count": 60,
      "outputs": [
        {
          "output_type": "execute_result",
          "data": {
            "text/plain": [
              "array(['Bob', 'Joe', 'Will', 'Bob', 'Will', 'Joe', 'Joe'], dtype='<U4')"
            ]
          },
          "metadata": {},
          "execution_count": 60
        }
      ]
    },
    {
      "cell_type": "code",
      "source": [
        "data"
      ],
      "metadata": {
        "colab": {
          "base_uri": "https://localhost:8080/"
        },
        "id": "4MzWJb97gGEO",
        "outputId": "27d006e8-b108-4094-a00e-eb0e8e1a43e6"
      },
      "execution_count": 61,
      "outputs": [
        {
          "output_type": "execute_result",
          "data": {
            "text/plain": [
              "array([[-0.48171379,  0.68331081, -1.53769428, -0.91726564],\n",
              "       [-0.15567991,  0.31212763, -1.02522822,  0.69633751],\n",
              "       [ 0.66989536,  1.3055325 , -1.08158091, -0.15971741],\n",
              "       [ 0.32270252,  0.9194134 , -0.60025111, -0.69713919],\n",
              "       [ 1.79554268, -0.03808776, -1.36426923, -0.35423513],\n",
              "       [ 0.29567942, -0.49118637,  1.48559443, -0.61982658],\n",
              "       [ 2.31481232, -0.17419839, -0.42842555, -2.29984867]])"
            ]
          },
          "metadata": {},
          "execution_count": 61
        }
      ]
    },
    {
      "cell_type": "code",
      "metadata": {
        "deletable": true,
        "editable": true,
        "id": "F_g-X_Zc2rpZ",
        "colab": {
          "base_uri": "https://localhost:8080/"
        },
        "outputId": "0fa145e1-b1ba-4724-dc74-b0d6fbf8bffd"
      },
      "source": [
        "names == 'Bob'"
      ],
      "execution_count": 62,
      "outputs": [
        {
          "output_type": "execute_result",
          "data": {
            "text/plain": [
              "array([ True, False, False,  True, False, False, False])"
            ]
          },
          "metadata": {},
          "execution_count": 62
        }
      ]
    },
    {
      "cell_type": "code",
      "metadata": {
        "deletable": true,
        "editable": true,
        "id": "zdP5lYCR2rpZ",
        "colab": {
          "base_uri": "https://localhost:8080/"
        },
        "outputId": "57c9bdb7-df93-4128-8137-56c6493c5a88"
      },
      "source": [
        "data[names == 'Bob']"
      ],
      "execution_count": 63,
      "outputs": [
        {
          "output_type": "execute_result",
          "data": {
            "text/plain": [
              "array([[-0.48171379,  0.68331081, -1.53769428, -0.91726564],\n",
              "       [ 0.32270252,  0.9194134 , -0.60025111, -0.69713919]])"
            ]
          },
          "metadata": {},
          "execution_count": 63
        }
      ]
    },
    {
      "cell_type": "code",
      "metadata": {
        "deletable": true,
        "editable": true,
        "id": "joVQQxyS2rpZ",
        "colab": {
          "base_uri": "https://localhost:8080/"
        },
        "outputId": "37201a15-4ef7-469e-b26d-4f3a7496cc79"
      },
      "source": [
        "data[names == 'Bob', 2:]"
      ],
      "execution_count": 64,
      "outputs": [
        {
          "output_type": "execute_result",
          "data": {
            "text/plain": [
              "array([[-1.53769428, -0.91726564],\n",
              "       [-0.60025111, -0.69713919]])"
            ]
          },
          "metadata": {},
          "execution_count": 64
        }
      ]
    },
    {
      "cell_type": "code",
      "source": [
        "data[names == 'Bob', 3]"
      ],
      "metadata": {
        "colab": {
          "base_uri": "https://localhost:8080/"
        },
        "id": "bDwdHzA0g0iB",
        "outputId": "da936090-e794-429a-938b-6b508eae72f8"
      },
      "execution_count": 65,
      "outputs": [
        {
          "output_type": "execute_result",
          "data": {
            "text/plain": [
              "array([-0.91726564, -0.69713919])"
            ]
          },
          "metadata": {},
          "execution_count": 65
        }
      ]
    },
    {
      "cell_type": "code",
      "metadata": {
        "deletable": true,
        "editable": true,
        "id": "ZVA6IWHb2rpZ",
        "colab": {
          "base_uri": "https://localhost:8080/"
        },
        "outputId": "394ad0cd-777c-42ef-a3b5-a0cb972b56be"
      },
      "source": [
        "names != 'Bob'"
      ],
      "execution_count": 66,
      "outputs": [
        {
          "output_type": "execute_result",
          "data": {
            "text/plain": [
              "array([False,  True,  True, False,  True,  True,  True])"
            ]
          },
          "metadata": {},
          "execution_count": 66
        }
      ]
    },
    {
      "cell_type": "code",
      "source": [
        "data[(names != 'Bob')]"
      ],
      "metadata": {
        "colab": {
          "base_uri": "https://localhost:8080/"
        },
        "id": "NOYYSbMSEdzp",
        "outputId": "6458d690-03fd-402a-bd72-5d789e1de74b"
      },
      "execution_count": 67,
      "outputs": [
        {
          "output_type": "execute_result",
          "data": {
            "text/plain": [
              "array([[-0.15567991,  0.31212763, -1.02522822,  0.69633751],\n",
              "       [ 0.66989536,  1.3055325 , -1.08158091, -0.15971741],\n",
              "       [ 1.79554268, -0.03808776, -1.36426923, -0.35423513],\n",
              "       [ 0.29567942, -0.49118637,  1.48559443, -0.61982658],\n",
              "       [ 2.31481232, -0.17419839, -0.42842555, -2.29984867]])"
            ]
          },
          "metadata": {},
          "execution_count": 67
        }
      ]
    },
    {
      "cell_type": "code",
      "source": [
        "data[~(names == 'Bob')] # ~ tilda : not을 의미함"
      ],
      "metadata": {
        "colab": {
          "base_uri": "https://localhost:8080/"
        },
        "id": "qylWsdOBhCld",
        "outputId": "2e6d8440-b4cc-41bf-869f-ead5fd050912"
      },
      "execution_count": 68,
      "outputs": [
        {
          "output_type": "execute_result",
          "data": {
            "text/plain": [
              "array([[-0.15567991,  0.31212763, -1.02522822,  0.69633751],\n",
              "       [ 0.66989536,  1.3055325 , -1.08158091, -0.15971741],\n",
              "       [ 1.79554268, -0.03808776, -1.36426923, -0.35423513],\n",
              "       [ 0.29567942, -0.49118637,  1.48559443, -0.61982658],\n",
              "       [ 2.31481232, -0.17419839, -0.42842555, -2.29984867]])"
            ]
          },
          "metadata": {},
          "execution_count": 68
        }
      ]
    },
    {
      "cell_type": "code",
      "metadata": {
        "deletable": true,
        "editable": true,
        "id": "nygIpe8v2rpZ",
        "colab": {
          "base_uri": "https://localhost:8080/"
        },
        "outputId": "c92f5683-f50d-4ef5-8b8f-83348896a07b"
      },
      "source": [
        "cond = names == 'Bob'\n",
        "data[~cond]"
      ],
      "execution_count": 69,
      "outputs": [
        {
          "output_type": "execute_result",
          "data": {
            "text/plain": [
              "array([[-0.15567991,  0.31212763, -1.02522822,  0.69633751],\n",
              "       [ 0.66989536,  1.3055325 , -1.08158091, -0.15971741],\n",
              "       [ 1.79554268, -0.03808776, -1.36426923, -0.35423513],\n",
              "       [ 0.29567942, -0.49118637,  1.48559443, -0.61982658],\n",
              "       [ 2.31481232, -0.17419839, -0.42842555, -2.29984867]])"
            ]
          },
          "metadata": {},
          "execution_count": 69
        }
      ]
    },
    {
      "cell_type": "code",
      "metadata": {
        "deletable": true,
        "editable": true,
        "id": "VS0ZZTpR2rpa",
        "colab": {
          "base_uri": "https://localhost:8080/"
        },
        "outputId": "2fbd47f0-ce93-4001-9647-a82c936d3e6d"
      },
      "source": [
        "mask = (names == 'Bob') | (names == 'Will')\n",
        "print(mask)\n",
        "data[mask]"
      ],
      "execution_count": 70,
      "outputs": [
        {
          "output_type": "stream",
          "name": "stdout",
          "text": [
            "[ True False  True  True  True False False]\n"
          ]
        },
        {
          "output_type": "execute_result",
          "data": {
            "text/plain": [
              "array([[-0.48171379,  0.68331081, -1.53769428, -0.91726564],\n",
              "       [ 0.66989536,  1.3055325 , -1.08158091, -0.15971741],\n",
              "       [ 0.32270252,  0.9194134 , -0.60025111, -0.69713919],\n",
              "       [ 1.79554268, -0.03808776, -1.36426923, -0.35423513]])"
            ]
          },
          "metadata": {},
          "execution_count": 70
        }
      ]
    },
    {
      "cell_type": "code",
      "metadata": {
        "deletable": true,
        "editable": true,
        "id": "1Pw0nmE42rpa",
        "colab": {
          "base_uri": "https://localhost:8080/"
        },
        "outputId": "f6be81e3-3fd6-4be1-cfec-50ae9a756591"
      },
      "source": [
        "data[data < 0] = 0\n",
        "data"
      ],
      "execution_count": 71,
      "outputs": [
        {
          "output_type": "execute_result",
          "data": {
            "text/plain": [
              "array([[0.        , 0.68331081, 0.        , 0.        ],\n",
              "       [0.        , 0.31212763, 0.        , 0.69633751],\n",
              "       [0.66989536, 1.3055325 , 0.        , 0.        ],\n",
              "       [0.32270252, 0.9194134 , 0.        , 0.        ],\n",
              "       [1.79554268, 0.        , 0.        , 0.        ],\n",
              "       [0.29567942, 0.        , 1.48559443, 0.        ],\n",
              "       [2.31481232, 0.        , 0.        , 0.        ]])"
            ]
          },
          "metadata": {},
          "execution_count": 71
        }
      ]
    },
    {
      "cell_type": "code",
      "metadata": {
        "deletable": true,
        "editable": true,
        "id": "WzAxJjTU2rpa",
        "colab": {
          "base_uri": "https://localhost:8080/"
        },
        "outputId": "5efef683-0fb0-4540-c567-023f320006c7"
      },
      "source": [
        "data[names != 'Joe'] = 7\n",
        "data"
      ],
      "execution_count": 72,
      "outputs": [
        {
          "output_type": "execute_result",
          "data": {
            "text/plain": [
              "array([[7.        , 7.        , 7.        , 7.        ],\n",
              "       [0.        , 0.31212763, 0.        , 0.69633751],\n",
              "       [7.        , 7.        , 7.        , 7.        ],\n",
              "       [7.        , 7.        , 7.        , 7.        ],\n",
              "       [7.        , 7.        , 7.        , 7.        ],\n",
              "       [0.29567942, 0.        , 1.48559443, 0.        ],\n",
              "       [2.31481232, 0.        , 0.        , 0.        ]])"
            ]
          },
          "metadata": {},
          "execution_count": 72
        }
      ]
    },
    {
      "cell_type": "markdown",
      "metadata": {
        "deletable": true,
        "editable": true,
        "id": "KmOQcY3W2rpa"
      },
      "source": [
        "- 팬시 인덱싱"
      ]
    },
    {
      "cell_type": "code",
      "source": [
        "arr = np.empty((8, 4))\n",
        "arr"
      ],
      "metadata": {
        "colab": {
          "base_uri": "https://localhost:8080/"
        },
        "id": "3q-Zrswch1_5",
        "outputId": "fc08f2f1-06e7-4c15-d983-2e502e058bf7"
      },
      "execution_count": 73,
      "outputs": [
        {
          "output_type": "execute_result",
          "data": {
            "text/plain": [
              "array([[1.  , 0.  , 0.16, 1.  ],\n",
              "       [1.  , 0.  , 0.  , 1.  ],\n",
              "       [1.  , 1.  , 0.  , 1.  ],\n",
              "       [0.  , 1.  , 0.  , 1.  ],\n",
              "       [0.  , 1.  , 1.  , 1.  ],\n",
              "       [0.  , 0.  , 1.  , 1.  ],\n",
              "       [1.  , 0.  , 1.  , 1.  ],\n",
              "       [1.  , 0.  , 0.75, 1.  ]])"
            ]
          },
          "metadata": {},
          "execution_count": 73
        }
      ]
    },
    {
      "cell_type": "code",
      "metadata": {
        "deletable": true,
        "editable": true,
        "id": "6YYNquRA2rpa",
        "colab": {
          "base_uri": "https://localhost:8080/"
        },
        "outputId": "8e0315cf-a482-45d4-f252-03fe549b16e3"
      },
      "source": [
        "for i in range(8):\n",
        "    arr[i] = i\n",
        "arr"
      ],
      "execution_count": 74,
      "outputs": [
        {
          "output_type": "execute_result",
          "data": {
            "text/plain": [
              "array([[0., 0., 0., 0.],\n",
              "       [1., 1., 1., 1.],\n",
              "       [2., 2., 2., 2.],\n",
              "       [3., 3., 3., 3.],\n",
              "       [4., 4., 4., 4.],\n",
              "       [5., 5., 5., 5.],\n",
              "       [6., 6., 6., 6.],\n",
              "       [7., 7., 7., 7.]])"
            ]
          },
          "metadata": {},
          "execution_count": 74
        }
      ]
    },
    {
      "cell_type": "code",
      "metadata": {
        "deletable": true,
        "editable": true,
        "id": "OfOi2YPz2rpa",
        "colab": {
          "base_uri": "https://localhost:8080/"
        },
        "outputId": "7878fe98-c063-4fb8-b205-efa9af759884"
      },
      "source": [
        "arr[[4, 3, 0, 6]]"
      ],
      "execution_count": 75,
      "outputs": [
        {
          "output_type": "execute_result",
          "data": {
            "text/plain": [
              "array([[4., 4., 4., 4.],\n",
              "       [3., 3., 3., 3.],\n",
              "       [0., 0., 0., 0.],\n",
              "       [6., 6., 6., 6.]])"
            ]
          },
          "metadata": {},
          "execution_count": 75
        }
      ]
    },
    {
      "cell_type": "code",
      "metadata": {
        "deletable": true,
        "editable": true,
        "id": "Q5OugsI32rpb",
        "colab": {
          "base_uri": "https://localhost:8080/"
        },
        "outputId": "b2e85737-063a-48d2-955e-953b02802da9"
      },
      "source": [
        "arr[[-3, -5, -7]]"
      ],
      "execution_count": 76,
      "outputs": [
        {
          "output_type": "execute_result",
          "data": {
            "text/plain": [
              "array([[5., 5., 5., 5.],\n",
              "       [3., 3., 3., 3.],\n",
              "       [1., 1., 1., 1.]])"
            ]
          },
          "metadata": {},
          "execution_count": 76
        }
      ]
    },
    {
      "cell_type": "code",
      "source": [
        "arr = np.arange(32)\n",
        "arr"
      ],
      "metadata": {
        "colab": {
          "base_uri": "https://localhost:8080/"
        },
        "id": "wOqOPgvFisqh",
        "outputId": "349c607c-2f6d-41da-d3eb-a03159817de4"
      },
      "execution_count": 77,
      "outputs": [
        {
          "output_type": "execute_result",
          "data": {
            "text/plain": [
              "array([ 0,  1,  2,  3,  4,  5,  6,  7,  8,  9, 10, 11, 12, 13, 14, 15, 16,\n",
              "       17, 18, 19, 20, 21, 22, 23, 24, 25, 26, 27, 28, 29, 30, 31])"
            ]
          },
          "metadata": {},
          "execution_count": 77
        }
      ]
    },
    {
      "cell_type": "code",
      "metadata": {
        "deletable": true,
        "editable": true,
        "id": "NEpaLihI2rpb",
        "colab": {
          "base_uri": "https://localhost:8080/"
        },
        "outputId": "59e35bc2-f451-47e0-c1a2-bb742e9cb2f4"
      },
      "source": [
        "arr = arr.reshape((8, 4))\n",
        "arr"
      ],
      "execution_count": 78,
      "outputs": [
        {
          "output_type": "execute_result",
          "data": {
            "text/plain": [
              "array([[ 0,  1,  2,  3],\n",
              "       [ 4,  5,  6,  7],\n",
              "       [ 8,  9, 10, 11],\n",
              "       [12, 13, 14, 15],\n",
              "       [16, 17, 18, 19],\n",
              "       [20, 21, 22, 23],\n",
              "       [24, 25, 26, 27],\n",
              "       [28, 29, 30, 31]])"
            ]
          },
          "metadata": {},
          "execution_count": 78
        }
      ]
    },
    {
      "cell_type": "code",
      "metadata": {
        "deletable": true,
        "editable": true,
        "id": "z8WfAG5I2rpb",
        "colab": {
          "base_uri": "https://localhost:8080/"
        },
        "outputId": "7c8f0092-8034-4e94-bc6c-eb0ce3c31a99"
      },
      "source": [
        "arr[[1, 5, 7, 2]][:, [0, 3, 1, 2]] # [: , [0,3,1,2]]로 행 안에서 재정렬"
      ],
      "execution_count": 79,
      "outputs": [
        {
          "output_type": "execute_result",
          "data": {
            "text/plain": [
              "array([[ 4,  7,  5,  6],\n",
              "       [20, 23, 21, 22],\n",
              "       [28, 31, 29, 30],\n",
              "       [ 8, 11,  9, 10]])"
            ]
          },
          "metadata": {},
          "execution_count": 79
        }
      ]
    },
    {
      "cell_type": "markdown",
      "metadata": {
        "deletable": true,
        "editable": true,
        "id": "_y9xDnTf2rpb"
      },
      "source": [
        "### 2-3. 전치행렬과 축 교환"
      ]
    },
    {
      "cell_type": "code",
      "metadata": {
        "deletable": true,
        "editable": true,
        "id": "rIBP-Ei12rpb",
        "colab": {
          "base_uri": "https://localhost:8080/"
        },
        "outputId": "6ab25139-7edd-4a66-f390-bfeb40150c32"
      },
      "source": [
        "arr = np.arange(15).reshape((3, 5)) # reshape 형태 바꾸기\n",
        "arr"
      ],
      "execution_count": 80,
      "outputs": [
        {
          "output_type": "execute_result",
          "data": {
            "text/plain": [
              "array([[ 0,  1,  2,  3,  4],\n",
              "       [ 5,  6,  7,  8,  9],\n",
              "       [10, 11, 12, 13, 14]])"
            ]
          },
          "metadata": {},
          "execution_count": 80
        }
      ]
    },
    {
      "cell_type": "code",
      "source": [
        "arr.T"
      ],
      "metadata": {
        "colab": {
          "base_uri": "https://localhost:8080/"
        },
        "id": "V9LrXr77jbKo",
        "outputId": "a47a04e9-0f04-43dd-8109-8d285df02dcc"
      },
      "execution_count": 81,
      "outputs": [
        {
          "output_type": "execute_result",
          "data": {
            "text/plain": [
              "array([[ 0,  5, 10],\n",
              "       [ 1,  6, 11],\n",
              "       [ 2,  7, 12],\n",
              "       [ 3,  8, 13],\n",
              "       [ 4,  9, 14]])"
            ]
          },
          "metadata": {},
          "execution_count": 81
        }
      ]
    },
    {
      "cell_type": "code",
      "metadata": {
        "deletable": true,
        "editable": true,
        "id": "WDdTFr-l2rpc",
        "colab": {
          "base_uri": "https://localhost:8080/"
        },
        "outputId": "47ea70a5-5e2e-4838-e35e-2cfd7f50a5dc"
      },
      "source": [
        "arr = np.random.randn(6, 3)\n",
        "arr"
      ],
      "execution_count": 82,
      "outputs": [
        {
          "output_type": "execute_result",
          "data": {
            "text/plain": [
              "array([[ 0.01630755, -1.13613793,  0.62579928],\n",
              "       [-0.1318541 , -0.68256774, -1.04938551],\n",
              "       [-0.52005637, -0.79869583, -0.42325008],\n",
              "       [ 0.95341391, -0.99443714, -0.97294238],\n",
              "       [-0.86927493, -0.64116556,  0.5674748 ],\n",
              "       [-0.55912963,  0.09460067, -0.07438927]])"
            ]
          },
          "metadata": {},
          "execution_count": 82
        }
      ]
    },
    {
      "cell_type": "code",
      "source": [
        "np.dot(arr.T, arr)"
      ],
      "metadata": {
        "colab": {
          "base_uri": "https://localhost:8080/"
        },
        "id": "RItHeFanjpIZ",
        "outputId": "4f22d908-e1c8-4ec9-cce7-c7ede99b3c05"
      },
      "execution_count": 83,
      "outputs": [
        {
          "output_type": "execute_result",
          "data": {
            "text/plain": [
              "array([[ 2.26537302,  0.04318348, -1.01063025],\n",
              "       [ 0.04318348,  3.80357093,  0.93997793],\n",
              "       [-1.01063025,  0.93997793,  2.94615361]])"
            ]
          },
          "metadata": {},
          "execution_count": 83
        }
      ]
    },
    {
      "cell_type": "code",
      "metadata": {
        "deletable": true,
        "editable": true,
        "id": "on945NV62rpc",
        "colab": {
          "base_uri": "https://localhost:8080/"
        },
        "outputId": "36bb1296-06a7-4aed-b7f6-45439894944f"
      },
      "source": [
        "arr = np.arange(16).reshape((2, 2, 4)) # 3차원\n",
        "arr"
      ],
      "execution_count": 84,
      "outputs": [
        {
          "output_type": "execute_result",
          "data": {
            "text/plain": [
              "array([[[ 0,  1,  2,  3],\n",
              "        [ 4,  5,  6,  7]],\n",
              "\n",
              "       [[ 8,  9, 10, 11],\n",
              "        [12, 13, 14, 15]]])"
            ]
          },
          "metadata": {},
          "execution_count": 84
        }
      ]
    },
    {
      "cell_type": "code",
      "source": [
        "arr.transpose((1, 0, 2)) # (면, 행, 열) 위치 바꿈 transpose"
      ],
      "metadata": {
        "colab": {
          "base_uri": "https://localhost:8080/"
        },
        "id": "By7YxQtwj7Ht",
        "outputId": "80a53eec-e3bc-4cef-cb4c-8dcc84824cf1"
      },
      "execution_count": 85,
      "outputs": [
        {
          "output_type": "execute_result",
          "data": {
            "text/plain": [
              "array([[[ 0,  1,  2,  3],\n",
              "        [ 8,  9, 10, 11]],\n",
              "\n",
              "       [[ 4,  5,  6,  7],\n",
              "        [12, 13, 14, 15]]])"
            ]
          },
          "metadata": {},
          "execution_count": 85
        }
      ]
    },
    {
      "cell_type": "code",
      "metadata": {
        "deletable": true,
        "editable": true,
        "id": "8Di7smWY2rpc",
        "colab": {
          "base_uri": "https://localhost:8080/"
        },
        "outputId": "9016012a-e38f-4842-ae9d-a6ebaac860eb"
      },
      "source": [
        "arr\n",
        "arr.swapaxes(1, 2) # 축 변겯"
      ],
      "execution_count": 86,
      "outputs": [
        {
          "output_type": "execute_result",
          "data": {
            "text/plain": [
              "array([[[ 0,  4],\n",
              "        [ 1,  5],\n",
              "        [ 2,  6],\n",
              "        [ 3,  7]],\n",
              "\n",
              "       [[ 8, 12],\n",
              "        [ 9, 13],\n",
              "        [10, 14],\n",
              "        [11, 15]]])"
            ]
          },
          "metadata": {},
          "execution_count": 86
        }
      ]
    },
    {
      "cell_type": "markdown",
      "metadata": {
        "deletable": true,
        "editable": true,
        "id": "BKfI-Mcj2rpc"
      },
      "source": [
        "### 2-4. 유니버설 함수"
      ]
    },
    {
      "cell_type": "markdown",
      "source": [
        "- ndarray 안에 있는 데이터 원소별로 연산을 수행하는 함수"
      ],
      "metadata": {
        "id": "D8f9ps5sWAPw"
      }
    },
    {
      "cell_type": "code",
      "metadata": {
        "deletable": true,
        "editable": true,
        "id": "MZcrz-eK2rpc",
        "colab": {
          "base_uri": "https://localhost:8080/"
        },
        "outputId": "68a235bf-380c-431a-90d7-87ed1c40d478"
      },
      "source": [
        "arr = np.arange(10)\n",
        "arr"
      ],
      "execution_count": 87,
      "outputs": [
        {
          "output_type": "execute_result",
          "data": {
            "text/plain": [
              "array([0, 1, 2, 3, 4, 5, 6, 7, 8, 9])"
            ]
          },
          "metadata": {},
          "execution_count": 87
        }
      ]
    },
    {
      "cell_type": "code",
      "source": [
        "np.sqrt(arr) # 제곱근"
      ],
      "metadata": {
        "colab": {
          "base_uri": "https://localhost:8080/"
        },
        "id": "vF6IfpFopDLK",
        "outputId": "59858b18-90bb-4dea-a760-fa9a89e363d4"
      },
      "execution_count": 88,
      "outputs": [
        {
          "output_type": "execute_result",
          "data": {
            "text/plain": [
              "array([0.        , 1.        , 1.41421356, 1.73205081, 2.        ,\n",
              "       2.23606798, 2.44948974, 2.64575131, 2.82842712, 3.        ])"
            ]
          },
          "metadata": {},
          "execution_count": 88
        }
      ]
    },
    {
      "cell_type": "code",
      "source": [
        "np.exp(arr) # 지수"
      ],
      "metadata": {
        "colab": {
          "base_uri": "https://localhost:8080/"
        },
        "id": "5BsxYfxlpC8Y",
        "outputId": "dcb678a2-b93b-406b-eee4-562a50e7eab7"
      },
      "execution_count": null,
      "outputs": [
        {
          "output_type": "execute_result",
          "data": {
            "text/plain": [
              "array([1.00000000e+00, 2.71828183e+00, 7.38905610e+00, 2.00855369e+01,\n",
              "       5.45981500e+01, 1.48413159e+02, 4.03428793e+02, 1.09663316e+03,\n",
              "       2.98095799e+03, 8.10308393e+03])"
            ]
          },
          "metadata": {},
          "execution_count": 113
        }
      ]
    },
    {
      "cell_type": "code",
      "metadata": {
        "deletable": true,
        "editable": true,
        "id": "m_mfm1BV2rpc",
        "colab": {
          "base_uri": "https://localhost:8080/"
        },
        "outputId": "494e3d10-6282-4061-9570-14c67baf2db0"
      },
      "source": [
        "x = np.random.randn(8)\n",
        "y = np.random.randn(8)\n",
        "print(\"X: \",x)\n",
        "print(\"Y: \", y)\n",
        "np.maximum(x, y)"
      ],
      "execution_count": 92,
      "outputs": [
        {
          "output_type": "stream",
          "name": "stdout",
          "text": [
            "X:  [ 0.27162821  1.28241924 -1.22307553  1.46648957  0.21210705 -0.56521636\n",
            " -0.7419668   0.79912503]\n",
            "Y:  [-0.68972096  0.03686463  1.5807763  -0.27901066  0.00384221 -1.12204475\n",
            " -0.0631017  -0.02548747]\n"
          ]
        },
        {
          "output_type": "execute_result",
          "data": {
            "text/plain": [
              "array([ 0.27162821,  1.28241924,  1.5807763 ,  1.46648957,  0.21210705,\n",
              "       -0.56521636, -0.0631017 ,  0.79912503])"
            ]
          },
          "metadata": {},
          "execution_count": 92
        }
      ]
    },
    {
      "cell_type": "code",
      "metadata": {
        "deletable": true,
        "editable": true,
        "id": "6Y3Lvyla2rpd",
        "colab": {
          "base_uri": "https://localhost:8080/"
        },
        "outputId": "a68a24ba-1984-4a6d-f31e-d5b74a69a7aa"
      },
      "source": [
        "arr = np.random.randn(7) * 5\n",
        "print(arr)\n",
        "remainder, whole_part = np.modf(arr) # 소수부분과 정수부분 분리해줌\n",
        "print(remainder)\n",
        "print(whole_part)"
      ],
      "execution_count": 93,
      "outputs": [
        {
          "output_type": "stream",
          "name": "stdout",
          "text": [
            "[ 2.0815959  -0.640698   -0.31079877  5.23633584 -4.2977348  -4.19511726\n",
            " -6.0015831 ]\n",
            "[ 0.0815959  -0.640698   -0.31079877  0.23633584 -0.2977348  -0.19511726\n",
            " -0.0015831 ]\n",
            "[ 2. -0. -0.  5. -4. -4. -6.]\n"
          ]
        }
      ]
    },
    {
      "cell_type": "code",
      "metadata": {
        "deletable": true,
        "editable": true,
        "id": "otDVBuQx2rpd",
        "colab": {
          "base_uri": "https://localhost:8080/"
        },
        "outputId": "f9b0fe23-ed54-4b6d-d691-91f8ea855f24"
      },
      "source": [
        "arr\n",
        "np.sqrt(arr)\n",
        "np.sqrt(arr, arr)\n",
        "arr"
      ],
      "execution_count": 94,
      "outputs": [
        {
          "output_type": "stream",
          "name": "stderr",
          "text": [
            "<ipython-input-94-bcce5ef9aa78>:2: RuntimeWarning: invalid value encountered in sqrt\n",
            "  np.sqrt(arr)\n",
            "<ipython-input-94-bcce5ef9aa78>:3: RuntimeWarning: invalid value encountered in sqrt\n",
            "  np.sqrt(arr, arr)\n"
          ]
        },
        {
          "output_type": "execute_result",
          "data": {
            "text/plain": [
              "array([1.44277368,        nan,        nan, 2.28830414,        nan,\n",
              "              nan,        nan])"
            ]
          },
          "metadata": {},
          "execution_count": 94
        }
      ]
    },
    {
      "cell_type": "markdown",
      "metadata": {
        "deletable": true,
        "editable": true,
        "id": "-dd3MZSt2rpd"
      },
      "source": [
        "### 2-5. 배열을 사용한 데이터 처리"
      ]
    },
    {
      "cell_type": "code",
      "metadata": {
        "deletable": true,
        "editable": true,
        "id": "1BkZTDmW2rpd",
        "colab": {
          "base_uri": "https://localhost:8080/"
        },
        "outputId": "3f9b4ab5-e892-4d99-ef48-94ded4ef9e0b"
      },
      "source": [
        "points = np.arange(-5, 5, 0.01) # 1000 equally spaced points\n",
        "xs, ys = np.meshgrid(points, points)\n",
        "ys"
      ],
      "execution_count": 105,
      "outputs": [
        {
          "output_type": "execute_result",
          "data": {
            "text/plain": [
              "array([[-5.  , -5.  , -5.  , ..., -5.  , -5.  , -5.  ],\n",
              "       [-4.99, -4.99, -4.99, ..., -4.99, -4.99, -4.99],\n",
              "       [-4.98, -4.98, -4.98, ..., -4.98, -4.98, -4.98],\n",
              "       ...,\n",
              "       [ 4.97,  4.97,  4.97, ...,  4.97,  4.97,  4.97],\n",
              "       [ 4.98,  4.98,  4.98, ...,  4.98,  4.98,  4.98],\n",
              "       [ 4.99,  4.99,  4.99, ...,  4.99,  4.99,  4.99]])"
            ]
          },
          "metadata": {},
          "execution_count": 105
        }
      ]
    },
    {
      "cell_type": "code",
      "metadata": {
        "deletable": true,
        "editable": true,
        "id": "xBLVWDLz2rpd",
        "colab": {
          "base_uri": "https://localhost:8080/"
        },
        "outputId": "c35d7467-aded-462c-87df-6b41c5f459d3"
      },
      "source": [
        "z = np.sqrt(xs ** 2 + ys ** 2)\n",
        "z"
      ],
      "execution_count": 96,
      "outputs": [
        {
          "output_type": "execute_result",
          "data": {
            "text/plain": [
              "array([[7.07106781, 7.06400028, 7.05693985, ..., 7.04988652, 7.05693985,\n",
              "        7.06400028],\n",
              "       [7.06400028, 7.05692568, 7.04985815, ..., 7.04279774, 7.04985815,\n",
              "        7.05692568],\n",
              "       [7.05693985, 7.04985815, 7.04278354, ..., 7.03571603, 7.04278354,\n",
              "        7.04985815],\n",
              "       ...,\n",
              "       [7.04988652, 7.04279774, 7.03571603, ..., 7.0286414 , 7.03571603,\n",
              "        7.04279774],\n",
              "       [7.05693985, 7.04985815, 7.04278354, ..., 7.03571603, 7.04278354,\n",
              "        7.04985815],\n",
              "       [7.06400028, 7.05692568, 7.04985815, ..., 7.04279774, 7.04985815,\n",
              "        7.05692568]])"
            ]
          },
          "metadata": {},
          "execution_count": 96
        }
      ]
    },
    {
      "cell_type": "code",
      "metadata": {
        "deletable": true,
        "editable": true,
        "id": "w8eOdWDO2rpe",
        "colab": {
          "base_uri": "https://localhost:8080/",
          "height": 480
        },
        "outputId": "c0943be9-f678-48ca-d304-b1330445889b"
      },
      "source": [
        "import matplotlib.pyplot as plt\n",
        "\n",
        "plt.imshow(z, cmap=plt.cm.gray); plt.colorbar()\n",
        "plt.title(\"Image plot of $\\sqrt{x^2 + y^2}$ for a grid of values\")"
      ],
      "execution_count": 97,
      "outputs": [
        {
          "output_type": "execute_result",
          "data": {
            "text/plain": [
              "Text(0.5, 1.0, 'Image plot of $\\\\sqrt{x^2 + y^2}$ for a grid of values')"
            ]
          },
          "metadata": {},
          "execution_count": 97
        },
        {
          "output_type": "display_data",
          "data": {
            "text/plain": [
              "<Figure size 640x480 with 2 Axes>"
            ],
            "image/png": "[encoded data removed]"
          },
          "metadata": {}
        }
      ]
    },
    {
      "cell_type": "code",
      "metadata": {
        "deletable": true,
        "editable": true,
        "id": "gZFd4Y5-2rpe",
        "colab": {
          "base_uri": "https://localhost:8080/",
          "height": 35
        },
        "outputId": "619438c0-f91e-4834-fd5b-be0dbf0abbd3"
      },
      "source": [
        "plt.draw()"
      ],
      "execution_count": 98,
      "outputs": [
        {
          "output_type": "display_data",
          "data": {
            "text/plain": [
              "<Figure size 640x480 with 0 Axes>"
            ]
          },
          "metadata": {}
        }
      ]
    },
    {
      "cell_type": "code",
      "metadata": {
        "deletable": true,
        "editable": true,
        "id": "sgi0sXxu2rpe"
      },
      "source": [
        "plt.close('all')"
      ],
      "execution_count": 99,
      "outputs": []
    },
    {
      "cell_type": "markdown",
      "metadata": {
        "deletable": true,
        "editable": true,
        "id": "qT5cx18F2rpe"
      },
      "source": [
        "#### 2-5-1. 배열연산으로 조건절 표현하기"
      ]
    },
    {
      "cell_type": "code",
      "metadata": {
        "deletable": true,
        "editable": true,
        "id": "p-FXFIi_2rpe"
      },
      "source": [
        "xarr = np.array([1.1, 1.2, 1.3, 1.4, 1.5])\n",
        "yarr = np.array([2.1, 2.2, 2.3, 2.4, 2.5])\n",
        "cond = np.array([True, False, True, True, False])"
      ],
      "execution_count": 100,
      "outputs": []
    },
    {
      "cell_type": "code",
      "metadata": {
        "deletable": true,
        "editable": true,
        "id": "1UHSYqd22rpf",
        "colab": {
          "base_uri": "https://localhost:8080/"
        },
        "outputId": "5feda50e-5d72-4bc8-bf26-60fcfec83c35"
      },
      "source": [
        "result = [(x if c else y)\n",
        "          for x, y, c in zip(xarr, yarr, cond)]\n",
        "result"
      ],
      "execution_count": 106,
      "outputs": [
        {
          "output_type": "execute_result",
          "data": {
            "text/plain": [
              "[1.1, 2.2, 1.3, 1.4, 2.5]"
            ]
          },
          "metadata": {},
          "execution_count": 106
        }
      ]
    },
    {
      "cell_type": "code",
      "metadata": {
        "deletable": true,
        "editable": true,
        "id": "VQqmWLfD2rpf",
        "colab": {
          "base_uri": "https://localhost:8080/"
        },
        "outputId": "0392529e-3dde-46e8-905e-81b4f891474f"
      },
      "source": [
        "result = np.where(cond, xarr, yarr) # where(cond, cond_true, cond_false)\n",
        "result"
      ],
      "execution_count": 107,
      "outputs": [
        {
          "output_type": "execute_result",
          "data": {
            "text/plain": [
              "array([1.1, 2.2, 1.3, 1.4, 2.5])"
            ]
          },
          "metadata": {},
          "execution_count": 107
        }
      ]
    },
    {
      "cell_type": "code",
      "source": [
        "arr = np.random.randn(4, 4)\n",
        "arr"
      ],
      "metadata": {
        "colab": {
          "base_uri": "https://localhost:8080/"
        },
        "id": "hEkpyCTwrcPe",
        "outputId": "de6d75ff-e830-4ec8-9458-406cca172018"
      },
      "execution_count": 108,
      "outputs": [
        {
          "output_type": "execute_result",
          "data": {
            "text/plain": [
              "array([[-1.10533676,  0.29771461,  0.18251521, -0.65843717],\n",
              "       [ 0.99765833,  0.58388947,  0.17040866,  0.348111  ],\n",
              "       [ 0.12754777,  0.55204332, -1.09041348,  0.04899067],\n",
              "       [-1.00206718,  0.62234498, -0.19156948,  2.35632622]])"
            ]
          },
          "metadata": {},
          "execution_count": 108
        }
      ]
    },
    {
      "cell_type": "code",
      "source": [
        "arr > 0"
      ],
      "metadata": {
        "colab": {
          "base_uri": "https://localhost:8080/"
        },
        "id": "vhfvF3lbrfry",
        "outputId": "1d4dbc08-1130-4c6d-9d8d-3cd04d5e761b"
      },
      "execution_count": 109,
      "outputs": [
        {
          "output_type": "execute_result",
          "data": {
            "text/plain": [
              "array([[False,  True,  True, False],\n",
              "       [ True,  True,  True,  True],\n",
              "       [ True,  True, False,  True],\n",
              "       [False,  True, False,  True]])"
            ]
          },
          "metadata": {},
          "execution_count": 109
        }
      ]
    },
    {
      "cell_type": "code",
      "metadata": {
        "deletable": true,
        "editable": true,
        "id": "B69HqkOx2rpf",
        "colab": {
          "base_uri": "https://localhost:8080/"
        },
        "outputId": "69ada7b8-de78-4cee-fcfb-e7102ceb111c"
      },
      "source": [
        "np.where(arr > 0, 2, -2)"
      ],
      "execution_count": 110,
      "outputs": [
        {
          "output_type": "execute_result",
          "data": {
            "text/plain": [
              "array([[-2,  2,  2, -2],\n",
              "       [ 2,  2,  2,  2],\n",
              "       [ 2,  2, -2,  2],\n",
              "       [-2,  2, -2,  2]])"
            ]
          },
          "metadata": {},
          "execution_count": 110
        }
      ]
    },
    {
      "cell_type": "code",
      "metadata": {
        "deletable": true,
        "editable": true,
        "id": "Q3nyu8E22rpf",
        "colab": {
          "base_uri": "https://localhost:8080/"
        },
        "outputId": "39e885dc-30ac-4e61-da44-ae77e5d8dec0"
      },
      "source": [
        "np.where(arr > 0, 2, arr) # set only positive values to 2"
      ],
      "execution_count": 111,
      "outputs": [
        {
          "output_type": "execute_result",
          "data": {
            "text/plain": [
              "array([[-1.10533676,  2.        ,  2.        , -0.65843717],\n",
              "       [ 2.        ,  2.        ,  2.        ,  2.        ],\n",
              "       [ 2.        ,  2.        , -1.09041348,  2.        ],\n",
              "       [-1.00206718,  2.        , -0.19156948,  2.        ]])"
            ]
          },
          "metadata": {},
          "execution_count": 111
        }
      ]
    },
    {
      "cell_type": "markdown",
      "metadata": {
        "deletable": true,
        "editable": true,
        "id": "T7D8woyo2rpf"
      },
      "source": [
        "#### 2-5-2. 수학 메소드와 통계 메소드"
      ]
    },
    {
      "cell_type": "code",
      "source": [
        "arr = np.random.randn(5, 4)\n",
        "arr"
      ],
      "metadata": {
        "colab": {
          "base_uri": "https://localhost:8080/"
        },
        "id": "54eVGf9dsCvw",
        "outputId": "58f4ea94-2f7e-4d64-86d5-ff47f47a71c2"
      },
      "execution_count": 112,
      "outputs": [
        {
          "output_type": "execute_result",
          "data": {
            "text/plain": [
              "array([[-0.24336906, -0.81523819, -0.05791724,  0.67559689],\n",
              "       [-0.38312678, -0.34974686, -1.11710206,  0.56729052],\n",
              "       [ 0.47341926,  0.17588952, -1.65555205,  1.88843939],\n",
              "       [-1.37630321, -0.47329008, -0.70410597, -2.67219824],\n",
              "       [-1.86776306,  0.9870457 , -0.324759  , -1.67318314]])"
            ]
          },
          "metadata": {},
          "execution_count": 112
        }
      ]
    },
    {
      "cell_type": "code",
      "metadata": {
        "deletable": true,
        "editable": true,
        "id": "_xVCgYrS2rpf",
        "colab": {
          "base_uri": "https://localhost:8080/"
        },
        "outputId": "7893c370-9560-4edb-a04a-be5a4d85cadc"
      },
      "source": [
        "arr.mean()"
      ],
      "execution_count": 113,
      "outputs": [
        {
          "output_type": "execute_result",
          "data": {
            "text/plain": [
              "-0.44729868430675346"
            ]
          },
          "metadata": {},
          "execution_count": 113
        }
      ]
    },
    {
      "cell_type": "code",
      "source": [
        "np.mean(arr)"
      ],
      "metadata": {
        "colab": {
          "base_uri": "https://localhost:8080/"
        },
        "id": "vsOqzWfgsHa8",
        "outputId": "6b789ec4-3d99-4be8-92b2-e55e4e7c62f6"
      },
      "execution_count": 114,
      "outputs": [
        {
          "output_type": "execute_result",
          "data": {
            "text/plain": [
              "-0.44729868430675346"
            ]
          },
          "metadata": {},
          "execution_count": 114
        }
      ]
    },
    {
      "cell_type": "code",
      "source": [
        "arr.sum() # 누적합"
      ],
      "metadata": {
        "colab": {
          "base_uri": "https://localhost:8080/"
        },
        "id": "B1i5qqrfsPFf",
        "outputId": "9fdc924b-2c35-4aaa-c767-833c85b10447"
      },
      "execution_count": 115,
      "outputs": [
        {
          "output_type": "execute_result",
          "data": {
            "text/plain": [
              "-8.94597368613507"
            ]
          },
          "metadata": {},
          "execution_count": 115
        }
      ]
    },
    {
      "cell_type": "code",
      "source": [
        "arr.mean(axis=1)"
      ],
      "metadata": {
        "colab": {
          "base_uri": "https://localhost:8080/"
        },
        "id": "gRmw6R8Osevf",
        "outputId": "096da4ad-4d19-474f-a7c1-9359b8afc6b0"
      },
      "execution_count": 116,
      "outputs": [
        {
          "output_type": "execute_result",
          "data": {
            "text/plain": [
              "array([-0.1102319 , -0.3206713 ,  0.22054903, -1.30647438, -0.71966488])"
            ]
          },
          "metadata": {},
          "execution_count": 116
        }
      ]
    },
    {
      "cell_type": "code",
      "metadata": {
        "deletable": true,
        "editable": true,
        "id": "ekaSKy9F2rpg",
        "colab": {
          "base_uri": "https://localhost:8080/"
        },
        "outputId": "e2dd298c-f0c5-42ac-db7c-7613801077c7"
      },
      "source": [
        "arr.sum(axis=0)"
      ],
      "execution_count": 117,
      "outputs": [
        {
          "output_type": "execute_result",
          "data": {
            "text/plain": [
              "array([-3.39714286, -0.47533992, -3.85943632, -1.21405459])"
            ]
          },
          "metadata": {},
          "execution_count": 117
        }
      ]
    },
    {
      "cell_type": "code",
      "metadata": {
        "deletable": true,
        "editable": true,
        "id": "aaajMhxp2rpg",
        "colab": {
          "base_uri": "https://localhost:8080/"
        },
        "outputId": "db11f3a5-5aff-4ecd-b49a-ed1bb3ac945f"
      },
      "source": [
        "arr = np.array([0, 1, 2, 3, 4, 5, 6, 7])\n",
        "arr.cumsum()"
      ],
      "execution_count": 118,
      "outputs": [
        {
          "output_type": "execute_result",
          "data": {
            "text/plain": [
              "array([ 0,  1,  3,  6, 10, 15, 21, 28])"
            ]
          },
          "metadata": {},
          "execution_count": 118
        }
      ]
    },
    {
      "cell_type": "code",
      "metadata": {
        "deletable": true,
        "editable": true,
        "id": "oCHVJddy2rpg",
        "colab": {
          "base_uri": "https://localhost:8080/"
        },
        "outputId": "c950e499-7210-43cb-ecdf-152864ac1ac8"
      },
      "source": [
        "arr = np.array([[0, 1, 2], [3, 4, 5], [6, 7, 8]])\n",
        "arr\n",
        "print(arr.cumsum(axis=0))\n",
        "print(arr.cumprod(axis=1))"
      ],
      "execution_count": 119,
      "outputs": [
        {
          "output_type": "stream",
          "name": "stdout",
          "text": [
            "[[ 0  1  2]\n",
            " [ 3  5  7]\n",
            " [ 9 12 15]]\n",
            "[[  0   0   0]\n",
            " [  3  12  60]\n",
            " [  6  42 336]]\n"
          ]
        }
      ]
    },
    {
      "cell_type": "markdown",
      "metadata": {
        "deletable": true,
        "editable": true,
        "id": "8bjYLr192rpg"
      },
      "source": [
        "#### 2-5-3. 불리언 배열을 위한 메소드"
      ]
    },
    {
      "cell_type": "code",
      "metadata": {
        "deletable": true,
        "editable": true,
        "id": "XMrK6mnk2rpg",
        "colab": {
          "base_uri": "https://localhost:8080/"
        },
        "outputId": "cf0ac22c-60e9-4a11-9a2c-f505deac8e4c"
      },
      "source": [
        "arr = np.random.randn(100)\n",
        "(arr > 0).sum() # Number of positive values"
      ],
      "execution_count": 120,
      "outputs": [
        {
          "output_type": "execute_result",
          "data": {
            "text/plain": [
              "46"
            ]
          },
          "metadata": {},
          "execution_count": 120
        }
      ]
    },
    {
      "cell_type": "code",
      "source": [
        "arr"
      ],
      "metadata": {
        "colab": {
          "base_uri": "https://localhost:8080/"
        },
        "id": "NWPxceRqiGK6",
        "outputId": "312021a6-d2ee-4f06-9672-11f7ab46e2af"
      },
      "execution_count": 121,
      "outputs": [
        {
          "output_type": "execute_result",
          "data": {
            "text/plain": [
              "array([-0.75202085, -1.70794558,  1.42107326, -0.10011615, -2.04838101,\n",
              "       -2.06876841, -1.83611315, -0.1074085 , -0.95016385, -0.43158418,\n",
              "       -0.6464317 , -0.09881523,  0.62181498, -1.03269721,  0.98089084,\n",
              "        0.00970988,  1.94064806,  0.28128318, -0.4098186 , -0.76815379,\n",
              "       -0.20162148, -1.9628079 , -1.17888745, -0.89892414, -0.8312995 ,\n",
              "        1.6130661 , -0.17800119,  0.7471673 , -0.52531403, -0.24104469,\n",
              "       -0.17464849, -0.34405651,  0.81366746,  0.27913895,  1.18556309,\n",
              "       -0.55553514, -2.02899924,  0.15359124,  0.48643807,  0.65896152,\n",
              "        1.05804097,  0.87268425, -0.57098414,  1.27773819,  1.35158833,\n",
              "        0.50260349, -1.36838402, -0.01920534,  0.90224402,  1.45088716,\n",
              "       -0.44163416, -0.98240824, -0.37886037, -0.20043764,  1.86197888,\n",
              "       -0.96089878,  0.65884532,  0.37439419, -2.12533782, -1.41898262,\n",
              "       -1.81957198, -0.80123283,  0.66719718,  0.36565913,  1.32388155,\n",
              "       -0.62253786, -0.25852295, -0.132439  ,  0.33463326,  0.53573913,\n",
              "        0.51816372,  2.0585337 , -0.14506694,  1.35915086,  0.03820037,\n",
              "        0.18907972,  1.15616153,  0.28816904, -0.74489854,  1.07832148,\n",
              "        0.41604134,  0.36826581, -0.59671425,  1.44386565,  0.91815369,\n",
              "       -0.06162786, -0.50125203, -0.94813787, -0.54310824,  1.48602581,\n",
              "       -0.29050711,  0.90337514, -0.16979005, -1.53048489, -0.06964185,\n",
              "       -1.06982983,  0.61728607,  1.11566919,  0.05999252, -0.31128687])"
            ]
          },
          "metadata": {},
          "execution_count": 121
        }
      ]
    },
    {
      "cell_type": "code",
      "source": [
        "print(arr>0)"
      ],
      "metadata": {
        "colab": {
          "base_uri": "https://localhost:8080/"
        },
        "id": "0hdSEXIGiKbG",
        "outputId": "fee289ec-6ad8-4464-c8b2-091adb14a15b"
      },
      "execution_count": 122,
      "outputs": [
        {
          "output_type": "stream",
          "name": "stdout",
          "text": [
            "[False False  True False False False False False False False False False\n",
            "  True False  True  True  True  True False False False False False False\n",
            " False  True False  True False False False False  True  True  True False\n",
            " False  True  True  True  True  True False  True  True  True False False\n",
            "  True  True False False False False  True False  True  True False False\n",
            " False False  True  True  True False False False  True  True  True  True\n",
            " False  True  True  True  True  True False  True  True  True False  True\n",
            "  True False False False False  True False  True False False False False\n",
            "  True  True  True False]\n"
          ]
        }
      ]
    },
    {
      "cell_type": "code",
      "metadata": {
        "deletable": true,
        "editable": true,
        "id": "hC1e4gHA2rph",
        "colab": {
          "base_uri": "https://localhost:8080/"
        },
        "outputId": "40ce5396-e638-4d73-c2d5-df8d8b75ff49"
      },
      "source": [
        "bools = np.array([False, False, True, False])\n",
        "bools.any() # 어느 하나라도 존재"
      ],
      "execution_count": 123,
      "outputs": [
        {
          "output_type": "execute_result",
          "data": {
            "text/plain": [
              "True"
            ]
          },
          "metadata": {},
          "execution_count": 123
        }
      ]
    },
    {
      "cell_type": "code",
      "source": [
        "bools.all()"
      ],
      "metadata": {
        "colab": {
          "base_uri": "https://localhost:8080/"
        },
        "id": "4c0QAFDPtVSM",
        "outputId": "a6fb20ba-57dd-42d1-9315-ba2fd70aefa1"
      },
      "execution_count": 124,
      "outputs": [
        {
          "output_type": "execute_result",
          "data": {
            "text/plain": [
              "False"
            ]
          },
          "metadata": {},
          "execution_count": 124
        }
      ]
    },
    {
      "cell_type": "markdown",
      "metadata": {
        "deletable": true,
        "editable": true,
        "id": "OJSqjdBw2rph"
      },
      "source": [
        "#### 2-5-4. 정렬"
      ]
    },
    {
      "cell_type": "code",
      "metadata": {
        "deletable": true,
        "editable": true,
        "id": "ryOhkFcM2rph",
        "colab": {
          "base_uri": "https://localhost:8080/"
        },
        "outputId": "5ab45f1c-e13a-496b-c770-00855059b0b3"
      },
      "source": [
        "arr = np.random.randn(6)\n",
        "arr"
      ],
      "execution_count": 125,
      "outputs": [
        {
          "output_type": "execute_result",
          "data": {
            "text/plain": [
              "array([ 0.774201  , -0.9463589 ,  1.16157474, -0.34595576, -0.11659977,\n",
              "        0.36406236])"
            ]
          },
          "metadata": {},
          "execution_count": 125
        }
      ]
    },
    {
      "cell_type": "code",
      "source": [
        "arr.sort()\n",
        "arr"
      ],
      "metadata": {
        "colab": {
          "base_uri": "https://localhost:8080/"
        },
        "id": "OPNdWAiZtiEA",
        "outputId": "57c86ac6-689f-4ead-cf20-f9b5b0b26288"
      },
      "execution_count": 126,
      "outputs": [
        {
          "output_type": "execute_result",
          "data": {
            "text/plain": [
              "array([-0.9463589 , -0.34595576, -0.11659977,  0.36406236,  0.774201  ,\n",
              "        1.16157474])"
            ]
          },
          "metadata": {},
          "execution_count": 126
        }
      ]
    },
    {
      "cell_type": "code",
      "metadata": {
        "deletable": true,
        "editable": true,
        "id": "eeJpxM5n2rph",
        "colab": {
          "base_uri": "https://localhost:8080/"
        },
        "outputId": "169a6b09-9f7b-41c9-d265-72db3365d4de"
      },
      "source": [
        "arr = np.random.randn(5, 3)\n",
        "arr"
      ],
      "execution_count": 127,
      "outputs": [
        {
          "output_type": "execute_result",
          "data": {
            "text/plain": [
              "array([[ 0.52088267, -1.5140633 ,  0.52315974],\n",
              "       [ 1.31337032, -2.94966482,  0.36279755],\n",
              "       [ 0.10350633,  0.18187716,  1.76983589],\n",
              "       [ 1.72299637,  0.19270747, -0.25026652],\n",
              "       [-0.38312918,  0.16674546,  0.68814857]])"
            ]
          },
          "metadata": {},
          "execution_count": 127
        }
      ]
    },
    {
      "cell_type": "code",
      "source": [
        "arr.sort(1)\n",
        "arr"
      ],
      "metadata": {
        "colab": {
          "base_uri": "https://localhost:8080/"
        },
        "id": "8MNZ2GqgtoJm",
        "outputId": "7ec3a078-fd58-4aaa-d7c8-0725d8695534"
      },
      "execution_count": 128,
      "outputs": [
        {
          "output_type": "execute_result",
          "data": {
            "text/plain": [
              "array([[-1.5140633 ,  0.52088267,  0.52315974],\n",
              "       [-2.94966482,  0.36279755,  1.31337032],\n",
              "       [ 0.10350633,  0.18187716,  1.76983589],\n",
              "       [-0.25026652,  0.19270747,  1.72299637],\n",
              "       [-0.38312918,  0.16674546,  0.68814857]])"
            ]
          },
          "metadata": {},
          "execution_count": 128
        }
      ]
    },
    {
      "cell_type": "code",
      "metadata": {
        "deletable": true,
        "editable": true,
        "id": "DreRXJES2rph",
        "colab": {
          "base_uri": "https://localhost:8080/"
        },
        "outputId": "7157f920-9c7e-46d2-fe25-08a35b271877"
      },
      "source": [
        "large_arr = np.random.randn(100)\n",
        "print(large_arr)\n",
        "large_arr.sort()\n",
        "print(large_arr)\n",
        "large_arr[int(0.5 * len(large_arr))]"
      ],
      "execution_count": 129,
      "outputs": [
        {
          "output_type": "stream",
          "name": "stdout",
          "text": [
            "[ 4.62144555e-01 -4.56393340e-01  1.34816085e-01  1.44457609e+00\n",
            "  2.19352127e+00 -1.60465156e+00 -2.79351282e-01  8.95284396e-01\n",
            "  2.00203868e-01  2.94333820e-01  2.24527444e-01 -2.24279725e+00\n",
            " -4.53773611e-01 -6.06537842e-01 -5.71249572e-02  1.59711296e+00\n",
            " -1.10355502e+00  1.17776661e+00 -2.60156590e-01  2.45914784e+00\n",
            "  3.55533252e-01 -1.14808567e+00  5.81948958e-01  2.17025517e+00\n",
            " -4.06002741e-01 -1.66169910e+00  4.26682343e-03  6.93696018e-01\n",
            " -1.39632867e+00  9.82593234e-01  9.60808934e-01  4.82683656e-01\n",
            " -7.48572150e-01 -7.96935558e-01 -1.08904123e+00  1.33082671e+00\n",
            "  3.03228186e-01 -3.89592944e-02  1.45682090e-03 -6.89354000e-01\n",
            "  1.19574203e+00 -1.48250088e+00  9.73383082e-01  7.16240651e-01\n",
            "  2.53669752e-01 -1.47622945e-01  6.19776862e-01  8.11844282e-01\n",
            "  2.01943629e+00  8.20119042e-01 -5.03413764e-01 -9.33243827e-03\n",
            " -1.33703169e-01 -9.50090439e-01 -9.13680503e-01  1.01775451e+00\n",
            " -1.61509991e+00 -8.41913144e-01  9.21444705e-01 -2.56818698e+00\n",
            " -9.72100772e-01 -1.22778430e+00 -2.59324773e-02  1.03705365e+00\n",
            "  1.86167574e-01  8.41627413e-01  2.42974979e+00 -5.23808104e-01\n",
            "  9.09124561e-01 -1.04037861e+00  2.47437792e-01  1.63347569e+00\n",
            " -7.91086161e-01 -1.48464111e+00 -5.81635225e-01  3.38174576e-01\n",
            "  1.06098640e+00  1.24559327e+00 -5.81475893e-01  4.10982735e-01\n",
            "  5.31292517e-01  2.89095972e+00  7.19449925e-01  1.59966122e-01\n",
            " -1.32289941e-01  6.58441495e-01 -1.47612495e+00 -1.91086532e+00\n",
            "  1.76877981e+00  1.75519451e+00  5.44151636e-02  4.09265782e-01\n",
            " -1.63412060e+00  9.00636193e-01  1.16515342e+00 -1.98776138e-01\n",
            " -7.20526585e-01  6.73378890e-01  3.90972638e-01  4.14352873e-01]\n",
            "[-2.56818698e+00 -2.24279725e+00 -1.91086532e+00 -1.66169910e+00\n",
            " -1.63412060e+00 -1.61509991e+00 -1.60465156e+00 -1.48464111e+00\n",
            " -1.48250088e+00 -1.47612495e+00 -1.39632867e+00 -1.22778430e+00\n",
            " -1.14808567e+00 -1.10355502e+00 -1.08904123e+00 -1.04037861e+00\n",
            " -9.72100772e-01 -9.50090439e-01 -9.13680503e-01 -8.41913144e-01\n",
            " -7.96935558e-01 -7.91086161e-01 -7.48572150e-01 -7.20526585e-01\n",
            " -6.89354000e-01 -6.06537842e-01 -5.81635225e-01 -5.81475893e-01\n",
            " -5.23808104e-01 -5.03413764e-01 -4.56393340e-01 -4.53773611e-01\n",
            " -4.06002741e-01 -2.79351282e-01 -2.60156590e-01 -1.98776138e-01\n",
            " -1.47622945e-01 -1.33703169e-01 -1.32289941e-01 -5.71249572e-02\n",
            " -3.89592944e-02 -2.59324773e-02 -9.33243827e-03  1.45682090e-03\n",
            "  4.26682343e-03  5.44151636e-02  1.34816085e-01  1.59966122e-01\n",
            "  1.86167574e-01  2.00203868e-01  2.24527444e-01  2.47437792e-01\n",
            "  2.53669752e-01  2.94333820e-01  3.03228186e-01  3.38174576e-01\n",
            "  3.55533252e-01  3.90972638e-01  4.09265782e-01  4.10982735e-01\n",
            "  4.14352873e-01  4.62144555e-01  4.82683656e-01  5.31292517e-01\n",
            "  5.81948958e-01  6.19776862e-01  6.58441495e-01  6.73378890e-01\n",
            "  6.93696018e-01  7.16240651e-01  7.19449925e-01  8.11844282e-01\n",
            "  8.20119042e-01  8.41627413e-01  8.95284396e-01  9.00636193e-01\n",
            "  9.09124561e-01  9.21444705e-01  9.60808934e-01  9.73383082e-01\n",
            "  9.82593234e-01  1.01775451e+00  1.03705365e+00  1.06098640e+00\n",
            "  1.16515342e+00  1.17776661e+00  1.19574203e+00  1.24559327e+00\n",
            "  1.33082671e+00  1.44457609e+00  1.59711296e+00  1.63347569e+00\n",
            "  1.75519451e+00  1.76877981e+00  2.01943629e+00  2.17025517e+00\n",
            "  2.19352127e+00  2.42974979e+00  2.45914784e+00  2.89095972e+00]\n"
          ]
        },
        {
          "output_type": "execute_result",
          "data": {
            "text/plain": [
              "0.22452744363394586"
            ]
          },
          "metadata": {},
          "execution_count": 129
        }
      ]
    },
    {
      "cell_type": "markdown",
      "metadata": {
        "deletable": true,
        "editable": true,
        "id": "TscLsoih2rph"
      },
      "source": [
        "#### 2-5-5. 집합함수"
      ]
    },
    {
      "cell_type": "code",
      "metadata": {
        "deletable": true,
        "editable": true,
        "id": "IltMD-YP2rpi",
        "colab": {
          "base_uri": "https://localhost:8080/"
        },
        "outputId": "ca8ba3c4-bb95-4332-8136-8fede007d8ac"
      },
      "source": [
        "names = np.array(['Joe', 'Will', 'Bob', 'Will', 'Bob', 'Joe', 'Joe'])\n",
        "np.unique(names)"
      ],
      "execution_count": 130,
      "outputs": [
        {
          "output_type": "execute_result",
          "data": {
            "text/plain": [
              "array(['Bob', 'Joe', 'Will'], dtype='<U4')"
            ]
          },
          "metadata": {},
          "execution_count": 130
        }
      ]
    },
    {
      "cell_type": "code",
      "source": [
        "ints = np.array([3, 3, 3, 2, 2, 1, 1, 4, 4])\n",
        "np.unique(ints)"
      ],
      "metadata": {
        "colab": {
          "base_uri": "https://localhost:8080/"
        },
        "id": "wABHwuBnuR1l",
        "outputId": "f48995da-14f7-49d9-fb4b-ce7b5110e7ae"
      },
      "execution_count": null,
      "outputs": [
        {
          "output_type": "execute_result",
          "data": {
            "text/plain": [
              "array([1, 2, 3, 4])"
            ]
          },
          "metadata": {},
          "execution_count": 148
        }
      ]
    },
    {
      "cell_type": "code",
      "metadata": {
        "deletable": true,
        "editable": true,
        "id": "RQ4kA8ne2rpi",
        "colab": {
          "base_uri": "https://localhost:8080/"
        },
        "outputId": "4b9ff86d-f6c3-4097-bc00-f71f3fdce207"
      },
      "source": [
        "# sorted(set(names)), set == unique : 중복 제거\n",
        "set(names)"
      ],
      "execution_count": null,
      "outputs": [
        {
          "output_type": "execute_result",
          "data": {
            "text/plain": [
              "{'Bob', 'Joe', 'Will'}"
            ]
          },
          "metadata": {},
          "execution_count": 149
        }
      ]
    },
    {
      "cell_type": "code",
      "metadata": {
        "deletable": true,
        "editable": true,
        "id": "9kGf4G5X2rpi",
        "colab": {
          "base_uri": "https://localhost:8080/"
        },
        "outputId": "8cedc84a-fefa-433c-8b4a-949f39b6f0b1"
      },
      "source": [
        "values = np.array([6, 0, 0, 3, 2, 5, 6])\n",
        "np.in1d(values, [2, 3, 6])"
      ],
      "execution_count": 131,
      "outputs": [
        {
          "output_type": "execute_result",
          "data": {
            "text/plain": [
              "array([ True, False, False,  True,  True, False,  True])"
            ]
          },
          "metadata": {},
          "execution_count": 131
        }
      ]
    },
    {
      "cell_type": "markdown",
      "metadata": {
        "deletable": true,
        "editable": true,
        "id": "hEGwJsGR2rpi"
      },
      "source": [
        "#### 2-5-6. 배열을 사용한 파일 입출력"
      ]
    },
    {
      "cell_type": "code",
      "source": [
        "arr = np.arange(10)\n",
        "np.save('./some_array.txt', arr)"
      ],
      "metadata": {
        "id": "13mw7jj2X9Cl"
      },
      "execution_count": 132,
      "outputs": []
    },
    {
      "cell_type": "code",
      "source": [
        "np.load('./some_array.txt.npy')"
      ],
      "metadata": {
        "colab": {
          "base_uri": "https://localhost:8080/"
        },
        "id": "hn35DO6SYA3v",
        "outputId": "7be830b9-915a-4f30-a7b6-032055252d45"
      },
      "execution_count": 133,
      "outputs": [
        {
          "output_type": "execute_result",
          "data": {
            "text/plain": [
              "array([0, 1, 2, 3, 4, 5, 6, 7, 8, 9])"
            ]
          },
          "metadata": {},
          "execution_count": 133
        }
      ]
    },
    {
      "cell_type": "code",
      "source": [
        "np.savez('./array_archive.npz', a=arr, b=arr)"
      ],
      "metadata": {
        "id": "mzJm7UTSYAwf"
      },
      "execution_count": 134,
      "outputs": []
    },
    {
      "cell_type": "code",
      "source": [
        "arch = np.load('./array_archive.npz')\n",
        "print(arch['b'])\n",
        "print(arch['a'])"
      ],
      "metadata": {
        "colab": {
          "base_uri": "https://localhost:8080/"
        },
        "id": "MeLr6H8bYAqR",
        "outputId": "5e03e854-000b-4937-9e1e-a8c6beba1519"
      },
      "execution_count": 135,
      "outputs": [
        {
          "output_type": "stream",
          "name": "stdout",
          "text": [
            "[0 1 2 3 4 5 6 7 8 9]\n",
            "[0 1 2 3 4 5 6 7 8 9]\n"
          ]
        }
      ]
    },
    {
      "cell_type": "code",
      "source": [
        "np.savez_compressed('./arrays_compressed.npz', a=arr, b=arr)"
      ],
      "metadata": {
        "id": "LLWE8MfFYLuU"
      },
      "execution_count": 136,
      "outputs": []
    },
    {
      "cell_type": "code",
      "source": [
        "!pwd"
      ],
      "metadata": {
        "colab": {
          "base_uri": "https://localhost:8080/"
        },
        "id": "xE1NsGbuYLi9",
        "outputId": "9ba2aa1b-e6a8-457d-bf79-b9a65030da4a"
      },
      "execution_count": 137,
      "outputs": [
        {
          "output_type": "stream",
          "name": "stdout",
          "text": [
            "/content\n"
          ]
        }
      ]
    },
    {
      "cell_type": "code",
      "source": [
        "!rm some_array.txt.npy\n",
        "!rm array_archive.npz\n",
        "!rm arrays_compressed.npz"
      ],
      "metadata": {
        "id": "mM_49b7OYLWp"
      },
      "execution_count": 138,
      "outputs": []
    },
    {
      "cell_type": "markdown",
      "metadata": {
        "deletable": true,
        "editable": true,
        "id": "N-PG86G72rpj"
      },
      "source": [
        "### 2-6. 선형대수"
      ]
    },
    {
      "cell_type": "code",
      "metadata": {
        "deletable": true,
        "editable": true,
        "id": "l0JhGLYI2rpk",
        "colab": {
          "base_uri": "https://localhost:8080/"
        },
        "outputId": "fc703e7c-8ed4-444f-90dd-6ccf65cd6fd2"
      },
      "source": [
        "x = np.array([[1., 2., 3.], [4., 5., 6.]])\n",
        "y = np.array([[6., 23.], [-1, 7], [8, 9]])\n",
        "x\n",
        "y\n",
        "x.dot(y)"
      ],
      "execution_count": 139,
      "outputs": [
        {
          "output_type": "execute_result",
          "data": {
            "text/plain": [
              "array([[ 28.,  64.],\n",
              "       [ 67., 181.]])"
            ]
          },
          "metadata": {},
          "execution_count": 139
        }
      ]
    },
    {
      "cell_type": "code",
      "metadata": {
        "deletable": true,
        "editable": true,
        "id": "RUL6NdQT2rpk",
        "colab": {
          "base_uri": "https://localhost:8080/"
        },
        "outputId": "ea747b17-de67-4494-ccda-7903788f9826"
      },
      "source": [
        "np.dot(x, y)"
      ],
      "execution_count": 140,
      "outputs": [
        {
          "output_type": "execute_result",
          "data": {
            "text/plain": [
              "array([[ 28.,  64.],\n",
              "       [ 67., 181.]])"
            ]
          },
          "metadata": {},
          "execution_count": 140
        }
      ]
    },
    {
      "cell_type": "code",
      "source": [
        "np.ones(3)"
      ],
      "metadata": {
        "colab": {
          "base_uri": "https://localhost:8080/"
        },
        "id": "5USG5aaDs3Lb",
        "outputId": "324be2ca-e410-4b5c-8d7c-2670ad4a24e0"
      },
      "execution_count": 141,
      "outputs": [
        {
          "output_type": "execute_result",
          "data": {
            "text/plain": [
              "array([1., 1., 1.])"
            ]
          },
          "metadata": {},
          "execution_count": 141
        }
      ]
    },
    {
      "cell_type": "code",
      "metadata": {
        "deletable": true,
        "editable": true,
        "id": "ZBB8ilf22rpk",
        "colab": {
          "base_uri": "https://localhost:8080/"
        },
        "outputId": "c96d3f96-01d0-4300-8c44-bc4f47af24c0"
      },
      "source": [
        "np.dot(x, np.ones(3))"
      ],
      "execution_count": 142,
      "outputs": [
        {
          "output_type": "execute_result",
          "data": {
            "text/plain": [
              "array([ 6., 15.])"
            ]
          },
          "metadata": {},
          "execution_count": 142
        }
      ]
    },
    {
      "cell_type": "code",
      "source": [
        "np.ones(3)"
      ],
      "metadata": {
        "colab": {
          "base_uri": "https://localhost:8080/"
        },
        "id": "WIHuYTKkxHqG",
        "outputId": "ac3f4c54-2fa3-4d24-8aaa-6a1b5567dd6c"
      },
      "execution_count": 143,
      "outputs": [
        {
          "output_type": "execute_result",
          "data": {
            "text/plain": [
              "array([1., 1., 1.])"
            ]
          },
          "metadata": {},
          "execution_count": 143
        }
      ]
    },
    {
      "cell_type": "code",
      "metadata": {
        "deletable": true,
        "editable": true,
        "id": "fX6JijRt2rpk",
        "colab": {
          "base_uri": "https://localhost:8080/"
        },
        "outputId": "d8fab39e-60ca-4e38-fb2d-d92bf5a3e3d6"
      },
      "source": [
        "x @ np.ones(3)"
      ],
      "execution_count": 144,
      "outputs": [
        {
          "output_type": "execute_result",
          "data": {
            "text/plain": [
              "array([ 6., 15.])"
            ]
          },
          "metadata": {},
          "execution_count": 144
        }
      ]
    },
    {
      "cell_type": "code",
      "metadata": {
        "deletable": true,
        "editable": true,
        "id": "w76tQjQ32rpk",
        "colab": {
          "base_uri": "https://localhost:8080/"
        },
        "outputId": "a4cddccd-0148-4fb2-b497-038d803991d4"
      },
      "source": [
        "from numpy.linalg import inv, qr\n",
        "X = np.random.randn(5, 5)\n",
        "mat = X.T.dot(X)\n",
        "inv(mat)\n",
        "mat.dot(inv(mat))\n",
        "q, r = qr(mat)\n",
        "r"
      ],
      "execution_count": 145,
      "outputs": [
        {
          "output_type": "execute_result",
          "data": {
            "text/plain": [
              "array([[-7.2402839 , -7.98433145, -7.99653432,  0.62647048,  9.88169902],\n",
              "       [ 0.        , -7.08632262, -2.9010704 ,  0.55838567,  4.11187252],\n",
              "       [ 0.        ,  0.        , -6.06991397,  4.06204699,  1.40732801],\n",
              "       [ 0.        ,  0.        ,  0.        , -1.60557739, -0.35834565],\n",
              "       [ 0.        ,  0.        ,  0.        ,  0.        ,  0.10611752]])"
            ]
          },
          "metadata": {},
          "execution_count": 145
        }
      ]
    },
    {
      "cell_type": "markdown",
      "metadata": {
        "deletable": true,
        "editable": true,
        "id": "bYoMnOQP2rpl"
      },
      "source": [
        "### 2-7. 난수 생성"
      ]
    },
    {
      "cell_type": "code",
      "metadata": {
        "deletable": true,
        "editable": true,
        "id": "cSSaIe_d2rpl",
        "colab": {
          "base_uri": "https://localhost:8080/"
        },
        "outputId": "635b2fc5-d1b1-420d-fd5e-2d135167fc0c"
      },
      "source": [
        "samples = np.random.normal(size=(4, 4))\n",
        "samples"
      ],
      "execution_count": 146,
      "outputs": [
        {
          "output_type": "execute_result",
          "data": {
            "text/plain": [
              "array([[ 0.30117433, -0.9032512 ,  0.73794604, -0.32018431],\n",
              "       [-0.39018185,  0.44423002,  0.18047784,  0.13416487],\n",
              "       [ 0.13392523,  0.20953564, -0.67419862,  0.99121061],\n",
              "       [ 0.44451363,  0.20130749, -1.36924175,  0.10725428]])"
            ]
          },
          "metadata": {},
          "execution_count": 146
        }
      ]
    },
    {
      "cell_type": "code",
      "metadata": {
        "deletable": true,
        "editable": true,
        "id": "mxCAaXEH2rpl",
        "colab": {
          "base_uri": "https://localhost:8080/"
        },
        "outputId": "afd97fb0-ffe7-40e1-8657-261ead7ab379"
      },
      "source": [
        "from random import normalvariate\n",
        "N = 10000\n",
        "%timeit samples = [normalvariate(0, 1) for _ in range(N)]\n",
        "%timeit np.random.normal(size=N)"
      ],
      "execution_count": 147,
      "outputs": [
        {
          "output_type": "stream",
          "name": "stdout",
          "text": [
            "12.4 ms ± 6.61 ms per loop (mean ± std. dev. of 7 runs, 100 loops each)\n",
            "312 µs ± 5.63 µs per loop (mean ± std. dev. of 7 runs, 1000 loops each)\n"
          ]
        }
      ]
    },
    {
      "cell_type": "code",
      "metadata": {
        "deletable": true,
        "editable": true,
        "id": "zQBOXPMk2rpm"
      },
      "source": [
        "np.random.seed(1234)"
      ],
      "execution_count": 148,
      "outputs": []
    },
    {
      "cell_type": "code",
      "metadata": {
        "deletable": true,
        "editable": true,
        "id": "njWto9Oh2rpm",
        "colab": {
          "base_uri": "https://localhost:8080/"
        },
        "outputId": "75ea602c-4921-4655-f6d3-33da4aad1f0f"
      },
      "source": [
        "rng = np.random.RandomState(1234)\n",
        "rng.randn(10)"
      ],
      "execution_count": 149,
      "outputs": [
        {
          "output_type": "execute_result",
          "data": {
            "text/plain": [
              "array([ 0.47143516, -1.19097569,  1.43270697, -0.3126519 , -0.72058873,\n",
              "        0.88716294,  0.85958841, -0.6365235 ,  0.01569637, -2.24268495])"
            ]
          },
          "metadata": {},
          "execution_count": 149
        }
      ]
    },
    {
      "cell_type": "code",
      "source": [
        "np.random.RandomState(1234)"
      ],
      "metadata": {
        "id": "gz6Xs89YwRXm"
      },
      "execution_count": 155,
      "outputs": []
    },
    {
      "cell_type": "code",
      "source": [
        "rn.randn(10)"
      ],
      "metadata": {
        "colab": {
          "base_uri": "https://localhost:8080/"
        },
        "id": "ZBAqG5ZhwWS9",
        "outputId": "e250f638-6397-43ae-e6b6-d3e9f5f1ce3c"
      },
      "execution_count": 156,
      "outputs": [
        {
          "output_type": "execute_result",
          "data": {
            "text/plain": [
              "array([ 0.47143516, -1.19097569,  1.43270697, -0.3126519 , -0.72058873,\n",
              "        0.88716294,  0.85958841, -0.6365235 ,  0.01569637, -2.24268495])"
            ]
          },
          "metadata": {},
          "execution_count": 156
        }
      ]
    }
  ]
}