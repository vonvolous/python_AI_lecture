{
  "nbformat": 4,
  "nbformat_minor": 0,
  "metadata": {
    "colab": {
      "provenance": [],
      "toc_visible": true,
      "include_colab_link": true
    },
    "kernelspec": {
      "name": "python3",
      "display_name": "Python 3"
    },
    "language_info": {
      "name": "python"
    }
  },
  "cells": [
    {
      "cell_type": "markdown",
      "metadata": {
        "id": "view-in-github",
        "colab_type": "text"
      },
      "source": [
        "<a href=\"https://colab.research.google.com/github/vonvolous/python_AI_lecture/blob/main/lecture_code/DL002_Tensorflow_DNN.ipynb\" target=\"_parent\"><img src=\"https://colab.research.google.com/assets/colab-badge.svg\" alt=\"Open In Colab\"/></a>"
      ]
    },
    {
      "cell_type": "markdown",
      "source": [
        "# **Tensorflow & Keras를 이용한DNN (Deep Neural Network)**"
      ],
      "metadata": {
        "id": "2TLiKETz8Ogg"
      }
    },
    {
      "cell_type": "markdown",
      "source": [
        "## **1. Keras의 개요**"
      ],
      "metadata": {
        "id": "Aw-5FZbI9mzG"
      }
    },
    {
      "cell_type": "markdown",
      "source": [
        "### 1-1. Keras란?"
      ],
      "metadata": {
        "id": "ba7ufr8e-8lO"
      }
    },
    {
      "cell_type": "markdown",
      "source": [
        "- 딥러닝 모델을 구축, 교육, 평가 및 실행을 위한 오픈 소스 신경망 라이브러리입\n",
        "- 파이썬으로 작성되었음\n",
        "- TensorFlow, CNTK, 혹은 Theano와 같은 저수준 딥러닝 프레임워크 위에서 동작함\n",
        "- TensorFlow 2.0부터는 Keras가 TensorFlow의 공식 고수준 API로 채택되어 직접적인 지원을 받고 있음"
      ],
      "metadata": {
        "id": "UBSjeR_P-8dJ"
      }
    },
    {
      "cell_type": "markdown",
      "source": [
        "### 1-2. Keras의 주요 특징"
      ],
      "metadata": {
        "id": "jh7ALYGX-8U0"
      }
    },
    {
      "cell_type": "markdown",
      "source": [
        "- 사용자 친화적\n",
        "\t- Keras는 일반적인 사용 사례를 단순화하여 딥러닝의 복잡성을 줄이는 데 중점을 둠\n",
        "\t- 코드가 짧고 가독성이 좋음\n",
        "\t- 쉬운 프로토타이핑이 가능함\n",
        "- 모듈화 및 구성 가능성\n",
        "\t- Keras의 핵심 개념은 모듈의 연결을 통해 복잡한 아키텍처를 구성하는 것\n",
        "\t- 레이어, 손실 함수, 최적화 알고리즘, 초기화 스키마, 활성화 함수 및 정규화 스키마는 모두 독립적인 모듈로 사용할 수 있음\n",
        "    - 또한 새로운 모델을 만드는 데 이러한 구성 요소를 쉽게 연결할 수 있음\n",
        "- 쉬운 확장성\n",
        "\t- 새로운 레이어, 메트릭, 손실 함수 등을 직접 구현하고 연결할 수 있음\n",
        "\t- 기존 구성 요소와도 호환됨\n",
        "- 멀티 백엔드 지원\n",
        "\t- 다양한 딥러닝 엔진 위에서 Keras를 사용할 수 있으므로, 코드를 한 엔진에서 다른 엔진으로 쉽게 마이그레이션 할 수 있음"
      ],
      "metadata": {
        "id": "hffJXaOV-8MC"
      }
    },
    {
      "cell_type": "markdown",
      "source": [
        "### 1-3. Keras의 주요 구성 요소"
      ],
      "metadata": {
        "id": "sAaSv8MB-8Du"
      }
    },
    {
      "cell_type": "markdown",
      "source": [
        "- 모델: Keras에서는 Sequential 모델과 함수형 API를 통해 복잡한 모델을 구축할 수 있음\n",
        "\t- Sequential 모델: 레이어의 선형 스택을 만들기 쉽게 해줌\n",
        "\t- 함수형 API: 다중 입력, 다중 출력, 공유 레이어, 비선형 연결 패턴 등 복잡한 아키텍처를 구성할 수 있음\n",
        "\t- 레이어\n",
        "        - 레이어는 신경망의 핵심 구성 요소로, 가중치와 활성화 함수 등을 포함함\n",
        "        - Keras에는 다양한 레이어가 사전 정의되어 있으며 사용자 정의 레이어도 쉽게 추가할 수 있음\n",
        "\t- 컴파일 및 훈련\n",
        "        - 모델을 컴파일하려면 손실 함수와 최적화 알고리즘을 선택해야 함\n",
        "        - 훈련 중에 평가할 메트릭도 선택할 수 있음\n",
        "        - 훈련은 fit 메서드를 사용하여 진행할 수 있음\n",
        "        - 검증 세트를 사용해 과적합을 모니터링할 수 있음\n",
        "\t- 모델 평가 및 예측\n",
        "        - evaluate 및 predict 메서드를 사용\n",
        "        - 새로운 데이터에서 모델의 성능을 평가하거나 예측을 생성할 수 있음\n",
        "- Keras는...\n",
        "    - 강력한 유연성과 직관성을 갖춘 도구\n",
        "    - 초보자부터 전문가까지 다양한 사용자에게 적합함\n",
        "    - 연구에서 산업 현장에 이르기까지 다양한 분야에서 사용됨"
      ],
      "metadata": {
        "id": "DfpUKjwK-7vW"
      }
    },
    {
      "cell_type": "markdown",
      "source": [
        "## **2. Keras를 이용한 DNN 모델 개발**"
      ],
      "metadata": {
        "id": "FV2oYLdVAOb9"
      }
    },
    {
      "cell_type": "markdown",
      "source": [
        "### 2-1. Sequence 모델"
      ],
      "metadata": {
        "id": "J8RbQzxvAV84"
      }
    },
    {
      "cell_type": "markdown",
      "source": [
        "#### 2-1-1. Sequence 모델의 사용"
      ],
      "metadata": {
        "id": "Hp5Fu_PpBjex"
      }
    },
    {
      "cell_type": "markdown",
      "source": [
        "- Sequential 모델이 적합한 경우\n",
        "\t- Sequential 모델은 각 레이어에 정확히 하나의 입력 텐서와 하나의 출력 텐서가 있는 일반 레이어 스택에 적합함"
      ],
      "metadata": {
        "id": "jl4TzgIsAjsY"
      }
    },
    {
      "cell_type": "markdown",
      "source": [
        "- Sequential 모델이 적합하지 않은 경우\n",
        "\t- 모델에 다중 입력 또는 다중 출력이 있을 때\n",
        "\t- 레이어에 다중 입력 또는 다중 출력이 있을 때\n",
        "\t- 레이어 공유를 해야 할 때\n",
        "\t- 비선형 토폴로지(예: 잔류 연결, 다중 분기 모델)를 원할 때"
      ],
      "metadata": {
        "id": "Gco9bIEPA7qX"
      }
    },
    {
      "cell_type": "markdown",
      "source": [
        "#### 2-1-2. Sequence 모델의 기본 형태"
      ],
      "metadata": {
        "id": "174d1IlaBoLr"
      }
    },
    {
      "cell_type": "code",
      "source": [
        "import tensorflow as tf\n",
        "from tensorflow import keras\n",
        "from tensorflow.keras import layers\n",
        "# from tensorflow.keras.models import Sequential\n",
        "# from tensorflow.keras.layers import Dense, Input\n"
      ],
      "metadata": {
        "id": "_23hNygUDbfU"
      },
      "execution_count": 5,
      "outputs": []
    },
    {
      "cell_type": "code",
      "execution_count": null,
      "metadata": {
        "id": "bruxqTdR7de9"
      },
      "outputs": [],
      "source": [
        "# Define Sequential model with 3 layers\n",
        "model = keras.Sequential(\n",
        "    [ # Dense : full connected layer\n",
        "        layers.Dense(2, activation = \"relu\", name = \"layer1\"), # layers.Dense(num_node, activation, name)\n",
        "        layers.Dense(3, activation = \"relu\", name = \"layer2\"),\n",
        "        layers.Dense(4, name = \"layer3\") # 여기선 활성화함수 안 쓰고 나온 결과 바로사용함\n",
        "    ]\n",
        ")\n",
        "\n",
        "# Call model on a test input\n",
        "x = tf.ones((3, 3))\n",
        "y = model(x)"
      ]
    },
    {
      "cell_type": "markdown",
      "source": [
        "- Sequence 모델의 기본 형태는 다음의 함수와 동일함"
      ],
      "metadata": {
        "id": "lFyaxvg-BUfC"
      }
    },
    {
      "cell_type": "code",
      "source": [
        "x"
      ],
      "metadata": {
        "colab": {
          "base_uri": "https://localhost:8080/"
        },
        "id": "r5615LDzG0Td",
        "outputId": "8b316071-e66c-4fec-e0bc-757f404a3236"
      },
      "execution_count": null,
      "outputs": [
        {
          "output_type": "execute_result",
          "data": {
            "text/plain": [
              "<tf.Tensor: shape=(3, 3), dtype=float32, numpy=\n",
              "array([[1., 1., 1.],\n",
              "       [1., 1., 1.],\n",
              "       [1., 1., 1.]], dtype=float32)>"
            ]
          },
          "metadata": {},
          "execution_count": 5
        }
      ]
    },
    {
      "cell_type": "code",
      "source": [
        "y"
      ],
      "metadata": {
        "colab": {
          "base_uri": "https://localhost:8080/"
        },
        "id": "t6zleZJKG1sW",
        "outputId": "bc827815-427b-4f93-fbfd-033dd256e742"
      },
      "execution_count": null,
      "outputs": [
        {
          "output_type": "execute_result",
          "data": {
            "text/plain": [
              "<tf.Tensor: shape=(3, 4), dtype=float32, numpy=\n",
              "array([[0., 0., 0., 0.],\n",
              "       [0., 0., 0., 0.],\n",
              "       [0., 0., 0., 0.]], dtype=float32)>"
            ]
          },
          "metadata": {},
          "execution_count": 6
        }
      ]
    },
    {
      "cell_type": "code",
      "source": [
        "# Create 3 layers\n",
        "layer1 = layers.Dense(2, activation=\"relu\", name=\"layer1\")\n",
        "layer2 = layers.Dense(3, activation=\"relu\", name=\"layer2\")\n",
        "layer3 = layers.Dense(4, name=\"layer3\")\n",
        "\n",
        "# Call layers on a test input\n",
        "x = tf.ones((3, 3))\n",
        "y = layer3(layer2(layer1(x)))\n",
        "\n",
        "x"
      ],
      "metadata": {
        "id": "S14hcWfSBbZN",
        "colab": {
          "base_uri": "https://localhost:8080/"
        },
        "outputId": "69323f29-cf89-4c92-fa7e-cef868e1fcd4"
      },
      "execution_count": null,
      "outputs": [
        {
          "output_type": "execute_result",
          "data": {
            "text/plain": [
              "<tf.Tensor: shape=(3, 3), dtype=float32, numpy=\n",
              "array([[1., 1., 1.],\n",
              "       [1., 1., 1.],\n",
              "       [1., 1., 1.]], dtype=float32)>"
            ]
          },
          "metadata": {},
          "execution_count": 10
        }
      ]
    },
    {
      "cell_type": "code",
      "source": [
        "y"
      ],
      "metadata": {
        "colab": {
          "base_uri": "https://localhost:8080/"
        },
        "id": "d0hnKFKsHyId",
        "outputId": "7e6e90af-933d-49df-b78c-0d53f1ae57a4"
      },
      "execution_count": null,
      "outputs": [
        {
          "output_type": "execute_result",
          "data": {
            "text/plain": [
              "<tf.Tensor: shape=(3, 4), dtype=float32, numpy=\n",
              "array([[ 0.18340355,  0.10750632, -0.06256033, -0.16347338],\n",
              "       [ 0.18340355,  0.10750632, -0.06256033, -0.16347338],\n",
              "       [ 0.18340355,  0.10750632, -0.06256033, -0.16347338]],\n",
              "      dtype=float32)>"
            ]
          },
          "metadata": {},
          "execution_count": 9
        }
      ]
    },
    {
      "cell_type": "markdown",
      "source": [
        "#### 2-1-3. Sequence 모델 생성하기"
      ],
      "metadata": {
        "id": "spsF_h6hBvUs"
      }
    },
    {
      "cell_type": "markdown",
      "source": [
        "- 레이어의 목록을 Sequential 생성자에 전달하여 Sequential 모델을 만들 수 있음"
      ],
      "metadata": {
        "id": "lbf3Y5DaB1Tg"
      }
    },
    {
      "cell_type": "code",
      "source": [
        "model = keras.Sequential(\n",
        "    [\n",
        "        layers.Dense(2, activation=\"relu\"),\n",
        "        layers.Dense(3, activation=\"relu\"),\n",
        "        layers.Dense(4),\n",
        "    ]\n",
        ")"
      ],
      "metadata": {
        "id": "RQh2S2uaBynt"
      },
      "execution_count": null,
      "outputs": []
    },
    {
      "cell_type": "markdown",
      "source": [
        "- 속한 레이어는 layers 속성을 통해 접근할 수 있음"
      ],
      "metadata": {
        "id": "pj8hBCu5B4zd"
      }
    },
    {
      "cell_type": "code",
      "source": [
        "model.layers"
      ],
      "metadata": {
        "colab": {
          "base_uri": "https://localhost:8080/"
        },
        "id": "DcuKKB4qB69z",
        "outputId": "2cb0f38e-7a95-4102-b13b-2e394a75d961"
      },
      "execution_count": null,
      "outputs": [
        {
          "output_type": "execute_result",
          "data": {
            "text/plain": [
              "[<keras.layers.core.dense.Dense at 0x7b3661b16e60>,\n",
              " <keras.layers.core.dense.Dense at 0x7b3661b14370>,\n",
              " <keras.layers.core.dense.Dense at 0x7b3662a736a0>]"
            ]
          },
          "metadata": {},
          "execution_count": 12
        }
      ]
    },
    {
      "cell_type": "markdown",
      "source": [
        "- add() 메서드를 통해 Sequential 모델을 점진적으로 작성할 수도 있음"
      ],
      "metadata": {
        "id": "-xbZbab-B9v3"
      }
    },
    {
      "cell_type": "code",
      "source": [
        "model = keras.Sequential()\n",
        "model.add(layers.Dense(2, activation=\"relu\"))\n",
        "model.add(layers.Dense(3, activation=\"relu\"))\n",
        "model.add(layers.Dense(4))"
      ],
      "metadata": {
        "id": "UVQkDhGnB_5r"
      },
      "execution_count": null,
      "outputs": []
    },
    {
      "cell_type": "markdown",
      "source": [
        "- 레이어를 제거하는 pop() 메소드의 사용\n",
        "    - Sequential 모델은 레이어의 리스트와 매우 유사하게 동작함"
      ],
      "metadata": {
        "id": "vQqNkKY3CCTV"
      }
    },
    {
      "cell_type": "code",
      "source": [
        "model.layers"
      ],
      "metadata": {
        "colab": {
          "base_uri": "https://localhost:8080/"
        },
        "id": "qD7aqiyMIEDH",
        "outputId": "f5d19c99-5c07-42c0-80a5-6d184b773b8b"
      },
      "execution_count": null,
      "outputs": [
        {
          "output_type": "execute_result",
          "data": {
            "text/plain": [
              "[<keras.layers.core.dense.Dense at 0x7b3661f5ea10>,\n",
              " <keras.layers.core.dense.Dense at 0x7b3661f5c9a0>,\n",
              " <keras.layers.core.dense.Dense at 0x7b3662a738e0>]"
            ]
          },
          "metadata": {},
          "execution_count": 18
        }
      ]
    },
    {
      "cell_type": "code",
      "source": [
        "model.pop() # 제일 마지막 레이어가 pop()됨\n",
        "print(model.layers)\n",
        "print(len(model.layers))  # 2"
      ],
      "metadata": {
        "colab": {
          "base_uri": "https://localhost:8080/"
        },
        "id": "qLqIr5x5CJdR",
        "outputId": "a9fbd5dc-5abb-4834-a763-8e485ac5bf0c"
      },
      "execution_count": null,
      "outputs": [
        {
          "output_type": "stream",
          "name": "stdout",
          "text": [
            "[<keras.layers.core.dense.Dense object at 0x7b3661f5ea10>, <keras.layers.core.dense.Dense object at 0x7b3661f5c9a0>]\n",
            "2\n"
          ]
        }
      ]
    },
    {
      "cell_type": "markdown",
      "source": [
        "- Sequential 생성자\n",
        "    - Sequence의 생성자는 Keras의 모든 레이어 또는 모델과 마찬가지로 name 인수를 허용함\n",
        "    - 이것은 의미론적으로 유의미한 이름으로 TensorBoard 그래프에 주석을 달 때 유용함"
      ],
      "metadata": {
        "id": "d9wyVAIPCL-T"
      }
    },
    {
      "cell_type": "code",
      "source": [
        "model = keras.Sequential(name=\"my_sequential\")\n",
        "model.add(layers.Dense(2, activation=\"relu\", name=\"layer1\"))\n",
        "model.add(layers.Dense(3, activation=\"relu\", name=\"layer2\"))\n",
        "model.add(layers.Dense(4, name=\"layer3\"))"
      ],
      "metadata": {
        "id": "ubjkwUfLCZb7"
      },
      "execution_count": null,
      "outputs": []
    },
    {
      "cell_type": "markdown",
      "source": [
        "#### 2-1-4. 미리 입력 형상 지정하기"
      ],
      "metadata": {
        "id": "Q2Hx_hLyCcO8"
      }
    },
    {
      "cell_type": "markdown",
      "source": [
        "- Keras의 모든 레이어는 가중치를 만들려면 입력의 형상을 알아야 함\n",
        "- 다음과 같은 레이어를 만들면 처음에는 가중치가 없음"
      ],
      "metadata": {
        "id": "4j3efOIyHflB"
      }
    },
    {
      "cell_type": "code",
      "source": [
        "layer = layers.Dense(3)\n",
        "layer.weights  # Empty, 처음 초기화엔 가중치가 비어있고 학습하면서 채워짐.."
      ],
      "metadata": {
        "colab": {
          "base_uri": "https://localhost:8080/"
        },
        "id": "S9X5v2NfCfML",
        "outputId": "e9710566-1f1b-4950-d3ae-fd999291c21b"
      },
      "execution_count": null,
      "outputs": [
        {
          "output_type": "execute_result",
          "data": {
            "text/plain": [
              "[]"
            ]
          },
          "metadata": {},
          "execution_count": 23
        }
      ]
    },
    {
      "cell_type": "markdown",
      "source": [
        "- 가중치는 모양이 입력의 형상에 따라 달라지기 때문에 입력에서 처음 호출될 때 가중치를 만듦\n",
        "- 이것은 Sequential 모델에도 적용됨"
      ],
      "metadata": {
        "id": "PIIkTT7bHnYe"
      }
    },
    {
      "cell_type": "code",
      "source": [
        "# Call layer on a test input\n",
        "x = tf.ones((1, 4))\n",
        "y = layer(x)\n",
        "layer.weights  # Now it has weights, of shape (4, 3) and (3,)"
      ],
      "metadata": {
        "colab": {
          "base_uri": "https://localhost:8080/"
        },
        "id": "wePPNaveHr76",
        "outputId": "266f577e-799f-42ec-be38-1710e9f163b6"
      },
      "execution_count": null,
      "outputs": [
        {
          "output_type": "execute_result",
          "data": {
            "text/plain": [
              "[<tf.Variable 'dense_9/kernel:0' shape=(4, 3) dtype=float32, numpy=\n",
              " array([[-0.27964073,  0.6191672 ,  0.10411549],\n",
              "        [-0.59789497,  0.39956534,  0.55684173],\n",
              "        [-0.27628607,  0.7739481 , -0.21832538],\n",
              "        [-0.82842886, -0.44618756,  0.5899221 ]], dtype=float32)>,\n",
              " <tf.Variable 'dense_9/bias:0' shape=(3,) dtype=float32, numpy=array([0., 0., 0.], dtype=float32)>]"
            ]
          },
          "metadata": {},
          "execution_count": 26
        }
      ]
    },
    {
      "cell_type": "markdown",
      "source": [
        "- 입력 형상이 없는 Sequential 모델을 인스턴스화할 때는 가중치가 없기 때문에 \"빌드\"되지 않음(model.weights를 호출하면 오류가 발생함)\n",
        "- 모델에 처음 입력 데이터가 표시되면 가중치가 생성됨"
      ],
      "metadata": {
        "id": "GfBabMejHsp2"
      }
    },
    {
      "cell_type": "code",
      "source": [
        "model = keras.Sequential(\n",
        "    [\n",
        "        layers.Dense(2, activation=\"relu\"),\n",
        "        layers.Dense(3, activation=\"relu\"),\n",
        "        layers.Dense(4),\n",
        "    ]\n",
        ")  # No weights at this stage!\n",
        "\n",
        "# At this point, you can't do this:\n",
        "# model.weights\n",
        "\n",
        "# You also can't do this:\n",
        "# model.summary()\n",
        "\n",
        "# Call the model on a test input\n",
        "x = tf.ones((1, 4))\n",
        "y = model(x)\n",
        "print(\"Number of weights after calling the model:\", len(model.weights))  # 6"
      ],
      "metadata": {
        "colab": {
          "base_uri": "https://localhost:8080/"
        },
        "id": "SWUQUmi0H-gw",
        "outputId": "95d8a13e-34ee-4cce-c101-150262c81acc"
      },
      "execution_count": null,
      "outputs": [
        {
          "output_type": "stream",
          "name": "stdout",
          "text": [
            "Number of weights after calling the model: 6\n"
          ]
        }
      ]
    },
    {
      "cell_type": "markdown",
      "source": [
        "- 모델이 \"빌드\"되면, 그 내용을 표시하기 위해 summary() 메서드를 호출할 수 있음"
      ],
      "metadata": {
        "id": "8Y5SR5NkIC1r"
      }
    },
    {
      "cell_type": "code",
      "source": [
        "model.summary()\n",
        "# tf.ones(1,4)에서 4와 2 -> 8+2(bias) == param# 10\n",
        "# (1,2)와 (1,3)에서 2와 3 -> 6+3(bias) == param# 9\n",
        "# ..."
      ],
      "metadata": {
        "colab": {
          "base_uri": "https://localhost:8080/"
        },
        "id": "_r5rBxJmIFI-",
        "outputId": "e789050b-3022-4c17-f9c7-bb030f79053e"
      },
      "execution_count": null,
      "outputs": [
        {
          "output_type": "stream",
          "name": "stdout",
          "text": [
            "Model: \"sequential_5\"\n",
            "_________________________________________________________________\n",
            " Layer (type)                Output Shape              Param #   \n",
            "=================================================================\n",
            " dense_13 (Dense)            (1, 2)                    10        \n",
            "                                                                 \n",
            " dense_14 (Dense)            (1, 3)                    9         \n",
            "                                                                 \n",
            " dense_15 (Dense)            (1, 4)                    16        \n",
            "                                                                 \n",
            "=================================================================\n",
            "Total params: 35\n",
            "Trainable params: 35\n",
            "Non-trainable params: 0\n",
            "_________________________________________________________________\n"
          ]
        }
      ]
    },
    {
      "cell_type": "markdown",
      "source": [
        "- 이러한 방식은 현재 출력 형상을 포함하여 지금까지 모델의 요약을 표시할 수 있도록 Sequential 모델을 점진적으로 빌드할 때 매우 유용할 수 있음\n",
        "- 이 경우 Input 객체를 모델에 전달하여 모델의 시작 형상을 알 수 있도록 모델을 시작해야 함"
      ],
      "metadata": {
        "id": "2KLORDyaIfX_"
      }
    },
    {
      "cell_type": "code",
      "source": [
        "model = keras.Sequential()\n",
        "model.add(layers.Input(shape=(4,))) # INput : 입력층 레이어\n",
        "model.add(layers.Dense(2, activation=\"relu\"))\n",
        "\n",
        "model.summary()"
      ],
      "metadata": {
        "colab": {
          "base_uri": "https://localhost:8080/"
        },
        "id": "ueEzAL5tIWWS",
        "outputId": "eba9ef70-4f21-4d8e-dd2a-da321d189f1b"
      },
      "execution_count": null,
      "outputs": [
        {
          "output_type": "stream",
          "name": "stdout",
          "text": [
            "Model: \"sequential_6\"\n",
            "_________________________________________________________________\n",
            " Layer (type)                Output Shape              Param #   \n",
            "=================================================================\n",
            " dense_16 (Dense)            (None, 2)                 10        \n",
            "                                                                 \n",
            "=================================================================\n",
            "Total params: 10\n",
            "Trainable params: 10\n",
            "Non-trainable params: 0\n",
            "_________________________________________________________________\n"
          ]
        }
      ]
    },
    {
      "cell_type": "markdown",
      "source": [
        "- Input 객체는 레이어가 아니므로 model.layers의 일부로 표시되지 않음"
      ],
      "metadata": {
        "id": "GPC8zC-uIxBm"
      }
    },
    {
      "cell_type": "code",
      "source": [
        "model.layers"
      ],
      "metadata": {
        "colab": {
          "base_uri": "https://localhost:8080/"
        },
        "id": "AyvY-mbbIn4a",
        "outputId": "71a4ae99-7490-4360-dc2c-2773ebf6898d"
      },
      "execution_count": null,
      "outputs": [
        {
          "output_type": "execute_result",
          "data": {
            "text/plain": [
              "[<keras.layers.core.dense.Dense at 0x79c206b5ed10>]"
            ]
          },
          "metadata": {},
          "execution_count": 15
        }
      ]
    },
    {
      "cell_type": "markdown",
      "source": [
        "- 간단한 대안은 첫 번째 레이어에 input_shape 인수를 전달하는 것"
      ],
      "metadata": {
        "id": "RFXa39j_I9G8"
      }
    },
    {
      "cell_type": "code",
      "source": [
        "model = keras.Sequential()\n",
        "model.add(layers.Dense(2, activation=\"relu\", input_shape=(4,)))\n",
        "\n",
        "model.summary()"
      ],
      "metadata": {
        "colab": {
          "base_uri": "https://localhost:8080/"
        },
        "id": "qcAPTaWQIzzS",
        "outputId": "1afce02c-7799-4dc0-b7cb-4cd71842b493"
      },
      "execution_count": null,
      "outputs": [
        {
          "output_type": "stream",
          "name": "stdout",
          "text": [
            "Model: \"sequential_9\"\n",
            "_________________________________________________________________\n",
            " Layer (type)                Output Shape              Param #   \n",
            "=================================================================\n",
            " dense_19 (Dense)            (None, 2)                 10        \n",
            "                                                                 \n",
            "=================================================================\n",
            "Total params: 10\n",
            "Trainable params: 10\n",
            "Non-trainable params: 0\n",
            "_________________________________________________________________\n"
          ]
        }
      ]
    },
    {
      "cell_type": "markdown",
      "source": [
        "- 이처럼 사전 정의된 입력 모양으로 빌드된 모델은 항상 가중치를 가지며(데이터를 보기 전에도) 항상 정의된 출력 형상을 가짐\n",
        "- 일반적으로 Sequential 모델의 입력 형상을 알고 있는 경우 항상 Sequential 모델의 입력 형상을 지정하는 것이 좋음"
      ],
      "metadata": {
        "id": "hkDy4NKRJDKP"
      }
    },
    {
      "cell_type": "markdown",
      "source": [
        "#### 2-1-5. 일반적인 디버깅 워크플로우: add() + summary()"
      ],
      "metadata": {
        "id": "gYbpEU7ZJVuQ"
      }
    },
    {
      "cell_type": "markdown",
      "source": [
        "- 새로운 Sequential 아키텍처를 구축할 때는 add() 하여 레이어를 점진적으로 쌓고 모델 요약을 자주 인쇄하는 것이 유용함\n",
        "    - 예: Conv2D 및 MaxPooling2D 레이어의 스택이 이미지 특성 맵을 다운 샘플링 하는 방법을 모니터링할 수 있음"
      ],
      "metadata": {
        "id": "rSlwCg5hJc_J"
      }
    },
    {
      "cell_type": "code",
      "source": [
        "model = keras.Sequential()\n",
        "model.add(layers.Input(shape=(250, 250, 3)))  # 250x250 RGB images\n",
        "model.add(layers.Conv2D(32, 5, strides=2, activation=\"relu\"))\n",
        "model.add(layers.Conv2D(32, 3, activation=\"relu\"))\n",
        "model.add(layers.MaxPooling2D(3))\n",
        "\n",
        "# Can you guess what the current output shape is at this point? Probably not.\n",
        "# Let's just print it:\n",
        "model.summary()\n",
        "\n",
        "# The answer was: (40, 40, 32), so we can keep downsampling...\n",
        "\n",
        "model.add(layers.Conv2D(32, 3, activation=\"relu\"))\n",
        "model.add(layers.Conv2D(32, 3, activation=\"relu\"))\n",
        "model.add(layers.MaxPooling2D(3))\n",
        "model.add(layers.Conv2D(32, 3, activation=\"relu\"))\n",
        "model.add(layers.Conv2D(32, 3, activation=\"relu\"))\n",
        "model.add(layers.MaxPooling2D(2))\n",
        "\n",
        "# And now?\n",
        "model.summary()\n",
        "\n",
        "# Now that we have 4x4 feature maps, time to apply global max pooling.\n",
        "model.add(layers.GlobalMaxPooling2D())\n",
        "\n",
        "# Finally, we add a classification layer.\n",
        "model.add(layers.Dense(10))\n",
        "\n",
        "model.summary()"
      ],
      "metadata": {
        "colab": {
          "base_uri": "https://localhost:8080/"
        },
        "id": "4SZ8yG4VI6Mq",
        "outputId": "ff3561b0-8e9b-4aa8-a522-bfbe207c0cdf"
      },
      "execution_count": null,
      "outputs": [
        {
          "output_type": "stream",
          "name": "stdout",
          "text": [
            "Model: \"sequential_11\"\n",
            "_________________________________________________________________\n",
            " Layer (type)                Output Shape              Param #   \n",
            "=================================================================\n",
            " conv2d_6 (Conv2D)           (None, 123, 123, 32)      2432      \n",
            "                                                                 \n",
            " conv2d_7 (Conv2D)           (None, 121, 121, 32)      9248      \n",
            "                                                                 \n",
            " max_pooling2d_3 (MaxPooling  (None, 40, 40, 32)       0         \n",
            " 2D)                                                             \n",
            "                                                                 \n",
            "=================================================================\n",
            "Total params: 11,680\n",
            "Trainable params: 11,680\n",
            "Non-trainable params: 0\n",
            "_________________________________________________________________\n",
            "Model: \"sequential_11\"\n",
            "_________________________________________________________________\n",
            " Layer (type)                Output Shape              Param #   \n",
            "=================================================================\n",
            " conv2d_6 (Conv2D)           (None, 123, 123, 32)      2432      \n",
            "                                                                 \n",
            " conv2d_7 (Conv2D)           (None, 121, 121, 32)      9248      \n",
            "                                                                 \n",
            " max_pooling2d_3 (MaxPooling  (None, 40, 40, 32)       0         \n",
            " 2D)                                                             \n",
            "                                                                 \n",
            " conv2d_8 (Conv2D)           (None, 38, 38, 32)        9248      \n",
            "                                                                 \n",
            " conv2d_9 (Conv2D)           (None, 36, 36, 32)        9248      \n",
            "                                                                 \n",
            " max_pooling2d_4 (MaxPooling  (None, 12, 12, 32)       0         \n",
            " 2D)                                                             \n",
            "                                                                 \n",
            " conv2d_10 (Conv2D)          (None, 10, 10, 32)        9248      \n",
            "                                                                 \n",
            " conv2d_11 (Conv2D)          (None, 8, 8, 32)          9248      \n",
            "                                                                 \n",
            " max_pooling2d_5 (MaxPooling  (None, 4, 4, 32)         0         \n",
            " 2D)                                                             \n",
            "                                                                 \n",
            "=================================================================\n",
            "Total params: 48,672\n",
            "Trainable params: 48,672\n",
            "Non-trainable params: 0\n",
            "_________________________________________________________________\n",
            "Model: \"sequential_11\"\n",
            "_________________________________________________________________\n",
            " Layer (type)                Output Shape              Param #   \n",
            "=================================================================\n",
            " conv2d_6 (Conv2D)           (None, 123, 123, 32)      2432      \n",
            "                                                                 \n",
            " conv2d_7 (Conv2D)           (None, 121, 121, 32)      9248      \n",
            "                                                                 \n",
            " max_pooling2d_3 (MaxPooling  (None, 40, 40, 32)       0         \n",
            " 2D)                                                             \n",
            "                                                                 \n",
            " conv2d_8 (Conv2D)           (None, 38, 38, 32)        9248      \n",
            "                                                                 \n",
            " conv2d_9 (Conv2D)           (None, 36, 36, 32)        9248      \n",
            "                                                                 \n",
            " max_pooling2d_4 (MaxPooling  (None, 12, 12, 32)       0         \n",
            " 2D)                                                             \n",
            "                                                                 \n",
            " conv2d_10 (Conv2D)          (None, 10, 10, 32)        9248      \n",
            "                                                                 \n",
            " conv2d_11 (Conv2D)          (None, 8, 8, 32)          9248      \n",
            "                                                                 \n",
            " max_pooling2d_5 (MaxPooling  (None, 4, 4, 32)         0         \n",
            " 2D)                                                             \n",
            "                                                                 \n",
            " global_max_pooling2d_1 (Glo  (None, 32)               0         \n",
            " balMaxPooling2D)                                                \n",
            "                                                                 \n",
            " dense_21 (Dense)            (None, 10)                330       \n",
            "                                                                 \n",
            "=================================================================\n",
            "Total params: 49,002\n",
            "Trainable params: 49,002\n",
            "Non-trainable params: 0\n",
            "_________________________________________________________________\n"
          ]
        }
      ]
    },
    {
      "cell_type": "markdown",
      "source": [
        "#### 2-1-6. 모델이 완성되면 해야 할 일"
      ],
      "metadata": {
        "id": "W51N5B1GJ7RZ"
      }
    },
    {
      "cell_type": "markdown",
      "source": [
        "- 모델을 훈련시키고 평가하며 추론을 실행함\n",
        "- 모델을 디스크에 저장하고 복구함\n",
        "- 다중 GPU를 활용하여 모델 훈련 속도를 향상 시킴"
      ],
      "metadata": {
        "id": "8JsUPM92KF1N"
      }
    },
    {
      "cell_type": "markdown",
      "source": [
        "#### 2-1-7. Sequential 모델을 사용한 특성 추출"
      ],
      "metadata": {
        "id": "clEfdBjpKNpv"
      }
    },
    {
      "cell_type": "markdown",
      "source": [
        "- Sequential 모델이 빌드되면 Functional API 모델처럼 동작함\n",
        "- 이는 모든 레이어가 input 및 output 속성을 갖는다는 것을 의미함\n",
        "- 이러한 속성을 사용하면 Sequential 모델 내의 모든 중간 레이어들의 출력을 추출하는 모델을 빠르게 생성하는 등 깔끔한 작업을 수행할 수 있음"
      ],
      "metadata": {
        "id": "BVyFKvRSKdGU"
      }
    },
    {
      "cell_type": "code",
      "source": [
        "initial_model = keras.Sequential( # sequential에는 inputs와 output이 있음\n",
        "    [\n",
        "        layers.Input(shape = (250, 250, 3)),\n",
        "        layers.Conv2D(32, 5, strides=2, activation=\"relu\"), #filter kernel_size strides(건너뛰기) padding\n",
        "        layers.Conv2D(32, 3, activation=\"relu\"),\n",
        "        layers.Conv2D(32, 3, activation=\"relu\"),\n",
        "    ]\n",
        ")"
      ],
      "metadata": {
        "id": "qZLYbZzwRY9r"
      },
      "execution_count": null,
      "outputs": []
    },
    {
      "cell_type": "code",
      "source": [
        "feature_extractor = keras.Model(\n",
        "    inputs=initial_model.inputs,\n",
        "    outputs=[layer.output for layer in initial_model.layers],\n",
        ")"
      ],
      "metadata": {
        "id": "x54qt37cRbSl"
      },
      "execution_count": null,
      "outputs": []
    },
    {
      "cell_type": "code",
      "source": [
        "# Call feature extractor on test input.\n",
        "x = tf.ones([1, 250, 250, 3]) # 3차원에 차원을 하나 추가해놓음\n",
        "features = feature_extractor(x)\n",
        "features"
      ],
      "metadata": {
        "colab": {
          "base_uri": "https://localhost:8080/"
        },
        "id": "ceoAq3LtRfbL",
        "outputId": "41441552-cfc4-4235-8362-1394841e69f1"
      },
      "execution_count": null,
      "outputs": [
        {
          "output_type": "execute_result",
          "data": {
            "text/plain": [
              "[<tf.Tensor: shape=(1, 123, 123, 32), dtype=float32, numpy=\n",
              " array([[[[0.        , 0.00275289, 0.        , ..., 0.7168796 ,\n",
              "           0.398851  , 0.        ],\n",
              "          [0.        , 0.00275289, 0.        , ..., 0.7168796 ,\n",
              "           0.398851  , 0.        ],\n",
              "          [0.        , 0.00275289, 0.        , ..., 0.7168796 ,\n",
              "           0.398851  , 0.        ],\n",
              "          ...,\n",
              "          [0.        , 0.00275289, 0.        , ..., 0.7168796 ,\n",
              "           0.398851  , 0.        ],\n",
              "          [0.        , 0.00275289, 0.        , ..., 0.7168796 ,\n",
              "           0.398851  , 0.        ],\n",
              "          [0.        , 0.00275289, 0.        , ..., 0.7168796 ,\n",
              "           0.398851  , 0.        ]],\n",
              " \n",
              "         [[0.        , 0.00275289, 0.        , ..., 0.7168796 ,\n",
              "           0.398851  , 0.        ],\n",
              "          [0.        , 0.00275289, 0.        , ..., 0.7168796 ,\n",
              "           0.398851  , 0.        ],\n",
              "          [0.        , 0.00275289, 0.        , ..., 0.7168796 ,\n",
              "           0.398851  , 0.        ],\n",
              "          ...,\n",
              "          [0.        , 0.00275289, 0.        , ..., 0.7168796 ,\n",
              "           0.398851  , 0.        ],\n",
              "          [0.        , 0.00275289, 0.        , ..., 0.7168796 ,\n",
              "           0.398851  , 0.        ],\n",
              "          [0.        , 0.00275289, 0.        , ..., 0.7168796 ,\n",
              "           0.398851  , 0.        ]],\n",
              " \n",
              "         [[0.        , 0.00275289, 0.        , ..., 0.7168796 ,\n",
              "           0.398851  , 0.        ],\n",
              "          [0.        , 0.00275289, 0.        , ..., 0.7168796 ,\n",
              "           0.398851  , 0.        ],\n",
              "          [0.        , 0.00275289, 0.        , ..., 0.7168796 ,\n",
              "           0.398851  , 0.        ],\n",
              "          ...,\n",
              "          [0.        , 0.00275289, 0.        , ..., 0.7168796 ,\n",
              "           0.398851  , 0.        ],\n",
              "          [0.        , 0.00275289, 0.        , ..., 0.7168796 ,\n",
              "           0.398851  , 0.        ],\n",
              "          [0.        , 0.00275289, 0.        , ..., 0.7168796 ,\n",
              "           0.398851  , 0.        ]],\n",
              " \n",
              "         ...,\n",
              " \n",
              "         [[0.        , 0.00275289, 0.        , ..., 0.7168796 ,\n",
              "           0.398851  , 0.        ],\n",
              "          [0.        , 0.00275289, 0.        , ..., 0.7168796 ,\n",
              "           0.398851  , 0.        ],\n",
              "          [0.        , 0.00275289, 0.        , ..., 0.7168796 ,\n",
              "           0.398851  , 0.        ],\n",
              "          ...,\n",
              "          [0.        , 0.00275289, 0.        , ..., 0.7168796 ,\n",
              "           0.398851  , 0.        ],\n",
              "          [0.        , 0.00275289, 0.        , ..., 0.7168796 ,\n",
              "           0.398851  , 0.        ],\n",
              "          [0.        , 0.00275289, 0.        , ..., 0.7168796 ,\n",
              "           0.398851  , 0.        ]],\n",
              " \n",
              "         [[0.        , 0.00275289, 0.        , ..., 0.7168796 ,\n",
              "           0.398851  , 0.        ],\n",
              "          [0.        , 0.00275289, 0.        , ..., 0.7168796 ,\n",
              "           0.398851  , 0.        ],\n",
              "          [0.        , 0.00275289, 0.        , ..., 0.7168796 ,\n",
              "           0.398851  , 0.        ],\n",
              "          ...,\n",
              "          [0.        , 0.00275289, 0.        , ..., 0.7168796 ,\n",
              "           0.398851  , 0.        ],\n",
              "          [0.        , 0.00275289, 0.        , ..., 0.7168796 ,\n",
              "           0.398851  , 0.        ],\n",
              "          [0.        , 0.00275289, 0.        , ..., 0.7168796 ,\n",
              "           0.398851  , 0.        ]],\n",
              " \n",
              "         [[0.        , 0.00275289, 0.        , ..., 0.7168796 ,\n",
              "           0.398851  , 0.        ],\n",
              "          [0.        , 0.00275289, 0.        , ..., 0.7168796 ,\n",
              "           0.398851  , 0.        ],\n",
              "          [0.        , 0.00275289, 0.        , ..., 0.7168796 ,\n",
              "           0.398851  , 0.        ],\n",
              "          ...,\n",
              "          [0.        , 0.00275294, 0.        , ..., 0.71687955,\n",
              "           0.39885098, 0.        ],\n",
              "          [0.        , 0.00275294, 0.        , ..., 0.71687955,\n",
              "           0.39885098, 0.        ],\n",
              "          [0.        , 0.00275294, 0.        , ..., 0.71687955,\n",
              "           0.39885098, 0.        ]]]], dtype=float32)>,\n",
              " <tf.Tensor: shape=(1, 121, 121, 32), dtype=float32, numpy=\n",
              " array([[[[0.04430319, 0.        , 0.        , ..., 0.44739696,\n",
              "           0.        , 0.28025734],\n",
              "          [0.04430319, 0.        , 0.        , ..., 0.44739696,\n",
              "           0.        , 0.28025734],\n",
              "          [0.04430319, 0.        , 0.        , ..., 0.44739696,\n",
              "           0.        , 0.28025734],\n",
              "          ...,\n",
              "          [0.04430319, 0.        , 0.        , ..., 0.44739696,\n",
              "           0.        , 0.28025734],\n",
              "          [0.04430319, 0.        , 0.        , ..., 0.44739696,\n",
              "           0.        , 0.28025734],\n",
              "          [0.04430319, 0.        , 0.        , ..., 0.44739696,\n",
              "           0.        , 0.28025734]],\n",
              " \n",
              "         [[0.04430319, 0.        , 0.        , ..., 0.44739696,\n",
              "           0.        , 0.28025734],\n",
              "          [0.04430319, 0.        , 0.        , ..., 0.44739696,\n",
              "           0.        , 0.28025734],\n",
              "          [0.04430319, 0.        , 0.        , ..., 0.44739696,\n",
              "           0.        , 0.28025734],\n",
              "          ...,\n",
              "          [0.04430319, 0.        , 0.        , ..., 0.44739696,\n",
              "           0.        , 0.28025734],\n",
              "          [0.04430319, 0.        , 0.        , ..., 0.44739696,\n",
              "           0.        , 0.28025734],\n",
              "          [0.04430319, 0.        , 0.        , ..., 0.44739696,\n",
              "           0.        , 0.28025734]],\n",
              " \n",
              "         [[0.04430319, 0.        , 0.        , ..., 0.44739696,\n",
              "           0.        , 0.28025734],\n",
              "          [0.04430319, 0.        , 0.        , ..., 0.44739696,\n",
              "           0.        , 0.28025734],\n",
              "          [0.04430319, 0.        , 0.        , ..., 0.44739696,\n",
              "           0.        , 0.28025734],\n",
              "          ...,\n",
              "          [0.04430319, 0.        , 0.        , ..., 0.44739696,\n",
              "           0.        , 0.28025734],\n",
              "          [0.04430319, 0.        , 0.        , ..., 0.44739696,\n",
              "           0.        , 0.28025734],\n",
              "          [0.04430319, 0.        , 0.        , ..., 0.44739696,\n",
              "           0.        , 0.28025734]],\n",
              " \n",
              "         ...,\n",
              " \n",
              "         [[0.04430319, 0.        , 0.        , ..., 0.44739696,\n",
              "           0.        , 0.28025734],\n",
              "          [0.04430319, 0.        , 0.        , ..., 0.44739696,\n",
              "           0.        , 0.28025734],\n",
              "          [0.04430319, 0.        , 0.        , ..., 0.44739696,\n",
              "           0.        , 0.28025734],\n",
              "          ...,\n",
              "          [0.04430319, 0.        , 0.        , ..., 0.44739696,\n",
              "           0.        , 0.28025734],\n",
              "          [0.04430319, 0.        , 0.        , ..., 0.44739696,\n",
              "           0.        , 0.28025734],\n",
              "          [0.04430319, 0.        , 0.        , ..., 0.44739696,\n",
              "           0.        , 0.28025734]],\n",
              " \n",
              "         [[0.04430319, 0.        , 0.        , ..., 0.44739696,\n",
              "           0.        , 0.28025734],\n",
              "          [0.04430319, 0.        , 0.        , ..., 0.44739696,\n",
              "           0.        , 0.28025734],\n",
              "          [0.04430319, 0.        , 0.        , ..., 0.44739696,\n",
              "           0.        , 0.28025734],\n",
              "          ...,\n",
              "          [0.04430319, 0.        , 0.        , ..., 0.44739696,\n",
              "           0.        , 0.28025734],\n",
              "          [0.04430319, 0.        , 0.        , ..., 0.44739696,\n",
              "           0.        , 0.28025734],\n",
              "          [0.04430319, 0.        , 0.        , ..., 0.44739696,\n",
              "           0.        , 0.28025734]],\n",
              " \n",
              "         [[0.04430319, 0.        , 0.        , ..., 0.44739696,\n",
              "           0.        , 0.28025734],\n",
              "          [0.04430319, 0.        , 0.        , ..., 0.44739696,\n",
              "           0.        , 0.28025734],\n",
              "          [0.04430319, 0.        , 0.        , ..., 0.44739696,\n",
              "           0.        , 0.28025734],\n",
              "          ...,\n",
              "          [0.04430319, 0.        , 0.        , ..., 0.44739696,\n",
              "           0.        , 0.28025734],\n",
              "          [0.04430319, 0.        , 0.        , ..., 0.447397  ,\n",
              "           0.        , 0.28025737],\n",
              "          [0.04430315, 0.        , 0.        , ..., 0.447397  ,\n",
              "           0.        , 0.2802573 ]]]], dtype=float32)>,\n",
              " <tf.Tensor: shape=(1, 119, 119, 32), dtype=float32, numpy=\n",
              " array([[[[0.10266489, 0.19053645, 0.        , ..., 0.9389658 ,\n",
              "           0.        , 0.        ],\n",
              "          [0.10266489, 0.19053645, 0.        , ..., 0.9389658 ,\n",
              "           0.        , 0.        ],\n",
              "          [0.10266489, 0.19053645, 0.        , ..., 0.9389658 ,\n",
              "           0.        , 0.        ],\n",
              "          ...,\n",
              "          [0.10266489, 0.19053645, 0.        , ..., 0.9389658 ,\n",
              "           0.        , 0.        ],\n",
              "          [0.10266489, 0.19053645, 0.        , ..., 0.9389658 ,\n",
              "           0.        , 0.        ],\n",
              "          [0.10266489, 0.19053645, 0.        , ..., 0.9389658 ,\n",
              "           0.        , 0.        ]],\n",
              " \n",
              "         [[0.10266489, 0.19053645, 0.        , ..., 0.9389658 ,\n",
              "           0.        , 0.        ],\n",
              "          [0.10266489, 0.19053645, 0.        , ..., 0.9389658 ,\n",
              "           0.        , 0.        ],\n",
              "          [0.10266489, 0.19053645, 0.        , ..., 0.9389658 ,\n",
              "           0.        , 0.        ],\n",
              "          ...,\n",
              "          [0.10266489, 0.19053645, 0.        , ..., 0.9389658 ,\n",
              "           0.        , 0.        ],\n",
              "          [0.10266489, 0.19053645, 0.        , ..., 0.9389658 ,\n",
              "           0.        , 0.        ],\n",
              "          [0.10266489, 0.19053645, 0.        , ..., 0.9389658 ,\n",
              "           0.        , 0.        ]],\n",
              " \n",
              "         [[0.10266489, 0.19053645, 0.        , ..., 0.9389658 ,\n",
              "           0.        , 0.        ],\n",
              "          [0.10266489, 0.19053645, 0.        , ..., 0.9389658 ,\n",
              "           0.        , 0.        ],\n",
              "          [0.10266489, 0.19053645, 0.        , ..., 0.9389658 ,\n",
              "           0.        , 0.        ],\n",
              "          ...,\n",
              "          [0.10266489, 0.19053645, 0.        , ..., 0.9389658 ,\n",
              "           0.        , 0.        ],\n",
              "          [0.10266489, 0.19053645, 0.        , ..., 0.9389658 ,\n",
              "           0.        , 0.        ],\n",
              "          [0.10266489, 0.19053645, 0.        , ..., 0.9389658 ,\n",
              "           0.        , 0.        ]],\n",
              " \n",
              "         ...,\n",
              " \n",
              "         [[0.10266489, 0.19053645, 0.        , ..., 0.9389658 ,\n",
              "           0.        , 0.        ],\n",
              "          [0.10266489, 0.19053645, 0.        , ..., 0.9389658 ,\n",
              "           0.        , 0.        ],\n",
              "          [0.10266489, 0.19053645, 0.        , ..., 0.9389658 ,\n",
              "           0.        , 0.        ],\n",
              "          ...,\n",
              "          [0.10266489, 0.19053645, 0.        , ..., 0.9389658 ,\n",
              "           0.        , 0.        ],\n",
              "          [0.10266489, 0.19053645, 0.        , ..., 0.9389658 ,\n",
              "           0.        , 0.        ],\n",
              "          [0.10266489, 0.19053645, 0.        , ..., 0.9389658 ,\n",
              "           0.        , 0.        ]],\n",
              " \n",
              "         [[0.10266489, 0.19053645, 0.        , ..., 0.9389658 ,\n",
              "           0.        , 0.        ],\n",
              "          [0.10266489, 0.19053645, 0.        , ..., 0.9389658 ,\n",
              "           0.        , 0.        ],\n",
              "          [0.10266489, 0.19053645, 0.        , ..., 0.9389658 ,\n",
              "           0.        , 0.        ],\n",
              "          ...,\n",
              "          [0.10266489, 0.19053645, 0.        , ..., 0.9389658 ,\n",
              "           0.        , 0.        ],\n",
              "          [0.10266489, 0.19053645, 0.        , ..., 0.9389658 ,\n",
              "           0.        , 0.        ],\n",
              "          [0.10266489, 0.19053645, 0.        , ..., 0.9389658 ,\n",
              "           0.        , 0.        ]],\n",
              " \n",
              "         [[0.10266489, 0.19053645, 0.        , ..., 0.9389658 ,\n",
              "           0.        , 0.        ],\n",
              "          [0.10266489, 0.19053645, 0.        , ..., 0.9389658 ,\n",
              "           0.        , 0.        ],\n",
              "          [0.10266489, 0.19053645, 0.        , ..., 0.9389658 ,\n",
              "           0.        , 0.        ],\n",
              "          ...,\n",
              "          [0.10266495, 0.19053645, 0.        , ..., 0.9389658 ,\n",
              "           0.        , 0.        ],\n",
              "          [0.10266501, 0.19053642, 0.        , ..., 0.9389658 ,\n",
              "           0.        , 0.        ],\n",
              "          [0.10266498, 0.19053635, 0.        , ..., 0.9389657 ,\n",
              "           0.        , 0.        ]]]], dtype=float32)>]"
            ]
          },
          "metadata": {},
          "execution_count": 58
        }
      ]
    },
    {
      "cell_type": "markdown",
      "source": [
        "- 한 레이어에서 특성만 추출하는 것과 유사한 예"
      ],
      "metadata": {
        "id": "DloydSc5K14M"
      }
    },
    {
      "cell_type": "code",
      "source": [
        "initial_model = keras.Sequential(\n",
        "    [\n",
        "        layers.Input(shape=(250, 250, 3)),\n",
        "        layers.Conv2D(32, 5, strides=2, activation=\"relu\"),\n",
        "        layers.Conv2D(32, 3, activation=\"relu\", name=\"my_intermediate_layer\"),\n",
        "        layers.Conv2D(32, 3, activation=\"relu\"),\n",
        "    ]\n",
        ")\n",
        "feature_extractor = keras.Model(\n",
        "    inputs=initial_model.inputs,\n",
        "    outputs=initial_model.get_layer(name=\"my_intermediate_layer\").output, # 특정 레이어만 지정함!!\n",
        ")\n",
        "# Call feature extractor on test input.\n",
        "x = tf.ones((1, 250, 250, 3))\n",
        "features = feature_extractor(x)"
      ],
      "metadata": {
        "id": "aBJAzVugKiA6"
      },
      "execution_count": null,
      "outputs": []
    },
    {
      "cell_type": "markdown",
      "source": [
        "### 2-2. 함수형 API"
      ],
      "metadata": {
        "id": "VfGeO1rWLDsL"
      }
    },
    {
      "cell_type": "markdown",
      "source": [
        "- Keras 함수형 API는 tf.keras.Sequential API보다 더 유연한 모델을 생성하는 방법\n",
        "- 함수형 API는 비선형 토폴로지, 공유 레이어, 심지어 여러 입력 또는 출력이 있는 모델을 처리할 수 있음"
      ],
      "metadata": {
        "id": "1For6s6SLDh9"
      }
    },
    {
      "cell_type": "markdown",
      "source": [
        "#### 2-2-1 함수형 API의 주요 개념"
      ],
      "metadata": {
        "id": "Zq09GU0XLCzB"
      }
    },
    {
      "cell_type": "markdown",
      "source": [
        "- 딥 러닝 모델은 일반적으로 레이어의 DAG(directed acyclic graph)이다.\n",
        "- 따라서 함수형 API는 레이어의 그래프를 빌드하는 방법이다."
      ],
      "metadata": {
        "id": "9vXgXXOfKDwi"
      }
    },
    {
      "cell_type": "markdown",
      "source": [
        "#### 2-2-2. 함수형 API를 이용하여 모델 빌드하기"
      ],
      "metadata": {
        "id": "jNdvnpmZKNXC"
      }
    },
    {
      "cell_type": "markdown",
      "source": [
        "- 세 개의 레이어가 있는 기본 그래프 모델\n",
        "```\n",
        "(input: 784-dimensional vectors)\n",
        "       ↧\n",
        "[Dense (64 units, relu activation)]\n",
        "       ↧\n",
        "[Dense (64 units, relu activation)]\n",
        "       ↧\n",
        "[Dense (10 units, softmax activation)]\n",
        "       ↧\n",
        "(output: logits of a probability distribution over 10 classes)\n",
        "```"
      ],
      "metadata": {
        "id": "STcbWGPzLtVb"
      }
    },
    {
      "cell_type": "markdown",
      "source": [
        "- 먼저 입력 노드를 작성함\n",
        "    - 데이터의 모양은 784 차원 벡터로 설정\n",
        "    - 각 샘플의 모양만 지정되므로 배치 크기는 항상 생략"
      ],
      "metadata": {
        "id": "VZU5aW0fKULM"
      }
    },
    {
      "cell_type": "code",
      "source": [
        "inputs = layers.Input(shape=(784,))"
      ],
      "metadata": {
        "id": "kqpdzVaaLIyg"
      },
      "execution_count": 11,
      "outputs": []
    },
    {
      "cell_type": "code",
      "source": [
        "# (32, 32, 3) 모양의 이미지 입력이있는 경우\n",
        "img_inputs = layers.Input(shape=(32, 32, 3))"
      ],
      "metadata": {
        "id": "Ld8T_W0pK4NK"
      },
      "execution_count": 12,
      "outputs": []
    },
    {
      "cell_type": "markdown",
      "source": [
        "- 리턴되는 inputs 에는 모델에 공급하는 입력 데이터의 모양 및 dtype 에 대한 정보가 포함됨"
      ],
      "metadata": {
        "id": "ihCk-Je-K5Px"
      }
    },
    {
      "cell_type": "code",
      "source": [
        "inputs.shape"
      ],
      "metadata": {
        "colab": {
          "base_uri": "https://localhost:8080/"
        },
        "id": "a8pCdfECK1Jv",
        "outputId": "44eed335-fe02-4066-9e74-0a1e41414f2e"
      },
      "execution_count": 13,
      "outputs": [
        {
          "output_type": "execute_result",
          "data": {
            "text/plain": [
              "TensorShape([None, 784])"
            ]
          },
          "metadata": {},
          "execution_count": 13
        }
      ]
    },
    {
      "cell_type": "code",
      "source": [
        "inputs.dtype"
      ],
      "metadata": {
        "colab": {
          "base_uri": "https://localhost:8080/"
        },
        "id": "xu1wp7hJK8yd",
        "outputId": "cd22f500-685a-46c6-f3a2-93a549debfa8"
      },
      "execution_count": 14,
      "outputs": [
        {
          "output_type": "execute_result",
          "data": {
            "text/plain": [
              "tf.float32"
            ]
          },
          "metadata": {},
          "execution_count": 14
        }
      ]
    },
    {
      "cell_type": "markdown",
      "source": [
        "- inputs 객체에서 레이어를 호출하여 레이어 그래프에서 새 노드를 만듦\n",
        "    - \"레이어 호출\" 동작은 \"입력\"에서 생성된 레이어로 화살표를 그리는 것과 동일함\n",
        "    - 입력을 dense 레이어로 \"전달\"하고 x를 출력으로 가져옴"
      ],
      "metadata": {
        "id": "Hb_K2k80LVwg"
      }
    },
    {
      "cell_type": "code",
      "source": [
        "dense = layers.Dense(64, activation=\"relu\")\n",
        "x = dense(inputs)"
      ],
      "metadata": {
        "id": "fY-iptMGLRBV"
      },
      "execution_count": 15,
      "outputs": []
    },
    {
      "cell_type": "markdown",
      "source": [
        "- 레이어 그래프에 출력을 위한 레이어 추가"
      ],
      "metadata": {
        "id": "hu2QlXnOLpdw"
      }
    },
    {
      "cell_type": "code",
      "source": [
        "x = layers.Dense(64, activation=\"relu\")(x)\n",
        "outputs = layers.Dense(10)(x)"
      ],
      "metadata": {
        "id": "AUTz2DsCLa4s"
      },
      "execution_count": 16,
      "outputs": []
    },
    {
      "cell_type": "markdown",
      "source": [
        "- 레이어 그래프에서 입력 및 출력을 지정하여 Model 작성"
      ],
      "metadata": {
        "id": "m8KM3vAENzS3"
      }
    },
    {
      "cell_type": "code",
      "source": [
        "model = keras.Model(inputs=inputs, outputs=outputs, name=\"mnist_model\")"
      ],
      "metadata": {
        "id": "faK_uBvTN3KO"
      },
      "execution_count": 17,
      "outputs": []
    },
    {
      "cell_type": "markdown",
      "source": [
        "- 모델 요약을 통해 모델 확인"
      ],
      "metadata": {
        "id": "xVRDTTEGN9CJ"
      }
    },
    {
      "cell_type": "code",
      "source": [
        "model.summary()"
      ],
      "metadata": {
        "colab": {
          "base_uri": "https://localhost:8080/"
        },
        "id": "n77VjoW9N4_N",
        "outputId": "9528b6da-f2f6-4d62-a272-d135a1d2fc12"
      },
      "execution_count": 18,
      "outputs": [
        {
          "output_type": "stream",
          "name": "stdout",
          "text": [
            "Model: \"mnist_model\"\n",
            "_________________________________________________________________\n",
            " Layer (type)                Output Shape              Param #   \n",
            "=================================================================\n",
            " input_1 (InputLayer)        [(None, 784)]             0         \n",
            "                                                                 \n",
            " dense (Dense)               (None, 64)                50240     \n",
            "                                                                 \n",
            " dense_1 (Dense)             (None, 64)                4160      \n",
            "                                                                 \n",
            " dense_2 (Dense)             (None, 10)                650       \n",
            "                                                                 \n",
            "=================================================================\n",
            "Total params: 55,050\n",
            "Trainable params: 55,050\n",
            "Non-trainable params: 0\n",
            "_________________________________________________________________\n"
          ]
        }
      ]
    },
    {
      "cell_type": "markdown",
      "source": [
        "- 그래프 플롯을 통해 모델을 확인하고자 한다면..."
      ],
      "metadata": {
        "id": "l4m-Gd1wOIWr"
      }
    },
    {
      "cell_type": "code",
      "source": [
        "keras.utils.plot_model(model, \"my_first_model.png\")"
      ],
      "metadata": {
        "colab": {
          "base_uri": "https://localhost:8080/",
          "height": 369
        },
        "id": "B_Y6cQjTOBJ2",
        "outputId": "3f621d99-af20-4879-a4d0-8d913cf8c15f"
      },
      "execution_count": null,
      "outputs": [
        {
          "output_type": "execute_result",
          "data": {
            "image/png": "[encoded data removed]",
            "text/plain": [
              "<IPython.core.display.Image object>"
            ]
          },
          "metadata": {},
          "execution_count": 68
        }
      ]
    },
    {
      "cell_type": "markdown",
      "source": [
        "- 선택적으로 플롯 된 그래프에 각 레이어의 입력 및 출력 모양을 표시하려면...\n",
        "    - 이 그림과 코드는 거의 동일함\n",
        "    - 코드 버전에서 연결 화살표는 호출 작업으로 대체"
      ],
      "metadata": {
        "id": "efQMw7gNORWA"
      }
    },
    {
      "cell_type": "code",
      "source": [
        "keras.utils.plot_model(model, \"my_first_model_with_shape_info.png\", show_shapes=True)"
      ],
      "metadata": {
        "colab": {
          "base_uri": "https://localhost:8080/",
          "height": 422
        },
        "id": "O73ET1cMOG3G",
        "outputId": "8bfe90cd-17d8-4533-f27c-395aa75b8016"
      },
      "execution_count": null,
      "outputs": [
        {
          "output_type": "execute_result",
          "data": {
            "image/png": "[encoded data removed]",
            "text/plain": [
              "<IPython.core.display.Image object>"
            ]
          },
          "metadata": {},
          "execution_count": 69
        }
      ]
    },
    {
      "cell_type": "markdown",
      "source": [
        "- 레이어 그래프는 딥 러닝 모델을 위한 직관적인 이미지\n",
        "- 함수형 API는 이를 밀접하게 반영하는 모델을 만드는 방법임"
      ],
      "metadata": {
        "id": "m2nAJxBlOiwy"
      }
    },
    {
      "cell_type": "markdown",
      "source": [
        "#### 2-2-3. 훈련, 평가 및 예측"
      ],
      "metadata": {
        "id": "Ni8WUoeiOwm_"
      }
    },
    {
      "cell_type": "markdown",
      "source": [
        "- 훈련(학습), 평가 및 예측(추론)은 Sequential 모델과 같이 함수형 API를 사용하여 빌드된 모델에 대해 같은 방식으로 작동함\n",
        "- Model 클래스\n",
        "    - 내장 훈련 루프(fit() 메서드) 제공\n",
        "    - 내장 평가 루프(evaluate() 메서드)를 제공\n",
        "    - 내장 추론 루프(predict() 메서드)를 제공\n",
        "    - 이러한 루프를 사용자 정의하여 학습 루틴을 구현 가능"
      ],
      "metadata": {
        "id": "s3bRu3NzO6b1"
      }
    },
    {
      "cell_type": "markdown",
      "source": [
        "- MNIST 데이터셋으로 실습하기\n",
        "    1. MNIST 이미지 데이터 로드\n",
        "    2. 벡터로 재구성\n",
        "    3. 데이터에 모델을 맞추기 (유효성 분할에서 성능을 모니터링하는 동안)\n",
        "    4. 테스트 데이터를 이용하여 모델 평가"
      ],
      "metadata": {
        "id": "SmjGMfbhPcFd"
      }
    },
    {
      "cell_type": "code",
      "source": [
        "(x_train, y_train), (x_test, y_test) = keras.datasets.mnist.load_data() # mnist data download"
      ],
      "metadata": {
        "colab": {
          "base_uri": "https://localhost:8080/"
        },
        "id": "QtyKIa4wX6mc",
        "outputId": "9b10b7e4-f199-4fee-def7-05a1e1a5fa47"
      },
      "execution_count": 6,
      "outputs": [
        {
          "output_type": "stream",
          "name": "stdout",
          "text": [
            "Downloading data from https://storage.googleapis.com/tensorflow/tf-keras-datasets/mnist.npz\n",
            "11490434/11490434 [==============================] - 0s 0us/step\n"
          ]
        }
      ]
    },
    {
      "cell_type": "code",
      "source": [
        "x_train = x_train.reshape(60000, 784).astype(\"float32\") / 255 # 총 이미지 개수 6만개를 벡터로 재구성(784) astype()으로 형태 바꿔주기\n",
        "x_test = x_test.reshape(10000, 784).astype(\"float32\") / 255"
      ],
      "metadata": {
        "id": "rHTUTxw_YIRl"
      },
      "execution_count": 7,
      "outputs": []
    },
    {
      "cell_type": "code",
      "source": [
        "model.compile(\n",
        "    loss = keras.losses.SparseCategoricalCrossentropy(from_logits=True), # 손실함수\n",
        "    optimizer = keras.optimizers.RMSprop(),\n",
        "    metrics = [\"accuracy\"],\n",
        ")"
      ],
      "metadata": {
        "id": "B3YWE_5mYigC"
      },
      "execution_count": 19,
      "outputs": []
    },
    {
      "cell_type": "code",
      "source": [
        "history = model.fit(x_train, y_train, batch_size = 64, epochs = 2, validation_split = 0.2) # 학습"
      ],
      "metadata": {
        "colab": {
          "base_uri": "https://localhost:8080/"
        },
        "id": "-L2Xb--wZoUl",
        "outputId": "0022bf3b-85e6-423d-98cc-06120ac564ac"
      },
      "execution_count": 20,
      "outputs": [
        {
          "output_type": "stream",
          "name": "stdout",
          "text": [
            "Epoch 1/2\n",
            "750/750 [==============================] - 3s 4ms/step - loss: 0.3524 - accuracy: 0.9015 - val_loss: 0.2014 - val_accuracy: 0.9430\n",
            "Epoch 2/2\n",
            "750/750 [==============================] - 2s 3ms/step - loss: 0.1718 - accuracy: 0.9499 - val_loss: 0.1510 - val_accuracy: 0.9567\n"
          ]
        }
      ]
    },
    {
      "cell_type": "code",
      "source": [
        "test_scores = model.evaluate(x_test, y_test, verbose = 2) # verbose 상세 표시\n",
        "print(\"Test loss: \", test_scores[0])\n",
        "print(\"Test accuracy: \", test_scores[1])"
      ],
      "metadata": {
        "colab": {
          "base_uri": "https://localhost:8080/"
        },
        "id": "2dQWyG8iaEPL",
        "outputId": "a0110b82-5bd5-40d0-ac4f-8cb36fe06412"
      },
      "execution_count": 21,
      "outputs": [
        {
          "output_type": "stream",
          "name": "stdout",
          "text": [
            "313/313 - 0s - loss: 0.1410 - accuracy: 0.9582 - 435ms/epoch - 1ms/step\n",
            "Test loss:  0.14099402725696564\n",
            "Test accuracy:  0.9581999778747559\n"
          ]
        }
      ]
    },
    {
      "cell_type": "code",
      "source": [
        "# 모델 예측\n",
        "model.predict(x_test)"
      ],
      "metadata": {
        "colab": {
          "base_uri": "https://localhost:8080/"
        },
        "id": "5byy5_sFa7B9",
        "outputId": "d23c652c-4d2d-4f66-96bd-7b13d9343366"
      },
      "execution_count": 22,
      "outputs": [
        {
          "output_type": "stream",
          "name": "stdout",
          "text": [
            "313/313 [==============================] - 1s 2ms/step\n"
          ]
        },
        {
          "output_type": "execute_result",
          "data": {
            "text/plain": [
              "array([[-4.0636325e+00, -5.3118401e+00,  1.3547751e+00, ...,\n",
              "         9.9967766e+00, -4.5579534e+00,  3.6595398e-01],\n",
              "       [-7.1775789e+00,  4.0729613e+00,  1.2801782e+01, ...,\n",
              "        -7.9313898e+00,  6.8763748e-02, -6.3049479e+00],\n",
              "       [-4.6305542e+00,  7.4965730e+00,  9.1144592e-01, ...,\n",
              "        -3.9369965e-01, -8.5655874e-01, -3.0272167e+00],\n",
              "       ...,\n",
              "       [-8.2832394e+00, -9.8981915e+00, -5.1408839e+00, ...,\n",
              "        -2.1744401e+00, -9.0005621e-04,  4.0509186e+00],\n",
              "       [-3.9122329e+00, -2.3019619e+00, -7.3126564e+00, ...,\n",
              "        -9.1675005e+00,  2.1325681e+00, -6.1494856e+00],\n",
              "       [-1.2973090e+00, -7.0236392e+00,  2.6239259e+00, ...,\n",
              "        -1.2132148e+01, -7.1713910e+00, -8.2086573e+00]], dtype=float32)"
            ]
          },
          "metadata": {},
          "execution_count": 22
        }
      ]
    },
    {
      "cell_type": "markdown",
      "source": [
        "#### 2-2-4. 저장 및 직렬화"
      ],
      "metadata": {
        "id": "CRIo5H6TQDLw"
      }
    },
    {
      "cell_type": "markdown",
      "source": [
        "- 저장 및 직렬화 작업\n",
        "    - 함수형 API를 사용\n",
        "    - 빌드된 모델에 대해 Sequential 모델을 사용할 때와 같은 방식으로 작동\n",
        "    - 함수형 모델을 저장하는 표준 방법: model.save()를 호출하여 전체 모델을 단일 파일로 저장\n",
        "    - 모델을 빌드한 코드를 더 이상 사용할 수 없는 경우에도 나중에 이 파일에서 같은 모델을 로드하여 다시 작성할 수 있음"
      ],
      "metadata": {
        "id": "dTSBtkLyQOAr"
      }
    },
    {
      "cell_type": "markdown",
      "source": [
        "- 저장된 파일에 포함되는 것\n",
        "    - 모델 아키텍처\n",
        "    - 모델 중량 값 (훈련 중 학습 된 값)\n",
        "    - 모델 훈련 구성(있는 경우, compile로 전달)\n",
        "    - 옵티마이저 및 상태(있는 경우, 중단한 곳에서 훈련을 다시 시작)"
      ],
      "metadata": {
        "id": "dghLdgMVQN2m"
      }
    },
    {
      "cell_type": "code",
      "source": [
        "model.save(\"path_to_my_model\")\n",
        "del model\n",
        "# Recreate the exact same model purely from the file:\n",
        "model = keras.models.load_model(\"path_to_my_model\")"
      ],
      "metadata": {
        "colab": {
          "base_uri": "https://localhost:8080/"
        },
        "id": "MB-nkwNzP8u2",
        "outputId": "214b07c4-5bee-4f90-bcae-64ec08a123bd"
      },
      "execution_count": 23,
      "outputs": [
        {
          "output_type": "stream",
          "name": "stderr",
          "text": [
            "WARNING:absl:Found untraced functions such as _update_step_xla while saving (showing 1 of 1). These functions will not be directly callable after loading.\n"
          ]
        }
      ]
    },
    {
      "cell_type": "markdown",
      "source": [
        "#### 2-2-5. 같은 레이어 그래프를 사용하여 여러 모델 정의하기"
      ],
      "metadata": {
        "id": "ddl2-Z5wReu4"
      }
    },
    {
      "cell_type": "markdown",
      "source": [
        "- 함수형 API에서 모델은 레이어 그래프에 입력 및 출력을 지정하여 생성됨\n",
        "- 단일 레이어 그래프를 사용하여 여러 모델을 생성할 수 있음"
      ],
      "metadata": {
        "id": "o68d6xMYRkDU"
      }
    },
    {
      "cell_type": "markdown",
      "source": [
        "- 예시\n",
        "    - 이미지 입력을 16차원 벡터로 변환하는 encoder 모델과 훈련을 위한 엔드 투 엔드 autoencoder 모델\n",
        "    - 같은 레이어 스택을 사용하여 두 모델을 인스턴스화\n",
        "    - 디코딩 아키텍처는 인코딩 아키텍처와 완전하게 대칭이므로 출력 형상은 입력 형상 (28, 28, 1)과 같음\n",
        "    - 디코더에서 인코더의 Conv2D 층과 반대되는 층은 Conv2DTranspose 층,  MaxPooling2D 층과 반대되는 층은 UpSampling2D 층"
      ],
      "metadata": {
        "id": "mqmZBcFTRxRD"
      }
    },
    {
      "cell_type": "code",
      "source": [
        "encoder_input = keras.Input(shape=(28, 28, 1), name=\"img\")\n",
        "x = layers.Conv2D(16, 3, activation=\"relu\")(encoder_input)\n",
        "x = layers.Conv2D(32, 3, activation=\"relu\")(x)\n",
        "x = layers.MaxPooling2D(3)(x)\n",
        "x = layers.Conv2D(32, 3, activation=\"relu\")(x)\n",
        "x = layers.Conv2D(16, 3, activation=\"relu\")(x)\n",
        "encoder_output = layers.GlobalMaxPooling2D()(x)\n",
        "\n",
        "encoder = keras.Model(encoder_input, encoder_output, name=\"encoder\")\n",
        "encoder.summary()\n",
        "\n",
        "x = layers.Reshape((4, 4, 1))(encoder_output)\n",
        "x = layers.Conv2DTranspose(16, 3, activation=\"relu\")(x)\n",
        "x = layers.Conv2DTranspose(32, 3, activation=\"relu\")(x)\n",
        "x = layers.UpSampling2D(3)(x)\n",
        "x = layers.Conv2DTranspose(16, 3, activation=\"relu\")(x)\n",
        "decoder_output = layers.Conv2DTranspose(1, 3, activation=\"relu\")(x)\n",
        "\n",
        "autoencoder = keras.Model(encoder_input, decoder_output, name=\"autoencoder\")\n",
        "autoencoder.summary()"
      ],
      "metadata": {
        "colab": {
          "base_uri": "https://localhost:8080/"
        },
        "id": "8oddncjSRWuG",
        "outputId": "d9cdbe84-c47a-4818-bc13-f7c8e0d483a4"
      },
      "execution_count": 24,
      "outputs": [
        {
          "output_type": "stream",
          "name": "stdout",
          "text": [
            "Model: \"encoder\"\n",
            "_________________________________________________________________\n",
            " Layer (type)                Output Shape              Param #   \n",
            "=================================================================\n",
            " img (InputLayer)            [(None, 28, 28, 1)]       0         \n",
            "                                                                 \n",
            " conv2d (Conv2D)             (None, 26, 26, 16)        160       \n",
            "                                                                 \n",
            " conv2d_1 (Conv2D)           (None, 24, 24, 32)        4640      \n",
            "                                                                 \n",
            " max_pooling2d (MaxPooling2D  (None, 8, 8, 32)         0         \n",
            " )                                                               \n",
            "                                                                 \n",
            " conv2d_2 (Conv2D)           (None, 6, 6, 32)          9248      \n",
            "                                                                 \n",
            " conv2d_3 (Conv2D)           (None, 4, 4, 16)          4624      \n",
            "                                                                 \n",
            " global_max_pooling2d (Globa  (None, 16)               0         \n",
            " lMaxPooling2D)                                                  \n",
            "                                                                 \n",
            "=================================================================\n",
            "Total params: 18,672\n",
            "Trainable params: 18,672\n",
            "Non-trainable params: 0\n",
            "_________________________________________________________________\n",
            "Model: \"autoencoder\"\n",
            "_________________________________________________________________\n",
            " Layer (type)                Output Shape              Param #   \n",
            "=================================================================\n",
            " img (InputLayer)            [(None, 28, 28, 1)]       0         \n",
            "                                                                 \n",
            " conv2d (Conv2D)             (None, 26, 26, 16)        160       \n",
            "                                                                 \n",
            " conv2d_1 (Conv2D)           (None, 24, 24, 32)        4640      \n",
            "                                                                 \n",
            " max_pooling2d (MaxPooling2D  (None, 8, 8, 32)         0         \n",
            " )                                                               \n",
            "                                                                 \n",
            " conv2d_2 (Conv2D)           (None, 6, 6, 32)          9248      \n",
            "                                                                 \n",
            " conv2d_3 (Conv2D)           (None, 4, 4, 16)          4624      \n",
            "                                                                 \n",
            " global_max_pooling2d (Globa  (None, 16)               0         \n",
            " lMaxPooling2D)                                                  \n",
            "                                                                 \n",
            " reshape (Reshape)           (None, 4, 4, 1)           0         \n",
            "                                                                 \n",
            " conv2d_transpose (Conv2DTra  (None, 6, 6, 16)         160       \n",
            " nspose)                                                         \n",
            "                                                                 \n",
            " conv2d_transpose_1 (Conv2DT  (None, 8, 8, 32)         4640      \n",
            " ranspose)                                                       \n",
            "                                                                 \n",
            " up_sampling2d (UpSampling2D  (None, 24, 24, 32)       0         \n",
            " )                                                               \n",
            "                                                                 \n",
            " conv2d_transpose_2 (Conv2DT  (None, 26, 26, 16)       4624      \n",
            " ranspose)                                                       \n",
            "                                                                 \n",
            " conv2d_transpose_3 (Conv2DT  (None, 28, 28, 1)        145       \n",
            " ranspose)                                                       \n",
            "                                                                 \n",
            "=================================================================\n",
            "Total params: 28,241\n",
            "Trainable params: 28,241\n",
            "Non-trainable params: 0\n",
            "_________________________________________________________________\n"
          ]
        }
      ]
    },
    {
      "cell_type": "markdown",
      "source": [
        "#### 2-2-6. 모델 호출하기"
      ],
      "metadata": {
        "id": "gTdgQZkBSwYR"
      }
    },
    {
      "cell_type": "markdown",
      "source": [
        "- 모든 모델은 레이어와 마찬가지로 호출이 가능함\n",
        "- Input 또는 또 다른 레이어의 출력에서 모델을 호출함으로써 모델을 마치 레이어와 같이 취급할 수 있음\n",
        "- 모델을 호출함으로써 모델의 아키텍처를 재사용할 뿐만 아니라 가중치도 재사용 할 수 있음"
      ],
      "metadata": {
        "id": "jPOANYWUS7pi"
      }
    },
    {
      "cell_type": "markdown",
      "source": [
        "- 예시 (앞선 autoencoder 모델 예제에 대한 또 다른 설명)\n",
        "    - 인코더 모델과 디코더 모델을 만들고\n",
        "    - 두 번의 호출로 연결하여\n",
        "    - 자동 인코더(autoencoder) 모델 만들기"
      ],
      "metadata": {
        "id": "Wuk_fSAxTT4i"
      }
    },
    {
      "cell_type": "code",
      "source": [
        "encoder_input = keras.Input(shape=(28,28,1), name = \"original_img\")\n",
        "x = layers.Conv2D(16,3,activation=\"relu\")(encoder_input)\n",
        "x = layers.Conv2D(32,3,activation=\"relu\")(x)\n",
        "x = layers.MaxPooling2D(3)(x)\n",
        "x = layers.Conv2D(32,3,activation=\"relu\")(x)\n",
        "x = layers.Conv2D(16,3,activation=\"relu\")(x)\n",
        "encoder_output = layers.GlobalAveragePooling2D()(x)\n",
        "\n",
        "encoder = keras.Model(encoder_input, encoder_output, name = \"encoder\")\n",
        "encoder.summary()"
      ],
      "metadata": {
        "colab": {
          "base_uri": "https://localhost:8080/"
        },
        "id": "7-kODtOy56kc",
        "outputId": "8efcb58b-fd74-4f50-c701-2d0c9228b351"
      },
      "execution_count": 25,
      "outputs": [
        {
          "output_type": "stream",
          "name": "stdout",
          "text": [
            "Model: \"encoder\"\n",
            "_________________________________________________________________\n",
            " Layer (type)                Output Shape              Param #   \n",
            "=================================================================\n",
            " original_img (InputLayer)   [(None, 28, 28, 1)]       0         \n",
            "                                                                 \n",
            " conv2d_4 (Conv2D)           (None, 26, 26, 16)        160       \n",
            "                                                                 \n",
            " conv2d_5 (Conv2D)           (None, 24, 24, 32)        4640      \n",
            "                                                                 \n",
            " max_pooling2d_1 (MaxPooling  (None, 8, 8, 32)         0         \n",
            " 2D)                                                             \n",
            "                                                                 \n",
            " conv2d_6 (Conv2D)           (None, 6, 6, 32)          9248      \n",
            "                                                                 \n",
            " conv2d_7 (Conv2D)           (None, 4, 4, 16)          4624      \n",
            "                                                                 \n",
            " global_average_pooling2d (G  (None, 16)               0         \n",
            " lobalAveragePooling2D)                                          \n",
            "                                                                 \n",
            "=================================================================\n",
            "Total params: 18,672\n",
            "Trainable params: 18,672\n",
            "Non-trainable params: 0\n",
            "_________________________________________________________________\n"
          ]
        }
      ]
    },
    {
      "cell_type": "code",
      "source": [
        "decoder_input = keras.Input(shape=(16,), name = \"encoded_img\")\n",
        "x = layers.Reshape((4,4,1))(decoder_input)\n",
        "x = layers.Conv2DTranspose(16,3,activation = \"relu\")(x)\n",
        "x = layers.Conv2DTranspose(32,3,activation = \"relu\")(x)\n",
        "x = layers.UpSampling2D(3)(x)\n",
        "x = layers.Conv2DTranspose(16,3,activation = \"relu\")(x)\n",
        "decoder_output = layers.Conv2DTranspose(1,3,activation = \"relu\")(x)\n",
        "\n",
        "decoder = keras.Model(decoder_input, decoder_output, name = \"decoder\")\n",
        "decoder.summary()"
      ],
      "metadata": {
        "colab": {
          "base_uri": "https://localhost:8080/"
        },
        "id": "oyG7hNFC6liH",
        "outputId": "215c0eed-2349-43dc-8dbb-a089fe035b2b"
      },
      "execution_count": 26,
      "outputs": [
        {
          "output_type": "stream",
          "name": "stdout",
          "text": [
            "Model: \"decoder\"\n",
            "_________________________________________________________________\n",
            " Layer (type)                Output Shape              Param #   \n",
            "=================================================================\n",
            " encoded_img (InputLayer)    [(None, 16)]              0         \n",
            "                                                                 \n",
            " reshape_1 (Reshape)         (None, 4, 4, 1)           0         \n",
            "                                                                 \n",
            " conv2d_transpose_4 (Conv2DT  (None, 6, 6, 16)         160       \n",
            " ranspose)                                                       \n",
            "                                                                 \n",
            " conv2d_transpose_5 (Conv2DT  (None, 8, 8, 32)         4640      \n",
            " ranspose)                                                       \n",
            "                                                                 \n",
            " up_sampling2d_1 (UpSampling  (None, 24, 24, 32)       0         \n",
            " 2D)                                                             \n",
            "                                                                 \n",
            " conv2d_transpose_6 (Conv2DT  (None, 26, 26, 16)       4624      \n",
            " ranspose)                                                       \n",
            "                                                                 \n",
            " conv2d_transpose_7 (Conv2DT  (None, 28, 28, 1)        145       \n",
            " ranspose)                                                       \n",
            "                                                                 \n",
            "=================================================================\n",
            "Total params: 9,569\n",
            "Trainable params: 9,569\n",
            "Non-trainable params: 0\n",
            "_________________________________________________________________\n"
          ]
        }
      ]
    },
    {
      "cell_type": "code",
      "source": [
        "autoencoder_input = keras.Input(shape=(28,28,1), name = \"img\")\n",
        "encoded_img = encoder(autoencoder_input)\n",
        "decoded_img = decoder(encoded_img)\n",
        "autoencoder = keras.Model(autoencoder_input, decoded_img, name = \"autoencoder\")\n",
        "autoencoder.summary()"
      ],
      "metadata": {
        "colab": {
          "base_uri": "https://localhost:8080/"
        },
        "id": "aQiDG6Ht7S-_",
        "outputId": "5cdcd0f9-9495-4bc9-cf6b-e7f524a22f75"
      },
      "execution_count": 27,
      "outputs": [
        {
          "output_type": "stream",
          "name": "stdout",
          "text": [
            "Model: \"autoencoder\"\n",
            "_________________________________________________________________\n",
            " Layer (type)                Output Shape              Param #   \n",
            "=================================================================\n",
            " img (InputLayer)            [(None, 28, 28, 1)]       0         \n",
            "                                                                 \n",
            " encoder (Functional)        (None, 16)                18672     \n",
            "                                                                 \n",
            " decoder (Functional)        (None, 28, 28, 1)         9569      \n",
            "                                                                 \n",
            "=================================================================\n",
            "Total params: 28,241\n",
            "Trainable params: 28,241\n",
            "Non-trainable params: 0\n",
            "_________________________________________________________________\n"
          ]
        }
      ]
    },
    {
      "cell_type": "markdown",
      "source": [
        "- 모델은 레이어와 유사하므로\n",
        "    - 모델은 중첩될 수 있음\n",
        "    - 모델은 하위 모델을 포함할 수 있음\n",
        "    - 모델 중첩의 일반적인 사용 사례는 앙상블 기법(ensembling)"
      ],
      "metadata": {
        "id": "i19uDuO_T0VF"
      }
    },
    {
      "cell_type": "markdown",
      "source": [
        "- 예시\n",
        "    - 모델 세트를 단일 모델로 앙상블하여 예측을 평균화하는 방법"
      ],
      "metadata": {
        "id": "eGf6FNF5UDxl"
      }
    },
    {
      "cell_type": "code",
      "source": [
        "def get_model():\n",
        "    inputs = keras.Input(shape=(128,))\n",
        "    outputs = layers.Dense(1)(inputs)\n",
        "    return keras.Model(inputs, outputs)"
      ],
      "metadata": {
        "id": "ZMQ8OHQ39qIk"
      },
      "execution_count": 28,
      "outputs": []
    },
    {
      "cell_type": "code",
      "source": [
        "model1 = get_model()\n",
        "model2 = get_model()\n",
        "model3 = get_model()"
      ],
      "metadata": {
        "id": "arTsFH8R-F-7"
      },
      "execution_count": 29,
      "outputs": []
    },
    {
      "cell_type": "code",
      "source": [
        "inputs = keras.Input(shape=(128,))\n",
        "y1 = model1(inputs)\n",
        "y2 = model2(inputs)\n",
        "y3 = model3(inputs)\n",
        "outputs = layers.average([y1, y2, y3])\n",
        "ensemble_model = keras.Model(inputs = inputs, outputs = outputs)"
      ],
      "metadata": {
        "id": "O6irhlQd-GJK"
      },
      "execution_count": 30,
      "outputs": []
    },
    {
      "cell_type": "code",
      "source": [
        "ensemble_model.summary()"
      ],
      "metadata": {
        "colab": {
          "base_uri": "https://localhost:8080/"
        },
        "id": "ML7mu-Ur-p5P",
        "outputId": "4dd595a4-1d09-4799-8f74-58a4ef570961"
      },
      "execution_count": 31,
      "outputs": [
        {
          "output_type": "stream",
          "name": "stdout",
          "text": [
            "Model: \"model_3\"\n",
            "__________________________________________________________________________________________________\n",
            " Layer (type)                   Output Shape         Param #     Connected to                     \n",
            "==================================================================================================\n",
            " input_6 (InputLayer)           [(None, 128)]        0           []                               \n",
            "                                                                                                  \n",
            " model (Functional)             (None, 1)            129         ['input_6[0][0]']                \n",
            "                                                                                                  \n",
            " model_1 (Functional)           (None, 1)            129         ['input_6[0][0]']                \n",
            "                                                                                                  \n",
            " model_2 (Functional)           (None, 1)            129         ['input_6[0][0]']                \n",
            "                                                                                                  \n",
            " average (Average)              (None, 1)            0           ['model[0][0]',                  \n",
            "                                                                  'model_1[0][0]',                \n",
            "                                                                  'model_2[0][0]']                \n",
            "                                                                                                  \n",
            "==================================================================================================\n",
            "Total params: 387\n",
            "Trainable params: 387\n",
            "Non-trainable params: 0\n",
            "__________________________________________________________________________________________________\n"
          ]
        }
      ]
    },
    {
      "cell_type": "markdown",
      "source": [
        "#### 2-2-7. 복잡한 그래프 토폴로지 조작하기"
      ],
      "metadata": {
        "id": "nZgpJDjGUbYH"
      }
    },
    {
      "cell_type": "markdown",
      "source": [
        "##### 2-2-7-1. 여러 입력 및 출력을 가진 모델"
      ],
      "metadata": {
        "id": "HWrh_V_TUr0j"
      }
    },
    {
      "cell_type": "markdown",
      "source": [
        "- 함수형 API를 사용하면 다중 입력 및 출력을 쉽게 조작할 수 있음\n",
        "- Sequential API로는 처리할 수 ​​없음"
      ],
      "metadata": {
        "id": "hJn0NpupWHkj"
      }
    },
    {
      "cell_type": "markdown",
      "source": [
        "##### 2-2-7-2. 예시(1)"
      ],
      "metadata": {
        "id": "xMlDtX_1WJnN"
      }
    },
    {
      "cell_type": "markdown",
      "source": [
        "- 우선 순위별로 사용자 지정 발급 티켓 순위를 매기고 올바른 부서로 라우팅하는 시스템을 구축하는 경우\n",
        "    - 세 가지의 입력\n",
        "        - 티켓의 제목 (텍스트 입력)\n",
        "        - 티켓의 본문 (텍스트 입력)\n",
        "        - 사용자가 추가 한 모든 태그 (범주 입력)\n",
        "    - 두 가지의 출력\n",
        "        - 0과 1 사이의 우선 순위 점수 (스칼라 시그 모이 드 출력)\n",
        "        - 티켓을 처리해야하는 부서 (부서 세트에 대한 softmax 출력)\n"
      ],
      "metadata": {
        "id": "eppJku9hUlC9"
      }
    },
    {
      "cell_type": "code",
      "source": [
        "num_tags = 12 # Number of unique issue tags\n",
        "num_words = 10000 # Size of vocabulary obtained when preprocessing text data\n",
        "num_departments = 4 # Number of departments for predictions"
      ],
      "metadata": {
        "id": "A3_6ylj8Bed9"
      },
      "execution_count": 44,
      "outputs": []
    },
    {
      "cell_type": "code",
      "source": [
        "title_input = keras.Input(shape=(None,), name = \"title\") # Variable-length sequence of ints\n",
        "body_input = keras.Input(shape=(None,), name = \"body\")  # Variable-length sequence of ints\n",
        "tags_input = keras.Input(shape=(num_tags,), name = \"tags\") # Binary vectors of size `num_tags`"
      ],
      "metadata": {
        "id": "SghYdlwiBemT"
      },
      "execution_count": 45,
      "outputs": []
    },
    {
      "cell_type": "code",
      "source": [
        "# Embed each word in the title into a 64-dimensional vector\n",
        "title_features = layers.Embedding(num_words, 64)(title_input)\n",
        "\n",
        "# Embed each word in the text into a 64-dimensional vector\n",
        "body_features = layers.Embedding(num_words, 64)(body_input)"
      ],
      "metadata": {
        "id": "hQcyJB-VBerG"
      },
      "execution_count": 46,
      "outputs": []
    },
    {
      "cell_type": "code",
      "source": [
        "# Reduce sequence of embedded words in the title into a single 128-dimensional vector\n",
        "title_features = layers.LSTM(128)(title_features)\n",
        "\n",
        "# Reduce sequence of embedded words in the body into a single 32-dimensional vector\n",
        "body_features = layers.LSTM(32)(body_features)"
      ],
      "metadata": {
        "id": "QBfiK3a4Beu3"
      },
      "execution_count": 47,
      "outputs": []
    },
    {
      "cell_type": "code",
      "source": [
        "# Merge all available features into a single large vector via concatenation\n",
        "x = layers.concatenate([title_features, body_features, tags_input])"
      ],
      "metadata": {
        "id": "eXnO1IAeCaew"
      },
      "execution_count": 48,
      "outputs": []
    },
    {
      "cell_type": "code",
      "source": [
        "# Stick a logistic regression for priority prediction on top of the features\n",
        "priority_pred = layers.Dense(1, name = \"priority\")(x)\n",
        "\n",
        "# Stick a department classifier on top of the features\n",
        "department_pred = layers.Dense(num_departments, name = \"department\")(x)"
      ],
      "metadata": {
        "id": "NLu_cClnCag0"
      },
      "execution_count": 49,
      "outputs": []
    },
    {
      "cell_type": "code",
      "source": [
        "# Instantiate an end-to-end model predicting both priority and department\n",
        "model = keras.Model(\n",
        "    inputs=[title_input, body_input, tags_input],\n",
        "    outputs=[priority_pred, department_pred],\n",
        ")"
      ],
      "metadata": {
        "id": "ByM3iHEIUJBn"
      },
      "execution_count": 50,
      "outputs": []
    },
    {
      "cell_type": "code",
      "source": [
        "model.summary()"
      ],
      "metadata": {
        "colab": {
          "base_uri": "https://localhost:8080/"
        },
        "id": "mK2RL1B_Dmbf",
        "outputId": "ec315a12-eb0f-4b96-c57b-ce8c33fc746a"
      },
      "execution_count": 51,
      "outputs": [
        {
          "output_type": "stream",
          "name": "stdout",
          "text": [
            "Model: \"model_4\"\n",
            "__________________________________________________________________________________________________\n",
            " Layer (type)                   Output Shape         Param #     Connected to                     \n",
            "==================================================================================================\n",
            " title (InputLayer)             [(None, None)]       0           []                               \n",
            "                                                                                                  \n",
            " body (InputLayer)              [(None, None)]       0           []                               \n",
            "                                                                                                  \n",
            " embedding_4 (Embedding)        (None, None, 64)     640000      ['title[0][0]']                  \n",
            "                                                                                                  \n",
            " embedding_5 (Embedding)        (None, None, 64)     640000      ['body[0][0]']                   \n",
            "                                                                                                  \n",
            " lstm_4 (LSTM)                  (None, 128)          98816       ['embedding_4[0][0]']            \n",
            "                                                                                                  \n",
            " lstm_5 (LSTM)                  (None, 32)           12416       ['embedding_5[0][0]']            \n",
            "                                                                                                  \n",
            " tags (InputLayer)              [(None, 12)]         0           []                               \n",
            "                                                                                                  \n",
            " concatenate_2 (Concatenate)    (None, 172)          0           ['lstm_4[0][0]',                 \n",
            "                                                                  'lstm_5[0][0]',                 \n",
            "                                                                  'tags[0][0]']                   \n",
            "                                                                                                  \n",
            " priority (Dense)               (None, 1)            173         ['concatenate_2[0][0]']          \n",
            "                                                                                                  \n",
            " department (Dense)             (None, 4)            692         ['concatenate_2[0][0]']          \n",
            "                                                                                                  \n",
            "==================================================================================================\n",
            "Total params: 1,392,097\n",
            "Trainable params: 1,392,097\n",
            "Non-trainable params: 0\n",
            "__________________________________________________________________________________________________\n"
          ]
        }
      ]
    },
    {
      "cell_type": "code",
      "source": [
        "keras.utils.plot_model(model, \"multi_input_and_output_model.png\", show_shapes=True)"
      ],
      "metadata": {
        "colab": {
          "base_uri": "https://localhost:8080/",
          "height": 404
        },
        "id": "LR2ab7l4VfhI",
        "outputId": "89197761-8623-402d-862b-66e3ce728593"
      },
      "execution_count": 52,
      "outputs": [
        {
          "output_type": "execute_result",
          "data": {
            "image/png": "[encoded data removed]",
            "text/plain": [
              "<IPython.core.display.Image object>"
            ]
          },
          "metadata": {},
          "execution_count": 52
        }
      ]
    },
    {
      "cell_type": "markdown",
      "source": [
        "- 모델을 컴파일 할 때 각 출력에 서로 다른 손실을 할당 할 수 있음\n",
        "- 각 손실에 다른 가중치를 할당하여 총 훈련 손실에 대한 기여도를 조정할 수 있음"
      ],
      "metadata": {
        "id": "xnyNtTUWVnun"
      }
    },
    {
      "cell_type": "code",
      "source": [
        "model.compile(\n",
        "    optimizer=keras.optimizers.RMSprop(1e-3),\n",
        "    loss=[\n",
        "        keras.losses.BinaryCrossentropy(from_logits=True),\n",
        "        keras.losses.CategoricalCrossentropy(from_logits=True),\n",
        "    ],\n",
        "    loss_weights=[1.0, 0.2],\n",
        ")"
      ],
      "metadata": {
        "id": "KQLNKtbZViPn"
      },
      "execution_count": 53,
      "outputs": []
    },
    {
      "cell_type": "markdown",
      "source": [
        "- 출력 레이어의 이름이 다를 경우 손실과 손실 가중치를 레이어의 이름에 맞게 특정할 수 있음"
      ],
      "metadata": {
        "id": "luEnn3ljWSao"
      }
    },
    {
      "cell_type": "code",
      "source": [
        "model.compile(\n",
        "    optimizer=keras.optimizers.RMSprop(1e-3),\n",
        "    loss={\n",
        "        \"priority\": keras.losses.BinaryCrossentropy(from_logits=True),\n",
        "        \"department\": keras.losses.CategoricalCrossentropy(from_logits=True),\n",
        "    },\n",
        "    loss_weights={\"priority\": 1.0, \"department\": 0.2},\n",
        ")"
      ],
      "metadata": {
        "id": "QufG_zRKVzXP"
      },
      "execution_count": 54,
      "outputs": []
    },
    {
      "cell_type": "markdown",
      "source": [
        "- 입력 및 목표치의 NumPy 배열 목록을 전달하여 모델 훈련"
      ],
      "metadata": {
        "id": "TJ8b93LPWd1j"
      }
    },
    {
      "cell_type": "code",
      "source": [
        "import numpy as np"
      ],
      "metadata": {
        "id": "NMlTXor0WlWD"
      },
      "execution_count": 55,
      "outputs": []
    },
    {
      "cell_type": "code",
      "source": [
        "# Dummy input data\n",
        "title_data = np.random.randint(num_words, size = (1280, 10))\n",
        "body_data = np.random.randint(num_words, size = (1280,100))\n",
        "tags_data = np.random.randint(2, size = (1280, num_tags)).astype(\"float32\")"
      ],
      "metadata": {
        "id": "I5pQk3CIEb8K"
      },
      "execution_count": 56,
      "outputs": []
    },
    {
      "cell_type": "code",
      "source": [
        "# Dummy target data\n",
        "priority_targets = np.random.random(size = (1280, 1))\n",
        "dept_targets = np.random.randint(2, size = (1280, num_departments))"
      ],
      "metadata": {
        "id": "DuE-gwDzEcEg"
      },
      "execution_count": 57,
      "outputs": []
    },
    {
      "cell_type": "code",
      "source": [
        "model.fit(\n",
        "    {\"title\": title_data, \"body\": body_data, \"tags\": tags_data},\n",
        "    {\"priority\": priority_targets, \"department\": dept_targets},\n",
        "    epochs = 2,\n",
        "    batch_size = 32,\n",
        ")"
      ],
      "metadata": {
        "colab": {
          "base_uri": "https://localhost:8080/"
        },
        "id": "NbisqzBlE_ka",
        "outputId": "ac689c5a-4306-4f30-cfe0-ac261b08012a"
      },
      "execution_count": 59,
      "outputs": [
        {
          "output_type": "stream",
          "name": "stdout",
          "text": [
            "Epoch 1/2\n",
            "40/40 [==============================] - 8s 80ms/step - loss: 1.2732 - priority_loss: 0.7024 - department_loss: 2.8538\n",
            "Epoch 2/2\n",
            "40/40 [==============================] - 2s 56ms/step - loss: 1.2739 - priority_loss: 0.7005 - department_loss: 2.8670\n"
          ]
        },
        {
          "output_type": "execute_result",
          "data": {
            "text/plain": [
              "<keras.callbacks.History at 0x7fb80f58f4f0>"
            ]
          },
          "metadata": {},
          "execution_count": 59
        }
      ]
    },
    {
      "cell_type": "markdown",
      "source": [
        "- Dataset 객체에 맞춰 호출할 때의 산출물\n",
        "    - 리스트의 튜플 형태\n",
        "        - ([title_data, body_data, tags_data], [priority_targets, dept_targets])\n",
        "    - 딕셔너리의 튜플 형태\n",
        "        - ({'title': title_data, 'body': body_data, 'tags': tags_data}, {'priority': priority_targets, 'department': dept_targets})"
      ],
      "metadata": {
        "id": "xbgfhORwWwiP"
      }
    },
    {
      "cell_type": "markdown",
      "source": [
        "##### 2-2-7-3. 예시(2)"
      ],
      "metadata": {
        "id": "AYsRN38tXVH4"
      }
    },
    {
      "cell_type": "markdown",
      "source": [
        "- Toy ResNet 모델\n",
        "    - 입력 및 출력이 여러 개인 모델 외에도 함수형 API를 사용하면 비선형 연결 토폴로지를 쉽게 조작할 수 있음\n",
        "    - ResNet 모델은 순차적으로 연결되지 않은 레이어가 있는 모델이며 Sequential API가 처리할 수 없는 모델임\n",
        "    - ToyRestNet 모델은 잔차 연결(residual connections)이 적용됨\n",
        "    "
      ],
      "metadata": {
        "id": "YReOUWzAXaFr"
      }
    },
    {
      "cell_type": "markdown",
      "source": [],
      "metadata": {
        "id": "GDgknusLYDOk"
      }
    },
    {
      "cell_type": "code",
      "source": [
        "inputs = keras.Input(shape=(32, 32, 3), name=\"img\")\n",
        "x = layers.Conv2D(32, 3, activation=\"relu\")(inputs)\n",
        "x = layers.Conv2D(64, 3, activation=\"relu\")(x)\n",
        "block_1_output = layers.MaxPooling2D(3)(x)\n",
        "\n",
        "x = layers.Conv2D(64, 3, activation=\"relu\", padding=\"same\")(block_1_output)\n",
        "x = layers.Conv2D(64, 3, activation=\"relu\", padding=\"same\")(x)\n",
        "block_2_output = layers.add([x, block_1_output])\n",
        "\n",
        "x = layers.Conv2D(64, 3, activation=\"relu\", padding=\"same\")(block_2_output)\n",
        "x = layers.Conv2D(64, 3, activation=\"relu\", padding=\"same\")(x)\n",
        "block_3_output = layers.add([x, block_2_output])\n",
        "\n",
        "x = layers.Conv2D(64, 3, activation=\"relu\")(block_3_output)\n",
        "x = layers.GlobalAveragePooling2D()(x)\n",
        "x = layers.Dense(256, activation=\"relu\")(x)\n",
        "x = layers.Dropout(0.5)(x)\n",
        "outputs = layers.Dense(10)(x)\n",
        "\n",
        "model = keras.Model(inputs, outputs, name=\"toy_resnet\")\n",
        "model.summary()"
      ],
      "metadata": {
        "colab": {
          "base_uri": "https://localhost:8080/"
        },
        "id": "wmdaiWgRWhP4",
        "outputId": "2236cebb-fb6f-4514-d4ff-2eb6f43db54a"
      },
      "execution_count": 60,
      "outputs": [
        {
          "output_type": "stream",
          "name": "stdout",
          "text": [
            "Model: \"toy_resnet\"\n",
            "__________________________________________________________________________________________________\n",
            " Layer (type)                   Output Shape         Param #     Connected to                     \n",
            "==================================================================================================\n",
            " img (InputLayer)               [(None, 32, 32, 3)]  0           []                               \n",
            "                                                                                                  \n",
            " conv2d_8 (Conv2D)              (None, 30, 30, 32)   896         ['img[0][0]']                    \n",
            "                                                                                                  \n",
            " conv2d_9 (Conv2D)              (None, 28, 28, 64)   18496       ['conv2d_8[0][0]']               \n",
            "                                                                                                  \n",
            " max_pooling2d_2 (MaxPooling2D)  (None, 9, 9, 64)    0           ['conv2d_9[0][0]']               \n",
            "                                                                                                  \n",
            " conv2d_10 (Conv2D)             (None, 9, 9, 64)     36928       ['max_pooling2d_2[0][0]']        \n",
            "                                                                                                  \n",
            " conv2d_11 (Conv2D)             (None, 9, 9, 64)     36928       ['conv2d_10[0][0]']              \n",
            "                                                                                                  \n",
            " add (Add)                      (None, 9, 9, 64)     0           ['conv2d_11[0][0]',              \n",
            "                                                                  'max_pooling2d_2[0][0]']        \n",
            "                                                                                                  \n",
            " conv2d_12 (Conv2D)             (None, 9, 9, 64)     36928       ['add[0][0]']                    \n",
            "                                                                                                  \n",
            " conv2d_13 (Conv2D)             (None, 9, 9, 64)     36928       ['conv2d_12[0][0]']              \n",
            "                                                                                                  \n",
            " add_1 (Add)                    (None, 9, 9, 64)     0           ['conv2d_13[0][0]',              \n",
            "                                                                  'add[0][0]']                    \n",
            "                                                                                                  \n",
            " conv2d_14 (Conv2D)             (None, 7, 7, 64)     36928       ['add_1[0][0]']                  \n",
            "                                                                                                  \n",
            " global_average_pooling2d_1 (Gl  (None, 64)          0           ['conv2d_14[0][0]']              \n",
            " obalAveragePooling2D)                                                                            \n",
            "                                                                                                  \n",
            " dense_6 (Dense)                (None, 256)          16640       ['global_average_pooling2d_1[0][0\n",
            "                                                                 ]']                              \n",
            "                                                                                                  \n",
            " dropout (Dropout)              (None, 256)          0           ['dense_6[0][0]']                \n",
            "                                                                                                  \n",
            " dense_7 (Dense)                (None, 10)           2570        ['dropout[0][0]']                \n",
            "                                                                                                  \n",
            "==================================================================================================\n",
            "Total params: 223,242\n",
            "Trainable params: 223,242\n",
            "Non-trainable params: 0\n",
            "__________________________________________________________________________________________________\n"
          ]
        }
      ]
    },
    {
      "cell_type": "code",
      "source": [
        "keras.utils.plot_model(model, \"mini_resnet.png\", show_shapes=True)"
      ],
      "metadata": {
        "colab": {
          "base_uri": "https://localhost:8080/",
          "height": 1000
        },
        "id": "RVztaXZ7YH6s",
        "outputId": "775ac7c1-d3d9-4654-9500-d57fbfd2abae"
      },
      "execution_count": 61,
      "outputs": [
        {
          "output_type": "execute_result",
          "data": {
            "image/png": "[encoded data removed]",
            "text/plain": [
              "<IPython.core.display.Image object>"
            ]
          },
          "metadata": {},
          "execution_count": 61
        }
      ]
    },
    {
      "cell_type": "markdown",
      "source": [
        "- CIFAR10 데이터셋을 적용하여 모델 훈련하기"
      ],
      "metadata": {
        "id": "ZenHUTzEYgdw"
      }
    },
    {
      "cell_type": "code",
      "source": [
        "(x_train, y_train), (x_test, y_test) = keras.datasets.cifar10.load_data()\n",
        "\n",
        "x_train = x_train.astype(\"float32\") / 255.0\n",
        "x_test = x_test.astype(\"float32\") / 255.0\n",
        "y_train = keras.utils.to_categorical(y_train, 10)\n",
        "y_test = keras.utils.to_categorical(y_test, 10)\n",
        "\n",
        "model.compile(\n",
        "    optimizer=keras.optimizers.RMSprop(1e-3),\n",
        "    loss=keras.losses.CategoricalCrossentropy(from_logits=True),\n",
        "    metrics=[\"acc\"],\n",
        ")\n",
        "# We restrict the data to the first 1000 samples so as to limit execution time\n",
        "# on Colab. Try to train on the entire dataset until convergence!\n",
        "model.fit(x_train[:1000], y_train[:1000], batch_size=64, epochs=1, validation_split=0.2)"
      ],
      "metadata": {
        "colab": {
          "base_uri": "https://localhost:8080/"
        },
        "id": "mxQVcgbUYKhg",
        "outputId": "40e434c2-7e9d-4c0a-9214-698262beab3a"
      },
      "execution_count": 62,
      "outputs": [
        {
          "output_type": "stream",
          "name": "stdout",
          "text": [
            "Downloading data from https://www.cs.toronto.edu/~kriz/cifar-10-python.tar.gz\n",
            "170498071/170498071 [==============================] - 2s 0us/step\n",
            "13/13 [==============================] - 7s 447ms/step - loss: 2.2985 - acc: 0.1225 - val_loss: 2.4021 - val_acc: 0.0850\n"
          ]
        },
        {
          "output_type": "execute_result",
          "data": {
            "text/plain": [
              "<keras.callbacks.History at 0x7fb80f58db10>"
            ]
          },
          "metadata": {},
          "execution_count": 62
        }
      ]
    },
    {
      "cell_type": "markdown",
      "source": [
        "### 2-3. 내장 메서드를 사용한 학습 및 평가"
      ],
      "metadata": {
        "id": "AW79MdeQZImI"
      }
    },
    {
      "cell_type": "markdown",
      "source": [
        "#### 2-3-1. 모델 훈련 및 유효성 검사"
      ],
      "metadata": {
        "id": "_vha_4gdoS-X"
      }
    },
    {
      "cell_type": "markdown",
      "source": [
        "- 모델 훈련 및 유효성 검사는 모든 종류의 Keras 모델에서 완전히 동일하게 작동함\n",
        "- 훈련 및 유효성 검증을 위한 내장 API의 사용\n",
        "    - 훈련: model.fit()\n",
        "    - 평가: model.evaluate()\n",
        "    - 예측(추론): model.predict()"
      ],
      "metadata": {
        "id": "fMWBveDd3JeZ"
      }
    },
    {
      "cell_type": "markdown",
      "source": [
        "#### 2-3-2. End-to-End 모델 예시"
      ],
      "metadata": {
        "id": "4To1FZRooS6u"
      }
    },
    {
      "cell_type": "markdown",
      "source": [
        "- 일반적인 엔드 투 엔드 워크플로의 구성\n",
        "    - 훈련\n",
        "    - 원래 훈련 데이터에서 생성된 홀드아웃 세트에 대한 유효성 검사\n",
        "    - 테스트 데이터에 대한 평가"
      ],
      "metadata": {
        "id": "Dcg9EAdxpswv"
      }
    },
    {
      "cell_type": "markdown",
      "source": [
        "##### 2-3-2-1. 데이터 구성"
      ],
      "metadata": {
        "id": "xCGjvnZSsLEO"
      }
    },
    {
      "cell_type": "markdown",
      "source": [
        "- 데이터를 모델의 내장 훈련 루프로 전달할 때\n",
        "    - NumPy 배열(데이터가 작고 메모리에 맞는 경우) 또는 tf.data Dataset 객체를 사용"
      ],
      "metadata": {
        "id": "iury5p4hoS34"
      }
    },
    {
      "cell_type": "code",
      "source": [
        "inputs = keras.Input(shape=(784,), name=\"digits\")\n",
        "x = layers.Dense(64, activation=\"relu\", name=\"dense_1\")(inputs)\n",
        "x = layers.Dense(64, activation=\"relu\", name=\"dense_2\")(x)\n",
        "outputs = layers.Dense(10, activation=\"softmax\", name=\"predictions\")(x)\n",
        "\n",
        "model = keras.Model(inputs=inputs, outputs=outputs)"
      ],
      "metadata": {
        "id": "n0S4N45DplrV"
      },
      "execution_count": 63,
      "outputs": []
    },
    {
      "cell_type": "markdown",
      "source": [
        "- 옵티마이저, 손실 및 메트릭을 사용하는 방법을 보여주기 위해 MNIST 데이터세트를 NumPy 배열로 사용함"
      ],
      "metadata": {
        "id": "S6A_mq61p_La"
      }
    },
    {
      "cell_type": "code",
      "source": [
        "(x_train, y_train), (x_test, y_test) = keras.datasets.mnist.load_data()\n",
        "\n",
        "# Preprocess the data (these are NumPy arrays)\n",
        "x_train = x_train.reshape(60000, 784).astype(\"float32\") / 255\n",
        "x_test = x_test.reshape(10000, 784).astype(\"float32\") / 255\n",
        "\n",
        "y_train = y_train.astype(\"float32\")\n",
        "y_test = y_test.astype(\"float32\")\n",
        "\n",
        "# Reserve 10,000 samples for validation\n",
        "x_val = x_train[-10000:]\n",
        "y_val = y_train[-10000:]\n",
        "x_train = x_train[:-10000]\n",
        "y_train = y_train[:-10000]"
      ],
      "metadata": {
        "id": "odDJJcZlp6Gi"
      },
      "execution_count": 64,
      "outputs": []
    },
    {
      "cell_type": "markdown",
      "source": [
        "##### 2-3-2-2. 훈련 구성"
      ],
      "metadata": {
        "id": "4_xQRpPvsPhn"
      }
    },
    {
      "cell_type": "markdown",
      "source": [
        "- 최적화 프로그램, 손실, 메트릭 지정\n",
        "- compile() 메서드 호출\n",
        "    - 손실, 메트릭 및 최적화 프로그램 지정하기\n",
        "        - fit()으로 모델을 훈련시키려면 손실 함수, 최적화 프로그램, 그리고 선택적으로 모니터링할 일부 메트릭을 지정해야 함\n",
        "    - metrics 인수는 List\n",
        "        - 모델의 메트릭 수는 여러 개도 가능함\n",
        "    - 모델에 여러 개의 출력이 있는 경우\n",
        "        - 각 출력에 대해 서로 다른 손실 및 메트릭을 지정\n",
        "        - 모델의 총 손실에 대한 각 출력의 기여도를 조정 가능\n",
        "- 이러한 내용은 compile() 메서드에 대한 인수로 모델에 전달함"
      ],
      "metadata": {
        "id": "XLMeDn1WoS0A"
      }
    },
    {
      "cell_type": "code",
      "source": [
        "model.compile(\n",
        "    optimizer=keras.optimizers.RMSprop(),  # Optimizer\n",
        "    # Loss function to minimize\n",
        "    loss=keras.losses.SparseCategoricalCrossentropy(),\n",
        "    # List of metrics to monitor\n",
        "    metrics=[keras.metrics.SparseCategoricalAccuracy()],\n",
        ")"
      ],
      "metadata": {
        "id": "EbBs8zLDqNfH"
      },
      "execution_count": 65,
      "outputs": []
    },
    {
      "cell_type": "code",
      "source": [
        "# 또 다른 방법\n",
        "model.compile(\n",
        "    optimizer=\"rmsprop\",\n",
        "    loss=\"sparse_categorical_crossentropy\",\n",
        "    metrics=[\"sparse_categorical_accuracy\"],\n",
        ")"
      ],
      "metadata": {
        "id": "OVHysAmsru_y"
      },
      "execution_count": 66,
      "outputs": []
    },
    {
      "cell_type": "markdown",
      "source": [
        "- 재사용하기 위해 모델 정의와 컴파일 단계를 함수에 넣을 수 있음"
      ],
      "metadata": {
        "id": "desnJZm9rHPn"
      }
    },
    {
      "cell_type": "code",
      "source": [
        "def get_uncompiled_model():\n",
        "    inputs = keras.Input(shape=(784,), name=\"digits\")\n",
        "    x = layers.Dense(64, activation=\"relu\", name=\"dense_1\")(inputs)\n",
        "    x = layers.Dense(64, activation=\"relu\", name=\"dense_2\")(x)\n",
        "    outputs = layers.Dense(10, activation=\"softmax\", name=\"predictions\")(x)\n",
        "    model = keras.Model(inputs=inputs, outputs=outputs)\n",
        "    return model"
      ],
      "metadata": {
        "id": "ARH8WHVwsA3n"
      },
      "execution_count": 67,
      "outputs": []
    },
    {
      "cell_type": "code",
      "source": [
        "def get_compiled_model():\n",
        "    model = get_uncompiled_model()\n",
        "    model.compile(\n",
        "        optimizer=\"rmsprop\",\n",
        "        loss=\"sparse_categorical_crossentropy\",\n",
        "        metrics=[\"sparse_categorical_accuracy\"],\n",
        "    )\n",
        "    return model"
      ],
      "metadata": {
        "id": "oYXYQvw9sEzU"
      },
      "execution_count": 68,
      "outputs": []
    },
    {
      "cell_type": "markdown",
      "source": [
        "- 다양한 내장 최적화 프로그램, 손실 및 메트릭 사용 가능\n",
        "    - 최적화 프로그램:\n",
        "        - SGD()(모멘텀이 있거나 없음)\n",
        "        - RMSprop()\n",
        "        - Adam()\n",
        "        - 기타\n",
        "    - 손실:\n",
        "        - MeanSquaredError()\n",
        "        - KLDivergence()\n",
        "        - CosineSimilarity()\n",
        "        - 기타\n",
        "    - 메트릭:\n",
        "        - AUC()\n",
        "        - Precision()\n",
        "        - Recall()\n",
        "        - 기타       "
      ],
      "metadata": {
        "id": "dpMahuNsscvk"
      }
    },
    {
      "cell_type": "markdown",
      "source": [
        "##### 2-3-2-3. 모델 훈련"
      ],
      "metadata": {
        "id": "X26s0IhQtO-W"
      }
    },
    {
      "cell_type": "markdown",
      "source": [
        "- fit() 호출\n",
        "- 데이터를 batch_size 크기의 \"배치\"로 분할\n",
        "- 지정된 수의 epochs에 대해 전체 데이터세트를 반복 처리"
      ],
      "metadata": {
        "id": "QBYrkWcMoSwg"
      }
    },
    {
      "cell_type": "code",
      "source": [
        "print(\"Fit model on training data\")\n",
        "history = model.fit(\n",
        "    x_train,\n",
        "    y_train,\n",
        "    batch_size=64,\n",
        "    epochs=2,\n",
        "    # We pass some validation for\n",
        "    # monitoring validation loss and metrics\n",
        "    # at the end of each epoch\n",
        "    validation_data=(x_val, y_val),\n",
        ")"
      ],
      "metadata": {
        "colab": {
          "base_uri": "https://localhost:8080/"
        },
        "id": "KOeYMtQMqcos",
        "outputId": "a813ef42-09eb-493d-b017-ff1377a1c747"
      },
      "execution_count": 69,
      "outputs": [
        {
          "output_type": "stream",
          "name": "stdout",
          "text": [
            "Fit model on training data\n",
            "Epoch 1/2\n",
            "782/782 [==============================] - 3s 4ms/step - loss: 0.3445 - sparse_categorical_accuracy: 0.9010 - val_loss: 0.1888 - val_sparse_categorical_accuracy: 0.9459\n",
            "Epoch 2/2\n",
            "782/782 [==============================] - 3s 3ms/step - loss: 0.1591 - sparse_categorical_accuracy: 0.9530 - val_loss: 0.1538 - val_sparse_categorical_accuracy: 0.9556\n"
          ]
        }
      ]
    },
    {
      "cell_type": "markdown",
      "source": [
        "- 반환되는 history 객체는 훈련 중 손실 값과 메트릭 값에 대한 레코드를 유지하고 있음"
      ],
      "metadata": {
        "id": "ftgv0As2oSs3"
      }
    },
    {
      "cell_type": "code",
      "source": [
        "history.history"
      ],
      "metadata": {
        "colab": {
          "base_uri": "https://localhost:8080/"
        },
        "id": "sbvuubh3qi95",
        "outputId": "b4018c12-e5af-427b-b8fd-8c1639903d75"
      },
      "execution_count": 70,
      "outputs": [
        {
          "output_type": "execute_result",
          "data": {
            "text/plain": [
              "{'loss': [0.34450364112854004, 0.159138023853302],\n",
              " 'sparse_categorical_accuracy': [0.9010400176048279, 0.9529600143432617],\n",
              " 'val_loss': [0.18881399929523468, 0.1537591814994812],\n",
              " 'val_sparse_categorical_accuracy': [0.945900022983551, 0.9556000232696533]}"
            ]
          },
          "metadata": {},
          "execution_count": 70
        }
      ]
    },
    {
      "cell_type": "markdown",
      "source": [
        "##### 2-3-2-4. 모델 평가"
      ],
      "metadata": {
        "id": "tAV6phmOtUuL"
      }
    },
    {
      "cell_type": "markdown",
      "source": [
        "- evaluate() 호출\n",
        "- 테스트 데이터에 대하여 모델 평가 수행"
      ],
      "metadata": {
        "id": "muA00zkdoSf-"
      }
    },
    {
      "cell_type": "code",
      "source": [
        "# Evaluate the model on the test data using `evaluate`\n",
        "print(\"Evaluate on test data\")\n",
        "results = model.evaluate(x_test, y_test, batch_size=128)\n",
        "print(\"test loss, test acc:\", results)\n",
        "\n",
        "# Generate predictions (probabilities -- the output of the last layer)\n",
        "# on new data using `predict`\n",
        "print(\"Generate predictions for 3 samples\")\n",
        "predictions = model.predict(x_test[:3])\n",
        "print(\"predictions shape:\", predictions.shape)"
      ],
      "metadata": {
        "colab": {
          "base_uri": "https://localhost:8080/"
        },
        "id": "j2yfu5SpYmaH",
        "outputId": "06177de0-5e97-4cdb-9c1e-01c3ce60e84d"
      },
      "execution_count": null,
      "outputs": [
        {
          "output_type": "stream",
          "name": "stdout",
          "text": [
            "Evaluate on test data\n",
            "79/79 [==============================] - 0s 5ms/step - loss: 0.1323 - sparse_categorical_accuracy: 0.9601\n",
            "test loss, test acc: [0.13228842616081238, 0.960099995136261]\n",
            "Generate predictions for 3 samples\n",
            "1/1 [==============================] - 0s 184ms/step\n",
            "predictions shape: (3, 10)\n"
          ]
        }
      ]
    },
    {
      "cell_type": "markdown",
      "source": [
        "#### 2-3-3. 콜백 사용하기"
      ],
      "metadata": {
        "id": "RbPec5f8telm"
      }
    },
    {
      "cell_type": "markdown",
      "source": [
        "- 콜백(Callback)\n",
        "    - 훈련 중 다른 시점(epoch의 시작, 배치의 끝, epoch의 끝 등)에서 호출되며 다음과 같은 특정 동작을 구현하는 데 사용할 수 있는 객체\n",
        "- 콜백의 기능\n",
        "    - 훈련 중 서로 다른 시점에서 유효성 검사 수행(내장된 epoch당 유효성 검사에서 더욱 확장)\n",
        "    - 정기적으로 또는 특정 정확도 임계값을 초과할 때 모델 검사점 설정\n",
        "    - 훈련이 평탄해진 것으로 보일 때 모델의 학습률 변경\n",
        "    - 훈련이 평탄해진 것으로 보일 때 최상위 레이어의 미세 조정 수행\n",
        "    - 훈련이 종료되거나 특정 성능 임계값이 초과된 경우 이메일 또는 인스턴트 메시지로 알림 보내기\n",
        "    - 기타\n",
        "- 콜백은 fit()에 대한 호출에 목록으로 전달할 수 있음"
      ],
      "metadata": {
        "id": "aTuWHwLrtjxW"
      }
    },
    {
      "cell_type": "code",
      "source": [
        "model = get_compiled_model()\n",
        "\n",
        "# callbacks 설정해주기\n",
        "callbacks = [\n",
        "    keras.callbacks.EarlyStopping(\n",
        "        # Stop training when `val_loss` is no longer improving\n",
        "        monitor=\"val_loss\",\n",
        "        # \"no longer improving\" being defined as \"no better than 1e-2 less\"\n",
        "        min_delta=1e-2,\n",
        "        # \"no longer improving\" being further defined as \"for at least 2 epochs\"\n",
        "        patience=2,\n",
        "        verbose=1,\n",
        "    )\n",
        "]\n",
        "\n",
        "# 모델 훈련\n",
        "model.fit(\n",
        "    x_train,\n",
        "    y_train,\n",
        "    epochs=20,\n",
        "    batch_size=64,\n",
        "    callbacks=callbacks,\n",
        "    validation_split=0.2,\n",
        ")"
      ],
      "metadata": {
        "colab": {
          "base_uri": "https://localhost:8080/"
        },
        "id": "pEZIw7-nqs77",
        "outputId": "fef2470c-57ee-4a73-9aec-5a0bf429f747"
      },
      "execution_count": 71,
      "outputs": [
        {
          "output_type": "stream",
          "name": "stdout",
          "text": [
            "Epoch 1/20\n",
            "625/625 [==============================] - 4s 5ms/step - loss: 0.3794 - sparse_categorical_accuracy: 0.8928 - val_loss: 0.2405 - val_sparse_categorical_accuracy: 0.9276\n",
            "Epoch 2/20\n",
            "625/625 [==============================] - 2s 3ms/step - loss: 0.1765 - sparse_categorical_accuracy: 0.9491 - val_loss: 0.1964 - val_sparse_categorical_accuracy: 0.9398\n",
            "Epoch 3/20\n",
            "625/625 [==============================] - 2s 3ms/step - loss: 0.1289 - sparse_categorical_accuracy: 0.9610 - val_loss: 0.1522 - val_sparse_categorical_accuracy: 0.9553\n",
            "Epoch 4/20\n",
            "625/625 [==============================] - 2s 4ms/step - loss: 0.0996 - sparse_categorical_accuracy: 0.9698 - val_loss: 0.1436 - val_sparse_categorical_accuracy: 0.9593\n",
            "Epoch 5/20\n",
            "625/625 [==============================] - 2s 4ms/step - loss: 0.0834 - sparse_categorical_accuracy: 0.9756 - val_loss: 0.1323 - val_sparse_categorical_accuracy: 0.9615\n",
            "Epoch 6/20\n",
            "625/625 [==============================] - 3s 5ms/step - loss: 0.0691 - sparse_categorical_accuracy: 0.9803 - val_loss: 0.1399 - val_sparse_categorical_accuracy: 0.9596\n",
            "Epoch 7/20\n",
            "625/625 [==============================] - 3s 4ms/step - loss: 0.0594 - sparse_categorical_accuracy: 0.9825 - val_loss: 0.1366 - val_sparse_categorical_accuracy: 0.9626\n",
            "Epoch 7: early stopping\n"
          ]
        },
        {
          "output_type": "execute_result",
          "data": {
            "text/plain": [
              "<keras.callbacks.History at 0x7fb80e9e28c0>"
            ]
          },
          "metadata": {},
          "execution_count": 71
        }
      ]
    },
    {
      "cell_type": "markdown",
      "source": [
        "- 다양한 내장 콜백을 사용 가능\n",
        "\t- ModelCheckpoint: 주기적으로 모델 저장\n",
        "\t- EarlyStopping: 훈련이 더 이상 유효성 검사 메트릭을 개선하지 못하는 경우 훈련 중단\n",
        "\t- TensorBoard: TensorBoard에서 시각화할 수 있는 모델 로그를 정기적으로 작성\n",
        "\t- CSVLogger: 손실 및 메트릭 데이터를 CSV 파일로 스트리밍\n",
        "\t- 기타"
      ],
      "metadata": {
        "id": "CWU8KDGLuHYb"
      }
    },
    {
      "cell_type": "markdown",
      "source": [
        "#### 2-3-4. 모델 검사점 설정하기"
      ],
      "metadata": {
        "id": "UH9AsaKY3sHV"
      }
    },
    {
      "cell_type": "markdown",
      "source": [
        "- 상대적으로 큰 데이터셋에 대한 모델을 훈련시킬 때는 모델의 검사점을 빈번하게 저장하는 것이 중요함\n",
        "- ModelCheckpoint 콜백 사용(가장 쉬운 방법)\n",
        "    - 내결함성 구현 가능\n",
        "    - 즉, 훈련이 무작위로 중단되는 경우 모델의 마지막 저장된 상태에서 훈련을 다시 시작할 수 있음"
      ],
      "metadata": {
        "id": "89rkd_-5uWKG"
      }
    },
    {
      "cell_type": "code",
      "source": [
        "model = get_compiled_model()\n",
        "\n",
        "callbacks = [\n",
        "    keras.callbacks.ModelCheckpoint(\n",
        "        # Path where to save the model\n",
        "        # The two parameters below mean that we will overwrite\n",
        "        # the current checkpoint if and only if\n",
        "        # the `val_loss` score has improved.\n",
        "        # The saved model name will include the current epoch.\n",
        "        filepath=\"mymodel_{epoch}\",\n",
        "        save_best_only=True,  # Only save a model if `val_loss` has improved.\n",
        "        monitor=\"val_loss\",\n",
        "        verbose=1,\n",
        "    )\n",
        "]\n",
        "model.fit(\n",
        "    x_train, y_train, epochs=2, batch_size=64, callbacks=callbacks, validation_split=0.2\n",
        ")"
      ],
      "metadata": {
        "colab": {
          "base_uri": "https://localhost:8080/"
        },
        "id": "02tNiKswt6GL",
        "outputId": "e565813f-3f6b-4145-dec6-3c9f81628a35"
      },
      "execution_count": 72,
      "outputs": [
        {
          "output_type": "stream",
          "name": "stdout",
          "text": [
            "Epoch 1/2\n",
            "620/625 [============================>.] - ETA: 0s - loss: 0.3946 - sparse_categorical_accuracy: 0.8880\n",
            "Epoch 1: val_loss improved from inf to 0.23918, saving model to mymodel_1\n"
          ]
        },
        {
          "output_type": "stream",
          "name": "stderr",
          "text": [
            "WARNING:absl:Found untraced functions such as _update_step_xla while saving (showing 1 of 1). These functions will not be directly callable after loading.\n"
          ]
        },
        {
          "output_type": "stream",
          "name": "stdout",
          "text": [
            "\b\b\b\b\b\b\b\b\b\b\b\b\b\b\b\b\b\b\b\b\b\b\b\b\b\b\b\b\b\b\b\b\b\b\b\b\b\b\b\b\b\b\b\b\b\b\b\b\b\b\b\b\b\b\b\b\b\b\b\b\b\b\b\b\b\b\b\b\b\b\b\b\b\b\b\b\b\b\b\b\b\b\b\b\b\b\b\b\b\b\b\b\b\b\b\b\b\b\b\b\b\b\b\r625/625 [==============================] - 7s 11ms/step - loss: 0.3934 - sparse_categorical_accuracy: 0.8883 - val_loss: 0.2392 - val_sparse_categorical_accuracy: 0.9297\n",
            "Epoch 2/2\n",
            "623/625 [============================>.] - ETA: 0s - loss: 0.1800 - sparse_categorical_accuracy: 0.9474\n",
            "Epoch 2: val_loss improved from 0.23918 to 0.19523, saving model to mymodel_2\n"
          ]
        },
        {
          "output_type": "stream",
          "name": "stderr",
          "text": [
            "WARNING:absl:Found untraced functions such as _update_step_xla while saving (showing 1 of 1). These functions will not be directly callable after loading.\n"
          ]
        },
        {
          "output_type": "stream",
          "name": "stdout",
          "text": [
            "\b\b\b\b\b\b\b\b\b\b\b\b\b\b\b\b\b\b\b\b\b\b\b\b\b\b\b\b\b\b\b\b\b\b\b\b\b\b\b\b\b\b\b\b\b\b\b\b\b\b\b\b\b\b\b\b\b\b\b\b\b\b\b\b\b\b\b\b\b\b\b\b\b\b\b\b\b\b\b\b\b\b\b\b\b\b\b\b\b\b\b\b\b\b\b\b\b\b\b\b\b\b\b\r625/625 [==============================] - 3s 5ms/step - loss: 0.1799 - sparse_categorical_accuracy: 0.9474 - val_loss: 0.1952 - val_sparse_categorical_accuracy: 0.9405\n"
          ]
        },
        {
          "output_type": "execute_result",
          "data": {
            "text/plain": [
              "<keras.callbacks.History at 0x7fb80d89ef80>"
            ]
          },
          "metadata": {},
          "execution_count": 72
        }
      ]
    },
    {
      "cell_type": "code",
      "source": [
        "# 내결함성 구현의 예\n",
        "\n",
        "import os\n",
        "\n",
        "# Prepare a directory to store all the checkpoints.\n",
        "checkpoint_dir = \"./ckpt\"\n",
        "if not os.path.exists(checkpoint_dir):\n",
        "    os.makedirs(checkpoint_dir)\n",
        "\n",
        "\n",
        "def make_or_restore_model():\n",
        "    # Either restore the latest model, or create a fresh one\n",
        "    # if there is no checkpoint available.\n",
        "    checkpoints = [checkpoint_dir + \"/\" + name for name in os.listdir(checkpoint_dir)]\n",
        "    if checkpoints:\n",
        "        latest_checkpoint = max(checkpoints, key=os.path.getctime)\n",
        "        print(\"Restoring from\", latest_checkpoint)\n",
        "        return keras.models.load_model(latest_checkpoint)\n",
        "    print(\"Creating a new model\")\n",
        "    return get_compiled_model()\n",
        "\n",
        "\n",
        "model = make_or_restore_model()\n",
        "callbacks = [\n",
        "    # This callback saves a SavedModel every 100 batches.\n",
        "    # We include the training loss in the saved model name.\n",
        "    keras.callbacks.ModelCheckpoint(\n",
        "        filepath=checkpoint_dir + \"/ckpt-loss={loss:.2f}\", save_freq=100\n",
        "    )\n",
        "]\n",
        "model.fit(x_train, y_train, epochs=1, callbacks=callbacks)"
      ],
      "metadata": {
        "colab": {
          "base_uri": "https://localhost:8080/"
        },
        "id": "Na863Ltcug4T",
        "outputId": "1382db5f-d962-4d69-cbaf-eb6a2e1483d1"
      },
      "execution_count": 73,
      "outputs": [
        {
          "output_type": "stream",
          "name": "stdout",
          "text": [
            "Creating a new model\n",
            "  90/1563 [>.............................] - ETA: 4s - loss: 1.0385 - sparse_categorical_accuracy: 0.7229"
          ]
        },
        {
          "output_type": "stream",
          "name": "stderr",
          "text": [
            "WARNING:absl:Found untraced functions such as _update_step_xla while saving (showing 1 of 1). These functions will not be directly callable after loading.\n"
          ]
        },
        {
          "output_type": "stream",
          "name": "stdout",
          "text": [
            " 190/1563 [==>...........................] - ETA: 8s - loss: 0.7221 - sparse_categorical_accuracy: 0.8038"
          ]
        },
        {
          "output_type": "stream",
          "name": "stderr",
          "text": [
            "WARNING:absl:Found untraced functions such as _update_step_xla while saving (showing 1 of 1). These functions will not be directly callable after loading.\n"
          ]
        },
        {
          "output_type": "stream",
          "name": "stdout",
          "text": [
            " 287/1563 [====>.........................] - ETA: 9s - loss: 0.6078 - sparse_categorical_accuracy: 0.8323"
          ]
        },
        {
          "output_type": "stream",
          "name": "stderr",
          "text": [
            "WARNING:absl:Found untraced functions such as _update_step_xla while saving (showing 1 of 1). These functions will not be directly callable after loading.\n"
          ]
        },
        {
          "output_type": "stream",
          "name": "stdout",
          "text": [
            " 397/1563 [======>.......................] - ETA: 8s - loss: 0.5359 - sparse_categorical_accuracy: 0.8501"
          ]
        },
        {
          "output_type": "stream",
          "name": "stderr",
          "text": [
            "WARNING:absl:Found untraced functions such as _update_step_xla while saving (showing 1 of 1). These functions will not be directly callable after loading.\n"
          ]
        },
        {
          "output_type": "stream",
          "name": "stdout",
          "text": [
            " 499/1563 [========>.....................] - ETA: 8s - loss: 0.4873 - sparse_categorical_accuracy: 0.8625"
          ]
        },
        {
          "output_type": "stream",
          "name": "stderr",
          "text": [
            "WARNING:absl:Found untraced functions such as _update_step_xla while saving (showing 1 of 1). These functions will not be directly callable after loading.\n"
          ]
        },
        {
          "output_type": "stream",
          "name": "stdout",
          "text": [
            " 591/1563 [==========>...................] - ETA: 8s - loss: 0.4580 - sparse_categorical_accuracy: 0.8699"
          ]
        },
        {
          "output_type": "stream",
          "name": "stderr",
          "text": [
            "WARNING:absl:Found untraced functions such as _update_step_xla while saving (showing 1 of 1). These functions will not be directly callable after loading.\n"
          ]
        },
        {
          "output_type": "stream",
          "name": "stdout",
          "text": [
            " 685/1563 [============>.................] - ETA: 8s - loss: 0.4292 - sparse_categorical_accuracy: 0.8777"
          ]
        },
        {
          "output_type": "stream",
          "name": "stderr",
          "text": [
            "WARNING:absl:Found untraced functions such as _update_step_xla while saving (showing 1 of 1). These functions will not be directly callable after loading.\n"
          ]
        },
        {
          "output_type": "stream",
          "name": "stdout",
          "text": [
            " 789/1563 [==============>...............] - ETA: 7s - loss: 0.4046 - sparse_categorical_accuracy: 0.8843"
          ]
        },
        {
          "output_type": "stream",
          "name": "stderr",
          "text": [
            "WARNING:absl:Found untraced functions such as _update_step_xla while saving (showing 1 of 1). These functions will not be directly callable after loading.\n"
          ]
        },
        {
          "output_type": "stream",
          "name": "stdout",
          "text": [
            " 891/1563 [================>.............] - ETA: 6s - loss: 0.3853 - sparse_categorical_accuracy: 0.8897"
          ]
        },
        {
          "output_type": "stream",
          "name": "stderr",
          "text": [
            "WARNING:absl:Found untraced functions such as _update_step_xla while saving (showing 1 of 1). These functions will not be directly callable after loading.\n"
          ]
        },
        {
          "output_type": "stream",
          "name": "stdout",
          "text": [
            " 997/1563 [==================>...........] - ETA: 5s - loss: 0.3672 - sparse_categorical_accuracy: 0.8944"
          ]
        },
        {
          "output_type": "stream",
          "name": "stderr",
          "text": [
            "WARNING:absl:Found untraced functions such as _update_step_xla while saving (showing 1 of 1). These functions will not be directly callable after loading.\n"
          ]
        },
        {
          "output_type": "stream",
          "name": "stdout",
          "text": [
            "1097/1563 [====================>.........] - ETA: 4s - loss: 0.3517 - sparse_categorical_accuracy: 0.8987"
          ]
        },
        {
          "output_type": "stream",
          "name": "stderr",
          "text": [
            "WARNING:absl:Found untraced functions such as _update_step_xla while saving (showing 1 of 1). These functions will not be directly callable after loading.\n"
          ]
        },
        {
          "output_type": "stream",
          "name": "stdout",
          "text": [
            "1197/1563 [=====================>........] - ETA: 3s - loss: 0.3378 - sparse_categorical_accuracy: 0.9026"
          ]
        },
        {
          "output_type": "stream",
          "name": "stderr",
          "text": [
            "WARNING:absl:Found untraced functions such as _update_step_xla while saving (showing 1 of 1). These functions will not be directly callable after loading.\n"
          ]
        },
        {
          "output_type": "stream",
          "name": "stdout",
          "text": [
            "1293/1563 [=======================>......] - ETA: 2s - loss: 0.3271 - sparse_categorical_accuracy: 0.9055"
          ]
        },
        {
          "output_type": "stream",
          "name": "stderr",
          "text": [
            "WARNING:absl:Found untraced functions such as _update_step_xla while saving (showing 1 of 1). These functions will not be directly callable after loading.\n"
          ]
        },
        {
          "output_type": "stream",
          "name": "stdout",
          "text": [
            "1394/1563 [=========================>....] - ETA: 1s - loss: 0.3167 - sparse_categorical_accuracy: 0.9084"
          ]
        },
        {
          "output_type": "stream",
          "name": "stderr",
          "text": [
            "WARNING:absl:Found untraced functions such as _update_step_xla while saving (showing 1 of 1). These functions will not be directly callable after loading.\n"
          ]
        },
        {
          "output_type": "stream",
          "name": "stdout",
          "text": [
            "1489/1563 [===========================>..] - ETA: 0s - loss: 0.3073 - sparse_categorical_accuracy: 0.9108"
          ]
        },
        {
          "output_type": "stream",
          "name": "stderr",
          "text": [
            "WARNING:absl:Found untraced functions such as _update_step_xla while saving (showing 1 of 1). These functions will not be directly callable after loading.\n"
          ]
        },
        {
          "output_type": "stream",
          "name": "stdout",
          "text": [
            "1563/1563 [==============================] - 16s 10ms/step - loss: 0.3009 - sparse_categorical_accuracy: 0.9127\n"
          ]
        },
        {
          "output_type": "execute_result",
          "data": {
            "text/plain": [
              "<keras.callbacks.History at 0x7fb80de8d240>"
            ]
          },
          "metadata": {},
          "execution_count": 73
        }
      ]
    },
    {
      "cell_type": "markdown",
      "source": [
        "#### 2-3-5. 학습률 일정 사용하기"
      ],
      "metadata": {
        "id": "6isP2M2bvL7y"
      }
    },
    {
      "cell_type": "markdown",
      "source": [
        "- 학습률 일정(Learning Rate Schedule)\n",
        "    - 딥 러닝 모델을 훈련할 때 일반적인 패턴은 훈련이 진행됨에 따라 점차적으로 학습을 줄이는 방법(학습률 감소)\n",
        "    - 학습률 감소 일정\n",
        "        - 정적: 현재 epoch 또는 현재 배치 인덱스의 함수로 미리 고정됨\n",
        "        - 동적: 모델의 현재 동작, 특히 유효성 검사 손실에 대응"
      ],
      "metadata": {
        "id": "Pfvg7bMwvTUY"
      }
    },
    {
      "cell_type": "markdown",
      "source": [
        "- 최적화 프로그램으로 일정 전달하기\n",
        "    - 최적화 프로그램에서 schedule 객체를 learning_rate 인수로 전달하여 정적 학습률 감소 일정을 쉽게 사용할 수 있음"
      ],
      "metadata": {
        "id": "G2Q6ADVz2Ae-"
      }
    },
    {
      "cell_type": "code",
      "source": [
        "initial_learning_rate = 0.1\n",
        "lr_schedule = keras.optimizers.schedules.ExponentialDecay(\n",
        "    initial_learning_rate, decay_steps=100000, decay_rate=0.96, staircase=True\n",
        ")\n",
        "\n",
        "optimizer = keras.optimizers.RMSprop(learning_rate=lr_schedule)"
      ],
      "metadata": {
        "id": "yEaFzZqivGBr"
      },
      "execution_count": 74,
      "outputs": []
    },
    {
      "cell_type": "markdown",
      "source": [
        "- 콜백을 사용하여 동적 학습률 일정 구현하기\n",
        "    - 최적화 프로그램은 유효성 검사 메트릭에 액세스할 수 없으므로 이러한 일정 객체로는 동적 학습률 일정(예: 유효성 검사 손실이 더 이상 개선되지 않을 때 학습률 감소)을 달성할 수 없음\n",
        "    - 콜백은 유효성 검사 메트릭을 포함해 모든 메트릭에 액세스할 수 있으므로 최적화 프로그램에서 현재 학습률을 수정하는 콜백을 사용하여 이 패턴을 달성할 수 있음\n",
        "    - 실제로 이 부분이 ReduceLROnPlateau 콜백으로 내장되어 있음\n",
        "\n",
        "    LR(learning rate)"
      ],
      "metadata": {
        "id": "1ChghqQe2Mr0"
      }
    },
    {
      "cell_type": "markdown",
      "source": [
        "#### 2-3-6. 훈련 중 손실 및 메트릭 시각화하기"
      ],
      "metadata": {
        "id": "h_3SMFoY2pwI"
      }
    },
    {
      "cell_type": "markdown",
      "source": [
        "- TensorBoard의 사용\n",
        "    - TensorBoard: 로컬에서 실행할 수 있는 브라우저 기반 애플리케이션\n",
        "    - 훈련 중에 모델을 주시하는 가장 좋은 방법임\n",
        "- TensorBoard에서 제공하는 정보\n",
        "    - 훈련 및 평가를 위한 손실 및 메트릭을 실시간으로 플롯\n",
        "    - (옵션) 레이어 활성화 히스토그램 시각화\n",
        "    - (옵션) Embedding 레이어에서 학습한 포함된 공간의 3D 시각화\n",
        "- pip와 함께 TensorFlow를 설치한 경우, 명령줄에서 TensorBoard를 시작할 수 있음\n",
        "    - CoLab에서는 권한문제로 접근불가\n",
        "    - 개인 PC 환경에서 사용할 수 있음\n"
      ],
      "metadata": {
        "id": "tygVZU8g3_fn"
      }
    },
    {
      "cell_type": "code",
      "source": [
        "# colab에선 불가능\n",
        "!tensorboard --logdir=/full_path_to_your_logs"
      ],
      "metadata": {
        "colab": {
          "base_uri": "https://localhost:8080/"
        },
        "id": "BM1OqZ_E2MVX",
        "outputId": "bf01b53c-94db-40a8-939c-2c2fb96fc6e7"
      },
      "execution_count": 77,
      "outputs": [
        {
          "output_type": "stream",
          "name": "stdout",
          "text": [
            "2023-08-10 02:20:34.476776: W tensorflow/compiler/tf2tensorrt/utils/py_utils.cc:38] TF-TRT Warning: Could not find TensorRT\n",
            "Traceback (most recent call last):\n",
            "  File \"/usr/local/lib/python3.10/dist-packages/tensorboard/compat/__init__.py\", line 42, in tf\n",
            "    from tensorboard.compat import notf  # noqa: F401\n",
            "ImportError: cannot import name 'notf' from 'tensorboard.compat' (/usr/local/lib/python3.10/dist-packages/tensorboard/compat/__init__.py)\n",
            "\n",
            "During handling of the above exception, another exception occurred:\n",
            "\n",
            "Traceback (most recent call last):\n",
            "  File \"/usr/local/bin/tensorboard\", line 8, in <module>\n",
            "    sys.exit(run_main())\n",
            "  File \"/usr/local/lib/python3.10/dist-packages/tensorboard/main.py\", line 39, in run_main\n",
            "    main_lib.global_init()\n",
            "  File \"/usr/local/lib/python3.10/dist-packages/tensorboard/main_lib.py\", line 40, in global_init\n",
            "    if getattr(tf, \"__version__\", \"stub\") == \"stub\":\n",
            "  File \"/usr/local/lib/python3.10/dist-packages/tensorboard/lazy.py\", line 65, in __getattr__\n",
            "    return getattr(load_once(self), attr_name)\n",
            "  File \"/usr/local/lib/python3.10/dist-packages/tensorboard/lazy.py\", line 97, in wrapper\n",
            "    cache[arg] = f(arg)\n",
            "  File \"/usr/local/lib/python3.10/dist-packages/tensorboard/lazy.py\", line 50, in load_once\n",
            "    module = load_fn()\n",
            "  File \"/usr/local/lib/python3.10/dist-packages/tensorboard/compat/__init__.py\", line 45, in tf\n",
            "    import tensorflow\n",
            "  File \"/usr/local/lib/python3.10/dist-packages/tensorflow/__init__.py\", line 51, in <module>\n",
            "    from ._api.v2 import compat\n",
            "  File \"/usr/local/lib/python3.10/dist-packages/tensorflow/_api/v2/compat/__init__.py\", line 37, in <module>\n",
            "    from . import v1\n",
            "  File \"/usr/local/lib/python3.10/dist-packages/tensorflow/_api/v2/compat/v1/__init__.py\", line 31, in <module>\n",
            "    from . import compat\n",
            "  File \"/usr/local/lib/python3.10/dist-packages/tensorflow/_api/v2/compat/v1/compat/__init__.py\", line 37, in <module>\n",
            "    from . import v1\n",
            "  File \"/usr/local/lib/python3.10/dist-packages/tensorflow/_api/v2/compat/v1/compat/v1/__init__.py\", line 48, in <module>\n",
            "    from tensorflow._api.v2.compat.v1 import lite\n",
            "  File \"/usr/local/lib/python3.10/dist-packages/tensorflow/_api/v2/compat/v1/lite/__init__.py\", line 9, in <module>\n",
            "    from . import experimental\n",
            "  File \"/usr/local/lib/python3.10/dist-packages/tensorflow/_api/v2/compat/v1/lite/experimental/__init__.py\", line 8, in <module>\n",
            "    from . import authoring\n",
            "  File \"/usr/local/lib/python3.10/dist-packages/tensorflow/_api/v2/compat/v1/lite/experimental/authoring/__init__.py\", line 8, in <module>\n",
            "    from tensorflow.lite.python.authoring.authoring import compatible\n",
            "  File \"/usr/local/lib/python3.10/dist-packages/tensorflow/lite/python/authoring/authoring.py\", line 43, in <module>\n",
            "    from tensorflow.lite.python import convert\n",
            "  File \"/usr/local/lib/python3.10/dist-packages/tensorflow/lite/python/convert.py\", line 27, in <module>\n",
            "    from tensorflow.lite.python import util\n",
            "  File \"/usr/local/lib/python3.10/dist-packages/tensorflow/lite/python/util.py\", line 52, in <module>\n",
            "    from jax import xla_computation as _xla_computation\n",
            "  File \"/usr/local/lib/python3.10/dist-packages/jax/__init__.py\", line 153, in <module>\n",
            "    from jax import custom_batching as custom_batching\n",
            "  File \"/usr/local/lib/python3.10/dist-packages/jax/custom_batching.py\", line 15, in <module>\n",
            "    from jax._src.custom_batching import (\n",
            "  File \"/usr/local/lib/python3.10/dist-packages/jax/_src/custom_batching.py\", line 19, in <module>\n",
            "    from jax import lax\n",
            "  File \"/usr/local/lib/python3.10/dist-packages/jax/lax/__init__.py\", line 337, in <module>\n",
            "    from jax._src.lax.parallel import (\n",
            "  File \"/usr/local/lib/python3.10/dist-packages/jax/_src/lax/parallel.py\", line 43, in <module>\n",
            "    from jax._src.numpy import lax_numpy\n",
            "  File \"/usr/local/lib/python3.10/dist-packages/jax/_src/numpy/lax_numpy.py\", line 3471, in <module>\n",
            "    def kron(a, b):\n",
            "  File \"/usr/local/lib/python3.10/dist-packages/jax/_src/api.py\", line 312, in jit\n",
            "    static_argnames) = pjit.pre_infer_params(\n",
            "  File \"/usr/local/lib/python3.10/dist-packages/jax/_src/pjit.py\", line 312, in pre_infer_params\n",
            "    in_shardings, _, _ = prepare_axis_resources(in_shardings, 'in_shardings')\n",
            "  File \"/usr/local/lib/python3.10/dist-packages/jax/_src/sharding_impls.py\", line 1073, in prepare_axis_resources\n",
            "    if is_unspecified_or_auto(entry) or entry is None:\n",
            "  File \"/usr/local/lib/python3.10/dist-packages/jax/_src/sharding_impls.py\", line 866, in is_unspecified_or_auto\n",
            "    def is_unspecified_or_auto(x):\n",
            "KeyboardInterrupt\n",
            "^C\n"
          ]
        }
      ]
    },
    {
      "cell_type": "markdown",
      "source": [
        "- TensorBoard 콜백 사용하기\n",
        "    - TensorBoard를 Keras 모델 및 fit() 메서드와 함께 사용하는 가장 쉬운 방법\n",
        "    - 가장 간단한 경우로, 콜백에서 로그를 작성할 위치만 지정하면 바로 로그를 작성할 수 있음"
      ],
      "metadata": {
        "id": "0yZYCRzP5CyI"
      }
    },
    {
      "cell_type": "code",
      "source": [
        "keras.callbacks.TensorBoard(\n",
        "    log_dir=\"/full_path_to_your_logs\",\n",
        "    histogram_freq=0,  # How often to log histogram visualizations\n",
        "    embeddings_freq=0,  # How often to log embedding visualizations\n",
        "    update_freq=\"epoch\",\n",
        ")  # How often to write logs (default: once per epoch)"
      ],
      "metadata": {
        "colab": {
          "base_uri": "https://localhost:8080/"
        },
        "id": "V8BZrRIk2IqQ",
        "outputId": "38f8893a-32c0-4df3-e3e7-fe9c71799b24"
      },
      "execution_count": 76,
      "outputs": [
        {
          "output_type": "execute_result",
          "data": {
            "text/plain": [
              "<keras.callbacks.TensorBoard at 0x7fb80e0f4f70>"
            ]
          },
          "metadata": {},
          "execution_count": 76
        }
      ]
    },
    {
      "cell_type": "code",
      "source": [],
      "metadata": {
        "id": "z5XOeQwc5POE"
      },
      "execution_count": null,
      "outputs": []
    }
  ]
}