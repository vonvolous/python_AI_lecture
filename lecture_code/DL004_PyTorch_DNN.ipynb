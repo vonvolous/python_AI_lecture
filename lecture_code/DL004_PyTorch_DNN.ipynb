{
  "nbformat": 4,
  "nbformat_minor": 0,
  "metadata": {
    "colab": {
      "provenance": [],
      "include_colab_link": true
    },
    "kernelspec": {
      "name": "python3",
      "display_name": "Python 3"
    },
    "language_info": {
      "name": "python"
    },
    "accelerator": "GPU",
    "gpuClass": "standard"
  },
  "cells": [
    {
      "cell_type": "markdown",
      "metadata": {
        "id": "view-in-github",
        "colab_type": "text"
      },
      "source": [
        "<a href=\"https://colab.research.google.com/github/vonvolous/python_AI_lecture/blob/main/lecture_code/DL004_PyTorch_DNN.ipynb\" target=\"_parent\"><img src=\"https://colab.research.google.com/assets/colab-badge.svg\" alt=\"Open In Colab\"/></a>"
      ]
    },
    {
      "cell_type": "markdown",
      "source": [
        "# **DNN using PyTorch**"
      ],
      "metadata": {
        "id": "RwLchYqx_4Np"
      }
    },
    {
      "cell_type": "markdown",
      "metadata": {
        "id": "7RjD2Gt0u4Y0"
      },
      "source": [
        "## **1. Fashion MNIST 데이터 셋 알아보기**"
      ]
    },
    {
      "cell_type": "markdown",
      "metadata": {
        "id": "akPN0dxqu4Y1"
      },
      "source": [
        "### 1-1. Fashion MNIST 데이터 셋"
      ]
    },
    {
      "cell_type": "code",
      "metadata": {
        "id": "lLIZRrexHvRH"
      },
      "source": [
        "from torchvision import datasets, transforms, utils\n",
        "from torch.utils import data\n",
        "\n",
        "import matplotlib.pyplot as plt\n",
        "import numpy as np"
      ],
      "execution_count": 1,
      "outputs": []
    },
    {
      "cell_type": "code",
      "metadata": {
        "id": "77ECsTBWHvRK"
      },
      "source": [
        "# pytorch에서 사용하는 tensor로 변형해줌\n",
        "transform = transforms.Compose([\n",
        "    transforms.ToTensor()\n",
        "])"
      ],
      "execution_count": 2,
      "outputs": []
    },
    {
      "cell_type": "code",
      "metadata": {
        "id": "A5iR16EdHvRK",
        "colab": {
          "base_uri": "https://localhost:8080/"
        },
        "outputId": "41d834de-5b6e-4ad0-f0ed-53162e87f4c5"
      },
      "source": [
        "trainset = datasets.FashionMNIST(\n",
        "    root      = './.data/',\n",
        "    train     = True,\n",
        "    download  = True,\n",
        "    transform = transform\n",
        ")\n",
        "testset = datasets.FashionMNIST(\n",
        "    root      = './.data/',\n",
        "    train     = False,\n",
        "    download  = True,\n",
        "    transform = transform\n",
        ")"
      ],
      "execution_count": 3,
      "outputs": [
        {
          "output_type": "stream",
          "name": "stdout",
          "text": [
            "Downloading http://fashion-mnist.s3-website.eu-central-1.amazonaws.com/train-images-idx3-ubyte.gz\n",
            "Downloading http://fashion-mnist.s3-website.eu-central-1.amazonaws.com/train-images-idx3-ubyte.gz to ./.data/FashionMNIST/raw/train-images-idx3-ubyte.gz\n"
          ]
        },
        {
          "output_type": "stream",
          "name": "stderr",
          "text": [
            "100%|██████████| 26421880/26421880 [00:01<00:00, 14971686.55it/s]\n"
          ]
        },
        {
          "output_type": "stream",
          "name": "stdout",
          "text": [
            "Extracting ./.data/FashionMNIST/raw/train-images-idx3-ubyte.gz to ./.data/FashionMNIST/raw\n",
            "\n",
            "Downloading http://fashion-mnist.s3-website.eu-central-1.amazonaws.com/train-labels-idx1-ubyte.gz\n",
            "Downloading http://fashion-mnist.s3-website.eu-central-1.amazonaws.com/train-labels-idx1-ubyte.gz to ./.data/FashionMNIST/raw/train-labels-idx1-ubyte.gz\n"
          ]
        },
        {
          "output_type": "stream",
          "name": "stderr",
          "text": [
            "100%|██████████| 29515/29515 [00:00<00:00, 273020.54it/s]\n"
          ]
        },
        {
          "output_type": "stream",
          "name": "stdout",
          "text": [
            "Extracting ./.data/FashionMNIST/raw/train-labels-idx1-ubyte.gz to ./.data/FashionMNIST/raw\n",
            "\n",
            "Downloading http://fashion-mnist.s3-website.eu-central-1.amazonaws.com/t10k-images-idx3-ubyte.gz\n",
            "Downloading http://fashion-mnist.s3-website.eu-central-1.amazonaws.com/t10k-images-idx3-ubyte.gz to ./.data/FashionMNIST/raw/t10k-images-idx3-ubyte.gz\n"
          ]
        },
        {
          "output_type": "stream",
          "name": "stderr",
          "text": [
            "100%|██████████| 4422102/4422102 [00:00<00:00, 5063678.08it/s]\n"
          ]
        },
        {
          "output_type": "stream",
          "name": "stdout",
          "text": [
            "Extracting ./.data/FashionMNIST/raw/t10k-images-idx3-ubyte.gz to ./.data/FashionMNIST/raw\n",
            "\n",
            "Downloading http://fashion-mnist.s3-website.eu-central-1.amazonaws.com/t10k-labels-idx1-ubyte.gz\n",
            "Downloading http://fashion-mnist.s3-website.eu-central-1.amazonaws.com/t10k-labels-idx1-ubyte.gz to ./.data/FashionMNIST/raw/t10k-labels-idx1-ubyte.gz\n"
          ]
        },
        {
          "output_type": "stream",
          "name": "stderr",
          "text": [
            "100%|██████████| 5148/5148 [00:00<00:00, 20029941.55it/s]"
          ]
        },
        {
          "output_type": "stream",
          "name": "stdout",
          "text": [
            "Extracting ./.data/FashionMNIST/raw/t10k-labels-idx1-ubyte.gz to ./.data/FashionMNIST/raw\n",
            "\n"
          ]
        },
        {
          "output_type": "stream",
          "name": "stderr",
          "text": [
            "\n"
          ]
        }
      ]
    },
    {
      "cell_type": "code",
      "metadata": {
        "id": "DXFU0nIqHvRL"
      },
      "source": [
        "batch_size = 16\n",
        "\n",
        "train_loader = data.DataLoader(\n",
        "    dataset     = trainset,\n",
        "    batch_size  = batch_size\n",
        ")\n",
        "test_loader = data.DataLoader(\n",
        "    dataset     = testset,\n",
        "    batch_size  = batch_size\n",
        ")"
      ],
      "execution_count": 4,
      "outputs": []
    },
    {
      "cell_type": "code",
      "metadata": {
        "id": "SLRU25xzHvRL"
      },
      "source": [
        "dataiter       = iter(train_loader)\n",
        "images, labels = next(dataiter)"
      ],
      "execution_count": 5,
      "outputs": []
    },
    {
      "cell_type": "markdown",
      "metadata": {
        "id": "p2dmjqfpHvRM"
      },
      "source": [
        "### 1-2. 멀리서 살펴보기\n"
      ]
    },
    {
      "cell_type": "code",
      "metadata": {
        "id": "qwObZ8imHvRN",
        "colab": {
          "base_uri": "https://localhost:8080/",
          "height": 258
        },
        "outputId": "27935ee3-3b14-4649-e622-b8efed3bff0d"
      },
      "source": [
        "img   = utils.make_grid(images, padding=0)\n",
        "npimg = img.numpy()\n",
        "plt.figure(figsize=(10, 7))\n",
        "plt.imshow(np.transpose(npimg, (1,2,0)))\n",
        "plt.show()"
      ],
      "execution_count": 6,
      "outputs": [
        {
          "output_type": "display_data",
          "data": {
            "text/plain": [
              "<Figure size 1000x700 with 1 Axes>"
            ],
            "image/png": "[encoded data removed]"
          },
          "metadata": {}
        }
      ]
    },
    {
      "cell_type": "code",
      "metadata": {
        "id": "lstKswl9HvRP",
        "colab": {
          "base_uri": "https://localhost:8080/"
        },
        "outputId": "ebe15e30-6267-4e20-a2a1-913482689868"
      },
      "source": [
        "print(labels)"
      ],
      "execution_count": 7,
      "outputs": [
        {
          "output_type": "stream",
          "name": "stdout",
          "text": [
            "tensor([9, 0, 0, 3, 0, 2, 7, 2, 5, 5, 0, 9, 5, 5, 7, 9])\n"
          ]
        }
      ]
    },
    {
      "cell_type": "code",
      "metadata": {
        "id": "2JNhAAmFHvRQ",
        "colab": {
          "base_uri": "https://localhost:8080/"
        },
        "outputId": "92896d62-3381-466e-d4f9-254dd1d31e63"
      },
      "source": [
        "CLASSES = {\n",
        "    0: 'T-shirt/top',\n",
        "    1: 'Trouser',\n",
        "    2: 'Pullover',\n",
        "    3: 'Dress',\n",
        "    4: 'Coat',\n",
        "    5: 'Sandal',\n",
        "    6: 'Shirt',\n",
        "    7: 'Sneaker',\n",
        "    8: 'Bag',\n",
        "    9: 'Ankle boot'\n",
        "}\n",
        "\n",
        "\n",
        "for label in labels:\n",
        "    index = label.item()\n",
        "    print(CLASSES[index])"
      ],
      "execution_count": 8,
      "outputs": [
        {
          "output_type": "stream",
          "name": "stdout",
          "text": [
            "Ankle boot\n",
            "T-shirt/top\n",
            "T-shirt/top\n",
            "Dress\n",
            "T-shirt/top\n",
            "Pullover\n",
            "Sneaker\n",
            "Pullover\n",
            "Sandal\n",
            "Sandal\n",
            "T-shirt/top\n",
            "Ankle boot\n",
            "Sandal\n",
            "Sandal\n",
            "Sneaker\n",
            "Ankle boot\n"
          ]
        }
      ]
    },
    {
      "cell_type": "markdown",
      "metadata": {
        "id": "LrIK8Og2HvRQ"
      },
      "source": [
        "### 1-3. 가까이서 살펴보기\n"
      ]
    },
    {
      "cell_type": "code",
      "metadata": {
        "id": "Q4L4-escHvRR",
        "colab": {
          "base_uri": "https://localhost:8080/",
          "height": 470
        },
        "outputId": "b469ba6a-15e0-413a-dfd8-30a28f5678e4"
      },
      "source": [
        "idx = 1\n",
        "\n",
        "item_img = images[idx]\n",
        "item_npimg = item_img.squeeze().numpy()\n",
        "plt.title(CLASSES[labels[idx].item()])\n",
        "print(item_npimg.shape)\n",
        "plt.imshow(item_npimg, cmap='gray')\n",
        "plt.show()"
      ],
      "execution_count": 9,
      "outputs": [
        {
          "output_type": "stream",
          "name": "stdout",
          "text": [
            "(28, 28)\n"
          ]
        },
        {
          "output_type": "display_data",
          "data": {
            "text/plain": [
              "<Figure size 640x480 with 1 Axes>"
            ],
            "image/png": "[encoded data removed]"
          },
          "metadata": {}
        }
      ]
    },
    {
      "cell_type": "markdown",
      "metadata": {
        "id": "L0UJrb9HWQXC"
      },
      "source": [
        "## **2. 인공신경망으로 패션 아이템 분류하기**"
      ]
    },
    {
      "cell_type": "code",
      "metadata": {
        "id": "7FMQTKU6WeSF"
      },
      "source": [
        "import torch\n",
        "import torch.nn as nn\n",
        "import torch.optim as optim\n",
        "import torch.nn.functional as F\n",
        "from torchvision import transforms, datasets"
      ],
      "execution_count": 10,
      "outputs": []
    },
    {
      "cell_type": "code",
      "metadata": {
        "id": "2zypCHX9WeSG"
      },
      "source": [
        "USE_CUDA = torch.cuda.is_available()\n",
        "DEVICE = torch.device(\"cuda\" if USE_CUDA else \"cpu\")"
      ],
      "execution_count": 11,
      "outputs": []
    },
    {
      "cell_type": "code",
      "metadata": {
        "id": "xZvBr-cgWeSH"
      },
      "source": [
        "EPOCHS = 30\n",
        "BATCH_SIZE = 64"
      ],
      "execution_count": 12,
      "outputs": []
    },
    {
      "cell_type": "markdown",
      "metadata": {
        "id": "vFEksTtSWeSI"
      },
      "source": [
        "### 2-1. 데이터셋 불러오기"
      ]
    },
    {
      "cell_type": "code",
      "metadata": {
        "id": "AvRA2CKHWeSI"
      },
      "source": [
        "transform = transforms.Compose([\n",
        "    transforms.ToTensor()\n",
        "])"
      ],
      "execution_count": 13,
      "outputs": []
    },
    {
      "cell_type": "code",
      "metadata": {
        "id": "5FyZ4VnxWeSJ"
      },
      "source": [
        "trainset = datasets.FashionMNIST(\n",
        "    root      = './.data/',\n",
        "    train     = True,\n",
        "    download  = True,\n",
        "    transform = transform\n",
        ")\n",
        "\n",
        "testset = datasets.FashionMNIST(\n",
        "    root      = './.data/',\n",
        "    train     = False,\n",
        "    download  = True,\n",
        "    transform = transform\n",
        ")\n",
        "\n",
        "train_loader = torch.utils.data.DataLoader(\n",
        "    dataset     = trainset,\n",
        "    batch_size  = BATCH_SIZE,\n",
        "    shuffle     = True,\n",
        ")\n",
        "\n",
        "test_loader = torch.utils.data.DataLoader(\n",
        "    dataset     = testset,\n",
        "    batch_size  = BATCH_SIZE,\n",
        "    shuffle     = True,\n",
        ")"
      ],
      "execution_count": 14,
      "outputs": []
    },
    {
      "cell_type": "markdown",
      "source": [
        "### 2-2. 신경망으로 Fashion MNIST 학습하기"
      ],
      "metadata": {
        "id": "QHLiwKABAam_"
      }
    },
    {
      "cell_type": "markdown",
      "source": [
        "- 입력 `x` 는 `[배치크기, 색, 높이, 넓이]`로 이루어짐\n",
        "- `x.size()`는 [64, 1, 28, 28]\n",
        "- Fashion MNIST에서 이미지의 크기는 28 x 28 (=784), 색은 흑백으로 1 가지\n",
        "- 사용할 모델은 3개의 레이어를 가진 인공신경망"
      ],
      "metadata": {
        "id": "8CAtlVRuAgLG"
      }
    },
    {
      "cell_type": "markdown",
      "metadata": {
        "id": "VVkfYwSWWeSJ"
      },
      "source": [
        "- 모델 준비\n",
        "  - `to()` 함수는 모델의 파라미터들을 지정한 곳으로 보내는 역할\n",
        "  - 일반적으로 CPU 1개만 사용할 경우 필요는 없지만, GPU를 사용하고자 하는 경우 `to(\"cuda\")`로 지정하여 GPU로 보내야 함\n",
        "  - 지정하지 않을 경우 계속 CPU에 남아 있게 되며 빠른 훈련의 이점을 누리실 수 없음\n",
        "  - 최적화 알고리즘(Optimizer)으로는 파이토치에 내장되어 있는 `optim.SGD`를 사용"
      ]
    },
    {
      "cell_type": "code",
      "metadata": {
        "id": "QuPVB2BZWeSK"
      },
      "source": [
        "class Net(nn.Module):\n",
        "    def __init__(self):\n",
        "        super(Net, self).__init__()\n",
        "        self.fc1 = nn.Linear(784, 256)\n",
        "        self.fc2 = nn.Linear(256, 128)\n",
        "        self.fc3 = nn.Linear(128, 10)\n",
        "\n",
        "    def forward(self, x):\n",
        "        x = x.view(-1, 784)\n",
        "        x = F.relu(self.fc1(x))\n",
        "        x = F.relu(self.fc2(x))\n",
        "        x = self.fc3(x)\n",
        "        return x"
      ],
      "execution_count": 15,
      "outputs": []
    },
    {
      "cell_type": "code",
      "metadata": {
        "id": "hrBsy_dsWeSL"
      },
      "source": [
        "model        = Net().to(DEVICE)\n",
        "optimizer    = optim.SGD(model.parameters(), lr=0.01)"
      ],
      "execution_count": 16,
      "outputs": []
    },
    {
      "cell_type": "markdown",
      "metadata": {
        "id": "VlLh2QAgWeSM"
      },
      "source": [
        "- 학습"
      ]
    },
    {
      "cell_type": "code",
      "source": [
        "def train(model, train_loader, optimizer):\n",
        "    model.train()\n",
        "    for batch_idx, (data, target), in enumerate(train_loader):\n",
        "        # 학습 데이터를 DEVICE의 메모리로 보냄\n",
        "\n",
        "        data, target = data.to(DEVICE), target.to(DEVICE)\n",
        "        optimizer.zero_grad() # 옵티마이저 초기화\n",
        "        output = model(data)\n",
        "        loss = F.cross_entropy(output, target)\n",
        "        loss.backward()\n",
        "        optimizer.step()"
      ],
      "metadata": {
        "id": "T60sT0pOL2wp"
      },
      "execution_count": 17,
      "outputs": []
    },
    {
      "cell_type": "markdown",
      "metadata": {
        "id": "Jqf6vquRWeSN"
      },
      "source": [
        "- 테스트"
      ]
    },
    {
      "cell_type": "code",
      "source": [
        "def evaluate(model, test_loader):\n",
        "    model.eval()\n",
        "    test_loss = 0\n",
        "    correct = 0\n",
        "    with torch.no_grad(): # test 이므로 미분 필요 없음\n",
        "        for data, target in test_loader:\n",
        "            data, target = data.to(DEVICE), target.to(DEVICE)\n",
        "            output = model(data)\n",
        "\n",
        "            # 모든 오차 더하기\n",
        "            test_loss += F.cross_entropy(output, target, reduction = 'sum').item()\n",
        "\n",
        "            # 가장 큰 값을 가진 클래스가 모델의 예측임\n",
        "            # 에측과 정답을 비교해 일치할 경우 correct에 1 더함\n",
        "            pred = output.max(1, keepdim = True)[1]\n",
        "            correct += pred.eq(target.view_as(pred)).sum().item()\n",
        "\n",
        "    test_loss /= len(test_loader.dataset) # 전체 데이터 개수만큼 나눠서 test_loss 평균 계산\n",
        "    test_accuracy = 100. * correct / len(test_loader.dataset)\n",
        "    return test_loss, test_accuracy"
      ],
      "metadata": {
        "id": "O37gPwuqL399"
      },
      "execution_count": 20,
      "outputs": []
    },
    {
      "cell_type": "markdown",
      "metadata": {
        "id": "l2K8WeEhWeSO"
      },
      "source": [
        "- 실행"
      ]
    },
    {
      "cell_type": "code",
      "source": [
        "for epoch in range(1, EPOCHS + 1):\n",
        "    train(model, train_loader, optimizer)\n",
        "    test_loss, test_accuracy = evaluate(model, test_loader)\n",
        "    # 현재 모델에선 손실이 크긴 하지만 정확도는 좋음을 확인할 수 있음(그러나 loss와 accuracy가 항상 반비례하는 건 아님!)\n",
        "    print('[{}] Test Loss: {:.4f}, Accuracy: {:.2f}%'.format(epoch, test_loss, test_accuracy))"
      ],
      "metadata": {
        "colab": {
          "base_uri": "https://localhost:8080/"
        },
        "id": "Lmd0fzXSPjF7",
        "outputId": "82d645f3-f82c-4ca9-b14c-4c6f87d788b8"
      },
      "execution_count": 21,
      "outputs": [
        {
          "output_type": "stream",
          "name": "stdout",
          "text": [
            "[1] Test Loss: 0.8320, Accuracy: 68.78%\n",
            "[2] Test Loss: 0.6643, Accuracy: 76.12%\n",
            "[3] Test Loss: 0.5785, Accuracy: 79.61%\n",
            "[4] Test Loss: 0.5611, Accuracy: 79.39%\n",
            "[5] Test Loss: 0.5323, Accuracy: 80.90%\n",
            "[6] Test Loss: 0.4986, Accuracy: 82.43%\n",
            "[7] Test Loss: 0.5089, Accuracy: 81.33%\n",
            "[8] Test Loss: 0.4801, Accuracy: 83.04%\n",
            "[9] Test Loss: 0.4668, Accuracy: 83.54%\n",
            "[10] Test Loss: 0.4534, Accuracy: 83.94%\n",
            "[11] Test Loss: 0.4896, Accuracy: 82.36%\n",
            "[12] Test Loss: 0.4740, Accuracy: 83.42%\n",
            "[13] Test Loss: 0.4338, Accuracy: 84.60%\n",
            "[14] Test Loss: 0.4423, Accuracy: 84.46%\n",
            "[15] Test Loss: 0.4214, Accuracy: 85.10%\n",
            "[16] Test Loss: 0.4341, Accuracy: 84.50%\n",
            "[17] Test Loss: 0.4250, Accuracy: 84.70%\n",
            "[18] Test Loss: 0.4276, Accuracy: 84.59%\n",
            "[19] Test Loss: 0.4068, Accuracy: 85.49%\n",
            "[20] Test Loss: 0.4009, Accuracy: 85.67%\n",
            "[21] Test Loss: 0.3960, Accuracy: 85.93%\n",
            "[22] Test Loss: 0.3939, Accuracy: 86.23%\n",
            "[23] Test Loss: 0.3915, Accuracy: 86.00%\n",
            "[24] Test Loss: 0.3886, Accuracy: 86.00%\n",
            "[25] Test Loss: 0.3771, Accuracy: 86.73%\n",
            "[26] Test Loss: 0.3821, Accuracy: 86.50%\n",
            "[27] Test Loss: 0.3735, Accuracy: 86.79%\n",
            "[28] Test Loss: 0.3740, Accuracy: 86.74%\n",
            "[29] Test Loss: 0.3847, Accuracy: 86.21%\n",
            "[30] Test Loss: 0.3684, Accuracy: 86.77%\n"
          ]
        }
      ]
    },
    {
      "cell_type": "markdown",
      "source": [
        "## **3. 과적합과 정규화**"
      ],
      "metadata": {
        "id": "qwGUKKYWAzdU"
      }
    },
    {
      "cell_type": "code",
      "source": [
        "import torch\n",
        "import torch.nn as nn\n",
        "import torch.optim as optim\n",
        "import torch.nn.functional as F\n",
        "from torchvision import transforms, datasets"
      ],
      "metadata": {
        "id": "MAMqysliR0OO"
      },
      "execution_count": 22,
      "outputs": []
    },
    {
      "cell_type": "code",
      "source": [
        "USE_CUDA = torch.cuda.is_available()\n",
        "DEVICE = torch.device(\"cuda\" if USE_CUDA else \"cpu\")"
      ],
      "metadata": {
        "id": "Ou5e5fjcR0R6"
      },
      "execution_count": 23,
      "outputs": []
    },
    {
      "cell_type": "code",
      "source": [
        "EPOCHS = 50\n",
        "BATCH_SIZE = 64"
      ],
      "metadata": {
        "id": "nZ9thdJDR0Ys"
      },
      "execution_count": 24,
      "outputs": []
    },
    {
      "cell_type": "markdown",
      "metadata": {
        "id": "KjWqyQzUeGox"
      },
      "source": [
        "### 3-1. 데이터셋에 노이즈 추가"
      ]
    },
    {
      "cell_type": "markdown",
      "metadata": {
        "id": "G8YMX1XgfjM6"
      },
      "source": [
        "original.png\n",
        "\n",
        "![original.png](data:image/png;base64,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)"
      ]
    },
    {
      "cell_type": "markdown",
      "metadata": {
        "id": "9Ay1gndPfi_O"
      },
      "source": [
        "horizontalflip.png\n",
        "\n",
        "![horizontalflip.png](data:image/png;base64,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)"
      ]
    },
    {
      "cell_type": "code",
      "metadata": {
        "id": "tF725e6LeGox"
      },
      "source": [
        "train_loader = torch.utils.data.DataLoader(\n",
        "    datasets.FashionMNIST('./.data',\n",
        "                   train=True,\n",
        "                   download=True,\n",
        "                   transform=transforms.Compose([\n",
        "                      # 좌우 반전\n",
        "                       transforms.RandomHorizontalFlip(),\n",
        "                      # 텐서로 변형\n",
        "                       transforms.ToTensor(),\n",
        "                      # 정규화\n",
        "                       transforms.Normalize((0.1307,), (0.3081,))\n",
        "                   ])),\n",
        "    batch_size=BATCH_SIZE, shuffle=True)\n",
        "test_loader = torch.utils.data.DataLoader(\n",
        "    datasets.FashionMNIST('./.data',\n",
        "                   train=False,\n",
        "                   transform=transforms.Compose([\n",
        "                       transforms.ToTensor(),\n",
        "                       transforms.Normalize((0.1307,), (0.3081,))\n",
        "                   ])),\n",
        "    batch_size=BATCH_SIZE, shuffle=True)"
      ],
      "execution_count": 25,
      "outputs": []
    },
    {
      "cell_type": "markdown",
      "source": [
        "### 3-2. 신경망으로 Fashion MNIST 학습"
      ],
      "metadata": {
        "id": "tuoJOl1LA8F2"
      }
    },
    {
      "cell_type": "markdown",
      "source": [
        "- 모델 준비"
      ],
      "metadata": {
        "id": "ydiaKIdDB2rB"
      }
    },
    {
      "cell_type": "code",
      "metadata": {
        "id": "2KW2dIWKeGoz"
      },
      "source": [
        "class Net(nn.Module):\n",
        "    def __init__(self, dropout_p=0.2):\n",
        "        super(Net, self).__init__()\n",
        "        self.fc1 = nn.Linear(784, 256)\n",
        "        self.fc2 = nn.Linear(256, 128)\n",
        "        self.fc3 = nn.Linear(128, 10)\n",
        "        # 드롭아웃 확률\n",
        "        self.dropout_p = dropout_p\n",
        "\n",
        "    def forward(self, x):\n",
        "        x = x.view(-1, 784)\n",
        "        x = F.relu(self.fc1(x))\n",
        "        # 드롭아웃 추가, training이 아니면 드롭아웃 안함!\n",
        "        x = F.dropout(x, training=self.training,\n",
        "                      p=self.dropout_p)\n",
        "        x = F.relu(self.fc2(x))\n",
        "        # 드롭아웃 추가\n",
        "        x = F.dropout(x, training=self.training,\n",
        "                      p=self.dropout_p)\n",
        "        x = self.fc3(x)\n",
        "        return x"
      ],
      "execution_count": 26,
      "outputs": []
    },
    {
      "cell_type": "code",
      "metadata": {
        "id": "pW_PqkCKeGo0"
      },
      "source": [
        "model        = Net(dropout_p=0.2).to(DEVICE)\n",
        "optimizer    = optim.SGD(model.parameters(), lr=0.01)"
      ],
      "execution_count": 27,
      "outputs": []
    },
    {
      "cell_type": "markdown",
      "metadata": {
        "id": "JQl0Z2W_eGo0"
      },
      "source": [
        "- 학습"
      ]
    },
    {
      "cell_type": "code",
      "metadata": {
        "id": "zgjJlIKkeGo0"
      },
      "source": [
        "def train(model, train_loader, optimizer):\n",
        "    model.train()\n",
        "    for batch_idx, (data, target) in enumerate(train_loader):\n",
        "        data, target = data.to(DEVICE), target.to(DEVICE)\n",
        "        optimizer.zero_grad()\n",
        "        output = model(data)\n",
        "        loss = F.cross_entropy(output, target)\n",
        "        loss.backward()\n",
        "        optimizer.step()"
      ],
      "execution_count": 28,
      "outputs": []
    },
    {
      "cell_type": "markdown",
      "metadata": {
        "id": "BnOgJMoBeGo0"
      },
      "source": [
        "- 테스트\n"
      ]
    },
    {
      "cell_type": "code",
      "metadata": {
        "id": "i6YDvo7OeGo1"
      },
      "source": [
        "def evaluate(model, test_loader):\n",
        "    model.eval()\n",
        "    test_loss = 0\n",
        "    correct = 0\n",
        "    with torch.no_grad():\n",
        "        for data, target in test_loader:\n",
        "            data, target = data.to(DEVICE), target.to(DEVICE)\n",
        "            output = model(data)\n",
        "            test_loss += F.cross_entropy(output, target,\n",
        "                                         reduction='sum').item()\n",
        "\n",
        "            # 맞춘 갯수 계산\n",
        "            pred = output.max(1, keepdim=True)[1]\n",
        "            correct += pred.eq(target.view_as(pred)).sum().item()\n",
        "\n",
        "    test_loss /= len(test_loader.dataset)\n",
        "    test_accuracy = 100. * correct / len(test_loader.dataset)\n",
        "    return test_loss, test_accuracy"
      ],
      "execution_count": 29,
      "outputs": []
    },
    {
      "cell_type": "markdown",
      "metadata": {
        "id": "BuzKPscqeGo1"
      },
      "source": [
        "- 실행"
      ]
    },
    {
      "cell_type": "code",
      "metadata": {
        "id": "w6p1azeDeGo1",
        "colab": {
          "base_uri": "https://localhost:8080/"
        },
        "outputId": "4e9b7f17-4bcc-4dfd-a0cc-1ec5c978d728"
      },
      "source": [
        "for epoch in range(1, EPOCHS + 1):\n",
        "    train(model, train_loader, optimizer)\n",
        "    test_loss, test_accuracy = evaluate(model, test_loader)\n",
        "\n",
        "    print('[{}] Test Loss: {:.4f}, Accuracy: {:.2f}%'.format(\n",
        "          epoch, test_loss, test_accuracy))"
      ],
      "execution_count": 30,
      "outputs": [
        {
          "output_type": "stream",
          "name": "stdout",
          "text": [
            "[1] Test Loss: 0.6294, Accuracy: 78.05%\n",
            "[2] Test Loss: 0.5364, Accuracy: 80.61%\n",
            "[3] Test Loss: 0.4822, Accuracy: 82.47%\n",
            "[4] Test Loss: 0.4591, Accuracy: 83.29%\n",
            "[5] Test Loss: 0.4386, Accuracy: 84.18%\n",
            "[6] Test Loss: 0.4213, Accuracy: 84.87%\n",
            "[7] Test Loss: 0.4147, Accuracy: 84.73%\n",
            "[8] Test Loss: 0.4037, Accuracy: 85.38%\n",
            "[9] Test Loss: 0.3930, Accuracy: 85.79%\n",
            "[10] Test Loss: 0.3872, Accuracy: 85.97%\n",
            "[11] Test Loss: 0.3816, Accuracy: 85.97%\n",
            "[12] Test Loss: 0.3737, Accuracy: 86.43%\n",
            "[13] Test Loss: 0.3847, Accuracy: 85.77%\n",
            "[14] Test Loss: 0.3662, Accuracy: 86.74%\n",
            "[15] Test Loss: 0.3645, Accuracy: 86.66%\n",
            "[16] Test Loss: 0.3682, Accuracy: 86.66%\n",
            "[17] Test Loss: 0.3582, Accuracy: 86.91%\n",
            "[18] Test Loss: 0.3588, Accuracy: 86.85%\n",
            "[19] Test Loss: 0.3673, Accuracy: 86.38%\n",
            "[20] Test Loss: 0.3479, Accuracy: 87.25%\n",
            "[21] Test Loss: 0.3450, Accuracy: 87.54%\n",
            "[22] Test Loss: 0.3414, Accuracy: 87.61%\n",
            "[23] Test Loss: 0.3405, Accuracy: 87.77%\n",
            "[24] Test Loss: 0.3390, Accuracy: 87.59%\n",
            "[25] Test Loss: 0.3355, Accuracy: 88.06%\n",
            "[26] Test Loss: 0.3330, Accuracy: 87.97%\n",
            "[27] Test Loss: 0.3282, Accuracy: 88.01%\n",
            "[28] Test Loss: 0.3336, Accuracy: 87.91%\n",
            "[29] Test Loss: 0.3264, Accuracy: 88.28%\n",
            "[30] Test Loss: 0.3256, Accuracy: 88.07%\n",
            "[31] Test Loss: 0.3236, Accuracy: 88.31%\n",
            "[32] Test Loss: 0.3232, Accuracy: 88.36%\n",
            "[33] Test Loss: 0.3208, Accuracy: 88.46%\n",
            "[34] Test Loss: 0.3229, Accuracy: 88.16%\n",
            "[35] Test Loss: 0.3175, Accuracy: 88.42%\n",
            "[36] Test Loss: 0.3206, Accuracy: 88.52%\n",
            "[37] Test Loss: 0.3144, Accuracy: 88.48%\n",
            "[38] Test Loss: 0.3179, Accuracy: 88.54%\n",
            "[39] Test Loss: 0.3175, Accuracy: 88.68%\n",
            "[40] Test Loss: 0.3143, Accuracy: 88.76%\n",
            "[41] Test Loss: 0.3112, Accuracy: 88.71%\n",
            "[42] Test Loss: 0.3132, Accuracy: 88.85%\n",
            "[43] Test Loss: 0.3107, Accuracy: 88.71%\n",
            "[44] Test Loss: 0.3132, Accuracy: 88.69%\n",
            "[45] Test Loss: 0.3179, Accuracy: 88.31%\n",
            "[46] Test Loss: 0.3164, Accuracy: 88.78%\n",
            "[47] Test Loss: 0.3086, Accuracy: 89.04%\n",
            "[48] Test Loss: 0.3105, Accuracy: 88.98%\n",
            "[49] Test Loss: 0.3088, Accuracy: 88.82%\n",
            "[50] Test Loss: 0.3156, Accuracy: 88.45%\n"
          ]
        }
      ]
    },
    {
      "cell_type": "code",
      "metadata": {
        "id": "fIHUaF5gHRmx"
      },
      "source": [],
      "execution_count": null,
      "outputs": []
    }
  ]
}